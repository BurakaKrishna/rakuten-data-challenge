{
 "cells": [
  {
   "cell_type": "code",
   "execution_count": 2,
   "metadata": {
    "ExecuteTime": {
     "end_time": "2018-06-18T08:09:30.111637Z",
     "start_time": "2018-06-18T08:09:30.093572Z"
    },
    "collapsed": true
   },
   "outputs": [],
   "source": [
    "# Keras\n",
    "from keras.preprocessing.text import Tokenizer\n",
    "from keras.preprocessing.sequence import pad_sequences\n",
    "from keras.models import Sequential\n",
    "from keras.layers import Dense, Flatten, LSTM, Conv1D, MaxPooling1D, Dropout, Activation\n",
    "from keras.layers.embeddings import Embedding\n",
    "\n",
    "\n",
    "\n",
    "from keras.preprocessing.text import text_to_word_sequence\n",
    "\n",
    "\n",
    "from keras.models import Model\n",
    "\n",
    "\n",
    "from keras.layers import Input, Dense, Embedding, Conv1D, Conv2D, MaxPooling1D, MaxPool2D\n",
    "from keras.layers import Reshape, Flatten, Dropout, Concatenate\n",
    "from keras.layers import SpatialDropout1D, concatenate\n",
    "from keras.layers import GRU, Bidirectional, GlobalAveragePooling1D, GlobalMaxPooling1D\n",
    "\n",
    "from keras.callbacks import Callback\n",
    "from keras.optimizers import Adam\n",
    "\n",
    "from keras.callbacks import ModelCheckpoint, EarlyStopping\n",
    "from keras.models import load_model\n",
    "from keras.utils.vis_utils import plot_model\n",
    "\n",
    "# NLTK\n",
    "import nltk\n",
    "from nltk.corpus import stopwords\n",
    "from nltk import word_tokenize\n",
    "from nltk.stem import SnowballStemmer\n",
    "\n",
    "\n",
    "# Other\n",
    "import re\n",
    "import string\n",
    "import numpy as np\n",
    "import pandas as pd\n",
    "from sklearn.manifold import TSNE\n",
    "from nltk.stem import WordNetLemmatizer \n",
    "from sklearn.cross_validation import train_test_split"
   ]
  },
  {
   "cell_type": "code",
   "execution_count": 3,
   "metadata": {
    "ExecuteTime": {
     "end_time": "2018-06-18T08:09:33.107356Z",
     "start_time": "2018-06-18T08:09:32.162945Z"
    },
    "collapsed": true
   },
   "outputs": [],
   "source": [
    "df=pd.read_csv('rdc-catalog-train.tsv',delimiter='\\t',encoding='utf-8',header=None)"
   ]
  },
  {
   "cell_type": "code",
   "execution_count": 4,
   "metadata": {
    "ExecuteTime": {
     "end_time": "2018-06-18T08:09:34.433672Z",
     "start_time": "2018-06-18T08:09:34.427447Z"
    },
    "collapsed": true
   },
   "outputs": [],
   "source": [
    "df.columns = ['text', 'label']"
   ]
  },
  {
   "cell_type": "code",
   "execution_count": 5,
   "metadata": {
    "ExecuteTime": {
     "end_time": "2018-06-18T08:09:36.379141Z",
     "start_time": "2018-06-18T08:09:36.233980Z"
    },
    "collapsed": true
   },
   "outputs": [],
   "source": [
    "df=df.sample(frac=1,random_state=42)"
   ]
  },
  {
   "cell_type": "code",
   "execution_count": 7,
   "metadata": {
    "ExecuteTime": {
     "end_time": "2018-06-18T08:09:45.419750Z",
     "start_time": "2018-06-18T08:09:45.385421Z"
    },
    "collapsed": true
   },
   "outputs": [],
   "source": [
    "def standardize_metrics(text):\n",
    "    text = re.sub(r'\\b[\\d\\.\\/]+\\s?(v|volt)\\b', 'metricV', text)\n",
    "    text = re.sub(r'\\b[\\d\\.\\/]+\\s?(amp|amps|ampere|amperes)\\b', 'metricA', text)\n",
    "    text = re.sub(r'\\b[\\d\\.\\/]+\\s?(mah|ah|ampere-hour)\\b', 'metricAh', text)\n",
    "    text = re.sub(r'\\b[\\d\\.\\/]+\\s?(in|inch|inches)\\b', 'metricIn', text)\n",
    "    text = re.sub(r'\\b[\\d\\.\\/]+\\s?\\\"', 'metricIn', text)\n",
    "    text = re.sub(r'\\b[\\d\\.\\/]+\\s?(gb|gig|go|giga|gigabit|gigabyte)\\b', 'metricGb', text)\n",
    "    text = re.sub(r'\\b[\\d\\.\\/]+\\s?(oz|ounce)\\b', 'metricOz', text)\n",
    "    text = re.sub(r'\\b[\\d\\.\\/]+\\s?(fl\\.? oz\\.?|fluids? ounces?)\\b', 'metricFlOz', text)\n",
    "    text = re.sub(r'\\b[\\d\\.\\/]+\\s?(cwt|quintal)\\b', 'metricCwt', text)\n",
    "    text = re.sub(r'\\b[\\d\\.\\/]+\\s?(mhz|hz|khz|ghz|gigahertz|megahertz|kilohertz|hertz)\\b', 'metricHz', text)\n",
    "    text = re.sub(r'\\b[\\d\\.\\/]+\\s?(wh|kwh|watt-hour|kilowatt-hour)\\b', 'metricWh', text)\n",
    "    text = re.sub(r'\\b[\\d\\.\\/]+\\s?(w|kw|watt|kilowatt)\\b', 'metricW', text)\n",
    "    text = re.sub(r'\\b[\\d\\.\\/]+\\s?(mf|mfd|mmf|mmfd|microfarad)\\b', 'metricMfd', text)\n",
    "    text = re.sub(r'\\b[\\d\\.\\/]+\\s?(ft|feet|foot)\\b', 'metricFt', text)\n",
    "    text = re.sub(r'\\b[\\d\\.\\/]+\\s?(cm|centimeter)\\b', 'metricCm', text)\n",
    "    text = re.sub(r'\\b[\\d\\.\\/]+\\s?(mm|millimeter)\\b', 'metricMm', text)\n",
    "    text = re.sub(r'\\b[\\d\\.\\/]+\\s?(km|kilometer)\\b', 'metricKm', text)\n",
    "    text = re.sub(r'\\b[\\d\\.\\/]+\\s?(m|meter)\\b', 'metricM', text)\n",
    "    text = re.sub(r'\\b[\\d\\.\\/]+\\s?(cell|cells)\\b', 'metricCell', text)\n",
    "    text = re.sub(r'\\b[\\d\\.\\/]+\\s?(lb|lbs|pound)\\b', 'metricLb', text)\n",
    "    text = re.sub(r'\\b[\\d\\.\\/]+\\s?(yds|yd|yard|yards)\\b', 'metricYd', text)\n",
    "    text = re.sub(r'\\b[\\d\\.\\/]+\\s?(pc|pcs|pieces|piece)\\b', 'metricPc', text)\n",
    "    text = re.sub(r'\\b[\\d\\.\\/]+\\s?(gal|gals|gallon|gallons)\\b', 'metricGal', text)\n",
    "    text = re.sub(r'\\b[\\d\\.\\/]+\\s?(yd|yds|yard|yards)\\b', 'metricYd', text)\n",
    "    text = re.sub(r'\\b[\\d\\.\\/]+\\s?(deg|degs|degree|degrees)\\b', 'metricDeg', text)\n",
    "    text = re.sub(r'\\b[\\d\\.\\/]+\\s?\\°', 'metricDeg', text)\n",
    "    text = re.sub(r'\\b[\\d\\.\\/]+\\s?(l|liter|liters)\\b', 'metricL', text)\n",
    "    text = re.sub(r'\\b[\\d\\.\\/]+\\s?(ml|mls|milliliter|milliliters)\\b', 'metricMl', text)\n",
    "    text = re.sub(r'\\b[\\d\\.\\/]+\\s?(kg|kilograms|kilogram)\\b', 'metricKg', text)\n",
    "    text = re.sub(r'\\b[\\d\\.\\/]+\\s?(g|grams|gram)\\b', 'metricG', text)\n",
    "    text = re.sub(r'\\b[\\d\\.\\/]+\\s?(mg|mgs|milligrams|milligram)\\b', 'metricMg', text)\n",
    "    text = re.sub(r'\\b[\\d\\.\\/]+\\s?(sq|sqs|square|squares)\\b', 'metricSq', text)\n",
    "    text = re.sub(r'\\b[\\d\\.\\/]+\\s?(pt|pts|pint|pints)\\b', 'metricPt', text)\n",
    "    text = re.sub(r'\\b[\\d\\.\\/]+\\s?(ohm)\\b', 'metricOhm', text)\n",
    "    text = re.sub(r'\\b[\\d\\.\\/]+\\s?(fz)\\b', 'metricFz', text)\n",
    "    text = re.sub(r'\\b[\\d\\.\\/]+\\s?(ct|cts|carat|carats)\\b', 'metricCt', text)\n",
    "    text = re.sub(r'\\b[\\d]+p\\b', 'metricRes', text)\n",
    "    text = re.sub(r'\\b[\\d]+x[\\d]+\\b', 'metricRes', text)\n",
    "    text = re.sub(r'\\b[\\d]+x\\b', 'metricX', text)\n",
    "    return text\n",
    "\n",
    "def clean_text_standard_metrics_v0plus(text):\n",
    "    text = text.lower()\n",
    "    #text = standardize_metrics(text)\n",
    "    #text = re.sub(r'\\b\\d*\\.\\d+\\b', 'nbDec', text)\n",
    "    #text = re.sub(r'\\b\\d+\\/\\d+\\b', 'nbFra', text)\n",
    "    #text = re.sub(r'\\b\\d+\\b', 'nbNat', text)\n",
    "    #text = re.sub('\\d+', '0', text) \n",
    "    text = re.sub('\\W', ' ', text)\n",
    "    text = re.sub('\\s+', ' ', text)\n",
    "    text = text.strip(' ')\n",
    "    return text"
   ]
  },
  {
   "cell_type": "code",
   "execution_count": 8,
   "metadata": {
    "ExecuteTime": {
     "end_time": "2018-06-18T08:09:46.916540Z",
     "start_time": "2018-06-18T08:09:46.907821Z"
    },
    "collapsed": true
   },
   "outputs": [],
   "source": [
    "def clean_text(text):\n",
    "    \n",
    "    ## Remove puncuation\n",
    "    text = text.translate(string.punctuation)\n",
    "    \n",
    "    ## Convert words to lower case and split them\n",
    "    #text = text.lower().split()\n",
    "    \n",
    "    ## Remove stop words\n",
    "    #stops = set(stopwords.words(\"english\"))\n",
    "    #text = [w for w in text if not w in stops ]\n",
    "    \n",
    "    #text = \" \".join(text)\n",
    "\n",
    "    # Clean the text\n",
    "    \n",
    "    text=clean_text_standard_metrics_v0plus(text)\n",
    "    \n",
    "    \n",
    "    wnl = WordNetLemmatizer()\n",
    "    lem_words= [wnl.lemmatize(w) for w in word_tokenize(text)]\n",
    "    #stemmer = SnowballStemmer('english')\n",
    "    #lem_words = [wnl.lemmatize(word) for word in text]\n",
    "    text = \" \".join(lem_words)\n",
    "\n",
    "    return text"
   ]
  },
  {
   "cell_type": "code",
   "execution_count": 9,
   "metadata": {
    "ExecuteTime": {
     "end_time": "2018-06-18T08:11:38.082289Z",
     "start_time": "2018-06-18T08:09:47.742245Z"
    },
    "collapsed": true
   },
   "outputs": [],
   "source": [
    "df['text'] = df['text'].map(lambda x: clean_text(x))"
   ]
  },
  {
   "cell_type": "code",
   "execution_count": 10,
   "metadata": {
    "ExecuteTime": {
     "end_time": "2018-06-18T08:13:26.337388Z",
     "start_time": "2018-06-18T08:13:26.320184Z"
    }
   },
   "outputs": [
    {
     "data": {
      "text/html": [
       "<div>\n",
       "<style scoped>\n",
       "    .dataframe tbody tr th:only-of-type {\n",
       "        vertical-align: middle;\n",
       "    }\n",
       "\n",
       "    .dataframe tbody tr th {\n",
       "        vertical-align: top;\n",
       "    }\n",
       "\n",
       "    .dataframe thead th {\n",
       "        text-align: right;\n",
       "    }\n",
       "</style>\n",
       "<table border=\"1\" class=\"dataframe\">\n",
       "  <thead>\n",
       "    <tr style=\"text-align: right;\">\n",
       "      <th></th>\n",
       "      <th>text</th>\n",
       "      <th>label</th>\n",
       "    </tr>\n",
       "  </thead>\n",
       "  <tbody>\n",
       "    <tr>\n",
       "      <th>212188</th>\n",
       "      <td>kos kph7r kos kph7 on ear headphone stereo red...</td>\n",
       "      <td>3292&gt;1370&gt;4767&gt;4361&gt;2346</td>\n",
       "    </tr>\n",
       "    <tr>\n",
       "      <th>299036</th>\n",
       "      <td>fire dex 1910h252 fire helmet yellow traditional</td>\n",
       "      <td>4015&gt;3285&gt;1443&gt;20</td>\n",
       "    </tr>\n",
       "    <tr>\n",
       "      <th>475978</th>\n",
       "      <td>zuca lunch box pink blue 89055900618</td>\n",
       "      <td>3093&gt;4222&gt;767</td>\n",
       "    </tr>\n",
       "    <tr>\n",
       "      <th>588988</th>\n",
       "      <td>14k two tone gold fit up to 10mm omega 8mm rev...</td>\n",
       "      <td>1608&gt;2320&gt;498&gt;1546</td>\n",
       "    </tr>\n",
       "    <tr>\n",
       "      <th>138859</th>\n",
       "      <td>ibm lenovo thinkpad t440p 20an0072sc 14 0 lcd ...</td>\n",
       "      <td>3292&gt;1370&gt;1149&gt;2851</td>\n",
       "    </tr>\n",
       "  </tbody>\n",
       "</table>\n",
       "</div>"
      ],
      "text/plain": [
       "                                                     text  \\\n",
       "212188  kos kph7r kos kph7 on ear headphone stereo red...   \n",
       "299036   fire dex 1910h252 fire helmet yellow traditional   \n",
       "475978               zuca lunch box pink blue 89055900618   \n",
       "588988  14k two tone gold fit up to 10mm omega 8mm rev...   \n",
       "138859  ibm lenovo thinkpad t440p 20an0072sc 14 0 lcd ...   \n",
       "\n",
       "                           label  \n",
       "212188  3292>1370>4767>4361>2346  \n",
       "299036         4015>3285>1443>20  \n",
       "475978             3093>4222>767  \n",
       "588988        1608>2320>498>1546  \n",
       "138859       3292>1370>1149>2851  "
      ]
     },
     "execution_count": 10,
     "metadata": {},
     "output_type": "execute_result"
    }
   ],
   "source": [
    "df.head()"
   ]
  },
  {
   "cell_type": "code",
   "execution_count": 11,
   "metadata": {
    "ExecuteTime": {
     "end_time": "2018-06-18T08:14:09.337446Z",
     "start_time": "2018-06-18T08:13:27.277463Z"
    },
    "collapsed": true
   },
   "outputs": [],
   "source": [
    "vocabulary_size = 400000\n",
    "tokenizer = Tokenizer(num_words= vocabulary_size)\n",
    "tokenizer.fit_on_texts(df['text'])\n",
    "\n",
    "sequences = tokenizer.texts_to_sequences(df['text'])\n",
    "data = pad_sequences(sequences, maxlen=35)"
   ]
  },
  {
   "cell_type": "code",
   "execution_count": 11,
   "metadata": {
    "ExecuteTime": {
     "end_time": "2018-06-18T07:59:07.368094Z",
     "start_time": "2018-06-18T07:59:07.356544Z"
    }
   },
   "outputs": [
    {
     "data": {
      "text/plain": [
       "(800000, 35)"
      ]
     },
     "execution_count": 11,
     "metadata": {},
     "output_type": "execute_result"
    }
   ],
   "source": [
    "data.shape"
   ]
  },
  {
   "cell_type": "code",
   "execution_count": 12,
   "metadata": {
    "ExecuteTime": {
     "end_time": "2018-06-18T08:17:01.880860Z",
     "start_time": "2018-06-18T08:17:01.874574Z"
    },
    "collapsed": true
   },
   "outputs": [],
   "source": [
    "labels=df['label']"
   ]
  },
  {
   "cell_type": "code",
   "execution_count": 13,
   "metadata": {
    "ExecuteTime": {
     "end_time": "2018-06-18T08:17:02.115419Z",
     "start_time": "2018-06-18T08:17:02.108491Z"
    },
    "collapsed": true
   },
   "outputs": [],
   "source": [
    "from sklearn import preprocessing"
   ]
  },
  {
   "cell_type": "code",
   "execution_count": 14,
   "metadata": {
    "ExecuteTime": {
     "end_time": "2018-06-18T08:17:03.021946Z",
     "start_time": "2018-06-18T08:17:02.372563Z"
    }
   },
   "outputs": [
    {
     "data": {
      "text/plain": [
       "LabelEncoder()"
      ]
     },
     "execution_count": 14,
     "metadata": {},
     "output_type": "execute_result"
    }
   ],
   "source": [
    "encoder = preprocessing.LabelEncoder()\n",
    "encoder.fit(df['label'])"
   ]
  },
  {
   "cell_type": "code",
   "execution_count": 15,
   "metadata": {
    "ExecuteTime": {
     "end_time": "2018-06-18T08:17:03.031342Z",
     "start_time": "2018-06-18T08:17:03.025167Z"
    }
   },
   "outputs": [
    {
     "data": {
      "text/plain": [
       "3008"
      ]
     },
     "execution_count": 15,
     "metadata": {},
     "output_type": "execute_result"
    }
   ],
   "source": [
    "len(encoder.classes_)"
   ]
  },
  {
   "cell_type": "code",
   "execution_count": 16,
   "metadata": {
    "ExecuteTime": {
     "end_time": "2018-06-18T08:17:03.098188Z",
     "start_time": "2018-06-18T08:17:03.034745Z"
    }
   },
   "outputs": [
    {
     "data": {
      "text/plain": [
       "array([u'1208>310>1190>1568>4976>1645', u'1208>310>1190>4776',\n",
       "       u'1208>310>1629>1513>3369', ..., u'4564>802>692>3616',\n",
       "       u'4564>802>692>511', u'92'], dtype=object)"
      ]
     },
     "execution_count": 16,
     "metadata": {},
     "output_type": "execute_result"
    }
   ],
   "source": [
    "encoder.classes_"
   ]
  },
  {
   "cell_type": "code",
   "execution_count": 17,
   "metadata": {
    "ExecuteTime": {
     "end_time": "2018-06-18T08:17:03.693740Z",
     "start_time": "2018-06-18T08:17:03.683054Z"
    }
   },
   "outputs": [
    {
     "data": {
      "text/plain": [
       "array([u'3292>1370>4767>4361>2346', u'4015>3285>1443>20',\n",
       "       u'3093>4222>767', ..., u'1608>2320>498>1546',\n",
       "       u'4015>3754>3663>512>1750', u'2199>661>333>3609'], dtype=object)"
      ]
     },
     "execution_count": 17,
     "metadata": {},
     "output_type": "execute_result"
    }
   ],
   "source": [
    "np.array(df['label'])"
   ]
  },
  {
   "cell_type": "code",
   "execution_count": 18,
   "metadata": {
    "ExecuteTime": {
     "end_time": "2018-06-18T08:17:05.412139Z",
     "start_time": "2018-06-18T08:17:04.280051Z"
    },
    "collapsed": true
   },
   "outputs": [],
   "source": [
    "label_encoded = encoder.transform(df['label'])"
   ]
  },
  {
   "cell_type": "code",
   "execution_count": 19,
   "metadata": {
    "ExecuteTime": {
     "end_time": "2018-06-18T08:17:05.420884Z",
     "start_time": "2018-06-18T08:17:05.415497Z"
    }
   },
   "outputs": [
    {
     "data": {
      "text/plain": [
       "array([1265, 2278, 1066, ...,  391, 2582,  867])"
      ]
     },
     "execution_count": 19,
     "metadata": {},
     "output_type": "execute_result"
    }
   ],
   "source": [
    "label_encoded"
   ]
  },
  {
   "cell_type": "code",
   "execution_count": 20,
   "metadata": {
    "ExecuteTime": {
     "end_time": "2018-06-18T08:17:05.498070Z",
     "start_time": "2018-06-18T08:17:05.423882Z"
    }
   },
   "outputs": [
    {
     "data": {
      "text/plain": [
       "u'92'"
      ]
     },
     "execution_count": 20,
     "metadata": {},
     "output_type": "execute_result"
    }
   ],
   "source": [
    "encoder.classes_[3007]"
   ]
  },
  {
   "cell_type": "code",
   "execution_count": 21,
   "metadata": {
    "ExecuteTime": {
     "end_time": "2018-06-18T08:17:06.045236Z",
     "start_time": "2018-06-18T08:17:06.034129Z"
    }
   },
   "outputs": [
    {
     "data": {
      "text/plain": [
       "u'2296>3597>689'"
      ]
     },
     "execution_count": 21,
     "metadata": {},
     "output_type": "execute_result"
    }
   ],
   "source": [
    "encoder.classes_[1020]"
   ]
  },
  {
   "cell_type": "code",
   "execution_count": 22,
   "metadata": {
    "ExecuteTime": {
     "end_time": "2018-06-18T08:17:06.865379Z",
     "start_time": "2018-06-18T08:17:06.856192Z"
    }
   },
   "outputs": [
    {
     "data": {
      "text/plain": [
       "800000"
      ]
     },
     "execution_count": 22,
     "metadata": {},
     "output_type": "execute_result"
    }
   ],
   "source": [
    "len(label_encoded)"
   ]
  },
  {
   "cell_type": "code",
   "execution_count": 23,
   "metadata": {
    "ExecuteTime": {
     "end_time": "2018-06-18T08:17:07.113554Z",
     "start_time": "2018-06-18T08:17:07.107416Z"
    },
    "collapsed": true
   },
   "outputs": [],
   "source": [
    "from keras.utils.np_utils import to_categorical"
   ]
  },
  {
   "cell_type": "code",
   "execution_count": 24,
   "metadata": {
    "ExecuteTime": {
     "end_time": "2018-06-18T08:17:08.244075Z",
     "start_time": "2018-06-18T08:17:07.574205Z"
    },
    "collapsed": true
   },
   "outputs": [],
   "source": [
    "dummy_y = to_categorical(label_encoded)"
   ]
  },
  {
   "cell_type": "code",
   "execution_count": 25,
   "metadata": {
    "ExecuteTime": {
     "end_time": "2018-06-18T08:17:08.254550Z",
     "start_time": "2018-06-18T08:17:08.247945Z"
    }
   },
   "outputs": [
    {
     "data": {
      "text/plain": [
       "array([0., 0., 0., ..., 0., 0., 0.])"
      ]
     },
     "execution_count": 25,
     "metadata": {},
     "output_type": "execute_result"
    }
   ],
   "source": [
    "dummy_y[0]"
   ]
  },
  {
   "cell_type": "code",
   "execution_count": 26,
   "metadata": {
    "ExecuteTime": {
     "end_time": "2018-06-18T08:17:08.314155Z",
     "start_time": "2018-06-18T08:17:08.257676Z"
    }
   },
   "outputs": [
    {
     "data": {
      "text/plain": [
       "1265"
      ]
     },
     "execution_count": 26,
     "metadata": {},
     "output_type": "execute_result"
    }
   ],
   "source": [
    "np.argmax(dummy_y[0])"
   ]
  },
  {
   "cell_type": "code",
   "execution_count": 27,
   "metadata": {
    "ExecuteTime": {
     "end_time": "2018-06-18T08:17:08.414739Z",
     "start_time": "2018-06-18T08:17:08.404616Z"
    }
   },
   "outputs": [
    {
     "data": {
      "text/plain": [
       "(800000, 3008)"
      ]
     },
     "execution_count": 27,
     "metadata": {},
     "output_type": "execute_result"
    }
   ],
   "source": [
    "dummy_y.shape"
   ]
  },
  {
   "cell_type": "code",
   "execution_count": 28,
   "metadata": {
    "ExecuteTime": {
     "end_time": "2018-06-18T08:17:09.333958Z",
     "start_time": "2018-06-18T08:17:09.328183Z"
    },
    "collapsed": true
   },
   "outputs": [],
   "source": [
    "MAX_NB_WORDS = 400000\n",
    "MAX_LENGTH = 35"
   ]
  },
  {
   "cell_type": "code",
   "execution_count": 38,
   "metadata": {
    "ExecuteTime": {
     "end_time": "2018-06-17T20:48:43.610710Z",
     "start_time": "2018-06-17T20:48:41.334983Z"
    },
    "collapsed": true
   },
   "outputs": [],
   "source": [
    "\n",
    "\n",
    "def get_simple_rnn_model():\n",
    "    embedding_dim = 300\n",
    "    embedding_matrix = np.random.random((MAX_NB_WORDS, embedding_dim))\n",
    "    \n",
    "    inp = Input(shape=(MAX_LENGTH, ))\n",
    "    x = Embedding(input_dim=MAX_NB_WORDS, output_dim=embedding_dim, input_length=MAX_LENGTH, \n",
    "                  weights=[embedding_matrix], trainable=True)(inp)\n",
    "    x = SpatialDropout1D(0.3)(x)\n",
    "    x = Bidirectional(GRU(100, return_sequences=True))(x)\n",
    "    avg_pool = GlobalAveragePooling1D()(x)\n",
    "    max_pool = GlobalMaxPooling1D()(x)\n",
    "    conc = concatenate([avg_pool, max_pool])\n",
    "    outp = Dense(3008, activation=\"softmax\")(conc)\n",
    "    \n",
    "    model = Model(inputs=inp, outputs=outp)\n",
    "    model.compile(loss='categorical_crossentropy',\n",
    "                  optimizer='adam',\n",
    "                  metrics=['accuracy'])\n",
    "    return model\n",
    "\n",
    "rnn_simple_model = get_simple_rnn_model()"
   ]
  },
  {
   "cell_type": "code",
   "execution_count": 37,
   "metadata": {
    "ExecuteTime": {
     "end_time": "2018-06-13T12:58:09.027731Z",
     "start_time": "2018-06-13T12:19:57.078793Z"
    }
   },
   "outputs": [
    {
     "name": "stdout",
     "output_type": "stream",
     "text": [
      "Train on 640000 samples, validate on 160000 samples\n",
      "Epoch 1/2\n",
      "640000/640000 [==============================] - 1146s 2ms/step - loss: 2.9016 - acc: 0.5248 - val_loss: 1.8597 - val_acc: 0.6642\n",
      "Epoch 2/2\n",
      "640000/640000 [==============================] - 1145s 2ms/step - loss: 1.6433 - acc: 0.6888 - val_loss: 1.4479 - val_acc: 0.7210\n"
     ]
    },
    {
     "data": {
      "text/plain": [
       "<keras.callbacks.History at 0x7f12ca8c8410>"
      ]
     },
     "execution_count": 37,
     "metadata": {},
     "output_type": "execute_result"
    }
   ],
   "source": [
    "batch_size = 256\n",
    "epochs = 2\n",
    "\n",
    "rnn_simple_model.fit(x=data, \n",
    "                    y=dummy_y, \n",
    "                    validation_split=0.2, \n",
    "                    batch_size=batch_size, \n",
    "                    epochs=epochs, \n",
    "                    verbose=1)"
   ]
  },
  {
   "cell_type": "code",
   "execution_count": 38,
   "metadata": {
    "ExecuteTime": {
     "end_time": "2018-06-13T13:22:18.530153Z",
     "start_time": "2018-06-13T13:03:15.078767Z"
    }
   },
   "outputs": [
    {
     "name": "stdout",
     "output_type": "stream",
     "text": [
      "Train on 640000 samples, validate on 160000 samples\n",
      "Epoch 1/1\n",
      "640000/640000 [==============================] - 1143s 2ms/step - loss: 1.3149 - acc: 0.7339 - val_loss: 1.2853 - val_acc: 0.7466\n"
     ]
    },
    {
     "data": {
      "text/plain": [
       "<keras.callbacks.History at 0x7f12ca8c8390>"
      ]
     },
     "execution_count": 38,
     "metadata": {},
     "output_type": "execute_result"
    }
   ],
   "source": [
    "rnn_simple_model.fit(x=data, \n",
    "                    y=dummy_y, \n",
    "                    validation_split=0.2, \n",
    "                    batch_size=batch_size, \n",
    "                    epochs=1, \n",
    "                    verbose=1)"
   ]
  },
  {
   "cell_type": "code",
   "execution_count": 38,
   "metadata": {
    "ExecuteTime": {
     "end_time": "2018-06-18T08:26:33.732510Z",
     "start_time": "2018-06-18T08:26:26.462279Z"
    },
    "collapsed": true
   },
   "outputs": [],
   "source": [
    "X_train, X_test, Y_train, Y_test = train_test_split(data, dummy_y, test_size=0.1)"
   ]
  },
  {
   "cell_type": "code",
   "execution_count": 45,
   "metadata": {
    "ExecuteTime": {
     "end_time": "2018-06-13T14:12:13.862520Z",
     "start_time": "2018-06-13T14:08:54.989558Z"
    }
   },
   "outputs": [
    {
     "name": "stdout",
     "output_type": "stream",
     "text": [
      "--2018-06-13 14:08:55--  http://nlp.stanford.edu/data/glove.840B.300d.zip\n",
      "Resolving nlp.stanford.edu (nlp.stanford.edu)... 171.64.67.140\n",
      "Connecting to nlp.stanford.edu (nlp.stanford.edu)|171.64.67.140|:80... connected.\n",
      "HTTP request sent, awaiting response... 302 Found\n",
      "Location: https://nlp.stanford.edu/data/glove.840B.300d.zip [following]\n",
      "--2018-06-13 14:09:00--  https://nlp.stanford.edu/data/glove.840B.300d.zip\n",
      "Connecting to nlp.stanford.edu (nlp.stanford.edu)|171.64.67.140|:443... connected.\n",
      "HTTP request sent, awaiting response... 200 OK\n",
      "Length: 2176768927 (2.0G) [application/zip]\n",
      "Saving to: ‘glove.840B.300d.zip’\n",
      "\n",
      "glove.840B.300d.zip 100%[===================>]   2.03G  9.31MB/s    in 3m 12s  \n",
      "\n",
      "2018-06-13 14:12:13 (10.8 MB/s) - ‘glove.840B.300d.zip’ saved [2176768927/2176768927]\n",
      "\n"
     ]
    }
   ],
   "source": [
    "!wget http://nlp.stanford.edu/data/glove.840B.300d.zip"
   ]
  },
  {
   "cell_type": "code",
   "execution_count": 49,
   "metadata": {
    "ExecuteTime": {
     "end_time": "2018-06-13T14:19:13.694035Z",
     "start_time": "2018-06-13T14:19:13.242917Z"
    },
    "collapsed": true
   },
   "outputs": [],
   "source": [
    "!echo \"y\" > unzip glove.840B.300d.zip"
   ]
  },
  {
   "cell_type": "code",
   "execution_count": 52,
   "metadata": {
    "ExecuteTime": {
     "end_time": "2018-06-13T14:24:34.230271Z",
     "start_time": "2018-06-13T14:24:33.769750Z"
    }
   },
   "outputs": [
    {
     "name": "stdout",
     "output_type": "stream",
     "text": [
      "-rw-r--r-- 1 root root 142M Jun 13 14:24 glove.840B.300d.txt\r\n"
     ]
    }
   ],
   "source": [
    "! ls -lh glove.840B.300d.txt"
   ]
  },
  {
   "cell_type": "code",
   "execution_count": 29,
   "metadata": {
    "ExecuteTime": {
     "end_time": "2018-06-18T08:18:44.473467Z",
     "start_time": "2018-06-18T08:17:19.042767Z"
    },
    "collapsed": true
   },
   "outputs": [],
   "source": [
    "def get_coefs(word, *arr):\n",
    "    try:\n",
    "        return word, np.asarray(arr, dtype='float32')\n",
    "    except:\n",
    "        return None, None\n",
    "    \n",
    "embeddings_index = dict(get_coefs(*o.strip().split()) for o in open('glove.840B.300d.txt'))\n",
    "\n",
    "embed_size=300\n",
    "for k in list(embeddings_index.keys()):\n",
    "    v = embeddings_index[k]\n",
    "    try:\n",
    "        if v.shape != (embed_size, ):\n",
    "            embeddings_index.pop(k)\n",
    "    except:\n",
    "        pass\n",
    "            \n",
    "embeddings_index.pop(None,None)"
   ]
  },
  {
   "cell_type": "code",
   "execution_count": 30,
   "metadata": {
    "ExecuteTime": {
     "end_time": "2018-06-18T08:18:44.480713Z",
     "start_time": "2018-06-18T08:18:44.477035Z"
    }
   },
   "outputs": [
    {
     "name": "stdout",
     "output_type": "stream",
     "text": [
      "Loaded 2196014 word vectors.\n"
     ]
    }
   ],
   "source": [
    "print('Loaded %s word vectors.' % len(embeddings_index))"
   ]
  },
  {
   "cell_type": "code",
   "execution_count": 35,
   "metadata": {
    "ExecuteTime": {
     "end_time": "2018-06-15T08:43:08.595166Z",
     "start_time": "2018-06-15T08:43:08.590743Z"
    },
    "collapsed": true
   },
   "outputs": [],
   "source": [
    "#Another version of how to create embeddings_index object\n",
    "#embeddings_index = dict()\n",
    "#f = open('glove.840B.300d.txt')\n",
    "#for line in f:\n",
    "    #values = line.split()\n",
    "    #word = values[0]\n",
    "    #coefs = np.asarray(values[1:], dtype='float32')\n",
    "    #embeddings_index[word] = coefs\n",
    "#f.close()\n",
    "#print('Loaded %s word vectors.' % len(embeddings_index))"
   ]
  },
  {
   "cell_type": "code",
   "execution_count": 31,
   "metadata": {
    "ExecuteTime": {
     "end_time": "2018-06-18T08:21:35.908551Z",
     "start_time": "2018-06-18T08:21:30.493616Z"
    },
    "collapsed": true
   },
   "outputs": [],
   "source": [
    "values = list(embeddings_index.values())\n",
    "all_embs = np.stack(values)\n",
    "\n",
    "emb_mean, emb_std = all_embs.mean(), all_embs.std()"
   ]
  },
  {
   "cell_type": "code",
   "execution_count": 32,
   "metadata": {
    "ExecuteTime": {
     "end_time": "2018-06-18T08:21:35.939132Z",
     "start_time": "2018-06-18T08:21:35.933870Z"
    }
   },
   "outputs": [
    {
     "data": {
      "text/plain": [
       "numpy.ndarray"
      ]
     },
     "execution_count": 32,
     "metadata": {},
     "output_type": "execute_result"
    }
   ],
   "source": [
    "type(all_embs)"
   ]
  },
  {
   "cell_type": "code",
   "execution_count": 33,
   "metadata": {
    "ExecuteTime": {
     "end_time": "2018-06-18T08:21:36.045117Z",
     "start_time": "2018-06-18T08:21:35.942213Z"
    }
   },
   "outputs": [
    {
     "data": {
      "text/plain": [
       "(2196014, 300)"
      ]
     },
     "execution_count": 33,
     "metadata": {},
     "output_type": "execute_result"
    }
   ],
   "source": [
    "all_embs.shape"
   ]
  },
  {
   "cell_type": "code",
   "execution_count": 34,
   "metadata": {
    "ExecuteTime": {
     "end_time": "2018-06-18T08:21:36.093506Z",
     "start_time": "2018-06-18T08:21:36.049506Z"
    }
   },
   "outputs": [
    {
     "data": {
      "text/plain": [
       "-0.0058385106"
      ]
     },
     "execution_count": 34,
     "metadata": {},
     "output_type": "execute_result"
    }
   ],
   "source": [
    "emb_mean"
   ]
  },
  {
   "cell_type": "code",
   "execution_count": 35,
   "metadata": {
    "ExecuteTime": {
     "end_time": "2018-06-18T08:21:36.146060Z",
     "start_time": "2018-06-18T08:21:36.097841Z"
    }
   },
   "outputs": [
    {
     "data": {
      "text/plain": [
       "0.48782173"
      ]
     },
     "execution_count": 35,
     "metadata": {},
     "output_type": "execute_result"
    }
   ],
   "source": [
    "emb_std"
   ]
  },
  {
   "cell_type": "code",
   "execution_count": 36,
   "metadata": {
    "ExecuteTime": {
     "end_time": "2018-06-18T08:21:41.078849Z",
     "start_time": "2018-06-18T08:21:36.151042Z"
    }
   },
   "outputs": [
    {
     "name": "stdout",
     "output_type": "stream",
     "text": [
      "304884\n"
     ]
    }
   ],
   "source": [
    "word_index = tokenizer.word_index\n",
    "nb_words = MAX_NB_WORDS\n",
    "embedding_matrix = np.random.normal(emb_mean, emb_std, (nb_words, embed_size))\n",
    "\n",
    "oov = 0\n",
    "for word, i in word_index.items():\n",
    "    if i >= MAX_NB_WORDS: continue\n",
    "    embedding_vector = embeddings_index.get(word)\n",
    "    if embedding_vector is not None:\n",
    "        embedding_matrix[i] = embedding_vector\n",
    "    else:\n",
    "        oov += 1\n",
    "\n",
    "print(oov)"
   ]
  },
  {
   "cell_type": "code",
   "execution_count": 37,
   "metadata": {
    "ExecuteTime": {
     "end_time": "2018-06-18T08:22:36.245353Z",
     "start_time": "2018-06-18T08:22:34.906541Z"
    },
    "collapsed": true
   },
   "outputs": [],
   "source": [
    "def get_rnn_model_with_glove_embeddings():\n",
    "    embedding_dim = 300\n",
    "    inp = Input(shape=(MAX_LENGTH, ))\n",
    "    x = Embedding(MAX_NB_WORDS, embedding_dim, weights=[embedding_matrix], input_length=MAX_LENGTH, trainable=True)(inp)\n",
    "    x = SpatialDropout1D(0.3)(x)\n",
    "    x = Bidirectional(GRU(100, return_sequences=True))(x)\n",
    "    avg_pool = GlobalAveragePooling1D()(x)\n",
    "    max_pool = GlobalMaxPooling1D()(x)\n",
    "    conc = concatenate([avg_pool, max_pool])\n",
    "    interm =Dense(3008,activation='relu')(conc)\n",
    "    outp = Dense(3008, activation=\"softmax\")(interm)\n",
    "    \n",
    "    model = Model(inputs=inp, outputs=outp)\n",
    "    model.compile(loss='categorical_crossentropy',\n",
    "                  optimizer='adam',\n",
    "                  metrics=['accuracy'])\n",
    "    return model\n",
    "\n",
    "rnn_model_with_embeddings = get_rnn_model_with_glove_embeddings()"
   ]
  },
  {
   "cell_type": "code",
   "execution_count": 39,
   "metadata": {
    "ExecuteTime": {
     "end_time": "2018-06-18T12:03:17.399693Z",
     "start_time": "2018-06-18T08:27:43.690575Z"
    }
   },
   "outputs": [
    {
     "name": "stderr",
     "output_type": "stream",
     "text": [
      "/root/anaconda2/lib/python2.7/site-packages/tensorflow/python/ops/gradients_impl.py:97: UserWarning: Converting sparse IndexedSlices to a dense Tensor with 120000000 elements. This may consume a large amount of memory.\n",
      "  num_elements)\n"
     ]
    },
    {
     "name": "stdout",
     "output_type": "stream",
     "text": [
      "Train on 720000 samples, validate on 80000 samples\n",
      "Epoch 1/4\n",
      "720000/720000 [==============================] - 3229s 4ms/step - loss: 1.7839 - acc: 0.6551 - val_loss: 1.1894 - val_acc: 0.7466\n",
      "Epoch 2/4\n",
      "720000/720000 [==============================] - 3233s 4ms/step - loss: 1.0432 - acc: 0.7665 - val_loss: 1.0401 - val_acc: 0.7755\n",
      "Epoch 3/4\n",
      "720000/720000 [==============================] - 3235s 4ms/step - loss: 0.8205 - acc: 0.8044 - val_loss: 1.0048 - val_acc: 0.7872\n",
      "Epoch 4/4\n",
      "720000/720000 [==============================] - 3236s 4ms/step - loss: 0.6679 - acc: 0.8336 - val_loss: 1.0099 - val_acc: 0.7919\n"
     ]
    }
   ],
   "source": [
    "#vocab_size=400000 without text cleaning and adding a fully connected layer after the 4 th layer\n",
    "batch_size = 256\n",
    "epochs = 4\n",
    "\n",
    "histtory =rnn_model_with_embeddings.fit(x=X_train, \n",
    "                    y=Y_train, \n",
    "                    validation_data=(X_test, Y_test), \n",
    "                    batch_size=batch_size,  \n",
    "                    epochs=epochs, \n",
    "                    verbose=1)"
   ]
  },
  {
   "cell_type": "code",
   "execution_count": 41,
   "metadata": {
    "ExecuteTime": {
     "end_time": "2018-06-18T12:10:19.391889Z",
     "start_time": "2018-06-18T12:10:17.172826Z"
    },
    "collapsed": true
   },
   "outputs": [],
   "source": [
    "import matplotlib.pyplot as plt"
   ]
  },
  {
   "cell_type": "code",
   "execution_count": 43,
   "metadata": {
    "ExecuteTime": {
     "end_time": "2018-06-18T12:11:21.415064Z",
     "start_time": "2018-06-18T12:11:21.408639Z"
    },
    "collapsed": true
   },
   "outputs": [],
   "source": [
    "loss= histtory.history['loss']\n",
    "val_loss = histtory.history['val_loss']"
   ]
  },
  {
   "cell_type": "code",
   "execution_count": 44,
   "metadata": {
    "ExecuteTime": {
     "end_time": "2018-06-18T12:11:51.420124Z",
     "start_time": "2018-06-18T12:11:51.265983Z"
    }
   },
   "outputs": [
    {
     "data": {
      "image/png": "[encoded data removed]",
      "text/plain": [
       "<matplotlib.figure.Figure at 0x7fda960a87d0>"
      ]
     },
     "metadata": {},
     "output_type": "display_data"
    }
   ],
   "source": [
    "epochs = range(1, len(loss) + 1)\n",
    "plt.plot(epochs, loss, 'bo', label='Training loss')\n",
    "plt.plot(epochs, val_loss, 'b', label='Validation loss')\n",
    "plt.title('Training and validation loss')\n",
    "plt.xlabel('Epochs')\n",
    "plt.ylabel('Loss')\n",
    "plt.legend()\n",
    "plt.show()"
   ]
  },
  {
   "cell_type": "code",
   "execution_count": 49,
   "metadata": {
    "ExecuteTime": {
     "end_time": "2018-06-18T12:13:24.205657Z",
     "start_time": "2018-06-18T12:13:24.112926Z"
    }
   },
   "outputs": [
    {
     "data": {
      "image/png": "[encoded data removed]",
      "text/plain": [
       "<matplotlib.figure.Figure at 0x7fda9609b7d0>"
      ]
     },
     "metadata": {},
     "output_type": "display_data"
    }
   ],
   "source": [
    "plt.clf()\n",
    "\n",
    "acc = histtory.history['acc']\n",
    "val_acc = histtory.history['val_acc']\n",
    "plt.plot(epochs, acc, 'bo', label='Training acc')\n",
    "plt.plot(epochs, val_acc, 'b', label='Validation acc')\n",
    "plt.title('Training and validation accuracy')\n",
    "plt.xlabel('Epochs')\n",
    "plt.ylabel('Accuracy')\n",
    "plt.legend()\n",
    "plt.show()"
   ]
  },
  {
   "cell_type": "code",
   "execution_count": null,
   "metadata": {
    "ExecuteTime": {
     "start_time": "2018-06-18T12:14:12.838Z"
    }
   },
   "outputs": [
    {
     "name": "stdout",
     "output_type": "stream",
     "text": [
      "Train on 720000 samples, validate on 80000 samples\n",
      "Epoch 1/2\n",
      "  1024/720000 [..............................] - ETA: 53:49 - loss: 0.5084 - acc: 0.8604"
     ]
    }
   ],
   "source": [
    "histtory =rnn_model_with_embeddings.fit(x=X_train, \n",
    "                    y=Y_train, \n",
    "                    validation_data=(X_test, Y_test), \n",
    "                    batch_size=batch_size,  \n",
    "                    epochs=2, \n",
    "                    verbose=1)"
   ]
  },
  {
   "cell_type": "code",
   "execution_count": 43,
   "metadata": {
    "ExecuteTime": {
     "end_time": "2018-06-15T13:45:16.406441Z",
     "start_time": "2018-06-15T08:44:33.801112Z"
    }
   },
   "outputs": [
    {
     "name": "stderr",
     "output_type": "stream",
     "text": [
      "/root/anaconda2/lib/python2.7/site-packages/tensorflow/python/ops/gradients_impl.py:97: UserWarning: Converting sparse IndexedSlices to a dense Tensor with 120000000 elements. This may consume a large amount of memory.\n",
      "  num_elements)\n"
     ]
    },
    {
     "name": "stdout",
     "output_type": "stream",
     "text": [
      "Train on 720000 samples, validate on 80000 samples\n",
      "Epoch 1/6\n",
      "720000/720000 [==============================] - 2966s 4ms/step - loss: 1.9659 - acc: 0.6337 - val_loss: 1.2719 - val_acc: 0.7391\n",
      "Epoch 2/6\n",
      "720000/720000 [==============================] - 3040s 4ms/step - loss: 1.1223 - acc: 0.7588 - val_loss: 1.0859 - val_acc: 0.7721\n",
      "Epoch 3/6\n",
      "720000/720000 [==============================] - 3038s 4ms/step - loss: 0.8958 - acc: 0.7970 - val_loss: 1.0320 - val_acc: 0.7826\n",
      "Epoch 4/6\n",
      "720000/720000 [==============================] - 3003s 4ms/step - loss: 0.7465 - acc: 0.8252 - val_loss: 1.0155 - val_acc: 0.7892\n",
      "Epoch 5/6\n",
      "720000/720000 [==============================] - 2998s 4ms/step - loss: 0.6317 - acc: 0.8482 - val_loss: 1.0169 - val_acc: 0.7931\n",
      "Epoch 6/6\n",
      "720000/720000 [==============================] - 2996s 4ms/step - loss: 0.5406 - acc: 0.8670 - val_loss: 1.0399 - val_acc: 0.7921\n"
     ]
    },
    {
     "data": {
      "text/plain": [
       "<keras.callbacks.History at 0x7fabe419e450>"
      ]
     },
     "execution_count": 43,
     "metadata": {},
     "output_type": "execute_result"
    }
   ],
   "source": [
    "#vocab_size=400000 without text cleaning\n",
    "batch_size = 256\n",
    "epochs = 6\n",
    "\n",
    "rnn_model_with_embeddings.fit(x=X_train, \n",
    "                    y=Y_train, \n",
    "                    validation_data=(X_test, Y_test), \n",
    "                    batch_size=batch_size,  \n",
    "                    epochs=epochs, \n",
    "                    verbose=1)"
   ]
  },
  {
   "cell_type": "code",
   "execution_count": 44,
   "metadata": {
    "ExecuteTime": {
     "end_time": "2018-06-15T14:03:49.995133Z",
     "start_time": "2018-06-15T14:03:49.452978Z"
    },
    "collapsed": true
   },
   "outputs": [],
   "source": [
    "rnn_model_with_embeddings.save_weights('rnn_glove_4000000_no_filter.h5')"
   ]
  },
  {
   "cell_type": "code",
   "execution_count": 40,
   "metadata": {
    "ExecuteTime": {
     "end_time": "2018-06-17T20:50:33.266459Z",
     "start_time": "2018-06-17T20:50:32.629596Z"
    },
    "collapsed": true
   },
   "outputs": [],
   "source": [
    "rnn_model_with_embeddings.load_weights('rnn_glove_4000000_no_filter.h5')"
   ]
  },
  {
   "cell_type": "code",
   "execution_count": 45,
   "metadata": {
    "ExecuteTime": {
     "end_time": "2018-06-15T14:54:18.424045Z",
     "start_time": "2018-06-15T14:04:37.729660Z"
    }
   },
   "outputs": [
    {
     "name": "stdout",
     "output_type": "stream",
     "text": [
      "Train on 720000 samples, validate on 80000 samples\n",
      "Epoch 1/1\n",
      "720000/720000 [==============================] - 2981s 4ms/step - loss: 0.4670 - acc: 0.8820 - val_loss: 1.0642 - val_acc: 0.7930\n"
     ]
    },
    {
     "data": {
      "text/plain": [
       "<keras.callbacks.History at 0x7fab95b79750>"
      ]
     },
     "execution_count": 45,
     "metadata": {},
     "output_type": "execute_result"
    }
   ],
   "source": [
    "rnn_model_with_embeddings.fit(x=X_train, \n",
    "                    y=Y_train, \n",
    "                    validation_data=(X_test, Y_test), \n",
    "                    batch_size=batch_size,  \n",
    "                    epochs=1, \n",
    "                    verbose=1)"
   ]
  },
  {
   "cell_type": "code",
   "execution_count": 46,
   "metadata": {
    "ExecuteTime": {
     "end_time": "2018-06-15T15:51:57.951753Z",
     "start_time": "2018-06-15T15:02:17.265503Z"
    }
   },
   "outputs": [
    {
     "name": "stdout",
     "output_type": "stream",
     "text": [
      "Train on 720000 samples, validate on 80000 samples\n",
      "Epoch 1/1\n",
      "720000/720000 [==============================] - 2981s 4ms/step - loss: 0.4050 - acc: 0.8966 - val_loss: 1.0906 - val_acc: 0.7927\n"
     ]
    },
    {
     "data": {
      "text/plain": [
       "<keras.callbacks.History at 0x7fab8a7e9a10>"
      ]
     },
     "execution_count": 46,
     "metadata": {},
     "output_type": "execute_result"
    }
   ],
   "source": [
    "rnn_model_with_embeddings.fit(x=X_train, \n",
    "                    y=Y_train, \n",
    "                    validation_data=(X_test, Y_test), \n",
    "                    batch_size=batch_size,  \n",
    "                    epochs=1, \n",
    "                    verbose=1)"
   ]
  },
  {
   "cell_type": "code",
   "execution_count": 47,
   "metadata": {
    "ExecuteTime": {
     "end_time": "2018-06-15T16:38:38.793859Z",
     "start_time": "2018-06-15T16:38:38.433075Z"
    },
    "collapsed": true
   },
   "outputs": [],
   "source": [
    "rnn_model_with_embeddings.save_weights('rnn_glove_4000000_no_filter_final.h5')"
   ]
  },
  {
   "cell_type": "code",
   "execution_count": 38,
   "metadata": {
    "ExecuteTime": {
     "end_time": "2018-06-18T08:02:43.627698Z",
     "start_time": "2018-06-18T08:02:43.041048Z"
    },
    "collapsed": true
   },
   "outputs": [],
   "source": [
    "rnn_model_with_embeddings.load_weights('rnn_glove_4000000_no_filter_final.h5')"
   ]
  },
  {
   "cell_type": "code",
   "execution_count": 44,
   "metadata": {
    "ExecuteTime": {
     "end_time": "2018-06-17T22:30:25.170850Z",
     "start_time": "2018-06-17T20:52:40.153051Z"
    }
   },
   "outputs": [
    {
     "name": "stderr",
     "output_type": "stream",
     "text": [
      "/root/anaconda2/lib/python2.7/site-packages/tensorflow/python/ops/gradients_impl.py:97: UserWarning: Converting sparse IndexedSlices to a dense Tensor with 120000000 elements. This may consume a large amount of memory.\n",
      "  num_elements)\n"
     ]
    },
    {
     "name": "stdout",
     "output_type": "stream",
     "text": [
      "Train on 720000 samples, validate on 80000 samples\n",
      "Epoch 1/2\n",
      "720000/720000 [==============================] - 2931s 4ms/step - loss: 0.4462 - acc: 0.8924 - val_loss: 0.3623 - val_acc: 0.9141\n",
      "Epoch 2/2\n",
      "720000/720000 [==============================] - 2933s 4ms/step - loss: 0.3830 - acc: 0.9050 - val_loss: 0.3970 - val_acc: 0.9058\n"
     ]
    },
    {
     "data": {
      "text/plain": [
       "<keras.callbacks.History at 0x7fd23770f990>"
      ]
     },
     "execution_count": 44,
     "metadata": {},
     "output_type": "execute_result"
    }
   ],
   "source": [
    "rnn_model_with_embeddings.fit(x=X_train, \n",
    "                    y=Y_train, \n",
    "                    validation_data=(X_test, Y_test), \n",
    "                    batch_size=256,  \n",
    "                    epochs=2, \n",
    "                    verbose=1)"
   ]
  },
  {
   "cell_type": "code",
   "execution_count": 50,
   "metadata": {
    "ExecuteTime": {
     "end_time": "2018-06-15T20:14:11.205090Z",
     "start_time": "2018-06-15T20:13:48.814907Z"
    }
   },
   "outputs": [
    {
     "name": "stdout",
     "output_type": "stream",
     "text": [
      "80000/80000 [==============================] - 22s 280us/step\n",
      "Score: 1.0906\n",
      "Accuracy: 0.7927\n"
     ]
    }
   ],
   "source": [
    "# Evaluate model\n",
    "score, acc = rnn_model_with_embeddings.evaluate(X_test, Y_test, batch_size=128)\n",
    "    \n",
    "print('Score: %1.4f' % score)\n",
    "print('Accuracy: %1.4f' % acc)"
   ]
  },
  {
   "cell_type": "code",
   "execution_count": 37,
   "metadata": {
    "ExecuteTime": {
     "end_time": "2018-06-14T10:48:30.896437Z",
     "start_time": "2018-06-14T09:15:37.698975Z"
    }
   },
   "outputs": [
    {
     "name": "stdout",
     "output_type": "stream",
     "text": [
      "Train on 720000 samples, validate on 80000 samples\n",
      "Epoch 1/4\n",
      "720000/720000 [==============================] - 1393s 2ms/step - loss: 1.9547 - acc: 0.6375 - val_loss: 1.2721 - val_acc: 0.7360\n",
      "Epoch 2/4\n",
      "720000/720000 [==============================] - 1393s 2ms/step - loss: 1.1241 - acc: 0.7586 - val_loss: 1.0908 - val_acc: 0.7694\n",
      "Epoch 3/4\n",
      "720000/720000 [==============================] - 1394s 2ms/step - loss: 0.9187 - acc: 0.7923 - val_loss: 1.0245 - val_acc: 0.7827\n",
      "Epoch 4/4\n",
      "720000/720000 [==============================] - 1392s 2ms/step - loss: 0.7897 - acc: 0.8150 - val_loss: 0.9978 - val_acc: 0.7911\n"
     ]
    },
    {
     "data": {
      "text/plain": [
       "<keras.callbacks.History at 0x7f4ff081e910>"
      ]
     },
     "execution_count": 37,
     "metadata": {},
     "output_type": "execute_result"
    }
   ],
   "source": [
    "#vocab_size=100000\n",
    "batch_size = 256\n",
    "epochs = 4\n",
    "\n",
    "rnn_model_with_embeddings.fit(x=X_train, \n",
    "                    y=Y_train, \n",
    "                    validation_data=(X_test, Y_test), \n",
    "                    batch_size=batch_size,  \n",
    "                    epochs=epochs, \n",
    "                    verbose=1)"
   ]
  },
  {
   "cell_type": "code",
   "execution_count": 45,
   "metadata": {
    "ExecuteTime": {
     "end_time": "2018-06-14T15:23:25.400208Z",
     "start_time": "2018-06-14T11:50:09.390718Z"
    }
   },
   "outputs": [
    {
     "name": "stderr",
     "output_type": "stream",
     "text": [
      "/root/anaconda2/lib/python2.7/site-packages/tensorflow/python/ops/gradients_impl.py:97: UserWarning: Converting sparse IndexedSlices to a dense Tensor with 120000000 elements. This may consume a large amount of memory.\n",
      "  num_elements)\n"
     ]
    },
    {
     "name": "stdout",
     "output_type": "stream",
     "text": [
      "Train on 720000 samples, validate on 80000 samples\n",
      "Epoch 1/4\n",
      "720000/720000 [==============================] - 3160s 4ms/step - loss: 1.9530 - acc: 0.6368 - val_loss: 1.2566 - val_acc: 0.7394\n",
      "Epoch 2/4\n",
      "720000/720000 [==============================] - 3212s 4ms/step - loss: 1.1202 - acc: 0.7584 - val_loss: 1.0720 - val_acc: 0.7723\n",
      "Epoch 3/4\n",
      "720000/720000 [==============================] - 3212s 4ms/step - loss: 0.9093 - acc: 0.7939 - val_loss: 1.0131 - val_acc: 0.7857\n",
      "Epoch 4/4\n",
      "720000/720000 [==============================] - 3211s 4ms/step - loss: 0.7736 - acc: 0.8181 - val_loss: 0.9900 - val_acc: 0.7931\n"
     ]
    },
    {
     "data": {
      "text/plain": [
       "<keras.callbacks.History at 0x7f4ff56d66d0>"
      ]
     },
     "execution_count": 45,
     "metadata": {},
     "output_type": "execute_result"
    }
   ],
   "source": [
    "#vocab_size=400000\n",
    "batch_size = 256\n",
    "epochs = 4\n",
    "\n",
    "rnn_model_with_embeddings.fit(x=X_train, \n",
    "                    y=Y_train, \n",
    "                    validation_data=(X_test, Y_test), \n",
    "                    batch_size=batch_size,  \n",
    "                    epochs=epochs, \n",
    "                    verbose=1)"
   ]
  },
  {
   "cell_type": "code",
   "execution_count": null,
   "metadata": {
    "collapsed": true
   },
   "outputs": [],
   "source": []
  },
  {
   "cell_type": "code",
   "execution_count": null,
   "metadata": {
    "ExecuteTime": {
     "start_time": "2018-06-14T15:25:53.369Z"
    }
   },
   "outputs": [
    {
     "name": "stdout",
     "output_type": "stream",
     "text": [
      "Train on 720000 samples, validate on 80000 samples\n",
      "Epoch 1/2\n",
      "491008/720000 [===================>..........] - ETA: 16:51 - loss: 0.6683 - acc: 0.8384"
     ]
    }
   ],
   "source": [
    "rnn_model_with_embeddings.fit(x=X_train, \n",
    "                    y=Y_train, \n",
    "                    validation_data=(X_test, Y_test), \n",
    "                    batch_size=batch_size,  \n",
    "                    epochs=2, \n",
    "                    verbose=1)"
   ]
  },
  {
   "cell_type": "code",
   "execution_count": 68,
   "metadata": {
    "ExecuteTime": {
     "end_time": "2018-06-13T16:53:37.618996Z",
     "start_time": "2018-06-13T16:52:46.289675Z"
    }
   },
   "outputs": [
    {
     "name": "stdout",
     "output_type": "stream",
     "text": [
      "160000/160000 [==============================] - 51s 321us/step\n",
      "Score: 1.0001\n",
      "Accuracy: 0.7969\n"
     ]
    }
   ],
   "source": [
    "# Evaluate model\n",
    "score, acc = rnn_model_with_embeddings.evaluate(X_test, Y_test, batch_size=128)\n",
    "    \n",
    "print('Score: %1.4f' % score)\n",
    "print('Accuracy: %1.4f' % acc)"
   ]
  },
  {
   "cell_type": "code",
   "execution_count": 36,
   "metadata": {
    "ExecuteTime": {
     "end_time": "2018-06-17T20:46:32.187306Z",
     "start_time": "2018-06-17T20:46:32.178085Z"
    }
   },
   "outputs": [
    {
     "data": {
      "text/plain": [
       "(400000, 300)"
      ]
     },
     "execution_count": 36,
     "metadata": {},
     "output_type": "execute_result"
    }
   ],
   "source": [
    "embedding_matrix.shape"
   ]
  },
  {
   "cell_type": "code",
   "execution_count": 15,
   "metadata": {
    "ExecuteTime": {
     "end_time": "2018-06-17T20:29:22.186466Z",
     "start_time": "2018-06-17T20:29:20.781224Z"
    },
    "collapsed": true
   },
   "outputs": [],
   "source": [
    "def get_rnn_cnn_model():\n",
    "    embedding_dim = 300\n",
    "    inp = Input(shape=(MAX_LENGTH, ))\n",
    "    x = Embedding(MAX_NB_WORDS, embedding_dim, weights=[embedding_matrix], input_length=MAX_LENGTH, trainable=True)(inp)\n",
    "    x = SpatialDropout1D(0.3)(x)\n",
    "    x = Bidirectional(GRU(100, return_sequences=True))(x)\n",
    "    x = Conv1D(64, kernel_size = 2, padding = \"valid\", kernel_initializer = \"he_uniform\")(x)\n",
    "    avg_pool = GlobalAveragePooling1D()(x)\n",
    "    max_pool = GlobalMaxPooling1D()(x)\n",
    "    conc = concatenate([avg_pool, max_pool])\n",
    "    outp = Dense(3008, activation=\"softmax\")(conc)\n",
    "    \n",
    "    model = Model(inputs=inp, outputs=outp)\n",
    "    model.compile(loss='categorical_crossentropy',\n",
    "                  optimizer='adam',\n",
    "                  metrics=['accuracy'])\n",
    "    return model\n",
    "rnn_cnn_model = get_rnn_cnn_model()\n"
   ]
  },
  {
   "cell_type": "code",
   "execution_count": 49,
   "metadata": {
    "ExecuteTime": {
     "end_time": "2018-06-15T19:53:06.424546Z",
     "start_time": "2018-06-15T16:39:11.817553Z"
    }
   },
   "outputs": [
    {
     "name": "stdout",
     "output_type": "stream",
     "text": [
      "Train on 720000 samples, validate on 80000 samples\n",
      "Epoch 1/4\n",
      "720000/720000 [==============================] - 2905s 4ms/step - loss: 1.9544 - acc: 0.6325 - val_loss: 1.2950 - val_acc: 0.7335\n",
      "Epoch 2/4\n",
      "720000/720000 [==============================] - 2909s 4ms/step - loss: 1.1711 - acc: 0.7503 - val_loss: 1.1302 - val_acc: 0.7643\n",
      "Epoch 3/4\n",
      "720000/720000 [==============================] - 2908s 4ms/step - loss: 0.9533 - acc: 0.7870 - val_loss: 1.0824 - val_acc: 0.7759\n",
      "Epoch 4/4\n",
      "720000/720000 [==============================] - 2911s 4ms/step - loss: 0.8084 - acc: 0.8133 - val_loss: 1.0717 - val_acc: 0.7821\n"
     ]
    },
    {
     "data": {
      "text/plain": [
       "<keras.callbacks.History at 0x7fab8a7e9390>"
      ]
     },
     "execution_count": 49,
     "metadata": {},
     "output_type": "execute_result"
    }
   ],
   "source": [
    "batch_size = 256\n",
    "epochs = 4\n",
    "\n",
    "rnn_cnn_model.fit(x=X_train, \n",
    "                    y=Y_train, \n",
    "                    validation_data=(X_test, Y_test), \n",
    "                    batch_size=batch_size,  \n",
    "                    epochs=epochs, \n",
    "                    verbose=1)"
   ]
  },
  {
   "cell_type": "code",
   "execution_count": 52,
   "metadata": {
    "ExecuteTime": {
     "end_time": "2018-06-15T20:15:39.370138Z",
     "start_time": "2018-06-15T20:15:16.902671Z"
    }
   },
   "outputs": [
    {
     "name": "stdout",
     "output_type": "stream",
     "text": [
      "80000/80000 [==============================] - 22s 281us/step\n",
      "Score: 1.0717\n",
      "Accuracy: 0.7821\n"
     ]
    }
   ],
   "source": [
    "# Evaluate model\n",
    "score, acc = rnn_cnn_model.evaluate(X_test, Y_test, batch_size=128)\n",
    "    \n",
    "print('Score: %1.4f' % score)\n",
    "print('Accuracy: %1.4f' % acc)"
   ]
  },
  {
   "cell_type": "code",
   "execution_count": 75,
   "metadata": {
    "ExecuteTime": {
     "end_time": "2018-06-13T19:34:36.028052Z",
     "start_time": "2018-06-13T19:00:57.661151Z"
    }
   },
   "outputs": [
    {
     "name": "stdout",
     "output_type": "stream",
     "text": [
      "Train on 640000 samples, validate on 160000 samples\n",
      "Epoch 1/2\n",
      "640000/640000 [==============================] - 1009s 2ms/step - loss: 0.7066 - acc: 0.8308 - val_loss: 1.0544 - val_acc: 0.7906\n",
      "Epoch 2/2\n",
      "640000/640000 [==============================] - 1009s 2ms/step - loss: 0.6447 - acc: 0.8431 - val_loss: 1.0736 - val_acc: 0.7922\n"
     ]
    }
   ],
   "source": [
    "\n",
    "history=rnn_cnn_model.fit(x=X_train, \n",
    "                    y=Y_train, \n",
    "                    validation_data=(X_test, Y_test), \n",
    "                    batch_size=batch_size, \n",
    "                    epochs=2, \n",
    "                    verbose=1)"
   ]
  },
  {
   "cell_type": "code",
   "execution_count": 78,
   "metadata": {
    "ExecuteTime": {
     "end_time": "2018-06-13T21:26:01.876701Z",
     "start_time": "2018-06-13T20:49:45.048920Z"
    }
   },
   "outputs": [
    {
     "name": "stdout",
     "output_type": "stream",
     "text": [
      "Train on 640000 samples, validate on 160000 samples\n",
      "Epoch 1/2\n",
      "640000/640000 [==============================] - 1089s 2ms/step - loss: 0.5936 - acc: 0.8530 - val_loss: 1.0989 - val_acc: 0.7925\n",
      "Epoch 2/2\n",
      "640000/640000 [==============================] - 1088s 2ms/step - loss: 0.5497 - acc: 0.8620 - val_loss: 1.1169 - val_acc: 0.7938\n"
     ]
    },
    {
     "data": {
      "text/plain": [
       "<keras.callbacks.History at 0x7f085401a2d0>"
      ]
     },
     "execution_count": 78,
     "metadata": {},
     "output_type": "execute_result"
    }
   ],
   "source": [
    "rnn_cnn_model.fit(x=X_train, \n",
    "                    y=Y_train, \n",
    "                    validation_data=(X_test, Y_test), \n",
    "                    batch_size=batch_size, \n",
    "                    epochs=2, \n",
    "                    verbose=1)"
   ]
  },
  {
   "cell_type": "code",
   "execution_count": 79,
   "metadata": {
    "ExecuteTime": {
     "end_time": "2018-06-13T21:37:06.158318Z",
     "start_time": "2018-06-13T21:37:05.844043Z"
    },
    "collapsed": true
   },
   "outputs": [],
   "source": [
    "rnn_cnn_model.save_weights('rnn_cnn_model.h5')"
   ]
  },
  {
   "cell_type": "code",
   "execution_count": 37,
   "metadata": {
    "ExecuteTime": {
     "end_time": "2018-06-17T20:47:46.291502Z",
     "start_time": "2018-06-17T20:47:46.220006Z"
    }
   },
   "outputs": [
    {
     "ename": "ValueError",
     "evalue": "Cannot feed value of shape (80000, 300) for Tensor u'embedding_1/Placeholder:0', which has shape '(400000, 300)'",
     "output_type": "error",
     "traceback": [
      "\u001b[0;31m---------------------------------------------------------------------------\u001b[0m",
      "\u001b[0;31mValueError\u001b[0m                                Traceback (most recent call last)",
      "\u001b[0;32m<ipython-input-37-089696ff1caf>\u001b[0m in \u001b[0;36m<module>\u001b[0;34m()\u001b[0m\n\u001b[0;32m----> 1\u001b[0;31m \u001b[0mrnn_cnn_model\u001b[0m\u001b[0;34m.\u001b[0m\u001b[0mload_weights\u001b[0m\u001b[0;34m(\u001b[0m\u001b[0;34m'rnn_cnn_model.h5'\u001b[0m\u001b[0;34m)\u001b[0m\u001b[0;34m\u001b[0m\u001b[0m\n\u001b[0m",
      "\u001b[0;32m/root/anaconda2/lib/python2.7/site-packages/keras/engine/topology.pyc\u001b[0m in \u001b[0;36mload_weights\u001b[0;34m(self, filepath, by_name, skip_mismatch, reshape)\u001b[0m\n\u001b[1;32m   2654\u001b[0m             \u001b[0;32melse\u001b[0m\u001b[0;34m:\u001b[0m\u001b[0;34m\u001b[0m\u001b[0m\n\u001b[1;32m   2655\u001b[0m                 load_weights_from_hdf5_group(\n\u001b[0;32m-> 2656\u001b[0;31m                     f, self.layers, reshape=reshape)\n\u001b[0m\u001b[1;32m   2657\u001b[0m \u001b[0;34m\u001b[0m\u001b[0m\n\u001b[1;32m   2658\u001b[0m     \u001b[0;32mdef\u001b[0m \u001b[0m_updated_config\u001b[0m\u001b[0;34m(\u001b[0m\u001b[0mself\u001b[0m\u001b[0;34m)\u001b[0m\u001b[0;34m:\u001b[0m\u001b[0;34m\u001b[0m\u001b[0m\n",
      "\u001b[0;32m/root/anaconda2/lib/python2.7/site-packages/keras/engine/topology.pyc\u001b[0m in \u001b[0;36mload_weights_from_hdf5_group\u001b[0;34m(f, layers, reshape)\u001b[0m\n\u001b[1;32m   3380\u001b[0m                              ' elements.')\n\u001b[1;32m   3381\u001b[0m         \u001b[0mweight_value_tuples\u001b[0m \u001b[0;34m+=\u001b[0m \u001b[0mzip\u001b[0m\u001b[0;34m(\u001b[0m\u001b[0msymbolic_weights\u001b[0m\u001b[0;34m,\u001b[0m \u001b[0mweight_values\u001b[0m\u001b[0;34m)\u001b[0m\u001b[0;34m\u001b[0m\u001b[0m\n\u001b[0;32m-> 3382\u001b[0;31m     \u001b[0mK\u001b[0m\u001b[0;34m.\u001b[0m\u001b[0mbatch_set_value\u001b[0m\u001b[0;34m(\u001b[0m\u001b[0mweight_value_tuples\u001b[0m\u001b[0;34m)\u001b[0m\u001b[0;34m\u001b[0m\u001b[0m\n\u001b[0m\u001b[1;32m   3383\u001b[0m \u001b[0;34m\u001b[0m\u001b[0m\n\u001b[1;32m   3384\u001b[0m \u001b[0;34m\u001b[0m\u001b[0m\n",
      "\u001b[0;32m/root/anaconda2/lib/python2.7/site-packages/keras/backend/tensorflow_backend.pyc\u001b[0m in \u001b[0;36mbatch_set_value\u001b[0;34m(tuples)\u001b[0m\n\u001b[1;32m   2371\u001b[0m             \u001b[0massign_ops\u001b[0m\u001b[0;34m.\u001b[0m\u001b[0mappend\u001b[0m\u001b[0;34m(\u001b[0m\u001b[0massign_op\u001b[0m\u001b[0;34m)\u001b[0m\u001b[0;34m\u001b[0m\u001b[0m\n\u001b[1;32m   2372\u001b[0m             \u001b[0mfeed_dict\u001b[0m\u001b[0;34m[\u001b[0m\u001b[0massign_placeholder\u001b[0m\u001b[0;34m]\u001b[0m \u001b[0;34m=\u001b[0m \u001b[0mvalue\u001b[0m\u001b[0;34m\u001b[0m\u001b[0m\n\u001b[0;32m-> 2373\u001b[0;31m         \u001b[0mget_session\u001b[0m\u001b[0;34m(\u001b[0m\u001b[0;34m)\u001b[0m\u001b[0;34m.\u001b[0m\u001b[0mrun\u001b[0m\u001b[0;34m(\u001b[0m\u001b[0massign_ops\u001b[0m\u001b[0;34m,\u001b[0m \u001b[0mfeed_dict\u001b[0m\u001b[0;34m=\u001b[0m\u001b[0mfeed_dict\u001b[0m\u001b[0;34m)\u001b[0m\u001b[0;34m\u001b[0m\u001b[0m\n\u001b[0m\u001b[1;32m   2374\u001b[0m \u001b[0;34m\u001b[0m\u001b[0m\n\u001b[1;32m   2375\u001b[0m \u001b[0;34m\u001b[0m\u001b[0m\n",
      "\u001b[0;32m/root/anaconda2/lib/python2.7/site-packages/tensorflow/python/client/session.pyc\u001b[0m in \u001b[0;36mrun\u001b[0;34m(self, fetches, feed_dict, options, run_metadata)\u001b[0m\n\u001b[1;32m    898\u001b[0m     \u001b[0;32mtry\u001b[0m\u001b[0;34m:\u001b[0m\u001b[0;34m\u001b[0m\u001b[0m\n\u001b[1;32m    899\u001b[0m       result = self._run(None, fetches, feed_dict, options_ptr,\n\u001b[0;32m--> 900\u001b[0;31m                          run_metadata_ptr)\n\u001b[0m\u001b[1;32m    901\u001b[0m       \u001b[0;32mif\u001b[0m \u001b[0mrun_metadata\u001b[0m\u001b[0;34m:\u001b[0m\u001b[0;34m\u001b[0m\u001b[0m\n\u001b[1;32m    902\u001b[0m         \u001b[0mproto_data\u001b[0m \u001b[0;34m=\u001b[0m \u001b[0mtf_session\u001b[0m\u001b[0;34m.\u001b[0m\u001b[0mTF_GetBuffer\u001b[0m\u001b[0;34m(\u001b[0m\u001b[0mrun_metadata_ptr\u001b[0m\u001b[0;34m)\u001b[0m\u001b[0;34m\u001b[0m\u001b[0m\n",
      "\u001b[0;32m/root/anaconda2/lib/python2.7/site-packages/tensorflow/python/client/session.pyc\u001b[0m in \u001b[0;36m_run\u001b[0;34m(self, handle, fetches, feed_dict, options, run_metadata)\u001b[0m\n\u001b[1;32m   1109\u001b[0m                              \u001b[0;34m'which has shape %r'\u001b[0m \u001b[0;34m%\u001b[0m\u001b[0;34m\u001b[0m\u001b[0m\n\u001b[1;32m   1110\u001b[0m                              (np_val.shape, subfeed_t.name,\n\u001b[0;32m-> 1111\u001b[0;31m                               str(subfeed_t.get_shape())))\n\u001b[0m\u001b[1;32m   1112\u001b[0m           \u001b[0;32mif\u001b[0m \u001b[0;32mnot\u001b[0m \u001b[0mself\u001b[0m\u001b[0;34m.\u001b[0m\u001b[0mgraph\u001b[0m\u001b[0;34m.\u001b[0m\u001b[0mis_feedable\u001b[0m\u001b[0;34m(\u001b[0m\u001b[0msubfeed_t\u001b[0m\u001b[0;34m)\u001b[0m\u001b[0;34m:\u001b[0m\u001b[0;34m\u001b[0m\u001b[0m\n\u001b[1;32m   1113\u001b[0m             \u001b[0;32mraise\u001b[0m \u001b[0mValueError\u001b[0m\u001b[0;34m(\u001b[0m\u001b[0;34m'Tensor %s may not be fed.'\u001b[0m \u001b[0;34m%\u001b[0m \u001b[0msubfeed_t\u001b[0m\u001b[0;34m)\u001b[0m\u001b[0;34m\u001b[0m\u001b[0m\n",
      "\u001b[0;31mValueError\u001b[0m: Cannot feed value of shape (80000, 300) for Tensor u'embedding_1/Placeholder:0', which has shape '(400000, 300)'"
     ]
    }
   ],
   "source": [
    "rnn_cnn_model.load_weights('rnn_cnn_model.h5')"
   ]
  },
  {
   "cell_type": "code",
   "execution_count": 77,
   "metadata": {
    "ExecuteTime": {
     "end_time": "2018-06-13T20:09:49.078583Z",
     "start_time": "2018-06-13T20:09:02.312274Z"
    }
   },
   "outputs": [
    {
     "name": "stdout",
     "output_type": "stream",
     "text": [
      "160000/160000 [==============================] - 47s 292us/step\n",
      "Score: 1.0736\n",
      "Accuracy: 0.7922\n"
     ]
    }
   ],
   "source": [
    "# Evaluate model\n",
    "score, acc = rnn_cnn_model.evaluate(X_test, Y_test, batch_size=128)\n",
    "    \n",
    "print('Score: %1.4f' % score)\n",
    "print('Accuracy: %1.4f' % acc)"
   ]
  },
  {
   "cell_type": "code",
   "execution_count": 51,
   "metadata": {},
   "outputs": [
    {
     "name": "stdout",
     "output_type": "stream",
     "text": [
      "160000/160000 [==============================] - 28s 177us/step\n"
     ]
    }
   ],
   "source": [
    "pred=model_lstm.predict(X_test,batch_size=32, verbose=1)"
   ]
  },
  {
   "cell_type": "code",
   "execution_count": 52,
   "metadata": {
    "collapsed": true
   },
   "outputs": [],
   "source": [
    "predicted = np.argmax(pred, axis=1)"
   ]
  },
  {
   "cell_type": "code",
   "execution_count": 53,
   "metadata": {
    "collapsed": true
   },
   "outputs": [],
   "source": [
    "from sklearn.metrics import classification_report"
   ]
  },
  {
   "cell_type": "code",
   "execution_count": 57,
   "metadata": {
    "collapsed": true
   },
   "outputs": [],
   "source": [
    "from sklearn.metrics import precision_recall_fscore_support"
   ]
  },
  {
   "cell_type": "code",
   "execution_count": 55,
   "metadata": {},
   "outputs": [
    {
     "name": "stderr",
     "output_type": "stream",
     "text": [
      "/root/anaconda2/lib/python2.7/site-packages/sklearn/metrics/classification.py:1135: UndefinedMetricWarning: Precision and F-score are ill-defined and being set to 0.0 in labels with no predicted samples.\n",
      "  'precision', 'predicted', average, warn_for)\n",
      "/root/anaconda2/lib/python2.7/site-packages/sklearn/metrics/classification.py:1137: UndefinedMetricWarning: Recall and F-score are ill-defined and being set to 0.0 in labels with no true samples.\n",
      "  'recall', 'true', average, warn_for)\n"
     ]
    }
   ],
   "source": [
    "report = classification_report(np.argmax(Y_test, axis=1), predicted)"
   ]
  },
  {
   "cell_type": "code",
   "execution_count": 58,
   "metadata": {
    "collapsed": true
   },
   "outputs": [],
   "source": [
    "weighted_p, weighted_r, weighted_f1, _ = precision_recall_fscore_support(np.argmax(Y_test, axis=1), predicted, pos_label=None, average='weighted')"
   ]
  },
  {
   "cell_type": "code",
   "execution_count": 59,
   "metadata": {},
   "outputs": [
    {
     "data": {
      "text/plain": [
       "0.848261943495386"
      ]
     },
     "execution_count": 59,
     "metadata": {},
     "output_type": "execute_result"
    }
   ],
   "source": [
    "weighted_p"
   ]
  },
  {
   "cell_type": "code",
   "execution_count": 60,
   "metadata": {},
   "outputs": [
    {
     "data": {
      "text/plain": [
       "0.8489125"
      ]
     },
     "execution_count": 60,
     "metadata": {},
     "output_type": "execute_result"
    }
   ],
   "source": [
    "weighted_r"
   ]
  },
  {
   "cell_type": "code",
   "execution_count": 61,
   "metadata": {},
   "outputs": [
    {
     "data": {
      "text/plain": [
       "0.8426649396539287"
      ]
     },
     "execution_count": 61,
     "metadata": {},
     "output_type": "execute_result"
    }
   ],
   "source": [
    "weighted_f1"
   ]
  },
  {
   "cell_type": "code",
   "execution_count": 35,
   "metadata": {
    "collapsed": true
   },
   "outputs": [],
   "source": [
    "def create_conv_model():\n",
    "    model_conv = Sequential()\n",
    "    model_conv.add(Embedding(vocabulary_size, 100, input_length=50))\n",
    "    model_conv.add(Dropout(0.2))\n",
    "    model_conv.add(Conv1D(64, 5, activation='relu'))\n",
    "    model_conv.add(MaxPooling1D(pool_size=4))\n",
    "    model_conv.add(LSTM(100))\n",
    "    model_conv.add(Dense(3008, activation='softmax'))\n",
    "    model_conv.compile(loss='categorical_crossentropy', optimizer='adam', metrics=['accuracy'])\n",
    "    return model_conv"
   ]
  },
  {
   "cell_type": "code",
   "execution_count": null,
   "metadata": {
    "collapsed": true
   },
   "outputs": [],
   "source": []
  },
  {
   "cell_type": "code",
   "execution_count": 36,
   "metadata": {},
   "outputs": [
    {
     "name": "stdout",
     "output_type": "stream",
     "text": [
      "Train on 640000 samples, validate on 160000 samples\n",
      "Epoch 1/3\n",
      "640000/640000 [==============================] - 2373s 4ms/step - loss: 3.7496 - acc: 0.3816 - val_loss: 2.3075 - val_acc: 0.5913\n",
      "Epoch 2/3\n",
      "640000/640000 [==============================] - 2375s 4ms/step - loss: 2.0413 - acc: 0.6238 - val_loss: 1.9150 - val_acc: 0.6475\n",
      "Epoch 3/3\n",
      "188224/640000 [=======>......................] - ETA: 27:43 - loss: 1.7284 - acc: 0.6672"
     ]
    },
    {
     "ename": "KeyboardInterrupt",
     "evalue": "",
     "output_type": "error",
     "traceback": [
      "\u001b[0;31m---------------------------------------------------------------------------\u001b[0m",
      "\u001b[0;31mKeyboardInterrupt\u001b[0m                         Traceback (most recent call last)",
      "\u001b[0;32m<ipython-input-36-767201f15f38>\u001b[0m in \u001b[0;36m<module>\u001b[0;34m()\u001b[0m\n\u001b[1;32m      1\u001b[0m \u001b[0mmodel_conv\u001b[0m \u001b[0;34m=\u001b[0m \u001b[0mcreate_conv_model\u001b[0m\u001b[0;34m(\u001b[0m\u001b[0;34m)\u001b[0m\u001b[0;34m\u001b[0m\u001b[0m\n\u001b[0;32m----> 2\u001b[0;31m \u001b[0mmodel_conv\u001b[0m\u001b[0;34m.\u001b[0m\u001b[0mfit\u001b[0m\u001b[0;34m(\u001b[0m\u001b[0mdata\u001b[0m\u001b[0;34m,\u001b[0m \u001b[0mdummy_y\u001b[0m\u001b[0;34m,\u001b[0m \u001b[0mvalidation_split\u001b[0m\u001b[0;34m=\u001b[0m\u001b[0;36m0.2\u001b[0m\u001b[0;34m,\u001b[0m \u001b[0mepochs\u001b[0m \u001b[0;34m=\u001b[0m \u001b[0;36m3\u001b[0m\u001b[0;34m)\u001b[0m\u001b[0;34m\u001b[0m\u001b[0m\n\u001b[0m",
      "\u001b[0;32m/root/anaconda2/lib/python2.7/site-packages/keras/models.pyc\u001b[0m in \u001b[0;36mfit\u001b[0;34m(self, x, y, batch_size, epochs, verbose, callbacks, validation_split, validation_data, shuffle, class_weight, sample_weight, initial_epoch, steps_per_epoch, validation_steps, **kwargs)\u001b[0m\n\u001b[1;32m    961\u001b[0m                               \u001b[0minitial_epoch\u001b[0m\u001b[0;34m=\u001b[0m\u001b[0minitial_epoch\u001b[0m\u001b[0;34m,\u001b[0m\u001b[0;34m\u001b[0m\u001b[0m\n\u001b[1;32m    962\u001b[0m                               \u001b[0msteps_per_epoch\u001b[0m\u001b[0;34m=\u001b[0m\u001b[0msteps_per_epoch\u001b[0m\u001b[0;34m,\u001b[0m\u001b[0;34m\u001b[0m\u001b[0m\n\u001b[0;32m--> 963\u001b[0;31m                               validation_steps=validation_steps)\n\u001b[0m\u001b[1;32m    964\u001b[0m \u001b[0;34m\u001b[0m\u001b[0m\n\u001b[1;32m    965\u001b[0m     def evaluate(self, x=None, y=None,\n",
      "\u001b[0;32m/root/anaconda2/lib/python2.7/site-packages/keras/engine/training.pyc\u001b[0m in \u001b[0;36mfit\u001b[0;34m(self, x, y, batch_size, epochs, verbose, callbacks, validation_split, validation_data, shuffle, class_weight, sample_weight, initial_epoch, steps_per_epoch, validation_steps, **kwargs)\u001b[0m\n\u001b[1;32m   1703\u001b[0m                               \u001b[0minitial_epoch\u001b[0m\u001b[0;34m=\u001b[0m\u001b[0minitial_epoch\u001b[0m\u001b[0;34m,\u001b[0m\u001b[0;34m\u001b[0m\u001b[0m\n\u001b[1;32m   1704\u001b[0m                               \u001b[0msteps_per_epoch\u001b[0m\u001b[0;34m=\u001b[0m\u001b[0msteps_per_epoch\u001b[0m\u001b[0;34m,\u001b[0m\u001b[0;34m\u001b[0m\u001b[0m\n\u001b[0;32m-> 1705\u001b[0;31m                               validation_steps=validation_steps)\n\u001b[0m\u001b[1;32m   1706\u001b[0m \u001b[0;34m\u001b[0m\u001b[0m\n\u001b[1;32m   1707\u001b[0m     def evaluate(self, x=None, y=None,\n",
      "\u001b[0;32m/root/anaconda2/lib/python2.7/site-packages/keras/engine/training.pyc\u001b[0m in \u001b[0;36m_fit_loop\u001b[0;34m(self, f, ins, out_labels, batch_size, epochs, verbose, callbacks, val_f, val_ins, shuffle, callback_metrics, initial_epoch, steps_per_epoch, validation_steps)\u001b[0m\n\u001b[1;32m   1233\u001b[0m                         \u001b[0mins_batch\u001b[0m\u001b[0;34m[\u001b[0m\u001b[0mi\u001b[0m\u001b[0;34m]\u001b[0m \u001b[0;34m=\u001b[0m \u001b[0mins_batch\u001b[0m\u001b[0;34m[\u001b[0m\u001b[0mi\u001b[0m\u001b[0;34m]\u001b[0m\u001b[0;34m.\u001b[0m\u001b[0mtoarray\u001b[0m\u001b[0;34m(\u001b[0m\u001b[0;34m)\u001b[0m\u001b[0;34m\u001b[0m\u001b[0m\n\u001b[1;32m   1234\u001b[0m \u001b[0;34m\u001b[0m\u001b[0m\n\u001b[0;32m-> 1235\u001b[0;31m                     \u001b[0mouts\u001b[0m \u001b[0;34m=\u001b[0m \u001b[0mf\u001b[0m\u001b[0;34m(\u001b[0m\u001b[0mins_batch\u001b[0m\u001b[0;34m)\u001b[0m\u001b[0;34m\u001b[0m\u001b[0m\n\u001b[0m\u001b[1;32m   1236\u001b[0m                     \u001b[0;32mif\u001b[0m \u001b[0;32mnot\u001b[0m \u001b[0misinstance\u001b[0m\u001b[0;34m(\u001b[0m\u001b[0mouts\u001b[0m\u001b[0;34m,\u001b[0m \u001b[0mlist\u001b[0m\u001b[0;34m)\u001b[0m\u001b[0;34m:\u001b[0m\u001b[0;34m\u001b[0m\u001b[0m\n\u001b[1;32m   1237\u001b[0m                         \u001b[0mouts\u001b[0m \u001b[0;34m=\u001b[0m \u001b[0;34m[\u001b[0m\u001b[0mouts\u001b[0m\u001b[0;34m]\u001b[0m\u001b[0;34m\u001b[0m\u001b[0m\n",
      "\u001b[0;32m/root/anaconda2/lib/python2.7/site-packages/keras/backend/tensorflow_backend.pyc\u001b[0m in \u001b[0;36m__call__\u001b[0;34m(self, inputs)\u001b[0m\n\u001b[1;32m   2476\u001b[0m         \u001b[0msession\u001b[0m \u001b[0;34m=\u001b[0m \u001b[0mget_session\u001b[0m\u001b[0;34m(\u001b[0m\u001b[0;34m)\u001b[0m\u001b[0;34m\u001b[0m\u001b[0m\n\u001b[1;32m   2477\u001b[0m         updated = session.run(fetches=fetches, feed_dict=feed_dict,\n\u001b[0;32m-> 2478\u001b[0;31m                               **self.session_kwargs)\n\u001b[0m\u001b[1;32m   2479\u001b[0m         \u001b[0;32mreturn\u001b[0m \u001b[0mupdated\u001b[0m\u001b[0;34m[\u001b[0m\u001b[0;34m:\u001b[0m\u001b[0mlen\u001b[0m\u001b[0;34m(\u001b[0m\u001b[0mself\u001b[0m\u001b[0;34m.\u001b[0m\u001b[0moutputs\u001b[0m\u001b[0;34m)\u001b[0m\u001b[0;34m]\u001b[0m\u001b[0;34m\u001b[0m\u001b[0m\n\u001b[1;32m   2480\u001b[0m \u001b[0;34m\u001b[0m\u001b[0m\n",
      "\u001b[0;32m/root/anaconda2/lib/python2.7/site-packages/tensorflow/python/client/session.pyc\u001b[0m in \u001b[0;36mrun\u001b[0;34m(self, fetches, feed_dict, options, run_metadata)\u001b[0m\n\u001b[1;32m    898\u001b[0m     \u001b[0;32mtry\u001b[0m\u001b[0;34m:\u001b[0m\u001b[0;34m\u001b[0m\u001b[0m\n\u001b[1;32m    899\u001b[0m       result = self._run(None, fetches, feed_dict, options_ptr,\n\u001b[0;32m--> 900\u001b[0;31m                          run_metadata_ptr)\n\u001b[0m\u001b[1;32m    901\u001b[0m       \u001b[0;32mif\u001b[0m \u001b[0mrun_metadata\u001b[0m\u001b[0;34m:\u001b[0m\u001b[0;34m\u001b[0m\u001b[0m\n\u001b[1;32m    902\u001b[0m         \u001b[0mproto_data\u001b[0m \u001b[0;34m=\u001b[0m \u001b[0mtf_session\u001b[0m\u001b[0;34m.\u001b[0m\u001b[0mTF_GetBuffer\u001b[0m\u001b[0;34m(\u001b[0m\u001b[0mrun_metadata_ptr\u001b[0m\u001b[0;34m)\u001b[0m\u001b[0;34m\u001b[0m\u001b[0m\n",
      "\u001b[0;32m/root/anaconda2/lib/python2.7/site-packages/tensorflow/python/client/session.pyc\u001b[0m in \u001b[0;36m_run\u001b[0;34m(self, handle, fetches, feed_dict, options, run_metadata)\u001b[0m\n\u001b[1;32m   1133\u001b[0m     \u001b[0;32mif\u001b[0m \u001b[0mfinal_fetches\u001b[0m \u001b[0;32mor\u001b[0m \u001b[0mfinal_targets\u001b[0m \u001b[0;32mor\u001b[0m \u001b[0;34m(\u001b[0m\u001b[0mhandle\u001b[0m \u001b[0;32mand\u001b[0m \u001b[0mfeed_dict_tensor\u001b[0m\u001b[0;34m)\u001b[0m\u001b[0;34m:\u001b[0m\u001b[0;34m\u001b[0m\u001b[0m\n\u001b[1;32m   1134\u001b[0m       results = self._do_run(handle, final_targets, final_fetches,\n\u001b[0;32m-> 1135\u001b[0;31m                              feed_dict_tensor, options, run_metadata)\n\u001b[0m\u001b[1;32m   1136\u001b[0m     \u001b[0;32melse\u001b[0m\u001b[0;34m:\u001b[0m\u001b[0;34m\u001b[0m\u001b[0m\n\u001b[1;32m   1137\u001b[0m       \u001b[0mresults\u001b[0m \u001b[0;34m=\u001b[0m \u001b[0;34m[\u001b[0m\u001b[0;34m]\u001b[0m\u001b[0;34m\u001b[0m\u001b[0m\n",
      "\u001b[0;32m/root/anaconda2/lib/python2.7/site-packages/tensorflow/python/client/session.pyc\u001b[0m in \u001b[0;36m_do_run\u001b[0;34m(self, handle, target_list, fetch_list, feed_dict, options, run_metadata)\u001b[0m\n\u001b[1;32m   1314\u001b[0m     \u001b[0;32mif\u001b[0m \u001b[0mhandle\u001b[0m \u001b[0;32mis\u001b[0m \u001b[0mNone\u001b[0m\u001b[0;34m:\u001b[0m\u001b[0;34m\u001b[0m\u001b[0m\n\u001b[1;32m   1315\u001b[0m       return self._do_call(_run_fn, feeds, fetches, targets, options,\n\u001b[0;32m-> 1316\u001b[0;31m                            run_metadata)\n\u001b[0m\u001b[1;32m   1317\u001b[0m     \u001b[0;32melse\u001b[0m\u001b[0;34m:\u001b[0m\u001b[0;34m\u001b[0m\u001b[0m\n\u001b[1;32m   1318\u001b[0m       \u001b[0;32mreturn\u001b[0m \u001b[0mself\u001b[0m\u001b[0;34m.\u001b[0m\u001b[0m_do_call\u001b[0m\u001b[0;34m(\u001b[0m\u001b[0m_prun_fn\u001b[0m\u001b[0;34m,\u001b[0m \u001b[0mhandle\u001b[0m\u001b[0;34m,\u001b[0m \u001b[0mfeeds\u001b[0m\u001b[0;34m,\u001b[0m \u001b[0mfetches\u001b[0m\u001b[0;34m)\u001b[0m\u001b[0;34m\u001b[0m\u001b[0m\n",
      "\u001b[0;32m/root/anaconda2/lib/python2.7/site-packages/tensorflow/python/client/session.pyc\u001b[0m in \u001b[0;36m_do_call\u001b[0;34m(self, fn, *args)\u001b[0m\n\u001b[1;32m   1320\u001b[0m   \u001b[0;32mdef\u001b[0m \u001b[0m_do_call\u001b[0m\u001b[0;34m(\u001b[0m\u001b[0mself\u001b[0m\u001b[0;34m,\u001b[0m \u001b[0mfn\u001b[0m\u001b[0;34m,\u001b[0m \u001b[0;34m*\u001b[0m\u001b[0margs\u001b[0m\u001b[0;34m)\u001b[0m\u001b[0;34m:\u001b[0m\u001b[0;34m\u001b[0m\u001b[0m\n\u001b[1;32m   1321\u001b[0m     \u001b[0;32mtry\u001b[0m\u001b[0;34m:\u001b[0m\u001b[0;34m\u001b[0m\u001b[0m\n\u001b[0;32m-> 1322\u001b[0;31m       \u001b[0;32mreturn\u001b[0m \u001b[0mfn\u001b[0m\u001b[0;34m(\u001b[0m\u001b[0;34m*\u001b[0m\u001b[0margs\u001b[0m\u001b[0;34m)\u001b[0m\u001b[0;34m\u001b[0m\u001b[0m\n\u001b[0m\u001b[1;32m   1323\u001b[0m     \u001b[0;32mexcept\u001b[0m \u001b[0merrors\u001b[0m\u001b[0;34m.\u001b[0m\u001b[0mOpError\u001b[0m \u001b[0;32mas\u001b[0m \u001b[0me\u001b[0m\u001b[0;34m:\u001b[0m\u001b[0;34m\u001b[0m\u001b[0m\n\u001b[1;32m   1324\u001b[0m       \u001b[0mmessage\u001b[0m \u001b[0;34m=\u001b[0m \u001b[0mcompat\u001b[0m\u001b[0;34m.\u001b[0m\u001b[0mas_text\u001b[0m\u001b[0;34m(\u001b[0m\u001b[0me\u001b[0m\u001b[0;34m.\u001b[0m\u001b[0mmessage\u001b[0m\u001b[0;34m)\u001b[0m\u001b[0;34m\u001b[0m\u001b[0m\n",
      "\u001b[0;32m/root/anaconda2/lib/python2.7/site-packages/tensorflow/python/client/session.pyc\u001b[0m in \u001b[0;36m_run_fn\u001b[0;34m(feed_dict, fetch_list, target_list, options, run_metadata)\u001b[0m\n\u001b[1;32m   1305\u001b[0m       \u001b[0mself\u001b[0m\u001b[0;34m.\u001b[0m\u001b[0m_extend_graph\u001b[0m\u001b[0;34m(\u001b[0m\u001b[0;34m)\u001b[0m\u001b[0;34m\u001b[0m\u001b[0m\n\u001b[1;32m   1306\u001b[0m       return self._call_tf_sessionrun(\n\u001b[0;32m-> 1307\u001b[0;31m           options, feed_dict, fetch_list, target_list, run_metadata)\n\u001b[0m\u001b[1;32m   1308\u001b[0m \u001b[0;34m\u001b[0m\u001b[0m\n\u001b[1;32m   1309\u001b[0m     \u001b[0;32mdef\u001b[0m \u001b[0m_prun_fn\u001b[0m\u001b[0;34m(\u001b[0m\u001b[0mhandle\u001b[0m\u001b[0;34m,\u001b[0m \u001b[0mfeed_dict\u001b[0m\u001b[0;34m,\u001b[0m \u001b[0mfetch_list\u001b[0m\u001b[0;34m)\u001b[0m\u001b[0;34m:\u001b[0m\u001b[0;34m\u001b[0m\u001b[0m\n",
      "\u001b[0;32m/root/anaconda2/lib/python2.7/site-packages/tensorflow/python/client/session.pyc\u001b[0m in \u001b[0;36m_call_tf_sessionrun\u001b[0;34m(self, options, feed_dict, fetch_list, target_list, run_metadata)\u001b[0m\n\u001b[1;32m   1407\u001b[0m       return tf_session.TF_SessionRun_wrapper(\n\u001b[1;32m   1408\u001b[0m           \u001b[0mself\u001b[0m\u001b[0;34m.\u001b[0m\u001b[0m_session\u001b[0m\u001b[0;34m,\u001b[0m \u001b[0moptions\u001b[0m\u001b[0;34m,\u001b[0m \u001b[0mfeed_dict\u001b[0m\u001b[0;34m,\u001b[0m \u001b[0mfetch_list\u001b[0m\u001b[0;34m,\u001b[0m \u001b[0mtarget_list\u001b[0m\u001b[0;34m,\u001b[0m\u001b[0;34m\u001b[0m\u001b[0m\n\u001b[0;32m-> 1409\u001b[0;31m           run_metadata)\n\u001b[0m\u001b[1;32m   1410\u001b[0m     \u001b[0;32melse\u001b[0m\u001b[0;34m:\u001b[0m\u001b[0;34m\u001b[0m\u001b[0m\n\u001b[1;32m   1411\u001b[0m       \u001b[0;32mwith\u001b[0m \u001b[0merrors\u001b[0m\u001b[0;34m.\u001b[0m\u001b[0mraise_exception_on_not_ok_status\u001b[0m\u001b[0;34m(\u001b[0m\u001b[0;34m)\u001b[0m \u001b[0;32mas\u001b[0m \u001b[0mstatus\u001b[0m\u001b[0;34m:\u001b[0m\u001b[0;34m\u001b[0m\u001b[0m\n",
      "\u001b[0;31mKeyboardInterrupt\u001b[0m: "
     ]
    }
   ],
   "source": [
    "model_conv = create_conv_model()\n",
    "model_conv.fit(data, dummy_y, validation_split=0.2, epochs = 3)"
   ]
  },
  {
   "cell_type": "code",
   "execution_count": 34,
   "metadata": {},
   "outputs": [
    {
     "name": "stdout",
     "output_type": "stream",
     "text": [
      "Loaded 400000 word vectors.\n"
     ]
    }
   ],
   "source": [
    "embeddings_index = dict()\n",
    "f = open('glove.6B.100d.txt')\n",
    "for line in f:\n",
    "    values = line.split()\n",
    "    word = values[0]\n",
    "    coefs = np.asarray(values[1:], dtype='float32')\n",
    "    embeddings_index[word] = coefs\n",
    "f.close()\n",
    "print('Loaded %s word vectors.' % len(embeddings_index))"
   ]
  },
  {
   "cell_type": "code",
   "execution_count": 35,
   "metadata": {
    "collapsed": true
   },
   "outputs": [],
   "source": [
    "# create a weight matrix for words in training docs\n",
    "embedding_matrix = np.zeros((vocabulary_size, 100))\n",
    "for word, index in tokenizer.word_index.items():\n",
    "    if index > vocabulary_size - 1:\n",
    "        break\n",
    "    else:\n",
    "        embedding_vector = embeddings_index.get(word)\n",
    "        if embedding_vector is not None:\n",
    "            embedding_matrix[index] = embedding_vector"
   ]
  },
  {
   "cell_type": "code",
   "execution_count": 36,
   "metadata": {},
   "outputs": [
    {
     "data": {
      "text/plain": [
       "(100000, 100)"
      ]
     },
     "execution_count": 36,
     "metadata": {},
     "output_type": "execute_result"
    }
   ],
   "source": [
    "embedding_matrix.shape"
   ]
  },
  {
   "cell_type": "code",
   "execution_count": 37,
   "metadata": {
    "collapsed": true
   },
   "outputs": [],
   "source": [
    "embedding_layer = Embedding(vocabulary_size,\n",
    "                            100,\n",
    "                            weights=[embedding_matrix],\n",
    "                            input_length=1000,\n",
    "                            trainable=False)"
   ]
  },
  {
   "cell_type": "code",
   "execution_count": 38,
   "metadata": {
    "collapsed": true
   },
   "outputs": [],
   "source": [
    "X_train, X_test, Y_train, Y_test = train_test_split(data, dummy_y, test_size=0.2)"
   ]
  },
  {
   "cell_type": "code",
   "execution_count": 40,
   "metadata": {
    "collapsed": true
   },
   "outputs": [],
   "source": [
    "from keras.layers import Input\n",
    "from keras.models import Model"
   ]
  },
  {
   "cell_type": "code",
   "execution_count": 42,
   "metadata": {},
   "outputs": [
    {
     "name": "stdout",
     "output_type": "stream",
     "text": [
      "Train on 640000 samples, validate on 160000 samples\n",
      "Epoch 1/2\n",
      "640000/640000 [==============================] - 1925s 3ms/step - loss: 6.2993 - acc: 0.0868 - val_loss: 5.6567 - val_acc: 0.0876\n",
      "Epoch 2/2\n",
      "640000/640000 [==============================] - 1925s 3ms/step - loss: 5.6941 - acc: 0.0873 - val_loss: 5.7548 - val_acc: 0.0876\n"
     ]
    },
    {
     "data": {
      "text/plain": [
       "<keras.callbacks.History at 0x7fdeaa19fe50>"
      ]
     },
     "execution_count": 42,
     "metadata": {},
     "output_type": "execute_result"
    }
   ],
   "source": [
    "sequence_input = Input(shape=(1000,), dtype='int32')\n",
    "embedded_sequences = embedding_layer(sequence_input)\n",
    "x = Conv1D(128, 5, activation='relu')(embedded_sequences)\n",
    "x = MaxPooling1D(5)(x)\n",
    "x = Conv1D(128, 5, activation='relu')(x)\n",
    "x = MaxPooling1D(5)(x)\n",
    "x = Conv1D(128, 5, activation='relu')(x)\n",
    "x = MaxPooling1D(35)(x)  # global max pooling\n",
    "x = Flatten()(x)\n",
    "x = Dense(128, activation='relu')(x)\n",
    "preds = Dense(3008, activation='softmax')(x)\n",
    "\n",
    "model = Model(sequence_input, preds)\n",
    "model.compile(loss='categorical_crossentropy',\n",
    "              optimizer='rmsprop',\n",
    "              metrics=['acc'])\n",
    "\n",
    "# happy learning!\n",
    "model.fit(X_train, Y_train, validation_data=(X_test, Y_test),\n",
    "          epochs=2, batch_size=128)"
   ]
  },
  {
   "cell_type": "code",
   "execution_count": null,
   "metadata": {
    "collapsed": true
   },
   "outputs": [],
   "source": []
  },
  {
   "cell_type": "code",
   "execution_count": null,
   "metadata": {
    "collapsed": true
   },
   "outputs": [],
   "source": []
  },
  {
   "cell_type": "code",
   "execution_count": 19,
   "metadata": {
    "collapsed": true
   },
   "outputs": [],
   "source": [
    "model_glove = Sequential()\n",
    "model_glove.add(Embedding(vocabulary_size, 100, input_length=50, weights=[embedding_matrix], trainable=False))\n",
    "model_glove.add(Dropout(0.2))\n",
    "model_glove.add(Conv1D(64, 5, activation='relu'))\n",
    "model_glove.add(MaxPooling1D(pool_size=4))\n",
    "model_glove.add(LSTM(100))\n",
    "model_glove.add(Dense(3008, activation='softmax'))\n",
    "model_glove.compile(loss='categorical_crossentropy', optimizer='adam', metrics=['accuracy'])"
   ]
  },
  {
   "cell_type": "code",
   "execution_count": 23,
   "metadata": {},
   "outputs": [
    {
     "name": "stderr",
     "output_type": "stream",
     "text": [
      "/root/anaconda2/lib/python2.7/site-packages/sklearn/cross_validation.py:41: DeprecationWarning: This module was deprecated in version 0.18 in favor of the model_selection module into which all the refactored classes and functions are moved. Also note that the interface of the new CV iterators are different from that of this module. This module will be removed in 0.20.\n",
      "  \"This module will be removed in 0.20.\", DeprecationWarning)\n"
     ]
    }
   ],
   "source": [
    "from sklearn.cross_validation import train_test_split"
   ]
  },
  {
   "cell_type": "code",
   "execution_count": 48,
   "metadata": {
    "collapsed": true
   },
   "outputs": [],
   "source": [
    "X_train, X_test, Y_train, Y_test = train_test_split(data, dummy_y, test_size=0.2)"
   ]
  },
  {
   "cell_type": "code",
   "execution_count": 23,
   "metadata": {},
   "outputs": [
    {
     "name": "stderr",
     "output_type": "stream",
     "text": [
      "/root/anaconda2/lib/python2.7/site-packages/keras/models.py:942: UserWarning: The `nb_epoch` argument in `fit` has been renamed `epochs`.\n",
      "  warnings.warn('The `nb_epoch` argument in `fit` '\n"
     ]
    },
    {
     "name": "stdout",
     "output_type": "stream",
     "text": [
      "Train on 640000 samples, validate on 160000 samples\n",
      "Epoch 1/3\n",
      "640000/640000 [==============================] - 287s 448us/step - loss: 5.6791 - acc: 0.0876 - val_loss: 5.6751 - val_acc: 0.0864\n",
      "Epoch 2/3\n",
      "267936/640000 [===========>..................] - ETA: 2:35 - loss: 5.6560 - acc: 0.0875"
     ]
    },
    {
     "ename": "KeyboardInterrupt",
     "evalue": "",
     "output_type": "error",
     "traceback": [
      "\u001b[0;31m---------------------------------------------------------------------------\u001b[0m",
      "\u001b[0;31mKeyboardInterrupt\u001b[0m                         Traceback (most recent call last)",
      "\u001b[0;32m<ipython-input-23-d18dc94310fd>\u001b[0m in \u001b[0;36m<module>\u001b[0;34m()\u001b[0m\n\u001b[1;32m      1\u001b[0m \u001b[0;31m# Train model\u001b[0m\u001b[0;34m\u001b[0m\u001b[0;34m\u001b[0m\u001b[0m\n\u001b[0;32m----> 2\u001b[0;31m \u001b[0mmodel_glove\u001b[0m\u001b[0;34m.\u001b[0m\u001b[0mfit\u001b[0m\u001b[0;34m(\u001b[0m\u001b[0mX_train\u001b[0m\u001b[0;34m,\u001b[0m \u001b[0mY_train\u001b[0m\u001b[0;34m,\u001b[0m \u001b[0mnb_epoch\u001b[0m\u001b[0;34m=\u001b[0m\u001b[0;36m3\u001b[0m\u001b[0;34m,\u001b[0m \u001b[0mvalidation_data\u001b[0m\u001b[0;34m=\u001b[0m\u001b[0;34m(\u001b[0m\u001b[0mX_test\u001b[0m\u001b[0;34m,\u001b[0m \u001b[0mY_test\u001b[0m\u001b[0;34m)\u001b[0m\u001b[0;34m)\u001b[0m\u001b[0;34m\u001b[0m\u001b[0m\n\u001b[0m",
      "\u001b[0;32m/root/anaconda2/lib/python2.7/site-packages/keras/models.pyc\u001b[0m in \u001b[0;36mfit\u001b[0;34m(self, x, y, batch_size, epochs, verbose, callbacks, validation_split, validation_data, shuffle, class_weight, sample_weight, initial_epoch, steps_per_epoch, validation_steps, **kwargs)\u001b[0m\n\u001b[1;32m    961\u001b[0m                               \u001b[0minitial_epoch\u001b[0m\u001b[0;34m=\u001b[0m\u001b[0minitial_epoch\u001b[0m\u001b[0;34m,\u001b[0m\u001b[0;34m\u001b[0m\u001b[0m\n\u001b[1;32m    962\u001b[0m                               \u001b[0msteps_per_epoch\u001b[0m\u001b[0;34m=\u001b[0m\u001b[0msteps_per_epoch\u001b[0m\u001b[0;34m,\u001b[0m\u001b[0;34m\u001b[0m\u001b[0m\n\u001b[0;32m--> 963\u001b[0;31m                               validation_steps=validation_steps)\n\u001b[0m\u001b[1;32m    964\u001b[0m \u001b[0;34m\u001b[0m\u001b[0m\n\u001b[1;32m    965\u001b[0m     def evaluate(self, x=None, y=None,\n",
      "\u001b[0;32m/root/anaconda2/lib/python2.7/site-packages/keras/engine/training.pyc\u001b[0m in \u001b[0;36mfit\u001b[0;34m(self, x, y, batch_size, epochs, verbose, callbacks, validation_split, validation_data, shuffle, class_weight, sample_weight, initial_epoch, steps_per_epoch, validation_steps, **kwargs)\u001b[0m\n\u001b[1;32m   1703\u001b[0m                               \u001b[0minitial_epoch\u001b[0m\u001b[0;34m=\u001b[0m\u001b[0minitial_epoch\u001b[0m\u001b[0;34m,\u001b[0m\u001b[0;34m\u001b[0m\u001b[0m\n\u001b[1;32m   1704\u001b[0m                               \u001b[0msteps_per_epoch\u001b[0m\u001b[0;34m=\u001b[0m\u001b[0msteps_per_epoch\u001b[0m\u001b[0;34m,\u001b[0m\u001b[0;34m\u001b[0m\u001b[0m\n\u001b[0;32m-> 1705\u001b[0;31m                               validation_steps=validation_steps)\n\u001b[0m\u001b[1;32m   1706\u001b[0m \u001b[0;34m\u001b[0m\u001b[0m\n\u001b[1;32m   1707\u001b[0m     def evaluate(self, x=None, y=None,\n",
      "\u001b[0;32m/root/anaconda2/lib/python2.7/site-packages/keras/engine/training.pyc\u001b[0m in \u001b[0;36m_fit_loop\u001b[0;34m(self, f, ins, out_labels, batch_size, epochs, verbose, callbacks, val_f, val_ins, shuffle, callback_metrics, initial_epoch, steps_per_epoch, validation_steps)\u001b[0m\n\u001b[1;32m   1233\u001b[0m                         \u001b[0mins_batch\u001b[0m\u001b[0;34m[\u001b[0m\u001b[0mi\u001b[0m\u001b[0;34m]\u001b[0m \u001b[0;34m=\u001b[0m \u001b[0mins_batch\u001b[0m\u001b[0;34m[\u001b[0m\u001b[0mi\u001b[0m\u001b[0;34m]\u001b[0m\u001b[0;34m.\u001b[0m\u001b[0mtoarray\u001b[0m\u001b[0;34m(\u001b[0m\u001b[0;34m)\u001b[0m\u001b[0;34m\u001b[0m\u001b[0m\n\u001b[1;32m   1234\u001b[0m \u001b[0;34m\u001b[0m\u001b[0m\n\u001b[0;32m-> 1235\u001b[0;31m                     \u001b[0mouts\u001b[0m \u001b[0;34m=\u001b[0m \u001b[0mf\u001b[0m\u001b[0;34m(\u001b[0m\u001b[0mins_batch\u001b[0m\u001b[0;34m)\u001b[0m\u001b[0;34m\u001b[0m\u001b[0m\n\u001b[0m\u001b[1;32m   1236\u001b[0m                     \u001b[0;32mif\u001b[0m \u001b[0;32mnot\u001b[0m \u001b[0misinstance\u001b[0m\u001b[0;34m(\u001b[0m\u001b[0mouts\u001b[0m\u001b[0;34m,\u001b[0m \u001b[0mlist\u001b[0m\u001b[0;34m)\u001b[0m\u001b[0;34m:\u001b[0m\u001b[0;34m\u001b[0m\u001b[0m\n\u001b[1;32m   1237\u001b[0m                         \u001b[0mouts\u001b[0m \u001b[0;34m=\u001b[0m \u001b[0;34m[\u001b[0m\u001b[0mouts\u001b[0m\u001b[0;34m]\u001b[0m\u001b[0;34m\u001b[0m\u001b[0m\n",
      "\u001b[0;32m/root/anaconda2/lib/python2.7/site-packages/keras/backend/tensorflow_backend.pyc\u001b[0m in \u001b[0;36m__call__\u001b[0;34m(self, inputs)\u001b[0m\n\u001b[1;32m   2476\u001b[0m         \u001b[0msession\u001b[0m \u001b[0;34m=\u001b[0m \u001b[0mget_session\u001b[0m\u001b[0;34m(\u001b[0m\u001b[0;34m)\u001b[0m\u001b[0;34m\u001b[0m\u001b[0m\n\u001b[1;32m   2477\u001b[0m         updated = session.run(fetches=fetches, feed_dict=feed_dict,\n\u001b[0;32m-> 2478\u001b[0;31m                               **self.session_kwargs)\n\u001b[0m\u001b[1;32m   2479\u001b[0m         \u001b[0;32mreturn\u001b[0m \u001b[0mupdated\u001b[0m\u001b[0;34m[\u001b[0m\u001b[0;34m:\u001b[0m\u001b[0mlen\u001b[0m\u001b[0;34m(\u001b[0m\u001b[0mself\u001b[0m\u001b[0;34m.\u001b[0m\u001b[0moutputs\u001b[0m\u001b[0;34m)\u001b[0m\u001b[0;34m]\u001b[0m\u001b[0;34m\u001b[0m\u001b[0m\n\u001b[1;32m   2480\u001b[0m \u001b[0;34m\u001b[0m\u001b[0m\n",
      "\u001b[0;32m/root/anaconda2/lib/python2.7/site-packages/tensorflow/python/client/session.pyc\u001b[0m in \u001b[0;36mrun\u001b[0;34m(self, fetches, feed_dict, options, run_metadata)\u001b[0m\n\u001b[1;32m    898\u001b[0m     \u001b[0;32mtry\u001b[0m\u001b[0;34m:\u001b[0m\u001b[0;34m\u001b[0m\u001b[0m\n\u001b[1;32m    899\u001b[0m       result = self._run(None, fetches, feed_dict, options_ptr,\n\u001b[0;32m--> 900\u001b[0;31m                          run_metadata_ptr)\n\u001b[0m\u001b[1;32m    901\u001b[0m       \u001b[0;32mif\u001b[0m \u001b[0mrun_metadata\u001b[0m\u001b[0;34m:\u001b[0m\u001b[0;34m\u001b[0m\u001b[0m\n\u001b[1;32m    902\u001b[0m         \u001b[0mproto_data\u001b[0m \u001b[0;34m=\u001b[0m \u001b[0mtf_session\u001b[0m\u001b[0;34m.\u001b[0m\u001b[0mTF_GetBuffer\u001b[0m\u001b[0;34m(\u001b[0m\u001b[0mrun_metadata_ptr\u001b[0m\u001b[0;34m)\u001b[0m\u001b[0;34m\u001b[0m\u001b[0m\n",
      "\u001b[0;32m/root/anaconda2/lib/python2.7/site-packages/tensorflow/python/client/session.pyc\u001b[0m in \u001b[0;36m_run\u001b[0;34m(self, handle, fetches, feed_dict, options, run_metadata)\u001b[0m\n\u001b[1;32m   1133\u001b[0m     \u001b[0;32mif\u001b[0m \u001b[0mfinal_fetches\u001b[0m \u001b[0;32mor\u001b[0m \u001b[0mfinal_targets\u001b[0m \u001b[0;32mor\u001b[0m \u001b[0;34m(\u001b[0m\u001b[0mhandle\u001b[0m \u001b[0;32mand\u001b[0m \u001b[0mfeed_dict_tensor\u001b[0m\u001b[0;34m)\u001b[0m\u001b[0;34m:\u001b[0m\u001b[0;34m\u001b[0m\u001b[0m\n\u001b[1;32m   1134\u001b[0m       results = self._do_run(handle, final_targets, final_fetches,\n\u001b[0;32m-> 1135\u001b[0;31m                              feed_dict_tensor, options, run_metadata)\n\u001b[0m\u001b[1;32m   1136\u001b[0m     \u001b[0;32melse\u001b[0m\u001b[0;34m:\u001b[0m\u001b[0;34m\u001b[0m\u001b[0m\n\u001b[1;32m   1137\u001b[0m       \u001b[0mresults\u001b[0m \u001b[0;34m=\u001b[0m \u001b[0;34m[\u001b[0m\u001b[0;34m]\u001b[0m\u001b[0;34m\u001b[0m\u001b[0m\n",
      "\u001b[0;32m/root/anaconda2/lib/python2.7/site-packages/tensorflow/python/client/session.pyc\u001b[0m in \u001b[0;36m_do_run\u001b[0;34m(self, handle, target_list, fetch_list, feed_dict, options, run_metadata)\u001b[0m\n\u001b[1;32m   1314\u001b[0m     \u001b[0;32mif\u001b[0m \u001b[0mhandle\u001b[0m \u001b[0;32mis\u001b[0m \u001b[0mNone\u001b[0m\u001b[0;34m:\u001b[0m\u001b[0;34m\u001b[0m\u001b[0m\n\u001b[1;32m   1315\u001b[0m       return self._do_call(_run_fn, feeds, fetches, targets, options,\n\u001b[0;32m-> 1316\u001b[0;31m                            run_metadata)\n\u001b[0m\u001b[1;32m   1317\u001b[0m     \u001b[0;32melse\u001b[0m\u001b[0;34m:\u001b[0m\u001b[0;34m\u001b[0m\u001b[0m\n\u001b[1;32m   1318\u001b[0m       \u001b[0;32mreturn\u001b[0m \u001b[0mself\u001b[0m\u001b[0;34m.\u001b[0m\u001b[0m_do_call\u001b[0m\u001b[0;34m(\u001b[0m\u001b[0m_prun_fn\u001b[0m\u001b[0;34m,\u001b[0m \u001b[0mhandle\u001b[0m\u001b[0;34m,\u001b[0m \u001b[0mfeeds\u001b[0m\u001b[0;34m,\u001b[0m \u001b[0mfetches\u001b[0m\u001b[0;34m)\u001b[0m\u001b[0;34m\u001b[0m\u001b[0m\n",
      "\u001b[0;32m/root/anaconda2/lib/python2.7/site-packages/tensorflow/python/client/session.pyc\u001b[0m in \u001b[0;36m_do_call\u001b[0;34m(self, fn, *args)\u001b[0m\n\u001b[1;32m   1320\u001b[0m   \u001b[0;32mdef\u001b[0m \u001b[0m_do_call\u001b[0m\u001b[0;34m(\u001b[0m\u001b[0mself\u001b[0m\u001b[0;34m,\u001b[0m \u001b[0mfn\u001b[0m\u001b[0;34m,\u001b[0m \u001b[0;34m*\u001b[0m\u001b[0margs\u001b[0m\u001b[0;34m)\u001b[0m\u001b[0;34m:\u001b[0m\u001b[0;34m\u001b[0m\u001b[0m\n\u001b[1;32m   1321\u001b[0m     \u001b[0;32mtry\u001b[0m\u001b[0;34m:\u001b[0m\u001b[0;34m\u001b[0m\u001b[0m\n\u001b[0;32m-> 1322\u001b[0;31m       \u001b[0;32mreturn\u001b[0m \u001b[0mfn\u001b[0m\u001b[0;34m(\u001b[0m\u001b[0;34m*\u001b[0m\u001b[0margs\u001b[0m\u001b[0;34m)\u001b[0m\u001b[0;34m\u001b[0m\u001b[0m\n\u001b[0m\u001b[1;32m   1323\u001b[0m     \u001b[0;32mexcept\u001b[0m \u001b[0merrors\u001b[0m\u001b[0;34m.\u001b[0m\u001b[0mOpError\u001b[0m \u001b[0;32mas\u001b[0m \u001b[0me\u001b[0m\u001b[0;34m:\u001b[0m\u001b[0;34m\u001b[0m\u001b[0m\n\u001b[1;32m   1324\u001b[0m       \u001b[0mmessage\u001b[0m \u001b[0;34m=\u001b[0m \u001b[0mcompat\u001b[0m\u001b[0;34m.\u001b[0m\u001b[0mas_text\u001b[0m\u001b[0;34m(\u001b[0m\u001b[0me\u001b[0m\u001b[0;34m.\u001b[0m\u001b[0mmessage\u001b[0m\u001b[0;34m)\u001b[0m\u001b[0;34m\u001b[0m\u001b[0m\n",
      "\u001b[0;32m/root/anaconda2/lib/python2.7/site-packages/tensorflow/python/client/session.pyc\u001b[0m in \u001b[0;36m_run_fn\u001b[0;34m(feed_dict, fetch_list, target_list, options, run_metadata)\u001b[0m\n\u001b[1;32m   1305\u001b[0m       \u001b[0mself\u001b[0m\u001b[0;34m.\u001b[0m\u001b[0m_extend_graph\u001b[0m\u001b[0;34m(\u001b[0m\u001b[0;34m)\u001b[0m\u001b[0;34m\u001b[0m\u001b[0m\n\u001b[1;32m   1306\u001b[0m       return self._call_tf_sessionrun(\n\u001b[0;32m-> 1307\u001b[0;31m           options, feed_dict, fetch_list, target_list, run_metadata)\n\u001b[0m\u001b[1;32m   1308\u001b[0m \u001b[0;34m\u001b[0m\u001b[0m\n\u001b[1;32m   1309\u001b[0m     \u001b[0;32mdef\u001b[0m \u001b[0m_prun_fn\u001b[0m\u001b[0;34m(\u001b[0m\u001b[0mhandle\u001b[0m\u001b[0;34m,\u001b[0m \u001b[0mfeed_dict\u001b[0m\u001b[0;34m,\u001b[0m \u001b[0mfetch_list\u001b[0m\u001b[0;34m)\u001b[0m\u001b[0;34m:\u001b[0m\u001b[0;34m\u001b[0m\u001b[0m\n",
      "\u001b[0;32m/root/anaconda2/lib/python2.7/site-packages/tensorflow/python/client/session.pyc\u001b[0m in \u001b[0;36m_call_tf_sessionrun\u001b[0;34m(self, options, feed_dict, fetch_list, target_list, run_metadata)\u001b[0m\n\u001b[1;32m   1407\u001b[0m       return tf_session.TF_SessionRun_wrapper(\n\u001b[1;32m   1408\u001b[0m           \u001b[0mself\u001b[0m\u001b[0;34m.\u001b[0m\u001b[0m_session\u001b[0m\u001b[0;34m,\u001b[0m \u001b[0moptions\u001b[0m\u001b[0;34m,\u001b[0m \u001b[0mfeed_dict\u001b[0m\u001b[0;34m,\u001b[0m \u001b[0mfetch_list\u001b[0m\u001b[0;34m,\u001b[0m \u001b[0mtarget_list\u001b[0m\u001b[0;34m,\u001b[0m\u001b[0;34m\u001b[0m\u001b[0m\n\u001b[0;32m-> 1409\u001b[0;31m           run_metadata)\n\u001b[0m\u001b[1;32m   1410\u001b[0m     \u001b[0;32melse\u001b[0m\u001b[0;34m:\u001b[0m\u001b[0;34m\u001b[0m\u001b[0m\n\u001b[1;32m   1411\u001b[0m       \u001b[0;32mwith\u001b[0m \u001b[0merrors\u001b[0m\u001b[0;34m.\u001b[0m\u001b[0mraise_exception_on_not_ok_status\u001b[0m\u001b[0;34m(\u001b[0m\u001b[0;34m)\u001b[0m \u001b[0;32mas\u001b[0m \u001b[0mstatus\u001b[0m\u001b[0;34m:\u001b[0m\u001b[0;34m\u001b[0m\u001b[0m\n",
      "\u001b[0;31mKeyboardInterrupt\u001b[0m: "
     ]
    }
   ],
   "source": [
    "# Train model\n",
    "model_glove.fit(X_train, Y_train, nb_epoch=3, validation_data=(X_test, Y_test))"
   ]
  },
  {
   "cell_type": "code",
   "execution_count": 70,
   "metadata": {},
   "outputs": [
    {
     "name": "stdout",
     "output_type": "stream",
     "text": [
      "read data\n",
      "finished reading\n"
     ]
    }
   ],
   "source": [
    "print(\"read data\")\n",
    "test_df=pd.read_csv('rdc-catalog-test.tsv',delimiter='\\t',header=None,encoding='utf-8')\n",
    "print(\"finished reading\")\n",
    "test_df.columns = ['Title','label']"
   ]
  },
  {
   "cell_type": "code",
   "execution_count": 71,
   "metadata": {},
   "outputs": [
    {
     "data": {
      "text/html": [
       "<div>\n",
       "<style scoped>\n",
       "    .dataframe tbody tr th:only-of-type {\n",
       "        vertical-align: middle;\n",
       "    }\n",
       "\n",
       "    .dataframe tbody tr th {\n",
       "        vertical-align: top;\n",
       "    }\n",
       "\n",
       "    .dataframe thead th {\n",
       "        text-align: right;\n",
       "    }\n",
       "</style>\n",
       "<table border=\"1\" class=\"dataframe\">\n",
       "  <thead>\n",
       "    <tr style=\"text-align: right;\">\n",
       "      <th></th>\n",
       "      <th>Title</th>\n",
       "      <th>label</th>\n",
       "    </tr>\n",
       "  </thead>\n",
       "  <tbody>\n",
       "    <tr>\n",
       "      <th>0</th>\n",
       "      <td>Title</td>\n",
       "      <td>CategoryIdPath</td>\n",
       "    </tr>\n",
       "    <tr>\n",
       "      <th>1</th>\n",
       "      <td>Sterling Silver Dangle Ball Earrings w/ Brilli...</td>\n",
       "      <td>1608&gt;2320&gt;2173&gt;3813</td>\n",
       "    </tr>\n",
       "    <tr>\n",
       "      <th>2</th>\n",
       "      <td>ALTERNATOR FREIGHTLINER FL FLC 112 120 FLD 112...</td>\n",
       "      <td>2199&gt;4592&gt;12</td>\n",
       "    </tr>\n",
       "    <tr>\n",
       "      <th>3</th>\n",
       "      <td>Disc Brake Rotor-Advanced Technology Rear Rayb...</td>\n",
       "      <td>2199&gt;4592&gt;12</td>\n",
       "    </tr>\n",
       "    <tr>\n",
       "      <th>4</th>\n",
       "      <td>Coquette Neon Pink Ruffle Babydoll 7035 Neon P...</td>\n",
       "      <td>1608&gt;4269&gt;3031&gt;1221</td>\n",
       "    </tr>\n",
       "  </tbody>\n",
       "</table>\n",
       "</div>"
      ],
      "text/plain": [
       "                                               Title                label\n",
       "0                                              Title       CategoryIdPath\n",
       "1  Sterling Silver Dangle Ball Earrings w/ Brilli...  1608>2320>2173>3813\n",
       "2  ALTERNATOR FREIGHTLINER FL FLC 112 120 FLD 112...         2199>4592>12\n",
       "3  Disc Brake Rotor-Advanced Technology Rear Rayb...         2199>4592>12\n",
       "4  Coquette Neon Pink Ruffle Babydoll 7035 Neon P...  1608>4269>3031>1221"
      ]
     },
     "execution_count": 71,
     "metadata": {},
     "output_type": "execute_result"
    }
   ],
   "source": [
    "test_df.head()"
   ]
  },
  {
   "cell_type": "code",
   "execution_count": 75,
   "metadata": {
    "collapsed": true
   },
   "outputs": [],
   "source": [
    "elem= np.array(test_df['Title'])[1]"
   ]
  },
  {
   "cell_type": "code",
   "execution_count": 76,
   "metadata": {},
   "outputs": [
    {
     "data": {
      "text/plain": [
       "u'Sterling Silver Dangle Ball Earrings w/ Brilliant Cut CZ Stones & Yellow Topaz-colored Crystal Balls, 1\" (26 mm) tall'"
      ]
     },
     "execution_count": 76,
     "metadata": {},
     "output_type": "execute_result"
    }
   ],
   "source": [
    "elem"
   ]
  },
  {
   "cell_type": "code",
   "execution_count": 85,
   "metadata": {
    "collapsed": true
   },
   "outputs": [],
   "source": [
    "#tokenizer = Tokenizer(num_words= vocabulary_size)\n",
    "#tokenizer.fit_on_texts(elem)\n",
    "\n",
    "sequences = tokenizer.texts_to_sequences(test_df['Title'])\n",
    "token_elem = pad_sequences(sequences, maxlen=50)"
   ]
  },
  {
   "cell_type": "code",
   "execution_count": 86,
   "metadata": {},
   "outputs": [
    {
     "data": {
      "text/plain": [
       "(200001, 50)"
      ]
     },
     "execution_count": 86,
     "metadata": {},
     "output_type": "execute_result"
    }
   ],
   "source": [
    "token_elem.shape"
   ]
  },
  {
   "cell_type": "code",
   "execution_count": 83,
   "metadata": {},
   "outputs": [
    {
     "data": {
      "text/plain": [
       "{u'6007200': 161449,\n",
       " u'mdbc': 321592,\n",
       " u'dv6912tx': 145071,\n",
       " u'woodi': 6911,\n",
       " u'gw166': 313807,\n",
       " u'0t557c': 407344,\n",
       " u'mp36t': 362587,\n",
       " u'89371': 248130,\n",
       " u'89374': 127658,\n",
       " u'paizo': 62444,\n",
       " u'st500lt025': 132619,\n",
       " u'ca15g9': 367286,\n",
       " u'calvecin': 198964,\n",
       " u'ysb12': 148546,\n",
       " u'5989': 56093,\n",
       " u'gam162': 190946,\n",
       " u'unigvp': 211940,\n",
       " u'5982': 300126,\n",
       " u'5983': 110134,\n",
       " u'12kpag': 187786,\n",
       " u'5981': 63288,\n",
       " u'stimulskin': 42473,\n",
       " u'aleeqa42me10a': 81215,\n",
       " u'mp180': 48359,\n",
       " u'15blk': 136199,\n",
       " u'propolymax': 328714,\n",
       " u'4134632': 194780,\n",
       " u'1d46dx': 341888,\n",
       " u'w0s23ut': 262987,\n",
       " u'10659207992': 204314,\n",
       " u'pigment': 5197,\n",
       " u'mdb4': 341103,\n",
       " u'218136': 230595,\n",
       " u'pu102882008': 327459,\n",
       " u'pd600401': 144577,\n",
       " u'48tjd0161a0': 284722,\n",
       " u'weeli': 212846,\n",
       " u'fz160e': 60335,\n",
       " u'flor00023': 299235,\n",
       " u'wooden': 1094,\n",
       " u'gencov': 362645,\n",
       " u'598p': 206661,\n",
       " u'durable3pc': 227851,\n",
       " u'shchedrin': 70287,\n",
       " u'n211nr': 124839,\n",
       " u'11400710': 130430,\n",
       " u'sv2zomxl': 405885,\n",
       " u'woodez': 44495,\n",
       " u'convi': 65607,\n",
       " u'fj90ps': 108274,\n",
       " u'843m06850': 205941,\n",
       " u'gd775': 255466,\n",
       " u'gd776': 70638,\n",
       " u'5040362': 127640,\n",
       " u'murumuru': 44100,\n",
       " u'4pcsfor': 382828,\n",
       " u'snuggler': 31349,\n",
       " u'laserpr': 212755,\n",
       " u'088465': 269807,\n",
       " u'm2251au': 332708,\n",
       " u'695w': 391049,\n",
       " u'16708': 275327,\n",
       " u'bbqd': 151215,\n",
       " u'16705': 97631,\n",
       " u'rg58cu': 411294,\n",
       " u'16707': 87110,\n",
       " u'16701': 289414,\n",
       " u'48sx036120620': 54468,\n",
       " u'fe48g': 324299,\n",
       " u'12210b': 171142,\n",
       " u'fe48c': 404504,\n",
       " u'3031et': 167925,\n",
       " u'pd2010': 242341,\n",
       " u'mdp2vgaw': 230677,\n",
       " u'119865': 112893,\n",
       " u'mdp2vgab': 119112,\n",
       " u'san1927526': 340383,\n",
       " u'10inhx8inwx4': 381049,\n",
       " u'1670n': 59388,\n",
       " u'3a41x50': 376817,\n",
       " u'my9095': 152020,\n",
       " u'tk3107': 141443,\n",
       " u'1670f': 115011,\n",
       " u'bjpr2u24t': 408332,\n",
       " u'nl166': 132112,\n",
       " u'tk3102': 81038,\n",
       " u'4x30pincbl3ft': 196859,\n",
       " u'dieffenbachia': 47476,\n",
       " u'cmfsl3x1': 77447,\n",
       " u'15blu': 283337,\n",
       " u'earthchef': 60860,\n",
       " u'11986b': 402550,\n",
       " u'zippeez': 370966,\n",
       " u'snoway': 242408,\n",
       " u'25376134401': 135679,\n",
       " u'5980': 251454,\n",
       " u'df305': 122606,\n",
       " u'dah472': 141858,\n",
       " u'gainsbourg': 97823,\n",
       " u'tc100c': 217195,\n",
       " u'cw2011': 177173,\n",
       " u'berlena': 405526,\n",
       " u'5987': 122892,\n",
       " u'48hjf012160': 358208,\n",
       " u'1758501': 376016,\n",
       " u'410183n': 355756,\n",
       " u'kpm10b': 345620,\n",
       " u'achla': 9476,\n",
       " u'160252': 410457,\n",
       " u'smokedge09': 372154,\n",
       " u'dne': 207953,\n",
       " u'719202': 345763,\n",
       " u'agassi': 402049,\n",
       " u'dnf': 249710,\n",
       " u'dna': 4480,\n",
       " u'tc100d': 283265,\n",
       " u'dnb': 42532,\n",
       " u'dnm': 28764,\n",
       " u'4l3z13200aa': 123097,\n",
       " u'dni': 57322,\n",
       " u'exview': 319496,\n",
       " u'dnj': 38440,\n",
       " u'320500': 160921,\n",
       " u'dnw': 153304,\n",
       " u'dnp': 50876,\n",
       " u'my2j': 115621,\n",
       " u'dnr': 18798,\n",
       " u'alekehr18': 401714,\n",
       " u'124pf': 341660,\n",
       " u'fertilom': 292320,\n",
       " u'benedikt': 243098,\n",
       " u'expeditionari': 58114,\n",
       " u'1600gl076': 248646,\n",
       " u'mpd3000blu': 76381,\n",
       " u'324ec': 235400,\n",
       " u'163500': 321784,\n",
       " u'52bra212703aa': 96271,\n",
       " u'4200dn': 109276,\n",
       " u'513059': 367143,\n",
       " u'ctlrchannel': 193766,\n",
       " u'mmis4615': 367313,\n",
       " u'pds20sfsblss': 373959,\n",
       " u'ring841665': 131983,\n",
       " u'r8851115001': 148000,\n",
       " u'02xa04151s001gn': 172462,\n",
       " u'usbp757321': 163986,\n",
       " u'dancla': 382771,\n",
       " u'dn5': 154113,\n",
       " u'eh319ust': 84547,\n",
       " u'dn1': 359456,\n",
       " u'ocillom': 244640,\n",
       " u'whncmd3320sg': 408468,\n",
       " u'dn8': 179456,\n",
       " u'780305': 113500,\n",
       " u'1si40p': 145630,\n",
       " u'50qq036560': 213844,\n",
       " u'smart1500rmxl2u': 102971,\n",
       " u'cde250': 278306,\n",
       " u'g185': 404095,\n",
       " u'024543878490': 147742,\n",
       " u'sgw300h': 119223,\n",
       " u'bf4m2012c': 220479,\n",
       " u'donrus': 201414,\n",
       " u'drainbo': 64073,\n",
       " u'w725w': 284363,\n",
       " u'32j153': 319755,\n",
       " u'newport6pc': 151589,\n",
       " u'32j156': 255491,\n",
       " u'lcd56md': 385644,\n",
       " u'd303040bn': 192971,\n",
       " u'gl350': 80115,\n",
       " u'iicon': 407987,\n",
       " u'lb91s': 408169,\n",
       " u'pd599083': 326030,\n",
       " u'sr10769': 398033,\n",
       " u'693469': 332530,\n",
       " u'sakmax33722b': 313978,\n",
       " u'krait': 58729,\n",
       " u'win10hom': 82436,\n",
       " u'52lcx15b': 188535,\n",
       " u'g6680': 147670,\n",
       " u'mk80527': 276139,\n",
       " u'pd607124': 184299,\n",
       " u'uni16uf': 297268,\n",
       " u'yfm90': 356162,\n",
       " u'barbra': 35556,\n",
       " u'goober': 187261,\n",
       " u'9001k2l38lggh13': 272703,\n",
       " u'ecoepbhc12wa': 138973,\n",
       " u'balada': 315366,\n",
       " u'plcxc10': 230743,\n",
       " u'wristlet': 10788,\n",
       " u'fimbriata': 74168,\n",
       " u'a53657fz': 393908,\n",
       " u'virago': 10564,\n",
       " u'3l120': 324158,\n",
       " u'151hx': 163543,\n",
       " u'vpcca2s1': 57460,\n",
       " u'strikedr': 368319,\n",
       " u'breathabl': 5908,\n",
       " u'fnx40': 168730,\n",
       " u'dpm8900': 338653,\n",
       " u'e6ef': 74726,\n",
       " u'fb4asx036000aeaa': 207797,\n",
       " u'1lpy3': 227396,\n",
       " u'marquett': 10806,\n",
       " u'mb2570102': 111514,\n",
       " u'mb2570104': 350690,\n",
       " u'cc17011': 166891,\n",
       " u'chandon': 308245,\n",
       " u'a3it': 77609,\n",
       " u'dermeceut': 200579,\n",
       " u'c303xci': 276501,\n",
       " u'cb760p40': 331768,\n",
       " u'nryv6093': 268024,\n",
       " u'notepack': 237416,\n",
       " u'xt600tc': 296481,\n",
       " u'tsm54': 193989,\n",
       " u'5362704': 288679,\n",
       " u'190839184139': 247070,\n",
       " u'4rjp1': 246732,\n",
       " u'alusilv': 219602,\n",
       " u'fir': 7453,\n",
       " u'fis': 20225,\n",
       " u'fip': 9049,\n",
       " u'fiv': 297001,\n",
       " u'hon1895co': 173866,\n",
       " u'fit': 61,\n",
       " u'fiu': 98268,\n",
       " u'fix': 1196,\n",
       " u'muh0521': 181917,\n",
       " u'fib': 24912,\n",
       " u'gc190la': 68482,\n",
       " u'fia': 9728,\n",
       " u'fif': 287222,\n",
       " u'fig': 12270,\n",
       " u'fid': 57231,\n",
       " u'fie': 75464,\n",
       " u'ring824502': 405288,\n",
       " u'fin': 3748,\n",
       " u'fio': 72673,\n",
       " u'fil': 22473,\n",
       " u'fim': 53245,\n",
       " u'66252837839': 325603,\n",
       " u'0312001': 271759,\n",
       " u'ferahan': 151086,\n",
       " u'78x78': 162358,\n",
       " u'windsoft': 39404,\n",
       " u'581apv036074aa': 122574,\n",
       " u'jugendstil': 245442,\n",
       " u'fi3': 401966,\n",
       " u'd56lv': 181298,\n",
       " u'fi1': 246913,\n",
       " u'flor00022': 346884,\n",
       " u'26565': 119835,\n",
       " u'26563': 279871,\n",
       " u'26560': 115371,\n",
       " u'26561': 150868,\n",
       " u'35wc84': 160502,\n",
       " u'axg11690699': 387577,\n",
       " u'us919sb': 218678,\n",
       " u'tpm97a': 311460,\n",
       " u'p1255655r': 102432,\n",
       " u'pm1115uw': 196229,\n",
       " u'650938': 162637,\n",
       " u'08834149833': 222262,\n",
       " u'syb': 44034,\n",
       " u'z5129': 403088,\n",
       " u'150164': 29829,\n",
       " u'59733': 405018,\n",
       " u'gn32401': 337231,\n",
       " u'tcbt': 180822,\n",
       " u'w057n': 157320,\n",
       " u'kowa': 97982,\n",
       " u'log910002225': 179961,\n",
       " u'2wolfmoon': 315428,\n",
       " u'r121r3pu': 318295,\n",
       " u'10465211': 165388,\n",
       " u'syf': 22861,\n",
       " u'a211sd': 263396,\n",
       " u'mes3600': 298724,\n",
       " u'sv710': 202206,\n",
       " u'syd': 91821,\n",
       " u'sv715': 269245,\n",
       " u'1575cpa10': 326510,\n",
       " u'165x28x28mm': 266267,\n",
       " u'7x6in': 174373,\n",
       " u't905372': 332054,\n",
       " u'3ra23178xb301bb4': 320716,\n",
       " u'2108200821': 350689,\n",
       " u'888365541525': 396173,\n",
       " u'abbott': 14549,\n",
       " u'scatheus': 340699,\n",
       " u'pkz4625': 396997,\n",
       " u'193463gs': 405149,\n",
       " u'mj175': 254307,\n",
       " u'fc8240': 44941,\n",
       " u'6a137': 132824,\n",
       " u'2542720': 186514,\n",
       " u'berwick': 24809,\n",
       " u'dvp10351bn': 145970,\n",
       " u'eazyspeak': 136532,\n",
       " u'38ckc048660': 343392,\n",
       " u'1163270191c': 92172,\n",
       " u'97157': 147564,\n",
       " u'sutw403': 350936,\n",
       " u'48hjf012640': 354215,\n",
       " u'b27cl': 187323,\n",
       " u'clinomt': 358150,\n",
       " u'6c64nr': 117288,\n",
       " u'ctrd6025': 357506,\n",
       " u'ewt932bl': 129285,\n",
       " u'verasflo': 305758,\n",
       " u'25hbr348g0051010': 348363,\n",
       " u'38389': 140103,\n",
       " u'glossifi': 65467,\n",
       " u'tumer': 44281,\n",
       " u'abranet': 33048,\n",
       " u'kayleen': 169725,\n",
       " u'bbdj8079': 191355,\n",
       " u'ring857083': 296919,\n",
       " u'740265602419': 239993,\n",
       " u'70x33mm': 153851,\n",
       " u'140751218': 166645,\n",
       " u'23308256': 211993,\n",
       " u'6ed2fhgxsq02': 250718,\n",
       " u'2ufv1': 134162,\n",
       " u'13bd': 135275,\n",
       " u'13bk': 372760,\n",
       " u'd5500': 12214,\n",
       " u'd5505': 100577,\n",
       " u'pct23mgpcbb': 355770,\n",
       " u'68234101aa': 241075,\n",
       " u'688zz': 408628,\n",
       " u'a24ld': 362205,\n",
       " u'kg5497': 406205,\n",
       " u'm0t60781': 320540,\n",
       " u'w9000': 73329,\n",
       " u'15ivld2780': 369112,\n",
       " u'343278': 197796,\n",
       " u'dc468a': 384143,\n",
       " u'66261119270': 174748,\n",
       " u'33feet': 305966,\n",
       " u'48lh006580': 103948,\n",
       " u'5607': 366701,\n",
       " u'1778081': 133832,\n",
       " u'fa4bnc024010aaaa': 355160,\n",
       " u'j880dw': 228905,\n",
       " u'21516': 358933,\n",
       " u'1050slt': 191626,\n",
       " u'navplus28xg': 305646,\n",
       " u'ms355r': 310901,\n",
       " u'rehargebal': 182390,\n",
       " u'kkmf1': 48689,\n",
       " u'ep2212160': 270807,\n",
       " u'd550m': 262529,\n",
       " u'd550c': 262531,\n",
       " u'viscer': 186688,\n",
       " u'san1823887': 338577,\n",
       " u's3042k': 326541,\n",
       " u'15709': 116481,\n",
       " u'nv4430c': 374146,\n",
       " u'6zgt8': 134249,\n",
       " u'safetyhub': 281873,\n",
       " u'crownseal': 355370,\n",
       " u'15702': 269138,\n",
       " u'fuert': 314551,\n",
       " u'15707': 408722,\n",
       " u'gui140d35a': 66874,\n",
       " u'5017wnd': 138023,\n",
       " u'birght': 138769,\n",
       " u'l511a': 75493,\n",
       " u'24144': 192395,\n",
       " u'36ind': 247295,\n",
       " u'p024tx': 358327,\n",
       " u'p6880006c': 82357,\n",
       " u'239542': 273101,\n",
       " u'rhca': 230427,\n",
       " u'36inl': 80021,\n",
       " u'36inw': 26536,\n",
       " u'l511u': 152030,\n",
       " u'bsx1440065': 399024,\n",
       " u'45th': 20059,\n",
       " u'dv2902tx': 130200,\n",
       " u'537rt': 360611,\n",
       " u'1570s': 322094,\n",
       " u'kz1300': 98104,\n",
       " u'45tf': 286716,\n",
       " u'p075tx': 348656,\n",
       " u'11846': 337501,\n",
       " u'411143n': 251780,\n",
       " u'pr981ea': 197132,\n",
       " u'6mk76': 133396,\n",
       " u'lt3103': 188941,\n",
       " u'ed5vhexsq00': 81157,\n",
       " u'ksrg22fkwh18': 323398,\n",
       " u'ksrg22fkwh19': 247975,\n",
       " u'2414u': 299982,\n",
       " u'sucter': 342214,\n",
       " u'maji': 35565,\n",
       " u'huyett': 37335,\n",
       " u'ab90t': 184869,\n",
       " u'maja': 38474,\n",
       " u'pk0903': 174171,\n",
       " u'l5110': 112786,\n",
       " u'8compx3': 111770,\n",
       " u'8compx1': 141738,\n",
       " u'lexc792x1yg': 339353,\n",
       " u'hiatt': 78287,\n",
       " u'57y6415': 358171,\n",
       " u'morawetz': 222126,\n",
       " u'surt1000xlich': 63138,\n",
       " u'157240': 127261,\n",
       " u'samsungtw': 289560,\n",
       " u'8mmx10mmx30mm': 392466,\n",
       " u'dickey': 56401,\n",
       " u'44707': 67934,\n",
       " u'sl4610': 79807,\n",
       " u'512co': 27121,\n",
       " u'gillham': 88166,\n",
       " u'sl4615': 175769,\n",
       " u'dicken': 36605,\n",
       " u'otello': 125458,\n",
       " u'i1700': 79832,\n",
       " u'91039va130': 213935,\n",
       " u'bczk343105': 405566,\n",
       " u'rectagular': 339548,\n",
       " u'10465463': 133945,\n",
       " u'apach': 10438,\n",
       " u'restaur': 2575,\n",
       " u'rh758vxk4': 316106,\n",
       " u'rh758vxk1': 399690,\n",
       " u'rh758vxk2': 355104,\n",
       " u'rh758vxk3': 337177,\n",
       " u'xlvii': 83724,\n",
       " u'tiaert': 160768,\n",
       " u'sun445m': 343736,\n",
       " u'mmmmpd720gg': 261260,\n",
       " u'3013cl': 117871,\n",
       " u'e8nn7550ba': 261128,\n",
       " u'tnc101usb': 226910,\n",
       " u'42d0417': 143764,\n",
       " u'maxnot': 349851,\n",
       " u'2810031100': 123544,\n",
       " u'2810031101': 123545,\n",
       " u'58ed100140ba': 71614,\n",
       " u'22739727': 263297,\n",
       " u'11638109890': 48701,\n",
       " u's9065': 95701,\n",
       " u's9064': 113788,\n",
       " u's9062': 408788,\n",
       " u'50qq024370': 339486,\n",
       " u'usbp189375': 153162,\n",
       " u'fs21132c': 113195,\n",
       " u'pa1615': 392113,\n",
       " u'usbp184960': 363282,\n",
       " u'ed5lhaxmb00': 258935,\n",
       " u'80m120mm': 299921,\n",
       " u'conant': 113351,\n",
       " u'lt30lp': 136462,\n",
       " u'frontboard': 395030,\n",
       " u'futm4512': 236976,\n",
       " u'geha': 17443,\n",
       " u'23266': 387105,\n",
       " u'230718': 316310,\n",
       " u'presstex': 22329,\n",
       " u'2c4666020': 180840,\n",
       " u'rav8791': 315762,\n",
       " u'cme7218pi': 317282,\n",
       " u'132668': 257447,\n",
       " u'23269': 293027,\n",
       " u'eli75431': 342693,\n",
       " u'eli75430': 396912,\n",
       " u'eli75432': 403598,\n",
       " u'6alp5': 381833,\n",
       " u'gpcm36k080d': 324607,\n",
       " u'gpcm36k080e': 182599,\n",
       " u'adavanc': 153051,\n",
       " u'p6983133f': 407155,\n",
       " u'e0483': 192572,\n",
       " u'wage': 25160,\n",
       " u'2326d': 189168,\n",
       " u'g5618523': 335188,\n",
       " u'8156189166': 119311,\n",
       " u'gcea': 344282,\n",
       " u'cduc': 112101,\n",
       " u'p002nl': 210287,\n",
       " u'fd32gatt03': 136455,\n",
       " u'a50fblclc10': 260094,\n",
       " u'manlon': 171108,\n",
       " u'werp3101sq1': 200862,\n",
       " u'dl1580': 141720,\n",
       " u'el22ct50f': 268880,\n",
       " u'ascc9274': 140098,\n",
       " u'9488g': 200271,\n",
       " u'395cav060135ahja': 273607,\n",
       " u'dwh053k': 328776,\n",
       " u'corvair': 81071,\n",
       " u'7x57': 209395,\n",
       " u'065mm': 38609,\n",
       " u'u43580': 132923,\n",
       " u'meowica': 33596,\n",
       " u'bat603': 103442,\n",
       " u'sh18': 263699,\n",
       " u'lanett': 48495,\n",
       " u'usbp487942': 275221,\n",
       " u'finsburt': 290742,\n",
       " u'8e0121251a': 323394,\n",
       " u'nanguang': 383873,\n",
       " u'ring868298': 369166,\n",
       " u'ring868297': 393278,\n",
       " u't8dnl100f14b1': 378195,\n",
       " u'ring868294': 295144,\n",
       " u'ejbl': 52271,\n",
       " u'pd615579': 134101,\n",
       " u'szp05015': 140276,\n",
       " u'16pin': 42337,\n",
       " u'2npt': 99119,\n",
       " u'ptfpcb': 320417,\n",
       " u'61995a': 281064,\n",
       " u'baloon': 408611,\n",
       " u'b226wl': 263705,\n",
       " u'arkin': 109920,\n",
       " u'3132874r94': 317944,\n",
       " u'kindorf': 67287,\n",
       " u'boardroom': 185094,\n",
       " u'gm9s100c16up11': 234313,\n",
       " u'251009sw02bxll15': 286039,\n",
       " u'ct014': 358245,\n",
       " u'13th': 14100,\n",
       " u'tx1360er': 104329,\n",
       " u'havanais': 404360,\n",
       " u'67y2613': 156997,\n",
       " u'ks999cspf': 179654,\n",
       " u'79558812900': 223669,\n",
       " u'32627': 405124,\n",
       " u'9j7': 143029,\n",
       " u'mx8556f': 399942,\n",
       " u'190839168672': 309768,\n",
       " u'majic': 302322,\n",
       " u'majin': 145522,\n",
       " u's260': 301435,\n",
       " u's262': 85051,\n",
       " u's267': 128897,\n",
       " u'deec7704': 165920,\n",
       " u'4513sl01': 382284,\n",
       " u'landsnak': 183673,\n",
       " u'zeo1': 404272,\n",
       " u'b8u90ut': 119902,\n",
       " u'c3419': 312884,\n",
       " u'25376134403': 321535,\n",
       " u'c3410': 264316,\n",
       " u'usbp826085': 111742,\n",
       " u'12x26oz': 149543,\n",
       " u'38564': 193252,\n",
       " u'2hand': 116593,\n",
       " u'4lce': 163323,\n",
       " u'8565i': 279831,\n",
       " u'v1ms03a': 280963,\n",
       " u'4lcc': 226308,\n",
       " u'zeon': 57007,\n",
       " u'01nh': 130537,\n",
       " u'el24fx': 67626,\n",
       " u'campact': 388254,\n",
       " u'el4100': 118518,\n",
       " u'697hnx024000aaaa': 112234,\n",
       " u'20tm64': 296416,\n",
       " u'61463685465': 398946,\n",
       " u'microquat': 399248,\n",
       " u'0120339513': 54413,\n",
       " u'75in': 4861,\n",
       " u't94t01d': 289998,\n",
       " u'ring827674': 247373,\n",
       " u'175242': 101360,\n",
       " u'c62bb': 212540,\n",
       " u'ring827671': 383713,\n",
       " u'cetol': 408221,\n",
       " u'xnb4ms': 85984,\n",
       " u'f2330ub38102z0602': 379892,\n",
       " u'mentora': 292651,\n",
       " u'wl565': 269855,\n",
       " u'3230cp': 171359,\n",
       " u'iso2': 158749,\n",
       " u'u07845': 63829,\n",
       " u'u07840': 18320,\n",
       " u'alloraa': 239305,\n",
       " u'dms531': 147253,\n",
       " u'lb11571g': 225421,\n",
       " u'braya': 225032,\n",
       " u'godlik': 58866,\n",
       " u'693711': 293872,\n",
       " u'48djd007510': 100302,\n",
       " u'693715': 278632,\n",
       " u'xh525': 374359,\n",
       " u'scherzando': 130231,\n",
       " u'c3960a': 85107,\n",
       " u'zapworld': 52467,\n",
       " u'25010569': 225754,\n",
       " u'pathstar': 37920,\n",
       " u'803250': 184777,\n",
       " u'zrx1200r': 48641,\n",
       " u'ultrawid': 28868,\n",
       " u'cubex': 365407,\n",
       " u'lex60f1h00': 356487,\n",
       " u'mev460': 235139,\n",
       " u'001799': 225686,\n",
       " u'dinotrux': 42891,\n",
       " u'850612001731': 283738,\n",
       " u'031857495626': 182116,\n",
       " u'21020103': 371320,\n",
       " u'50f1u00': 296389,\n",
       " u'90000001617': 188882,\n",
       " u'v6129tu': 352538,\n",
       " u'13v424': 385864,\n",
       " u'13v429': 247718,\n",
       " u'usbp507033': 91978,\n",
       " u'1klt8': 263241,\n",
       " u't2p528': 375640,\n",
       " u'dz1674': 219879,\n",
       " u'ed5ghexnq': 369426,\n",
       " u't2p521': 223412,\n",
       " u'801001bk': 193456,\n",
       " u'wrs537siaw00': 367781,\n",
       " u'c413a': 71703,\n",
       " u'lockdown': 44697,\n",
       " u'frup': 275312,\n",
       " u'19mmx16mm': 316636,\n",
       " u'bpctc25': 271291,\n",
       " u'usbp279571': 391720,\n",
       " u'xtx5017': 385657,\n",
       " u'4pgh9': 189961,\n",
       " u'a3326': 187619,\n",
       " u's5br': 367990,\n",
       " u'solid14k': 312554,\n",
       " u'sensorsaf': 193801,\n",
       " u'kcc01804': 410920,\n",
       " u'ptsa': 377191,\n",
       " u'300par56': 160651,\n",
       " u'teaport': 176687,\n",
       " u'5msel4n': 270308,\n",
       " u'eli70331': 374691,\n",
       " u'n3160': 117238,\n",
       " u'blackmt645': 189691,\n",
       " u'protoman': 264744,\n",
       " u'xl888': 55515,\n",
       " u'120621': 191690,\n",
       " u'120624': 292526,\n",
       " u'algenist': 27222,\n",
       " u'ch7536qka2': 270826,\n",
       " u'67mmx19mmx6mm': 170756,\n",
       " u'hmt351s6cfr8c': 143122,\n",
       " u'53114102': 304397,\n",
       " u'honeymoon': 25303,\n",
       " u'10993wsrc': 301045,\n",
       " u'apron302010': 135047,\n",
       " u'xl883': 122954,\n",
       " u'ab224bwlbg1': 279256,\n",
       " u'takealong': 131027,\n",
       " u'b025sc': 183602,\n",
       " u'b28127': 148489,\n",
       " u'wlxg42red1': 87882,\n",
       " u'dns': 270314,\n",
       " u'wlxg42red3': 322606,\n",
       " u'13002108k': 263919,\n",
       " u'me370t': 236395,\n",
       " u'rb12v6': 48904,\n",
       " u'thesaurus': 72583,\n",
       " u'f6c1200': 59761,\n",
       " u'he554596': 324149,\n",
       " u'atm30a': 326061,\n",
       " u'tmdf706zd1': 367704,\n",
       " u'66252809618': 257986,\n",
       " u'h621466': 263915,\n",
       " u'2231': 324415,\n",
       " u'256u512d': 55016,\n",
       " u'2233': 367776,\n",
       " u'422256': 351630,\n",
       " u'192056': 360436,\n",
       " u'20868': 404841,\n",
       " u'tlpk440bs': 268293,\n",
       " u'switronix': 37330,\n",
       " u'20861': 150311,\n",
       " u'20863': 203754,\n",
       " u'192050': 84295,\n",
       " u'ls650': 41742,\n",
       " u'19x26': 154220,\n",
       " u'19x21': 169815,\n",
       " u'19x22': 312020,\n",
       " u'pra2200': 202670,\n",
       " u'elr14104p7x12': 36846,\n",
       " u'19x29': 236240,\n",
       " u'260313': 320376,\n",
       " u'16114': 350132,\n",
       " u'10230703lk': 224876,\n",
       " u'wok208v': 231855,\n",
       " u'373lav060135gcja': 371534,\n",
       " u'16116': 254959,\n",
       " u'2016009003x60': 363112,\n",
       " u'ave11991': 383705,\n",
       " u'e240k60': 406591,\n",
       " u'7012mrg': 233086,\n",
       " u'd301057': 279237,\n",
       " u'22gb01ct': 235075,\n",
       " u'16111': 58003,\n",
       " u'469992': 368488,\n",
       " u'sj3526n': 58540,\n",
       " u'h158': 242043,\n",
       " u'sl038': 231732,\n",
       " u'sl033': 144661,\n",
       " u'stitcheri': 359815,\n",
       " u'hl125': 294038,\n",
       " u'larp': 32910,\n",
       " u'palma': 35965,\n",
       " u'palmo': 339977,\n",
       " u'dmls6703': 275665,\n",
       " u'borla': 11432,\n",
       " u'0120400680': 252811,\n",
       " u'8x12x10': 320692,\n",
       " u'lart': 378739,\n",
       " u'f034nf': 352072,\n",
       " u'valleyc': 319939,\n",
       " u'slasur': 10908,\n",
       " u'240ewwb': 233369,\n",
       " u'176180': 399947,\n",
       " u'jb500g': 91355,\n",
       " u'0124525109': 122743,\n",
       " u'usbp851555': 257897,\n",
       " u'estes2': 269173,\n",
       " u'chain': 426,\n",
       " u'16a050': 331231,\n",
       " u'ad68bs200': 244282,\n",
       " u'ralyn': 210480,\n",
       " u'eb1214': 55504,\n",
       " u'v2621': 245450,\n",
       " u'8077000': 195859,\n",
       " u'chair': 178,\n",
       " u'chais': 5419,\n",
       " u'rss8ecc': 372715,\n",
       " u'machu': 116298,\n",
       " u'ballet': 2721,\n",
       " u'baller': 24197,\n",
       " u'grappler': 51427,\n",
       " u'teehe': 12215,\n",
       " u'n395e': 229976,\n",
       " u'mmfan': 341667,\n",
       " u'rangefind': 17597,\n",
       " u'60mmx28mmx15mm': 109132,\n",
       " u'st220': 192966,\n",
       " u'gsh25kgmdbb': 202738,\n",
       " u'macha': 245409,\n",
       " u'61060f': 124493,\n",
       " u'st225': 53685,\n",
       " u'macho': 36557,\n",
       " u'a0008': 324437,\n",
       " u'gss26c4xxb03': 81719,\n",
       " u'mfd2561heq14': 129485,\n",
       " u'3021367': 117014,\n",
       " u'jeri': 77486,\n",
       " u'exacm': 394100,\n",
       " u'jerk': 25820,\n",
       " u'exaco': 48238,\n",
       " u'jere': 375163,\n",
       " u'ring837664': 356205,\n",
       " u'fs745p': 215388,\n",
       " u'288184': 105509,\n",
       " u'8414790': 381329,\n",
       " u'chai3': 310103,\n",
       " u'exact': 4700,\n",
       " u'0658397': 142101,\n",
       " u'19g966': 206657,\n",
       " u'6260fd': 106766,\n",
       " u'ft0392': 77995,\n",
       " u'mach3': 47021,\n",
       " u'mt250': 85270,\n",
       " u'winehous': 68441,\n",
       " u'6260fw': 117273,\n",
       " u'700tdalvpmcob': 152388,\n",
       " u'349haz048100aaja': 277285,\n",
       " u'ks8792cql': 222007,\n",
       " u'tacm0010': 325292,\n",
       " u'pp33l': 45714,\n",
       " u'organon': 111649,\n",
       " u'moducar': 383048,\n",
       " u'sfbkwe1630': 295650,\n",
       " u'xtraguard': 346606,\n",
       " u's4487': 40137,\n",
       " u's4482': 151706,\n",
       " u'trisha': 97947,\n",
       " u'slb133': 122899,\n",
       " u'ux7810': 322683,\n",
       " u's4488': 68273,\n",
       " u'28409': 385942,\n",
       " u'79720': 87626,\n",
       " u'corazon': 41489,\n",
       " u'52002001': 358814,\n",
       " u'tss847': 95745,\n",
       " u'28401': 154900,\n",
       " u'burch': 9417,\n",
       " u'28407': 96139,\n",
       " u'48gxn060130600': 259539,\n",
       " u'barigo': 43474,\n",
       " u'wadn4190': 399261,\n",
       " u'x3450': 44880,\n",
       " u'ms94012': 395841,\n",
       " u'tz22': 378533,\n",
       " u'jbp68hk2bb': 215200,\n",
       " u'fa4anf036008abaa': 80284,\n",
       " u's448i': 47861,\n",
       " u'1080v8': 377364,\n",
       " u'4623c': 199765,\n",
       " u'temposk': 196212,\n",
       " u'ze4800': 343866,\n",
       " u'5763696': 270972,\n",
       " u'698bnx048000abaa': 168173,\n",
       " u'ma2521113': 337155,\n",
       " u'bwk908': 372888,\n",
       " u'ma2521119': 90056,\n",
       " u'n2ahd14a06c': 70964,\n",
       " u'koolant': 335025,\n",
       " u'is31': 267584,\n",
       " u'ar330067': 183038,\n",
       " u'cr131e': 70744,\n",
       " u'bartol': 241217,\n",
       " u'bnbkblk0': 325846,\n",
       " u'airview2': 182252,\n",
       " u'kamensk': 316799,\n",
       " u'ed5nhgxrl': 387621,\n",
       " u'salsamedium': 176830,\n",
       " u'23719': 337935,\n",
       " u'23717': 102142,\n",
       " u'23712': 109878,\n",
       " u'rbx12180': 371654,\n",
       " u'23711': 243822,\n",
       " u'44a201bk': 218563,\n",
       " u'59202': 372166,\n",
       " u'melc325vp': 194318,\n",
       " u'uflex': 6464,\n",
       " u'sx013v': 257573,\n",
       " u'1105543': 323252,\n",
       " u'1105542': 323251,\n",
       " u'1105541': 323250,\n",
       " u'pathfi': 225752,\n",
       " u'fullfold': 406815,\n",
       " u'antiperspi': 319995,\n",
       " u'zottola': 351184,\n",
       " u'earr350230': 320865,\n",
       " u'1676s': 364179,\n",
       " u'golean': 340479,\n",
       " u'dst100pw': 409479,\n",
       " u'48pgec0450': 111795,\n",
       " u'aquinnah': 317029,\n",
       " u'48hjf006500': 142613,\n",
       " u'pyha060hd': 311341,\n",
       " u'drhc481884': 105485,\n",
       " u'dst100pc': 331343,\n",
       " u'5920g': 14722,\n",
       " u'560mbfivaw': 312244,\n",
       " u'lightpod': 72798,\n",
       " u'10674989401': 351134,\n",
       " u'125wcibm': 377292,\n",
       " u'bga452': 387690,\n",
       " u'10674989400': 308061,\n",
       " u'selenium': 20108,\n",
       " u'stetson': 5860,\n",
       " u'stetsom': 40254,\n",
       " u'ak1198': 177802,\n",
       " u'earr360205': 337624,\n",
       " u'2397891': 228770,\n",
       " u'sapt318': 129712,\n",
       " u'm3x35mm': 86634,\n",
       " u'sapt317': 308711,\n",
       " u'0c010': 118721,\n",
       " u'd6150': 85912,\n",
       " u'pd615001': 157057,\n",
       " u'pd615002': 329562,\n",
       " u'mhtan': 268282,\n",
       " u'pa3765u': 331203,\n",
       " u'05t08c': 353868,\n",
       " u'm088800': 74202,\n",
       " u'p1246507c': 334091,\n",
       " u'hs9p': 203640,\n",
       " u'r372': 399589,\n",
       " u'r373': 301077,\n",
       " u'ms16279': 281473,\n",
       " u'kxtg2700s': 109989,\n",
       " u'gd840': 410303,\n",
       " u'260999999': 31558,\n",
       " u'rgod': 162160,\n",
       " u'dv6267eu': 243138,\n",
       " u'rgog': 163849,\n",
       " u'a8204b': 198832,\n",
       " u'33dp': 150966,\n",
       " u'50sx024310': 277841,\n",
       " u'harmon': 6210,\n",
       " u'rh02z': 160610,\n",
       " u'38ycb060900': 356821,\n",
       " u'61044': 123030,\n",
       " u'1107565': 290312,\n",
       " u'in3188': 221129,\n",
       " u'61045': 408795,\n",
       " u'3dtote': 318133,\n",
       " u'c93215': 381784,\n",
       " u'usbp439625': 239987,\n",
       " u'p5298': 260972,\n",
       " u'skirmish': 258707,\n",
       " u'sublimin': 45380,\n",
       " u'tsb940us': 231817,\n",
       " u'p5290': 399530,\n",
       " u'zd7049': 383642,\n",
       " u'zd7048': 147396,\n",
       " u'wahnetah': 341515,\n",
       " u'ring851736': 219008,\n",
       " u'zd7040': 314669,\n",
       " u'x5sc': 127088,\n",
       " u'mf9280cdn': 68743,\n",
       " u'ibat40': 128598,\n",
       " u'01069': 411330,\n",
       " u'500325145': 282864,\n",
       " u'01060': 261630,\n",
       " u'apro6': 49447,\n",
       " u'apro5': 29883,\n",
       " u'apro4': 72273,\n",
       " u'apro3': 32502,\n",
       " u'01065': 260244,\n",
       " u'fz52b2': 124975,\n",
       " u'x5sw': 111807,\n",
       " u'tula': 98263,\n",
       " u'pd578872': 295250,\n",
       " u'is25afxrd': 222495,\n",
       " u'tull': 7281,\n",
       " u'cf338a': 368374,\n",
       " u'k80458': 372068,\n",
       " u'tulp': 391342,\n",
       " u'ed495ut': 60002,\n",
       " u'tulu': 165209,\n",
       " u'streetlaz': 84311,\n",
       " u'k80456': 147795,\n",
       " u'apron': 4660,\n",
       " u'1425tx': 247039,\n",
       " u's79831': 94415,\n",
       " u'006r03202': 250689,\n",
       " u'006r03203': 317720,\n",
       " u'usbp306754': 179264,\n",
       " u'thalia': 12381,\n",
       " u'8v1180': 111175,\n",
       " u'rb754n5wh': 324340,\n",
       " u'fg448700bla': 183015,\n",
       " u'ez7205x': 109737,\n",
       " u'ftl410qd2c': 132431,\n",
       " u'145tbfr5334': 280200,\n",
       " u'rs666ld': 263687,\n",
       " u'cosflwr': 16876,\n",
       " u'cpn02173': 163024,\n",
       " u'koverroo': 12865,\n",
       " u'v3195tu': 90801,\n",
       " u'0l00': 52636,\n",
       " u'quarter': 2859,\n",
       " u'quartet': 2998,\n",
       " u'grammi': 29901,\n",
       " u'1190ea': 389235,\n",
       " u'1190ee': 405348,\n",
       " u'1190eg': 83047,\n",
       " u'ls6225': 55200,\n",
       " u'salada': 257845,\n",
       " u'1190eo': 373416,\n",
       " u'earr352498': 145134,\n",
       " u'1190er': 373417,\n",
       " u'1190es': 373418,\n",
       " u'duxburi': 279570,\n",
       " u'1190ew': 160721,\n",
       " u'p3431': 330970,\n",
       " u'earr352490': 320768,\n",
       " u'rsa118': 290048,\n",
       " u'1b71961f': 15137,\n",
       " u'1b71961e': 268037,\n",
       " u'46231': 130429,\n",
       " u'83387': 132371,\n",
       " u'5362ni': 348295,\n",
       " u'mbf1512e': 236162,\n",
       " u'isidro': 156822,\n",
       " u'rpmc0875': 284141,\n",
       " u'83380': 215696,\n",
       " u'leevel': 74472,\n",
       " u'3176g': 155306,\n",
       " u'3176b': 241158,\n",
       " u'3176c': 241159,\n",
       " u'fef355cfta': 335056,\n",
       " u'1dlf2': 307059,\n",
       " u'a2257232': 92166,\n",
       " u'a2257233': 148015,\n",
       " u'48hdt006320': 180866,\n",
       " u'a2257239': 404996,\n",
       " u'48hje014950': 378320,\n",
       " u'sonar': 9563,\n",
       " u'telic': 361843,\n",
       " u'730avl': 84001,\n",
       " u'cr25': 352017,\n",
       " u's004a': 410059,\n",
       " u'561228': 307183,\n",
       " u'jw736a': 366398,\n",
       " ...}"
      ]
     },
     "execution_count": 83,
     "metadata": {},
     "output_type": "execute_result"
    }
   ],
   "source": [
    "tokenizer.word_index"
   ]
  },
  {
   "cell_type": "code",
   "execution_count": 84,
   "metadata": {
    "collapsed": true
   },
   "outputs": [],
   "source": [
    "??tokenizer.texts_to_sequences"
   ]
  },
  {
   "cell_type": "code",
   "execution_count": 87,
   "metadata": {},
   "outputs": [
    {
     "name": "stdout",
     "output_type": "stream",
     "text": [
      "200001/200001 [==============================] - 35s 176us/step\n"
     ]
    }
   ],
   "source": [
    "test_pred=model_lstm.predict(token_elem,batch_size=32, verbose=1)"
   ]
  },
  {
   "cell_type": "code",
   "execution_count": 88,
   "metadata": {
    "collapsed": true
   },
   "outputs": [],
   "source": [
    "test_predicted = np.argmax(test_pred, axis=1)"
   ]
  },
  {
   "cell_type": "code",
   "execution_count": 89,
   "metadata": {},
   "outputs": [
    {
     "data": {
      "text/plain": [
       "array([1020,  391,  851, ..., 1788, 2619, 1396])"
      ]
     },
     "execution_count": 89,
     "metadata": {},
     "output_type": "execute_result"
    }
   ],
   "source": [
    "test_predicted"
   ]
  },
  {
   "cell_type": "code",
   "execution_count": 97,
   "metadata": {
    "collapsed": true
   },
   "outputs": [],
   "source": [
    "test_df.insert(2,'keras_label',[encoder.classes_[pred] for pred in test_predicted.tolist()])"
   ]
  },
  {
   "cell_type": "code",
   "execution_count": 98,
   "metadata": {},
   "outputs": [
    {
     "data": {
      "text/html": [
       "<div>\n",
       "<style scoped>\n",
       "    .dataframe tbody tr th:only-of-type {\n",
       "        vertical-align: middle;\n",
       "    }\n",
       "\n",
       "    .dataframe tbody tr th {\n",
       "        vertical-align: top;\n",
       "    }\n",
       "\n",
       "    .dataframe thead th {\n",
       "        text-align: right;\n",
       "    }\n",
       "</style>\n",
       "<table border=\"1\" class=\"dataframe\">\n",
       "  <thead>\n",
       "    <tr style=\"text-align: right;\">\n",
       "      <th></th>\n",
       "      <th>Title</th>\n",
       "      <th>label</th>\n",
       "      <th>keras_label</th>\n",
       "    </tr>\n",
       "  </thead>\n",
       "  <tbody>\n",
       "    <tr>\n",
       "      <th>0</th>\n",
       "      <td>Title</td>\n",
       "      <td>CategoryIdPath</td>\n",
       "      <td>2296&gt;3597&gt;689</td>\n",
       "    </tr>\n",
       "    <tr>\n",
       "      <th>1</th>\n",
       "      <td>Sterling Silver Dangle Ball Earrings w/ Brilli...</td>\n",
       "      <td>1608&gt;2320&gt;2173&gt;3813</td>\n",
       "      <td>1608&gt;2320&gt;498&gt;1546</td>\n",
       "    </tr>\n",
       "    <tr>\n",
       "      <th>2</th>\n",
       "      <td>ALTERNATOR FREIGHTLINER FL FLC 112 120 FLD 112...</td>\n",
       "      <td>2199&gt;4592&gt;12</td>\n",
       "      <td>2199&gt;4592&gt;12</td>\n",
       "    </tr>\n",
       "    <tr>\n",
       "      <th>3</th>\n",
       "      <td>Disc Brake Rotor-Advanced Technology Rear Rayb...</td>\n",
       "      <td>2199&gt;4592&gt;12</td>\n",
       "      <td>2199&gt;4592&gt;12</td>\n",
       "    </tr>\n",
       "    <tr>\n",
       "      <th>4</th>\n",
       "      <td>Coquette Neon Pink Ruffle Babydoll 7035 Neon P...</td>\n",
       "      <td>1608&gt;4269&gt;3031&gt;1221</td>\n",
       "      <td>1608&gt;1206&gt;1632&gt;4604</td>\n",
       "    </tr>\n",
       "    <tr>\n",
       "      <th>5</th>\n",
       "      <td>12V 7Ah (SPS Brand) APC NS3000RMT3U Replacemen...</td>\n",
       "      <td>3292&gt;114&gt;1231</td>\n",
       "      <td>3292&gt;114&gt;1231</td>\n",
       "    </tr>\n",
       "    <tr>\n",
       "      <th>6</th>\n",
       "      <td>Honda Ridgeline 2006-08 Black Radio AM FM 6 Di...</td>\n",
       "      <td>3292&gt;2790&gt;350</td>\n",
       "      <td>3292&gt;2790&gt;350</td>\n",
       "    </tr>\n",
       "    <tr>\n",
       "      <th>7</th>\n",
       "      <td>Morris Costumes SS88229 Rat Pumpkin Push In</td>\n",
       "      <td>92</td>\n",
       "      <td>2296&gt;3706&gt;1586</td>\n",
       "    </tr>\n",
       "    <tr>\n",
       "      <th>8</th>\n",
       "      <td>Benzara Alphabet Sculpture ''and '' Sign Polis...</td>\n",
       "      <td>4015&gt;3636&gt;526&gt;2454&gt;882</td>\n",
       "      <td>4015&gt;3636&gt;526&gt;2454&gt;882</td>\n",
       "    </tr>\n",
       "    <tr>\n",
       "      <th>9</th>\n",
       "      <td>Ana Silver Co Rainbow Moonstone Earrings 2 1/4...</td>\n",
       "      <td>1608&gt;2320&gt;2173&gt;3813</td>\n",
       "      <td>1608&gt;2320&gt;2495&gt;4952</td>\n",
       "    </tr>\n",
       "    <tr>\n",
       "      <th>10</th>\n",
       "      <td>Kiehl's Creme de Corps Whipped Body Butter - S...</td>\n",
       "      <td>3625&gt;594&gt;3088</td>\n",
       "      <td>3625&gt;594&gt;3088</td>\n",
       "    </tr>\n",
       "    <tr>\n",
       "      <th>11</th>\n",
       "      <td>Ernie Ball Music Man StingRay Trem Maple Finge...</td>\n",
       "      <td>4015&gt;2824&gt;2964&gt;32&gt;4423&gt;4355&gt;1729</td>\n",
       "      <td>4015&gt;2824&gt;2964&gt;32&gt;4423&gt;4355&gt;1729</td>\n",
       "    </tr>\n",
       "    <tr>\n",
       "      <th>12</th>\n",
       "      <td>Mobius Compression Knee Sleeves Black XL</td>\n",
       "      <td>2199&gt;4592&gt;193</td>\n",
       "      <td>2199&gt;4592&gt;193</td>\n",
       "    </tr>\n",
       "    <tr>\n",
       "      <th>13</th>\n",
       "      <td>TK Classics Venice 10-Piece Outdoor Wicker Sec...</td>\n",
       "      <td>4015&gt;3636&gt;1319&gt;3100</td>\n",
       "      <td>4015&gt;3636&gt;1319&gt;3100</td>\n",
       "    </tr>\n",
       "    <tr>\n",
       "      <th>14</th>\n",
       "      <td>New CDI Module for 1988-97 Honda VLX600 Transa...</td>\n",
       "      <td>2199&gt;4592&gt;12</td>\n",
       "      <td>2199&gt;4592&gt;12</td>\n",
       "    </tr>\n",
       "    <tr>\n",
       "      <th>15</th>\n",
       "      <td>Skilcraft Composition Board Clipboard - 9 X 12...</td>\n",
       "      <td>4238&gt;321&gt;753&gt;1113</td>\n",
       "      <td>4238&gt;321&gt;753&gt;1113</td>\n",
       "    </tr>\n",
       "    <tr>\n",
       "      <th>16</th>\n",
       "      <td>Frankford Arsenal Platinum Series Case Prep Es...</td>\n",
       "      <td>2199&gt;4592&gt;12</td>\n",
       "      <td>2075&gt;1724&gt;1168&gt;2889</td>\n",
       "    </tr>\n",
       "    <tr>\n",
       "      <th>17</th>\n",
       "      <td>Southern Prelude and Minuet (Trombone, Bariton...</td>\n",
       "      <td>4015&gt;2824&gt;2964&gt;1002&gt;200</td>\n",
       "      <td>4015&gt;2824&gt;2964&gt;1002&gt;200</td>\n",
       "    </tr>\n",
       "    <tr>\n",
       "      <th>18</th>\n",
       "      <td>Pc Wholesale Exclusive Hp Sourcing 300gb-10krp...</td>\n",
       "      <td>3292&gt;1370&gt;3314&gt;1246</td>\n",
       "      <td>3292&gt;1370&gt;760&gt;3677&gt;3449</td>\n",
       "    </tr>\n",
       "    <tr>\n",
       "      <th>19</th>\n",
       "      <td>Deflecta-Shield Aluminum 9100T Aluminum Cross ...</td>\n",
       "      <td>4015&gt;3636&gt;526&gt;2454&gt;3876</td>\n",
       "      <td>2199&gt;4592&gt;12</td>\n",
       "    </tr>\n",
       "    <tr>\n",
       "      <th>20</th>\n",
       "      <td>Zodaca Crystal Mens Wedding Party Gift Cufflin...</td>\n",
       "      <td>1608&gt;2227&gt;3874&gt;2295</td>\n",
       "      <td>1608&gt;2320&gt;2495&gt;2615</td>\n",
       "    </tr>\n",
       "    <tr>\n",
       "      <th>21</th>\n",
       "      <td>Fred Bock Music Praise His Holy Names SATB Com...</td>\n",
       "      <td>4015&gt;2824&gt;2964&gt;1002&gt;200</td>\n",
       "      <td>4015&gt;2824&gt;2964&gt;1002&gt;200</td>\n",
       "    </tr>\n",
       "    <tr>\n",
       "      <th>22</th>\n",
       "      <td>STARTER MOTOR 06 07 08 09 HARLEY DAVIDSON DYNA...</td>\n",
       "      <td>2199&gt;4592&gt;12</td>\n",
       "      <td>2199&gt;4592&gt;12</td>\n",
       "    </tr>\n",
       "    <tr>\n",
       "      <th>23</th>\n",
       "      <td>Home Kitchen Cookware Plastic Round Shaped Lid...</td>\n",
       "      <td>4015&gt;3271&gt;714&gt;3572</td>\n",
       "      <td>4015&gt;3271&gt;714&gt;3572</td>\n",
       "    </tr>\n",
       "    <tr>\n",
       "      <th>24</th>\n",
       "      <td>ASUS M2400E 4400mAh 65Wh 8 Cell Li-ion 14.8V B...</td>\n",
       "      <td>3292&gt;1370&gt;4767&gt;3975&gt;1420</td>\n",
       "      <td>3292&gt;1370&gt;4767&gt;3975&gt;1420</td>\n",
       "    </tr>\n",
       "    <tr>\n",
       "      <th>25</th>\n",
       "      <td>2.29\" Miniature Distribution Block, 600VAC, Sq...</td>\n",
       "      <td>4015&gt;3754&gt;1170&gt;1200&gt;1672</td>\n",
       "      <td>4015&gt;3754&gt;1170&gt;1200&gt;1672</td>\n",
       "    </tr>\n",
       "    <tr>\n",
       "      <th>26</th>\n",
       "      <td>Shock Absorber-Gas-a-just Rear KYB KG6797 A he...</td>\n",
       "      <td>2199&gt;4592&gt;12</td>\n",
       "      <td>2199&gt;4592&gt;12</td>\n",
       "    </tr>\n",
       "    <tr>\n",
       "      <th>27</th>\n",
       "      <td>2x Pack - Motorola XiRP8200 Battery &amp; Earpiece...</td>\n",
       "      <td>3292&gt;3581&gt;2544&gt;4749</td>\n",
       "      <td>3292&gt;3581&gt;2544&gt;4749</td>\n",
       "    </tr>\n",
       "    <tr>\n",
       "      <th>28</th>\n",
       "      <td>Alfred 00-Bd00997C S Red The White &amp; The Blues...</td>\n",
       "      <td>4015&gt;2824&gt;2964&gt;1002&gt;200</td>\n",
       "      <td>2296&gt;2435&gt;4774</td>\n",
       "    </tr>\n",
       "    <tr>\n",
       "      <th>29</th>\n",
       "      <td>Shurhold Snap Stick Snap and Zipper Lubricant</td>\n",
       "      <td>2199&gt;4592&gt;12</td>\n",
       "      <td>3292&gt;4837&gt;3753</td>\n",
       "    </tr>\n",
       "    <tr>\n",
       "      <th>...</th>\n",
       "      <td>...</td>\n",
       "      <td>...</td>\n",
       "      <td>...</td>\n",
       "    </tr>\n",
       "    <tr>\n",
       "      <th>199971</th>\n",
       "      <td>RayNet to RayNet Cable 10M</td>\n",
       "      <td>3292&gt;4837&gt;2112</td>\n",
       "      <td>3292&gt;4837&gt;2112</td>\n",
       "    </tr>\n",
       "    <tr>\n",
       "      <th>199972</th>\n",
       "      <td>4-Pack Replacement Electrolux E24RD75HPS1 Refr...</td>\n",
       "      <td>4015&gt;2337&gt;2943&gt;2570&gt;3135</td>\n",
       "      <td>4015&gt;2337&gt;2943&gt;2570&gt;3135</td>\n",
       "    </tr>\n",
       "    <tr>\n",
       "      <th>199973</th>\n",
       "      <td>Paul Mitchell Spray Wax  7.5 Oz</td>\n",
       "      <td>3625&gt;3641&gt;3045&gt;1524</td>\n",
       "      <td>3625&gt;3641&gt;3045&gt;1524</td>\n",
       "    </tr>\n",
       "    <tr>\n",
       "      <th>199974</th>\n",
       "      <td>Ruby 8903 Plum Fleur-De-Lis Aubusson 2'3\" x 7'...</td>\n",
       "      <td>4015&gt;3636&gt;526&gt;3639</td>\n",
       "      <td>4015&gt;3636&gt;526&gt;3639</td>\n",
       "    </tr>\n",
       "    <tr>\n",
       "      <th>199975</th>\n",
       "      <td>Sixity 2014 Polaris 800 Ranger 6X6 Front Left ...</td>\n",
       "      <td>2199&gt;4592&gt;12</td>\n",
       "      <td>2199&gt;4592&gt;12</td>\n",
       "    </tr>\n",
       "    <tr>\n",
       "      <th>199976</th>\n",
       "      <td>Syba SY-ACC65057 Sy-acc65057 Twr Blk Metal Bod...</td>\n",
       "      <td>3292&gt;3581&gt;1878&gt;61</td>\n",
       "      <td>3292&gt;1370&gt;3690&gt;1735&gt;4907</td>\n",
       "    </tr>\n",
       "    <tr>\n",
       "      <th>199977</th>\n",
       "      <td>Superb Choice? Remanufactured Toner Cartridge ...</td>\n",
       "      <td>4238&gt;4960&gt;3633</td>\n",
       "      <td>4238&gt;4960&gt;3633</td>\n",
       "    </tr>\n",
       "    <tr>\n",
       "      <th>199978</th>\n",
       "      <td>TIRE PRESSURE MONITOR FITS 2006-2010 LAMBORGHI...</td>\n",
       "      <td>2199&gt;4592&gt;12</td>\n",
       "      <td>2199&gt;4592&gt;12</td>\n",
       "    </tr>\n",
       "    <tr>\n",
       "      <th>199979</th>\n",
       "      <td>Allstar Performance All55160 Torsion Bar Bushing</td>\n",
       "      <td>2199&gt;4592&gt;12</td>\n",
       "      <td>2199&gt;4592&gt;12</td>\n",
       "    </tr>\n",
       "    <tr>\n",
       "      <th>199980</th>\n",
       "      <td>EAGO TB359 Dual Flush One Piece Eco-Friendly C...</td>\n",
       "      <td>4015&gt;3754&gt;3580&gt;1415&gt;4225</td>\n",
       "      <td>4015&gt;3754&gt;3580&gt;1415&gt;4225</td>\n",
       "    </tr>\n",
       "    <tr>\n",
       "      <th>199981</th>\n",
       "      <td>EKA G3 Pivoting Blade Hunting Knife Black EKA-...</td>\n",
       "      <td>2075&gt;1724&gt;353&gt;4888&gt;4822</td>\n",
       "      <td>2075&gt;1724&gt;353&gt;4888&gt;4822</td>\n",
       "    </tr>\n",
       "    <tr>\n",
       "      <th>199982</th>\n",
       "      <td>Houghton Mifflin Harcourt SV-9780547893365 Six...</td>\n",
       "      <td>4238&gt;321&gt;789&gt;4277</td>\n",
       "      <td>1395&gt;2736&gt;2160&gt;2621</td>\n",
       "    </tr>\n",
       "    <tr>\n",
       "      <th>199983</th>\n",
       "      <td>TMP CANON IMAGECLASS MF4570DN TONER CARTRIDGE ...</td>\n",
       "      <td>3292&gt;1370&gt;289&gt;4073</td>\n",
       "      <td>3292&gt;1370&gt;289&gt;4073</td>\n",
       "    </tr>\n",
       "    <tr>\n",
       "      <th>199984</th>\n",
       "      <td>1m Sfp Plus Copper Cable</td>\n",
       "      <td>3292&gt;1370&gt;3828&gt;1710</td>\n",
       "      <td>3292&gt;1370&gt;3828&gt;1710</td>\n",
       "    </tr>\n",
       "    <tr>\n",
       "      <th>199985</th>\n",
       "      <td>Black Mesh 10x20 Heavy Duty UV Screen Shade Ca...</td>\n",
       "      <td>4015&gt;3754&gt;3663&gt;1500&gt;2373</td>\n",
       "      <td>4015&gt;4733&gt;1488&gt;478</td>\n",
       "    </tr>\n",
       "    <tr>\n",
       "      <th>199986</th>\n",
       "      <td>On The Mark Press OTM14118 Skinny Bones Lit Li...</td>\n",
       "      <td>1395&gt;2736&gt;2160&gt;2621</td>\n",
       "      <td>1395&gt;2736&gt;2160&gt;2621</td>\n",
       "    </tr>\n",
       "    <tr>\n",
       "      <th>199987</th>\n",
       "      <td>Thomas &amp; Betts Square Box Cover</td>\n",
       "      <td>4015&gt;3754&gt;1170&gt;1200&gt;1672</td>\n",
       "      <td>2296&gt;3597&gt;689</td>\n",
       "    </tr>\n",
       "    <tr>\n",
       "      <th>199988</th>\n",
       "      <td>Warn 22680 Quick Connect Plugs</td>\n",
       "      <td>2199&gt;4592&gt;12</td>\n",
       "      <td>2199&gt;4592&gt;12</td>\n",
       "    </tr>\n",
       "    <tr>\n",
       "      <th>199989</th>\n",
       "      <td>Warehouse Sheds Gates Door Stainless Steel Pad...</td>\n",
       "      <td>2199&gt;1952&gt;2354&gt;2352</td>\n",
       "      <td>2199&gt;1952&gt;2354&gt;2352</td>\n",
       "    </tr>\n",
       "    <tr>\n",
       "      <th>199990</th>\n",
       "      <td>Dell PowerEdge T710 LFF 2x X5650 Six Core 2.66...</td>\n",
       "      <td>3292&gt;1370&gt;3314&gt;549</td>\n",
       "      <td>3292&gt;1370&gt;3314&gt;549</td>\n",
       "    </tr>\n",
       "    <tr>\n",
       "      <th>199991</th>\n",
       "      <td>Manual Projection Screen, Quartet, 670S</td>\n",
       "      <td>3292&gt;290&gt;4280</td>\n",
       "      <td>2296&gt;3597&gt;419</td>\n",
       "    </tr>\n",
       "    <tr>\n",
       "      <th>199992</th>\n",
       "      <td>CUSTOM White OtterBox Commuter Series Case (77...</td>\n",
       "      <td>3292&gt;3581&gt;3145&gt;3191</td>\n",
       "      <td>3292&gt;3581&gt;3145&gt;3191</td>\n",
       "    </tr>\n",
       "    <tr>\n",
       "      <th>199993</th>\n",
       "      <td>Eap350 Business-class Gigabit Wired 29db</td>\n",
       "      <td>2296&gt;3597&gt;689</td>\n",
       "      <td>3292&gt;1370&gt;3828&gt;1710</td>\n",
       "    </tr>\n",
       "    <tr>\n",
       "      <th>199994</th>\n",
       "      <td>Ana Silver Co Natural Ethiopian Opal 925 Sterl...</td>\n",
       "      <td>1608&gt;2320&gt;498&gt;1546</td>\n",
       "      <td>1608&gt;2320&gt;498&gt;1546</td>\n",
       "    </tr>\n",
       "    <tr>\n",
       "      <th>199995</th>\n",
       "      <td>MightySkins Protective Vinyl Skin Decal for IB...</td>\n",
       "      <td>3292&gt;3581&gt;3145&gt;2201</td>\n",
       "      <td>3292&gt;3581&gt;3145&gt;2201</td>\n",
       "    </tr>\n",
       "    <tr>\n",
       "      <th>199996</th>\n",
       "      <td>14K White Gold Synthetic Ruby Ring Sz 10</td>\n",
       "      <td>1608&gt;2320&gt;3648</td>\n",
       "      <td>1608&gt;2320&gt;3648</td>\n",
       "    </tr>\n",
       "    <tr>\n",
       "      <th>199997</th>\n",
       "      <td>Blue Stone Box Large</td>\n",
       "      <td>4015&gt;3636&gt;526&gt;3651</td>\n",
       "      <td>2296&gt;3597&gt;689</td>\n",
       "    </tr>\n",
       "    <tr>\n",
       "      <th>199998</th>\n",
       "      <td>8-Pack Replacement Engine Air Filter for 2003 ...</td>\n",
       "      <td>4015&gt;2337&gt;1458&gt;40</td>\n",
       "      <td>4015&gt;2337&gt;1458&gt;40</td>\n",
       "    </tr>\n",
       "    <tr>\n",
       "      <th>199999</th>\n",
       "      <td>WALTER F4253.B32.100.Z05.12 Indexable Mill Cut...</td>\n",
       "      <td>4015&gt;3754&gt;3663&gt;512&gt;634</td>\n",
       "      <td>4015&gt;3754&gt;3663&gt;512&gt;634</td>\n",
       "    </tr>\n",
       "    <tr>\n",
       "      <th>200000</th>\n",
       "      <td>Skin for Microsoft Surface Pro (2017) 12.3\" - ...</td>\n",
       "      <td>3292&gt;49&gt;2166</td>\n",
       "      <td>3292&gt;49&gt;2166</td>\n",
       "    </tr>\n",
       "  </tbody>\n",
       "</table>\n",
       "<p>200001 rows × 3 columns</p>\n",
       "</div>"
      ],
      "text/plain": [
       "                                                    Title  \\\n",
       "0                                                   Title   \n",
       "1       Sterling Silver Dangle Ball Earrings w/ Brilli...   \n",
       "2       ALTERNATOR FREIGHTLINER FL FLC 112 120 FLD 112...   \n",
       "3       Disc Brake Rotor-Advanced Technology Rear Rayb...   \n",
       "4       Coquette Neon Pink Ruffle Babydoll 7035 Neon P...   \n",
       "5       12V 7Ah (SPS Brand) APC NS3000RMT3U Replacemen...   \n",
       "6       Honda Ridgeline 2006-08 Black Radio AM FM 6 Di...   \n",
       "7             Morris Costumes SS88229 Rat Pumpkin Push In   \n",
       "8       Benzara Alphabet Sculpture ''and '' Sign Polis...   \n",
       "9       Ana Silver Co Rainbow Moonstone Earrings 2 1/4...   \n",
       "10      Kiehl's Creme de Corps Whipped Body Butter - S...   \n",
       "11      Ernie Ball Music Man StingRay Trem Maple Finge...   \n",
       "12               Mobius Compression Knee Sleeves Black XL   \n",
       "13      TK Classics Venice 10-Piece Outdoor Wicker Sec...   \n",
       "14      New CDI Module for 1988-97 Honda VLX600 Transa...   \n",
       "15      Skilcraft Composition Board Clipboard - 9 X 12...   \n",
       "16      Frankford Arsenal Platinum Series Case Prep Es...   \n",
       "17      Southern Prelude and Minuet (Trombone, Bariton...   \n",
       "18      Pc Wholesale Exclusive Hp Sourcing 300gb-10krp...   \n",
       "19      Deflecta-Shield Aluminum 9100T Aluminum Cross ...   \n",
       "20      Zodaca Crystal Mens Wedding Party Gift Cufflin...   \n",
       "21      Fred Bock Music Praise His Holy Names SATB Com...   \n",
       "22      STARTER MOTOR 06 07 08 09 HARLEY DAVIDSON DYNA...   \n",
       "23      Home Kitchen Cookware Plastic Round Shaped Lid...   \n",
       "24      ASUS M2400E 4400mAh 65Wh 8 Cell Li-ion 14.8V B...   \n",
       "25      2.29\" Miniature Distribution Block, 600VAC, Sq...   \n",
       "26      Shock Absorber-Gas-a-just Rear KYB KG6797 A he...   \n",
       "27      2x Pack - Motorola XiRP8200 Battery & Earpiece...   \n",
       "28      Alfred 00-Bd00997C S Red The White & The Blues...   \n",
       "29          Shurhold Snap Stick Snap and Zipper Lubricant   \n",
       "...                                                   ...   \n",
       "199971                         RayNet to RayNet Cable 10M   \n",
       "199972  4-Pack Replacement Electrolux E24RD75HPS1 Refr...   \n",
       "199973                    Paul Mitchell Spray Wax  7.5 Oz   \n",
       "199974  Ruby 8903 Plum Fleur-De-Lis Aubusson 2'3\" x 7'...   \n",
       "199975  Sixity 2014 Polaris 800 Ranger 6X6 Front Left ...   \n",
       "199976  Syba SY-ACC65057 Sy-acc65057 Twr Blk Metal Bod...   \n",
       "199977  Superb Choice? Remanufactured Toner Cartridge ...   \n",
       "199978  TIRE PRESSURE MONITOR FITS 2006-2010 LAMBORGHI...   \n",
       "199979   Allstar Performance All55160 Torsion Bar Bushing   \n",
       "199980  EAGO TB359 Dual Flush One Piece Eco-Friendly C...   \n",
       "199981  EKA G3 Pivoting Blade Hunting Knife Black EKA-...   \n",
       "199982  Houghton Mifflin Harcourt SV-9780547893365 Six...   \n",
       "199983  TMP CANON IMAGECLASS MF4570DN TONER CARTRIDGE ...   \n",
       "199984                           1m Sfp Plus Copper Cable   \n",
       "199985  Black Mesh 10x20 Heavy Duty UV Screen Shade Ca...   \n",
       "199986  On The Mark Press OTM14118 Skinny Bones Lit Li...   \n",
       "199987                    Thomas & Betts Square Box Cover   \n",
       "199988                     Warn 22680 Quick Connect Plugs   \n",
       "199989  Warehouse Sheds Gates Door Stainless Steel Pad...   \n",
       "199990  Dell PowerEdge T710 LFF 2x X5650 Six Core 2.66...   \n",
       "199991            Manual Projection Screen, Quartet, 670S   \n",
       "199992  CUSTOM White OtterBox Commuter Series Case (77...   \n",
       "199993           Eap350 Business-class Gigabit Wired 29db   \n",
       "199994  Ana Silver Co Natural Ethiopian Opal 925 Sterl...   \n",
       "199995  MightySkins Protective Vinyl Skin Decal for IB...   \n",
       "199996           14K White Gold Synthetic Ruby Ring Sz 10   \n",
       "199997                               Blue Stone Box Large   \n",
       "199998  8-Pack Replacement Engine Air Filter for 2003 ...   \n",
       "199999  WALTER F4253.B32.100.Z05.12 Indexable Mill Cut...   \n",
       "200000  Skin for Microsoft Surface Pro (2017) 12.3\" - ...   \n",
       "\n",
       "                                   label                       keras_label  \n",
       "0                         CategoryIdPath                     2296>3597>689  \n",
       "1                    1608>2320>2173>3813                1608>2320>498>1546  \n",
       "2                           2199>4592>12                      2199>4592>12  \n",
       "3                           2199>4592>12                      2199>4592>12  \n",
       "4                    1608>4269>3031>1221               1608>1206>1632>4604  \n",
       "5                          3292>114>1231                     3292>114>1231  \n",
       "6                          3292>2790>350                     3292>2790>350  \n",
       "7                                     92                    2296>3706>1586  \n",
       "8                 4015>3636>526>2454>882            4015>3636>526>2454>882  \n",
       "9                    1608>2320>2173>3813               1608>2320>2495>4952  \n",
       "10                         3625>594>3088                     3625>594>3088  \n",
       "11      4015>2824>2964>32>4423>4355>1729  4015>2824>2964>32>4423>4355>1729  \n",
       "12                         2199>4592>193                     2199>4592>193  \n",
       "13                   4015>3636>1319>3100               4015>3636>1319>3100  \n",
       "14                          2199>4592>12                      2199>4592>12  \n",
       "15                     4238>321>753>1113                 4238>321>753>1113  \n",
       "16                          2199>4592>12               2075>1724>1168>2889  \n",
       "17               4015>2824>2964>1002>200           4015>2824>2964>1002>200  \n",
       "18                   3292>1370>3314>1246           3292>1370>760>3677>3449  \n",
       "19               4015>3636>526>2454>3876                      2199>4592>12  \n",
       "20                   1608>2227>3874>2295               1608>2320>2495>2615  \n",
       "21               4015>2824>2964>1002>200           4015>2824>2964>1002>200  \n",
       "22                          2199>4592>12                      2199>4592>12  \n",
       "23                    4015>3271>714>3572                4015>3271>714>3572  \n",
       "24              3292>1370>4767>3975>1420          3292>1370>4767>3975>1420  \n",
       "25              4015>3754>1170>1200>1672          4015>3754>1170>1200>1672  \n",
       "26                          2199>4592>12                      2199>4592>12  \n",
       "27                   3292>3581>2544>4749               3292>3581>2544>4749  \n",
       "28               4015>2824>2964>1002>200                    2296>2435>4774  \n",
       "29                          2199>4592>12                    3292>4837>3753  \n",
       "...                                  ...                               ...  \n",
       "199971                    3292>4837>2112                    3292>4837>2112  \n",
       "199972          4015>2337>2943>2570>3135          4015>2337>2943>2570>3135  \n",
       "199973               3625>3641>3045>1524               3625>3641>3045>1524  \n",
       "199974                4015>3636>526>3639                4015>3636>526>3639  \n",
       "199975                      2199>4592>12                      2199>4592>12  \n",
       "199976                 3292>3581>1878>61          3292>1370>3690>1735>4907  \n",
       "199977                    4238>4960>3633                    4238>4960>3633  \n",
       "199978                      2199>4592>12                      2199>4592>12  \n",
       "199979                      2199>4592>12                      2199>4592>12  \n",
       "199980          4015>3754>3580>1415>4225          4015>3754>3580>1415>4225  \n",
       "199981           2075>1724>353>4888>4822           2075>1724>353>4888>4822  \n",
       "199982                 4238>321>789>4277               1395>2736>2160>2621  \n",
       "199983                3292>1370>289>4073                3292>1370>289>4073  \n",
       "199984               3292>1370>3828>1710               3292>1370>3828>1710  \n",
       "199985          4015>3754>3663>1500>2373                4015>4733>1488>478  \n",
       "199986               1395>2736>2160>2621               1395>2736>2160>2621  \n",
       "199987          4015>3754>1170>1200>1672                     2296>3597>689  \n",
       "199988                      2199>4592>12                      2199>4592>12  \n",
       "199989               2199>1952>2354>2352               2199>1952>2354>2352  \n",
       "199990                3292>1370>3314>549                3292>1370>3314>549  \n",
       "199991                     3292>290>4280                     2296>3597>419  \n",
       "199992               3292>3581>3145>3191               3292>3581>3145>3191  \n",
       "199993                     2296>3597>689               3292>1370>3828>1710  \n",
       "199994                1608>2320>498>1546                1608>2320>498>1546  \n",
       "199995               3292>3581>3145>2201               3292>3581>3145>2201  \n",
       "199996                    1608>2320>3648                    1608>2320>3648  \n",
       "199997                4015>3636>526>3651                     2296>3597>689  \n",
       "199998                 4015>2337>1458>40                 4015>2337>1458>40  \n",
       "199999            4015>3754>3663>512>634            4015>3754>3663>512>634  \n",
       "200000                      3292>49>2166                      3292>49>2166  \n",
       "\n",
       "[200001 rows x 3 columns]"
      ]
     },
     "execution_count": 98,
     "metadata": {},
     "output_type": "execute_result"
    }
   ],
   "source": [
    "test_df"
   ]
  },
  {
   "cell_type": "code",
   "execution_count": 100,
   "metadata": {
    "collapsed": true
   },
   "outputs": [],
   "source": [
    "test_df=test_df.drop('label',axis=1)"
   ]
  },
  {
   "cell_type": "code",
   "execution_count": 101,
   "metadata": {},
   "outputs": [
    {
     "data": {
      "text/html": [
       "<div>\n",
       "<style scoped>\n",
       "    .dataframe tbody tr th:only-of-type {\n",
       "        vertical-align: middle;\n",
       "    }\n",
       "\n",
       "    .dataframe tbody tr th {\n",
       "        vertical-align: top;\n",
       "    }\n",
       "\n",
       "    .dataframe thead th {\n",
       "        text-align: right;\n",
       "    }\n",
       "</style>\n",
       "<table border=\"1\" class=\"dataframe\">\n",
       "  <thead>\n",
       "    <tr style=\"text-align: right;\">\n",
       "      <th></th>\n",
       "      <th>Title</th>\n",
       "      <th>keras_label</th>\n",
       "    </tr>\n",
       "  </thead>\n",
       "  <tbody>\n",
       "    <tr>\n",
       "      <th>0</th>\n",
       "      <td>Title</td>\n",
       "      <td>2296&gt;3597&gt;689</td>\n",
       "    </tr>\n",
       "    <tr>\n",
       "      <th>1</th>\n",
       "      <td>Sterling Silver Dangle Ball Earrings w/ Brilli...</td>\n",
       "      <td>1608&gt;2320&gt;498&gt;1546</td>\n",
       "    </tr>\n",
       "    <tr>\n",
       "      <th>2</th>\n",
       "      <td>ALTERNATOR FREIGHTLINER FL FLC 112 120 FLD 112...</td>\n",
       "      <td>2199&gt;4592&gt;12</td>\n",
       "    </tr>\n",
       "    <tr>\n",
       "      <th>3</th>\n",
       "      <td>Disc Brake Rotor-Advanced Technology Rear Rayb...</td>\n",
       "      <td>2199&gt;4592&gt;12</td>\n",
       "    </tr>\n",
       "    <tr>\n",
       "      <th>4</th>\n",
       "      <td>Coquette Neon Pink Ruffle Babydoll 7035 Neon P...</td>\n",
       "      <td>1608&gt;1206&gt;1632&gt;4604</td>\n",
       "    </tr>\n",
       "    <tr>\n",
       "      <th>5</th>\n",
       "      <td>12V 7Ah (SPS Brand) APC NS3000RMT3U Replacemen...</td>\n",
       "      <td>3292&gt;114&gt;1231</td>\n",
       "    </tr>\n",
       "    <tr>\n",
       "      <th>6</th>\n",
       "      <td>Honda Ridgeline 2006-08 Black Radio AM FM 6 Di...</td>\n",
       "      <td>3292&gt;2790&gt;350</td>\n",
       "    </tr>\n",
       "    <tr>\n",
       "      <th>7</th>\n",
       "      <td>Morris Costumes SS88229 Rat Pumpkin Push In</td>\n",
       "      <td>2296&gt;3706&gt;1586</td>\n",
       "    </tr>\n",
       "    <tr>\n",
       "      <th>8</th>\n",
       "      <td>Benzara Alphabet Sculpture ''and '' Sign Polis...</td>\n",
       "      <td>4015&gt;3636&gt;526&gt;2454&gt;882</td>\n",
       "    </tr>\n",
       "    <tr>\n",
       "      <th>9</th>\n",
       "      <td>Ana Silver Co Rainbow Moonstone Earrings 2 1/4...</td>\n",
       "      <td>1608&gt;2320&gt;2495&gt;4952</td>\n",
       "    </tr>\n",
       "    <tr>\n",
       "      <th>10</th>\n",
       "      <td>Kiehl's Creme de Corps Whipped Body Butter - S...</td>\n",
       "      <td>3625&gt;594&gt;3088</td>\n",
       "    </tr>\n",
       "    <tr>\n",
       "      <th>11</th>\n",
       "      <td>Ernie Ball Music Man StingRay Trem Maple Finge...</td>\n",
       "      <td>4015&gt;2824&gt;2964&gt;32&gt;4423&gt;4355&gt;1729</td>\n",
       "    </tr>\n",
       "    <tr>\n",
       "      <th>12</th>\n",
       "      <td>Mobius Compression Knee Sleeves Black XL</td>\n",
       "      <td>2199&gt;4592&gt;193</td>\n",
       "    </tr>\n",
       "    <tr>\n",
       "      <th>13</th>\n",
       "      <td>TK Classics Venice 10-Piece Outdoor Wicker Sec...</td>\n",
       "      <td>4015&gt;3636&gt;1319&gt;3100</td>\n",
       "    </tr>\n",
       "    <tr>\n",
       "      <th>14</th>\n",
       "      <td>New CDI Module for 1988-97 Honda VLX600 Transa...</td>\n",
       "      <td>2199&gt;4592&gt;12</td>\n",
       "    </tr>\n",
       "    <tr>\n",
       "      <th>15</th>\n",
       "      <td>Skilcraft Composition Board Clipboard - 9 X 12...</td>\n",
       "      <td>4238&gt;321&gt;753&gt;1113</td>\n",
       "    </tr>\n",
       "    <tr>\n",
       "      <th>16</th>\n",
       "      <td>Frankford Arsenal Platinum Series Case Prep Es...</td>\n",
       "      <td>2075&gt;1724&gt;1168&gt;2889</td>\n",
       "    </tr>\n",
       "    <tr>\n",
       "      <th>17</th>\n",
       "      <td>Southern Prelude and Minuet (Trombone, Bariton...</td>\n",
       "      <td>4015&gt;2824&gt;2964&gt;1002&gt;200</td>\n",
       "    </tr>\n",
       "    <tr>\n",
       "      <th>18</th>\n",
       "      <td>Pc Wholesale Exclusive Hp Sourcing 300gb-10krp...</td>\n",
       "      <td>3292&gt;1370&gt;760&gt;3677&gt;3449</td>\n",
       "    </tr>\n",
       "    <tr>\n",
       "      <th>19</th>\n",
       "      <td>Deflecta-Shield Aluminum 9100T Aluminum Cross ...</td>\n",
       "      <td>2199&gt;4592&gt;12</td>\n",
       "    </tr>\n",
       "    <tr>\n",
       "      <th>20</th>\n",
       "      <td>Zodaca Crystal Mens Wedding Party Gift Cufflin...</td>\n",
       "      <td>1608&gt;2320&gt;2495&gt;2615</td>\n",
       "    </tr>\n",
       "    <tr>\n",
       "      <th>21</th>\n",
       "      <td>Fred Bock Music Praise His Holy Names SATB Com...</td>\n",
       "      <td>4015&gt;2824&gt;2964&gt;1002&gt;200</td>\n",
       "    </tr>\n",
       "    <tr>\n",
       "      <th>22</th>\n",
       "      <td>STARTER MOTOR 06 07 08 09 HARLEY DAVIDSON DYNA...</td>\n",
       "      <td>2199&gt;4592&gt;12</td>\n",
       "    </tr>\n",
       "    <tr>\n",
       "      <th>23</th>\n",
       "      <td>Home Kitchen Cookware Plastic Round Shaped Lid...</td>\n",
       "      <td>4015&gt;3271&gt;714&gt;3572</td>\n",
       "    </tr>\n",
       "    <tr>\n",
       "      <th>24</th>\n",
       "      <td>ASUS M2400E 4400mAh 65Wh 8 Cell Li-ion 14.8V B...</td>\n",
       "      <td>3292&gt;1370&gt;4767&gt;3975&gt;1420</td>\n",
       "    </tr>\n",
       "    <tr>\n",
       "      <th>25</th>\n",
       "      <td>2.29\" Miniature Distribution Block, 600VAC, Sq...</td>\n",
       "      <td>4015&gt;3754&gt;1170&gt;1200&gt;1672</td>\n",
       "    </tr>\n",
       "    <tr>\n",
       "      <th>26</th>\n",
       "      <td>Shock Absorber-Gas-a-just Rear KYB KG6797 A he...</td>\n",
       "      <td>2199&gt;4592&gt;12</td>\n",
       "    </tr>\n",
       "    <tr>\n",
       "      <th>27</th>\n",
       "      <td>2x Pack - Motorola XiRP8200 Battery &amp; Earpiece...</td>\n",
       "      <td>3292&gt;3581&gt;2544&gt;4749</td>\n",
       "    </tr>\n",
       "    <tr>\n",
       "      <th>28</th>\n",
       "      <td>Alfred 00-Bd00997C S Red The White &amp; The Blues...</td>\n",
       "      <td>2296&gt;2435&gt;4774</td>\n",
       "    </tr>\n",
       "    <tr>\n",
       "      <th>29</th>\n",
       "      <td>Shurhold Snap Stick Snap and Zipper Lubricant</td>\n",
       "      <td>3292&gt;4837&gt;3753</td>\n",
       "    </tr>\n",
       "    <tr>\n",
       "      <th>...</th>\n",
       "      <td>...</td>\n",
       "      <td>...</td>\n",
       "    </tr>\n",
       "    <tr>\n",
       "      <th>199971</th>\n",
       "      <td>RayNet to RayNet Cable 10M</td>\n",
       "      <td>3292&gt;4837&gt;2112</td>\n",
       "    </tr>\n",
       "    <tr>\n",
       "      <th>199972</th>\n",
       "      <td>4-Pack Replacement Electrolux E24RD75HPS1 Refr...</td>\n",
       "      <td>4015&gt;2337&gt;2943&gt;2570&gt;3135</td>\n",
       "    </tr>\n",
       "    <tr>\n",
       "      <th>199973</th>\n",
       "      <td>Paul Mitchell Spray Wax  7.5 Oz</td>\n",
       "      <td>3625&gt;3641&gt;3045&gt;1524</td>\n",
       "    </tr>\n",
       "    <tr>\n",
       "      <th>199974</th>\n",
       "      <td>Ruby 8903 Plum Fleur-De-Lis Aubusson 2'3\" x 7'...</td>\n",
       "      <td>4015&gt;3636&gt;526&gt;3639</td>\n",
       "    </tr>\n",
       "    <tr>\n",
       "      <th>199975</th>\n",
       "      <td>Sixity 2014 Polaris 800 Ranger 6X6 Front Left ...</td>\n",
       "      <td>2199&gt;4592&gt;12</td>\n",
       "    </tr>\n",
       "    <tr>\n",
       "      <th>199976</th>\n",
       "      <td>Syba SY-ACC65057 Sy-acc65057 Twr Blk Metal Bod...</td>\n",
       "      <td>3292&gt;1370&gt;3690&gt;1735&gt;4907</td>\n",
       "    </tr>\n",
       "    <tr>\n",
       "      <th>199977</th>\n",
       "      <td>Superb Choice? Remanufactured Toner Cartridge ...</td>\n",
       "      <td>4238&gt;4960&gt;3633</td>\n",
       "    </tr>\n",
       "    <tr>\n",
       "      <th>199978</th>\n",
       "      <td>TIRE PRESSURE MONITOR FITS 2006-2010 LAMBORGHI...</td>\n",
       "      <td>2199&gt;4592&gt;12</td>\n",
       "    </tr>\n",
       "    <tr>\n",
       "      <th>199979</th>\n",
       "      <td>Allstar Performance All55160 Torsion Bar Bushing</td>\n",
       "      <td>2199&gt;4592&gt;12</td>\n",
       "    </tr>\n",
       "    <tr>\n",
       "      <th>199980</th>\n",
       "      <td>EAGO TB359 Dual Flush One Piece Eco-Friendly C...</td>\n",
       "      <td>4015&gt;3754&gt;3580&gt;1415&gt;4225</td>\n",
       "    </tr>\n",
       "    <tr>\n",
       "      <th>199981</th>\n",
       "      <td>EKA G3 Pivoting Blade Hunting Knife Black EKA-...</td>\n",
       "      <td>2075&gt;1724&gt;353&gt;4888&gt;4822</td>\n",
       "    </tr>\n",
       "    <tr>\n",
       "      <th>199982</th>\n",
       "      <td>Houghton Mifflin Harcourt SV-9780547893365 Six...</td>\n",
       "      <td>1395&gt;2736&gt;2160&gt;2621</td>\n",
       "    </tr>\n",
       "    <tr>\n",
       "      <th>199983</th>\n",
       "      <td>TMP CANON IMAGECLASS MF4570DN TONER CARTRIDGE ...</td>\n",
       "      <td>3292&gt;1370&gt;289&gt;4073</td>\n",
       "    </tr>\n",
       "    <tr>\n",
       "      <th>199984</th>\n",
       "      <td>1m Sfp Plus Copper Cable</td>\n",
       "      <td>3292&gt;1370&gt;3828&gt;1710</td>\n",
       "    </tr>\n",
       "    <tr>\n",
       "      <th>199985</th>\n",
       "      <td>Black Mesh 10x20 Heavy Duty UV Screen Shade Ca...</td>\n",
       "      <td>4015&gt;4733&gt;1488&gt;478</td>\n",
       "    </tr>\n",
       "    <tr>\n",
       "      <th>199986</th>\n",
       "      <td>On The Mark Press OTM14118 Skinny Bones Lit Li...</td>\n",
       "      <td>1395&gt;2736&gt;2160&gt;2621</td>\n",
       "    </tr>\n",
       "    <tr>\n",
       "      <th>199987</th>\n",
       "      <td>Thomas &amp; Betts Square Box Cover</td>\n",
       "      <td>2296&gt;3597&gt;689</td>\n",
       "    </tr>\n",
       "    <tr>\n",
       "      <th>199988</th>\n",
       "      <td>Warn 22680 Quick Connect Plugs</td>\n",
       "      <td>2199&gt;4592&gt;12</td>\n",
       "    </tr>\n",
       "    <tr>\n",
       "      <th>199989</th>\n",
       "      <td>Warehouse Sheds Gates Door Stainless Steel Pad...</td>\n",
       "      <td>2199&gt;1952&gt;2354&gt;2352</td>\n",
       "    </tr>\n",
       "    <tr>\n",
       "      <th>199990</th>\n",
       "      <td>Dell PowerEdge T710 LFF 2x X5650 Six Core 2.66...</td>\n",
       "      <td>3292&gt;1370&gt;3314&gt;549</td>\n",
       "    </tr>\n",
       "    <tr>\n",
       "      <th>199991</th>\n",
       "      <td>Manual Projection Screen, Quartet, 670S</td>\n",
       "      <td>2296&gt;3597&gt;419</td>\n",
       "    </tr>\n",
       "    <tr>\n",
       "      <th>199992</th>\n",
       "      <td>CUSTOM White OtterBox Commuter Series Case (77...</td>\n",
       "      <td>3292&gt;3581&gt;3145&gt;3191</td>\n",
       "    </tr>\n",
       "    <tr>\n",
       "      <th>199993</th>\n",
       "      <td>Eap350 Business-class Gigabit Wired 29db</td>\n",
       "      <td>3292&gt;1370&gt;3828&gt;1710</td>\n",
       "    </tr>\n",
       "    <tr>\n",
       "      <th>199994</th>\n",
       "      <td>Ana Silver Co Natural Ethiopian Opal 925 Sterl...</td>\n",
       "      <td>1608&gt;2320&gt;498&gt;1546</td>\n",
       "    </tr>\n",
       "    <tr>\n",
       "      <th>199995</th>\n",
       "      <td>MightySkins Protective Vinyl Skin Decal for IB...</td>\n",
       "      <td>3292&gt;3581&gt;3145&gt;2201</td>\n",
       "    </tr>\n",
       "    <tr>\n",
       "      <th>199996</th>\n",
       "      <td>14K White Gold Synthetic Ruby Ring Sz 10</td>\n",
       "      <td>1608&gt;2320&gt;3648</td>\n",
       "    </tr>\n",
       "    <tr>\n",
       "      <th>199997</th>\n",
       "      <td>Blue Stone Box Large</td>\n",
       "      <td>2296&gt;3597&gt;689</td>\n",
       "    </tr>\n",
       "    <tr>\n",
       "      <th>199998</th>\n",
       "      <td>8-Pack Replacement Engine Air Filter for 2003 ...</td>\n",
       "      <td>4015&gt;2337&gt;1458&gt;40</td>\n",
       "    </tr>\n",
       "    <tr>\n",
       "      <th>199999</th>\n",
       "      <td>WALTER F4253.B32.100.Z05.12 Indexable Mill Cut...</td>\n",
       "      <td>4015&gt;3754&gt;3663&gt;512&gt;634</td>\n",
       "    </tr>\n",
       "    <tr>\n",
       "      <th>200000</th>\n",
       "      <td>Skin for Microsoft Surface Pro (2017) 12.3\" - ...</td>\n",
       "      <td>3292&gt;49&gt;2166</td>\n",
       "    </tr>\n",
       "  </tbody>\n",
       "</table>\n",
       "<p>200001 rows × 2 columns</p>\n",
       "</div>"
      ],
      "text/plain": [
       "                                                    Title  \\\n",
       "0                                                   Title   \n",
       "1       Sterling Silver Dangle Ball Earrings w/ Brilli...   \n",
       "2       ALTERNATOR FREIGHTLINER FL FLC 112 120 FLD 112...   \n",
       "3       Disc Brake Rotor-Advanced Technology Rear Rayb...   \n",
       "4       Coquette Neon Pink Ruffle Babydoll 7035 Neon P...   \n",
       "5       12V 7Ah (SPS Brand) APC NS3000RMT3U Replacemen...   \n",
       "6       Honda Ridgeline 2006-08 Black Radio AM FM 6 Di...   \n",
       "7             Morris Costumes SS88229 Rat Pumpkin Push In   \n",
       "8       Benzara Alphabet Sculpture ''and '' Sign Polis...   \n",
       "9       Ana Silver Co Rainbow Moonstone Earrings 2 1/4...   \n",
       "10      Kiehl's Creme de Corps Whipped Body Butter - S...   \n",
       "11      Ernie Ball Music Man StingRay Trem Maple Finge...   \n",
       "12               Mobius Compression Knee Sleeves Black XL   \n",
       "13      TK Classics Venice 10-Piece Outdoor Wicker Sec...   \n",
       "14      New CDI Module for 1988-97 Honda VLX600 Transa...   \n",
       "15      Skilcraft Composition Board Clipboard - 9 X 12...   \n",
       "16      Frankford Arsenal Platinum Series Case Prep Es...   \n",
       "17      Southern Prelude and Minuet (Trombone, Bariton...   \n",
       "18      Pc Wholesale Exclusive Hp Sourcing 300gb-10krp...   \n",
       "19      Deflecta-Shield Aluminum 9100T Aluminum Cross ...   \n",
       "20      Zodaca Crystal Mens Wedding Party Gift Cufflin...   \n",
       "21      Fred Bock Music Praise His Holy Names SATB Com...   \n",
       "22      STARTER MOTOR 06 07 08 09 HARLEY DAVIDSON DYNA...   \n",
       "23      Home Kitchen Cookware Plastic Round Shaped Lid...   \n",
       "24      ASUS M2400E 4400mAh 65Wh 8 Cell Li-ion 14.8V B...   \n",
       "25      2.29\" Miniature Distribution Block, 600VAC, Sq...   \n",
       "26      Shock Absorber-Gas-a-just Rear KYB KG6797 A he...   \n",
       "27      2x Pack - Motorola XiRP8200 Battery & Earpiece...   \n",
       "28      Alfred 00-Bd00997C S Red The White & The Blues...   \n",
       "29          Shurhold Snap Stick Snap and Zipper Lubricant   \n",
       "...                                                   ...   \n",
       "199971                         RayNet to RayNet Cable 10M   \n",
       "199972  4-Pack Replacement Electrolux E24RD75HPS1 Refr...   \n",
       "199973                    Paul Mitchell Spray Wax  7.5 Oz   \n",
       "199974  Ruby 8903 Plum Fleur-De-Lis Aubusson 2'3\" x 7'...   \n",
       "199975  Sixity 2014 Polaris 800 Ranger 6X6 Front Left ...   \n",
       "199976  Syba SY-ACC65057 Sy-acc65057 Twr Blk Metal Bod...   \n",
       "199977  Superb Choice? Remanufactured Toner Cartridge ...   \n",
       "199978  TIRE PRESSURE MONITOR FITS 2006-2010 LAMBORGHI...   \n",
       "199979   Allstar Performance All55160 Torsion Bar Bushing   \n",
       "199980  EAGO TB359 Dual Flush One Piece Eco-Friendly C...   \n",
       "199981  EKA G3 Pivoting Blade Hunting Knife Black EKA-...   \n",
       "199982  Houghton Mifflin Harcourt SV-9780547893365 Six...   \n",
       "199983  TMP CANON IMAGECLASS MF4570DN TONER CARTRIDGE ...   \n",
       "199984                           1m Sfp Plus Copper Cable   \n",
       "199985  Black Mesh 10x20 Heavy Duty UV Screen Shade Ca...   \n",
       "199986  On The Mark Press OTM14118 Skinny Bones Lit Li...   \n",
       "199987                    Thomas & Betts Square Box Cover   \n",
       "199988                     Warn 22680 Quick Connect Plugs   \n",
       "199989  Warehouse Sheds Gates Door Stainless Steel Pad...   \n",
       "199990  Dell PowerEdge T710 LFF 2x X5650 Six Core 2.66...   \n",
       "199991            Manual Projection Screen, Quartet, 670S   \n",
       "199992  CUSTOM White OtterBox Commuter Series Case (77...   \n",
       "199993           Eap350 Business-class Gigabit Wired 29db   \n",
       "199994  Ana Silver Co Natural Ethiopian Opal 925 Sterl...   \n",
       "199995  MightySkins Protective Vinyl Skin Decal for IB...   \n",
       "199996           14K White Gold Synthetic Ruby Ring Sz 10   \n",
       "199997                               Blue Stone Box Large   \n",
       "199998  8-Pack Replacement Engine Air Filter for 2003 ...   \n",
       "199999  WALTER F4253.B32.100.Z05.12 Indexable Mill Cut...   \n",
       "200000  Skin for Microsoft Surface Pro (2017) 12.3\" - ...   \n",
       "\n",
       "                             keras_label  \n",
       "0                          2296>3597>689  \n",
       "1                     1608>2320>498>1546  \n",
       "2                           2199>4592>12  \n",
       "3                           2199>4592>12  \n",
       "4                    1608>1206>1632>4604  \n",
       "5                          3292>114>1231  \n",
       "6                          3292>2790>350  \n",
       "7                         2296>3706>1586  \n",
       "8                 4015>3636>526>2454>882  \n",
       "9                    1608>2320>2495>4952  \n",
       "10                         3625>594>3088  \n",
       "11      4015>2824>2964>32>4423>4355>1729  \n",
       "12                         2199>4592>193  \n",
       "13                   4015>3636>1319>3100  \n",
       "14                          2199>4592>12  \n",
       "15                     4238>321>753>1113  \n",
       "16                   2075>1724>1168>2889  \n",
       "17               4015>2824>2964>1002>200  \n",
       "18               3292>1370>760>3677>3449  \n",
       "19                          2199>4592>12  \n",
       "20                   1608>2320>2495>2615  \n",
       "21               4015>2824>2964>1002>200  \n",
       "22                          2199>4592>12  \n",
       "23                    4015>3271>714>3572  \n",
       "24              3292>1370>4767>3975>1420  \n",
       "25              4015>3754>1170>1200>1672  \n",
       "26                          2199>4592>12  \n",
       "27                   3292>3581>2544>4749  \n",
       "28                        2296>2435>4774  \n",
       "29                        3292>4837>3753  \n",
       "...                                  ...  \n",
       "199971                    3292>4837>2112  \n",
       "199972          4015>2337>2943>2570>3135  \n",
       "199973               3625>3641>3045>1524  \n",
       "199974                4015>3636>526>3639  \n",
       "199975                      2199>4592>12  \n",
       "199976          3292>1370>3690>1735>4907  \n",
       "199977                    4238>4960>3633  \n",
       "199978                      2199>4592>12  \n",
       "199979                      2199>4592>12  \n",
       "199980          4015>3754>3580>1415>4225  \n",
       "199981           2075>1724>353>4888>4822  \n",
       "199982               1395>2736>2160>2621  \n",
       "199983                3292>1370>289>4073  \n",
       "199984               3292>1370>3828>1710  \n",
       "199985                4015>4733>1488>478  \n",
       "199986               1395>2736>2160>2621  \n",
       "199987                     2296>3597>689  \n",
       "199988                      2199>4592>12  \n",
       "199989               2199>1952>2354>2352  \n",
       "199990                3292>1370>3314>549  \n",
       "199991                     2296>3597>419  \n",
       "199992               3292>3581>3145>3191  \n",
       "199993               3292>1370>3828>1710  \n",
       "199994                1608>2320>498>1546  \n",
       "199995               3292>3581>3145>2201  \n",
       "199996                    1608>2320>3648  \n",
       "199997                     2296>3597>689  \n",
       "199998                 4015>2337>1458>40  \n",
       "199999            4015>3754>3663>512>634  \n",
       "200000                      3292>49>2166  \n",
       "\n",
       "[200001 rows x 2 columns]"
      ]
     },
     "execution_count": 101,
     "metadata": {},
     "output_type": "execute_result"
    }
   ],
   "source": [
    "test_df"
   ]
  },
  {
   "cell_type": "code",
   "execution_count": 102,
   "metadata": {
    "collapsed": true
   },
   "outputs": [],
   "source": [
    "test_df=test_df.drop(test_df.index[0])"
   ]
  },
  {
   "cell_type": "code",
   "execution_count": 103,
   "metadata": {},
   "outputs": [
    {
     "data": {
      "text/html": [
       "<div>\n",
       "<style scoped>\n",
       "    .dataframe tbody tr th:only-of-type {\n",
       "        vertical-align: middle;\n",
       "    }\n",
       "\n",
       "    .dataframe tbody tr th {\n",
       "        vertical-align: top;\n",
       "    }\n",
       "\n",
       "    .dataframe thead th {\n",
       "        text-align: right;\n",
       "    }\n",
       "</style>\n",
       "<table border=\"1\" class=\"dataframe\">\n",
       "  <thead>\n",
       "    <tr style=\"text-align: right;\">\n",
       "      <th></th>\n",
       "      <th>Title</th>\n",
       "      <th>keras_label</th>\n",
       "    </tr>\n",
       "  </thead>\n",
       "  <tbody>\n",
       "    <tr>\n",
       "      <th>1</th>\n",
       "      <td>Sterling Silver Dangle Ball Earrings w/ Brilli...</td>\n",
       "      <td>1608&gt;2320&gt;498&gt;1546</td>\n",
       "    </tr>\n",
       "    <tr>\n",
       "      <th>2</th>\n",
       "      <td>ALTERNATOR FREIGHTLINER FL FLC 112 120 FLD 112...</td>\n",
       "      <td>2199&gt;4592&gt;12</td>\n",
       "    </tr>\n",
       "    <tr>\n",
       "      <th>3</th>\n",
       "      <td>Disc Brake Rotor-Advanced Technology Rear Rayb...</td>\n",
       "      <td>2199&gt;4592&gt;12</td>\n",
       "    </tr>\n",
       "    <tr>\n",
       "      <th>4</th>\n",
       "      <td>Coquette Neon Pink Ruffle Babydoll 7035 Neon P...</td>\n",
       "      <td>1608&gt;1206&gt;1632&gt;4604</td>\n",
       "    </tr>\n",
       "    <tr>\n",
       "      <th>5</th>\n",
       "      <td>12V 7Ah (SPS Brand) APC NS3000RMT3U Replacemen...</td>\n",
       "      <td>3292&gt;114&gt;1231</td>\n",
       "    </tr>\n",
       "    <tr>\n",
       "      <th>6</th>\n",
       "      <td>Honda Ridgeline 2006-08 Black Radio AM FM 6 Di...</td>\n",
       "      <td>3292&gt;2790&gt;350</td>\n",
       "    </tr>\n",
       "    <tr>\n",
       "      <th>7</th>\n",
       "      <td>Morris Costumes SS88229 Rat Pumpkin Push In</td>\n",
       "      <td>2296&gt;3706&gt;1586</td>\n",
       "    </tr>\n",
       "    <tr>\n",
       "      <th>8</th>\n",
       "      <td>Benzara Alphabet Sculpture ''and '' Sign Polis...</td>\n",
       "      <td>4015&gt;3636&gt;526&gt;2454&gt;882</td>\n",
       "    </tr>\n",
       "    <tr>\n",
       "      <th>9</th>\n",
       "      <td>Ana Silver Co Rainbow Moonstone Earrings 2 1/4...</td>\n",
       "      <td>1608&gt;2320&gt;2495&gt;4952</td>\n",
       "    </tr>\n",
       "    <tr>\n",
       "      <th>10</th>\n",
       "      <td>Kiehl's Creme de Corps Whipped Body Butter - S...</td>\n",
       "      <td>3625&gt;594&gt;3088</td>\n",
       "    </tr>\n",
       "    <tr>\n",
       "      <th>11</th>\n",
       "      <td>Ernie Ball Music Man StingRay Trem Maple Finge...</td>\n",
       "      <td>4015&gt;2824&gt;2964&gt;32&gt;4423&gt;4355&gt;1729</td>\n",
       "    </tr>\n",
       "    <tr>\n",
       "      <th>12</th>\n",
       "      <td>Mobius Compression Knee Sleeves Black XL</td>\n",
       "      <td>2199&gt;4592&gt;193</td>\n",
       "    </tr>\n",
       "    <tr>\n",
       "      <th>13</th>\n",
       "      <td>TK Classics Venice 10-Piece Outdoor Wicker Sec...</td>\n",
       "      <td>4015&gt;3636&gt;1319&gt;3100</td>\n",
       "    </tr>\n",
       "    <tr>\n",
       "      <th>14</th>\n",
       "      <td>New CDI Module for 1988-97 Honda VLX600 Transa...</td>\n",
       "      <td>2199&gt;4592&gt;12</td>\n",
       "    </tr>\n",
       "    <tr>\n",
       "      <th>15</th>\n",
       "      <td>Skilcraft Composition Board Clipboard - 9 X 12...</td>\n",
       "      <td>4238&gt;321&gt;753&gt;1113</td>\n",
       "    </tr>\n",
       "    <tr>\n",
       "      <th>16</th>\n",
       "      <td>Frankford Arsenal Platinum Series Case Prep Es...</td>\n",
       "      <td>2075&gt;1724&gt;1168&gt;2889</td>\n",
       "    </tr>\n",
       "    <tr>\n",
       "      <th>17</th>\n",
       "      <td>Southern Prelude and Minuet (Trombone, Bariton...</td>\n",
       "      <td>4015&gt;2824&gt;2964&gt;1002&gt;200</td>\n",
       "    </tr>\n",
       "    <tr>\n",
       "      <th>18</th>\n",
       "      <td>Pc Wholesale Exclusive Hp Sourcing 300gb-10krp...</td>\n",
       "      <td>3292&gt;1370&gt;760&gt;3677&gt;3449</td>\n",
       "    </tr>\n",
       "    <tr>\n",
       "      <th>19</th>\n",
       "      <td>Deflecta-Shield Aluminum 9100T Aluminum Cross ...</td>\n",
       "      <td>2199&gt;4592&gt;12</td>\n",
       "    </tr>\n",
       "    <tr>\n",
       "      <th>20</th>\n",
       "      <td>Zodaca Crystal Mens Wedding Party Gift Cufflin...</td>\n",
       "      <td>1608&gt;2320&gt;2495&gt;2615</td>\n",
       "    </tr>\n",
       "    <tr>\n",
       "      <th>21</th>\n",
       "      <td>Fred Bock Music Praise His Holy Names SATB Com...</td>\n",
       "      <td>4015&gt;2824&gt;2964&gt;1002&gt;200</td>\n",
       "    </tr>\n",
       "    <tr>\n",
       "      <th>22</th>\n",
       "      <td>STARTER MOTOR 06 07 08 09 HARLEY DAVIDSON DYNA...</td>\n",
       "      <td>2199&gt;4592&gt;12</td>\n",
       "    </tr>\n",
       "    <tr>\n",
       "      <th>23</th>\n",
       "      <td>Home Kitchen Cookware Plastic Round Shaped Lid...</td>\n",
       "      <td>4015&gt;3271&gt;714&gt;3572</td>\n",
       "    </tr>\n",
       "    <tr>\n",
       "      <th>24</th>\n",
       "      <td>ASUS M2400E 4400mAh 65Wh 8 Cell Li-ion 14.8V B...</td>\n",
       "      <td>3292&gt;1370&gt;4767&gt;3975&gt;1420</td>\n",
       "    </tr>\n",
       "    <tr>\n",
       "      <th>25</th>\n",
       "      <td>2.29\" Miniature Distribution Block, 600VAC, Sq...</td>\n",
       "      <td>4015&gt;3754&gt;1170&gt;1200&gt;1672</td>\n",
       "    </tr>\n",
       "    <tr>\n",
       "      <th>26</th>\n",
       "      <td>Shock Absorber-Gas-a-just Rear KYB KG6797 A he...</td>\n",
       "      <td>2199&gt;4592&gt;12</td>\n",
       "    </tr>\n",
       "    <tr>\n",
       "      <th>27</th>\n",
       "      <td>2x Pack - Motorola XiRP8200 Battery &amp; Earpiece...</td>\n",
       "      <td>3292&gt;3581&gt;2544&gt;4749</td>\n",
       "    </tr>\n",
       "    <tr>\n",
       "      <th>28</th>\n",
       "      <td>Alfred 00-Bd00997C S Red The White &amp; The Blues...</td>\n",
       "      <td>2296&gt;2435&gt;4774</td>\n",
       "    </tr>\n",
       "    <tr>\n",
       "      <th>29</th>\n",
       "      <td>Shurhold Snap Stick Snap and Zipper Lubricant</td>\n",
       "      <td>3292&gt;4837&gt;3753</td>\n",
       "    </tr>\n",
       "    <tr>\n",
       "      <th>30</th>\n",
       "      <td>Ford Performance Parts M-20201-F Strut Tower B...</td>\n",
       "      <td>2199&gt;4592&gt;12</td>\n",
       "    </tr>\n",
       "    <tr>\n",
       "      <th>...</th>\n",
       "      <td>...</td>\n",
       "      <td>...</td>\n",
       "    </tr>\n",
       "    <tr>\n",
       "      <th>199971</th>\n",
       "      <td>RayNet to RayNet Cable 10M</td>\n",
       "      <td>3292&gt;4837&gt;2112</td>\n",
       "    </tr>\n",
       "    <tr>\n",
       "      <th>199972</th>\n",
       "      <td>4-Pack Replacement Electrolux E24RD75HPS1 Refr...</td>\n",
       "      <td>4015&gt;2337&gt;2943&gt;2570&gt;3135</td>\n",
       "    </tr>\n",
       "    <tr>\n",
       "      <th>199973</th>\n",
       "      <td>Paul Mitchell Spray Wax  7.5 Oz</td>\n",
       "      <td>3625&gt;3641&gt;3045&gt;1524</td>\n",
       "    </tr>\n",
       "    <tr>\n",
       "      <th>199974</th>\n",
       "      <td>Ruby 8903 Plum Fleur-De-Lis Aubusson 2'3\" x 7'...</td>\n",
       "      <td>4015&gt;3636&gt;526&gt;3639</td>\n",
       "    </tr>\n",
       "    <tr>\n",
       "      <th>199975</th>\n",
       "      <td>Sixity 2014 Polaris 800 Ranger 6X6 Front Left ...</td>\n",
       "      <td>2199&gt;4592&gt;12</td>\n",
       "    </tr>\n",
       "    <tr>\n",
       "      <th>199976</th>\n",
       "      <td>Syba SY-ACC65057 Sy-acc65057 Twr Blk Metal Bod...</td>\n",
       "      <td>3292&gt;1370&gt;3690&gt;1735&gt;4907</td>\n",
       "    </tr>\n",
       "    <tr>\n",
       "      <th>199977</th>\n",
       "      <td>Superb Choice? Remanufactured Toner Cartridge ...</td>\n",
       "      <td>4238&gt;4960&gt;3633</td>\n",
       "    </tr>\n",
       "    <tr>\n",
       "      <th>199978</th>\n",
       "      <td>TIRE PRESSURE MONITOR FITS 2006-2010 LAMBORGHI...</td>\n",
       "      <td>2199&gt;4592&gt;12</td>\n",
       "    </tr>\n",
       "    <tr>\n",
       "      <th>199979</th>\n",
       "      <td>Allstar Performance All55160 Torsion Bar Bushing</td>\n",
       "      <td>2199&gt;4592&gt;12</td>\n",
       "    </tr>\n",
       "    <tr>\n",
       "      <th>199980</th>\n",
       "      <td>EAGO TB359 Dual Flush One Piece Eco-Friendly C...</td>\n",
       "      <td>4015&gt;3754&gt;3580&gt;1415&gt;4225</td>\n",
       "    </tr>\n",
       "    <tr>\n",
       "      <th>199981</th>\n",
       "      <td>EKA G3 Pivoting Blade Hunting Knife Black EKA-...</td>\n",
       "      <td>2075&gt;1724&gt;353&gt;4888&gt;4822</td>\n",
       "    </tr>\n",
       "    <tr>\n",
       "      <th>199982</th>\n",
       "      <td>Houghton Mifflin Harcourt SV-9780547893365 Six...</td>\n",
       "      <td>1395&gt;2736&gt;2160&gt;2621</td>\n",
       "    </tr>\n",
       "    <tr>\n",
       "      <th>199983</th>\n",
       "      <td>TMP CANON IMAGECLASS MF4570DN TONER CARTRIDGE ...</td>\n",
       "      <td>3292&gt;1370&gt;289&gt;4073</td>\n",
       "    </tr>\n",
       "    <tr>\n",
       "      <th>199984</th>\n",
       "      <td>1m Sfp Plus Copper Cable</td>\n",
       "      <td>3292&gt;1370&gt;3828&gt;1710</td>\n",
       "    </tr>\n",
       "    <tr>\n",
       "      <th>199985</th>\n",
       "      <td>Black Mesh 10x20 Heavy Duty UV Screen Shade Ca...</td>\n",
       "      <td>4015&gt;4733&gt;1488&gt;478</td>\n",
       "    </tr>\n",
       "    <tr>\n",
       "      <th>199986</th>\n",
       "      <td>On The Mark Press OTM14118 Skinny Bones Lit Li...</td>\n",
       "      <td>1395&gt;2736&gt;2160&gt;2621</td>\n",
       "    </tr>\n",
       "    <tr>\n",
       "      <th>199987</th>\n",
       "      <td>Thomas &amp; Betts Square Box Cover</td>\n",
       "      <td>2296&gt;3597&gt;689</td>\n",
       "    </tr>\n",
       "    <tr>\n",
       "      <th>199988</th>\n",
       "      <td>Warn 22680 Quick Connect Plugs</td>\n",
       "      <td>2199&gt;4592&gt;12</td>\n",
       "    </tr>\n",
       "    <tr>\n",
       "      <th>199989</th>\n",
       "      <td>Warehouse Sheds Gates Door Stainless Steel Pad...</td>\n",
       "      <td>2199&gt;1952&gt;2354&gt;2352</td>\n",
       "    </tr>\n",
       "    <tr>\n",
       "      <th>199990</th>\n",
       "      <td>Dell PowerEdge T710 LFF 2x X5650 Six Core 2.66...</td>\n",
       "      <td>3292&gt;1370&gt;3314&gt;549</td>\n",
       "    </tr>\n",
       "    <tr>\n",
       "      <th>199991</th>\n",
       "      <td>Manual Projection Screen, Quartet, 670S</td>\n",
       "      <td>2296&gt;3597&gt;419</td>\n",
       "    </tr>\n",
       "    <tr>\n",
       "      <th>199992</th>\n",
       "      <td>CUSTOM White OtterBox Commuter Series Case (77...</td>\n",
       "      <td>3292&gt;3581&gt;3145&gt;3191</td>\n",
       "    </tr>\n",
       "    <tr>\n",
       "      <th>199993</th>\n",
       "      <td>Eap350 Business-class Gigabit Wired 29db</td>\n",
       "      <td>3292&gt;1370&gt;3828&gt;1710</td>\n",
       "    </tr>\n",
       "    <tr>\n",
       "      <th>199994</th>\n",
       "      <td>Ana Silver Co Natural Ethiopian Opal 925 Sterl...</td>\n",
       "      <td>1608&gt;2320&gt;498&gt;1546</td>\n",
       "    </tr>\n",
       "    <tr>\n",
       "      <th>199995</th>\n",
       "      <td>MightySkins Protective Vinyl Skin Decal for IB...</td>\n",
       "      <td>3292&gt;3581&gt;3145&gt;2201</td>\n",
       "    </tr>\n",
       "    <tr>\n",
       "      <th>199996</th>\n",
       "      <td>14K White Gold Synthetic Ruby Ring Sz 10</td>\n",
       "      <td>1608&gt;2320&gt;3648</td>\n",
       "    </tr>\n",
       "    <tr>\n",
       "      <th>199997</th>\n",
       "      <td>Blue Stone Box Large</td>\n",
       "      <td>2296&gt;3597&gt;689</td>\n",
       "    </tr>\n",
       "    <tr>\n",
       "      <th>199998</th>\n",
       "      <td>8-Pack Replacement Engine Air Filter for 2003 ...</td>\n",
       "      <td>4015&gt;2337&gt;1458&gt;40</td>\n",
       "    </tr>\n",
       "    <tr>\n",
       "      <th>199999</th>\n",
       "      <td>WALTER F4253.B32.100.Z05.12 Indexable Mill Cut...</td>\n",
       "      <td>4015&gt;3754&gt;3663&gt;512&gt;634</td>\n",
       "    </tr>\n",
       "    <tr>\n",
       "      <th>200000</th>\n",
       "      <td>Skin for Microsoft Surface Pro (2017) 12.3\" - ...</td>\n",
       "      <td>3292&gt;49&gt;2166</td>\n",
       "    </tr>\n",
       "  </tbody>\n",
       "</table>\n",
       "<p>200000 rows × 2 columns</p>\n",
       "</div>"
      ],
      "text/plain": [
       "                                                    Title  \\\n",
       "1       Sterling Silver Dangle Ball Earrings w/ Brilli...   \n",
       "2       ALTERNATOR FREIGHTLINER FL FLC 112 120 FLD 112...   \n",
       "3       Disc Brake Rotor-Advanced Technology Rear Rayb...   \n",
       "4       Coquette Neon Pink Ruffle Babydoll 7035 Neon P...   \n",
       "5       12V 7Ah (SPS Brand) APC NS3000RMT3U Replacemen...   \n",
       "6       Honda Ridgeline 2006-08 Black Radio AM FM 6 Di...   \n",
       "7             Morris Costumes SS88229 Rat Pumpkin Push In   \n",
       "8       Benzara Alphabet Sculpture ''and '' Sign Polis...   \n",
       "9       Ana Silver Co Rainbow Moonstone Earrings 2 1/4...   \n",
       "10      Kiehl's Creme de Corps Whipped Body Butter - S...   \n",
       "11      Ernie Ball Music Man StingRay Trem Maple Finge...   \n",
       "12               Mobius Compression Knee Sleeves Black XL   \n",
       "13      TK Classics Venice 10-Piece Outdoor Wicker Sec...   \n",
       "14      New CDI Module for 1988-97 Honda VLX600 Transa...   \n",
       "15      Skilcraft Composition Board Clipboard - 9 X 12...   \n",
       "16      Frankford Arsenal Platinum Series Case Prep Es...   \n",
       "17      Southern Prelude and Minuet (Trombone, Bariton...   \n",
       "18      Pc Wholesale Exclusive Hp Sourcing 300gb-10krp...   \n",
       "19      Deflecta-Shield Aluminum 9100T Aluminum Cross ...   \n",
       "20      Zodaca Crystal Mens Wedding Party Gift Cufflin...   \n",
       "21      Fred Bock Music Praise His Holy Names SATB Com...   \n",
       "22      STARTER MOTOR 06 07 08 09 HARLEY DAVIDSON DYNA...   \n",
       "23      Home Kitchen Cookware Plastic Round Shaped Lid...   \n",
       "24      ASUS M2400E 4400mAh 65Wh 8 Cell Li-ion 14.8V B...   \n",
       "25      2.29\" Miniature Distribution Block, 600VAC, Sq...   \n",
       "26      Shock Absorber-Gas-a-just Rear KYB KG6797 A he...   \n",
       "27      2x Pack - Motorola XiRP8200 Battery & Earpiece...   \n",
       "28      Alfred 00-Bd00997C S Red The White & The Blues...   \n",
       "29          Shurhold Snap Stick Snap and Zipper Lubricant   \n",
       "30      Ford Performance Parts M-20201-F Strut Tower B...   \n",
       "...                                                   ...   \n",
       "199971                         RayNet to RayNet Cable 10M   \n",
       "199972  4-Pack Replacement Electrolux E24RD75HPS1 Refr...   \n",
       "199973                    Paul Mitchell Spray Wax  7.5 Oz   \n",
       "199974  Ruby 8903 Plum Fleur-De-Lis Aubusson 2'3\" x 7'...   \n",
       "199975  Sixity 2014 Polaris 800 Ranger 6X6 Front Left ...   \n",
       "199976  Syba SY-ACC65057 Sy-acc65057 Twr Blk Metal Bod...   \n",
       "199977  Superb Choice? Remanufactured Toner Cartridge ...   \n",
       "199978  TIRE PRESSURE MONITOR FITS 2006-2010 LAMBORGHI...   \n",
       "199979   Allstar Performance All55160 Torsion Bar Bushing   \n",
       "199980  EAGO TB359 Dual Flush One Piece Eco-Friendly C...   \n",
       "199981  EKA G3 Pivoting Blade Hunting Knife Black EKA-...   \n",
       "199982  Houghton Mifflin Harcourt SV-9780547893365 Six...   \n",
       "199983  TMP CANON IMAGECLASS MF4570DN TONER CARTRIDGE ...   \n",
       "199984                           1m Sfp Plus Copper Cable   \n",
       "199985  Black Mesh 10x20 Heavy Duty UV Screen Shade Ca...   \n",
       "199986  On The Mark Press OTM14118 Skinny Bones Lit Li...   \n",
       "199987                    Thomas & Betts Square Box Cover   \n",
       "199988                     Warn 22680 Quick Connect Plugs   \n",
       "199989  Warehouse Sheds Gates Door Stainless Steel Pad...   \n",
       "199990  Dell PowerEdge T710 LFF 2x X5650 Six Core 2.66...   \n",
       "199991            Manual Projection Screen, Quartet, 670S   \n",
       "199992  CUSTOM White OtterBox Commuter Series Case (77...   \n",
       "199993           Eap350 Business-class Gigabit Wired 29db   \n",
       "199994  Ana Silver Co Natural Ethiopian Opal 925 Sterl...   \n",
       "199995  MightySkins Protective Vinyl Skin Decal for IB...   \n",
       "199996           14K White Gold Synthetic Ruby Ring Sz 10   \n",
       "199997                               Blue Stone Box Large   \n",
       "199998  8-Pack Replacement Engine Air Filter for 2003 ...   \n",
       "199999  WALTER F4253.B32.100.Z05.12 Indexable Mill Cut...   \n",
       "200000  Skin for Microsoft Surface Pro (2017) 12.3\" - ...   \n",
       "\n",
       "                             keras_label  \n",
       "1                     1608>2320>498>1546  \n",
       "2                           2199>4592>12  \n",
       "3                           2199>4592>12  \n",
       "4                    1608>1206>1632>4604  \n",
       "5                          3292>114>1231  \n",
       "6                          3292>2790>350  \n",
       "7                         2296>3706>1586  \n",
       "8                 4015>3636>526>2454>882  \n",
       "9                    1608>2320>2495>4952  \n",
       "10                         3625>594>3088  \n",
       "11      4015>2824>2964>32>4423>4355>1729  \n",
       "12                         2199>4592>193  \n",
       "13                   4015>3636>1319>3100  \n",
       "14                          2199>4592>12  \n",
       "15                     4238>321>753>1113  \n",
       "16                   2075>1724>1168>2889  \n",
       "17               4015>2824>2964>1002>200  \n",
       "18               3292>1370>760>3677>3449  \n",
       "19                          2199>4592>12  \n",
       "20                   1608>2320>2495>2615  \n",
       "21               4015>2824>2964>1002>200  \n",
       "22                          2199>4592>12  \n",
       "23                    4015>3271>714>3572  \n",
       "24              3292>1370>4767>3975>1420  \n",
       "25              4015>3754>1170>1200>1672  \n",
       "26                          2199>4592>12  \n",
       "27                   3292>3581>2544>4749  \n",
       "28                        2296>2435>4774  \n",
       "29                        3292>4837>3753  \n",
       "30                          2199>4592>12  \n",
       "...                                  ...  \n",
       "199971                    3292>4837>2112  \n",
       "199972          4015>2337>2943>2570>3135  \n",
       "199973               3625>3641>3045>1524  \n",
       "199974                4015>3636>526>3639  \n",
       "199975                      2199>4592>12  \n",
       "199976          3292>1370>3690>1735>4907  \n",
       "199977                    4238>4960>3633  \n",
       "199978                      2199>4592>12  \n",
       "199979                      2199>4592>12  \n",
       "199980          4015>3754>3580>1415>4225  \n",
       "199981           2075>1724>353>4888>4822  \n",
       "199982               1395>2736>2160>2621  \n",
       "199983                3292>1370>289>4073  \n",
       "199984               3292>1370>3828>1710  \n",
       "199985                4015>4733>1488>478  \n",
       "199986               1395>2736>2160>2621  \n",
       "199987                     2296>3597>689  \n",
       "199988                      2199>4592>12  \n",
       "199989               2199>1952>2354>2352  \n",
       "199990                3292>1370>3314>549  \n",
       "199991                     2296>3597>419  \n",
       "199992               3292>3581>3145>3191  \n",
       "199993               3292>1370>3828>1710  \n",
       "199994                1608>2320>498>1546  \n",
       "199995               3292>3581>3145>2201  \n",
       "199996                    1608>2320>3648  \n",
       "199997                     2296>3597>689  \n",
       "199998                 4015>2337>1458>40  \n",
       "199999            4015>3754>3663>512>634  \n",
       "200000                      3292>49>2166  \n",
       "\n",
       "[200000 rows x 2 columns]"
      ]
     },
     "execution_count": 103,
     "metadata": {},
     "output_type": "execute_result"
    }
   ],
   "source": [
    "test_df"
   ]
  },
  {
   "cell_type": "code",
   "execution_count": 108,
   "metadata": {
    "collapsed": true
   },
   "outputs": [],
   "source": [
    "test_df.to_csv(\"submission_keras.tsv\", sep='\\t', encoding='utf-8',index=False,header=False)"
   ]
  },
  {
   "cell_type": "code",
   "execution_count": 109,
   "metadata": {
    "collapsed": true
   },
   "outputs": [],
   "source": [
    "sub_df=pd.read_csv(\"submission_keras.tsv\",delimiter='\\t',encoding='utf-8',header=None)"
   ]
  },
  {
   "cell_type": "code",
   "execution_count": 110,
   "metadata": {},
   "outputs": [
    {
     "data": {
      "text/html": [
       "<div>\n",
       "<style scoped>\n",
       "    .dataframe tbody tr th:only-of-type {\n",
       "        vertical-align: middle;\n",
       "    }\n",
       "\n",
       "    .dataframe tbody tr th {\n",
       "        vertical-align: top;\n",
       "    }\n",
       "\n",
       "    .dataframe thead th {\n",
       "        text-align: right;\n",
       "    }\n",
       "</style>\n",
       "<table border=\"1\" class=\"dataframe\">\n",
       "  <thead>\n",
       "    <tr style=\"text-align: right;\">\n",
       "      <th></th>\n",
       "      <th>0</th>\n",
       "      <th>1</th>\n",
       "    </tr>\n",
       "  </thead>\n",
       "  <tbody>\n",
       "    <tr>\n",
       "      <th>0</th>\n",
       "      <td>Sterling Silver Dangle Ball Earrings w/ Brilli...</td>\n",
       "      <td>1608&gt;2320&gt;498&gt;1546</td>\n",
       "    </tr>\n",
       "    <tr>\n",
       "      <th>1</th>\n",
       "      <td>ALTERNATOR FREIGHTLINER FL FLC 112 120 FLD 112...</td>\n",
       "      <td>2199&gt;4592&gt;12</td>\n",
       "    </tr>\n",
       "    <tr>\n",
       "      <th>2</th>\n",
       "      <td>Disc Brake Rotor-Advanced Technology Rear Rayb...</td>\n",
       "      <td>2199&gt;4592&gt;12</td>\n",
       "    </tr>\n",
       "    <tr>\n",
       "      <th>3</th>\n",
       "      <td>Coquette Neon Pink Ruffle Babydoll 7035 Neon P...</td>\n",
       "      <td>1608&gt;1206&gt;1632&gt;4604</td>\n",
       "    </tr>\n",
       "    <tr>\n",
       "      <th>4</th>\n",
       "      <td>12V 7Ah (SPS Brand) APC NS3000RMT3U Replacemen...</td>\n",
       "      <td>3292&gt;114&gt;1231</td>\n",
       "    </tr>\n",
       "    <tr>\n",
       "      <th>5</th>\n",
       "      <td>Honda Ridgeline 2006-08 Black Radio AM FM 6 Di...</td>\n",
       "      <td>3292&gt;2790&gt;350</td>\n",
       "    </tr>\n",
       "    <tr>\n",
       "      <th>6</th>\n",
       "      <td>Morris Costumes SS88229 Rat Pumpkin Push In</td>\n",
       "      <td>2296&gt;3706&gt;1586</td>\n",
       "    </tr>\n",
       "    <tr>\n",
       "      <th>7</th>\n",
       "      <td>Benzara Alphabet Sculpture ''and '' Sign Polis...</td>\n",
       "      <td>4015&gt;3636&gt;526&gt;2454&gt;882</td>\n",
       "    </tr>\n",
       "    <tr>\n",
       "      <th>8</th>\n",
       "      <td>Ana Silver Co Rainbow Moonstone Earrings 2 1/4...</td>\n",
       "      <td>1608&gt;2320&gt;2495&gt;4952</td>\n",
       "    </tr>\n",
       "    <tr>\n",
       "      <th>9</th>\n",
       "      <td>Kiehl's Creme de Corps Whipped Body Butter - S...</td>\n",
       "      <td>3625&gt;594&gt;3088</td>\n",
       "    </tr>\n",
       "    <tr>\n",
       "      <th>10</th>\n",
       "      <td>Ernie Ball Music Man StingRay Trem Maple Finge...</td>\n",
       "      <td>4015&gt;2824&gt;2964&gt;32&gt;4423&gt;4355&gt;1729</td>\n",
       "    </tr>\n",
       "    <tr>\n",
       "      <th>11</th>\n",
       "      <td>Mobius Compression Knee Sleeves Black XL</td>\n",
       "      <td>2199&gt;4592&gt;193</td>\n",
       "    </tr>\n",
       "    <tr>\n",
       "      <th>12</th>\n",
       "      <td>TK Classics Venice 10-Piece Outdoor Wicker Sec...</td>\n",
       "      <td>4015&gt;3636&gt;1319&gt;3100</td>\n",
       "    </tr>\n",
       "    <tr>\n",
       "      <th>13</th>\n",
       "      <td>New CDI Module for 1988-97 Honda VLX600 Transa...</td>\n",
       "      <td>2199&gt;4592&gt;12</td>\n",
       "    </tr>\n",
       "    <tr>\n",
       "      <th>14</th>\n",
       "      <td>Skilcraft Composition Board Clipboard - 9 X 12...</td>\n",
       "      <td>4238&gt;321&gt;753&gt;1113</td>\n",
       "    </tr>\n",
       "    <tr>\n",
       "      <th>15</th>\n",
       "      <td>Frankford Arsenal Platinum Series Case Prep Es...</td>\n",
       "      <td>2075&gt;1724&gt;1168&gt;2889</td>\n",
       "    </tr>\n",
       "    <tr>\n",
       "      <th>16</th>\n",
       "      <td>Southern Prelude and Minuet (Trombone, Bariton...</td>\n",
       "      <td>4015&gt;2824&gt;2964&gt;1002&gt;200</td>\n",
       "    </tr>\n",
       "    <tr>\n",
       "      <th>17</th>\n",
       "      <td>Pc Wholesale Exclusive Hp Sourcing 300gb-10krp...</td>\n",
       "      <td>3292&gt;1370&gt;760&gt;3677&gt;3449</td>\n",
       "    </tr>\n",
       "    <tr>\n",
       "      <th>18</th>\n",
       "      <td>Deflecta-Shield Aluminum 9100T Aluminum Cross ...</td>\n",
       "      <td>2199&gt;4592&gt;12</td>\n",
       "    </tr>\n",
       "    <tr>\n",
       "      <th>19</th>\n",
       "      <td>Zodaca Crystal Mens Wedding Party Gift Cufflin...</td>\n",
       "      <td>1608&gt;2320&gt;2495&gt;2615</td>\n",
       "    </tr>\n",
       "    <tr>\n",
       "      <th>20</th>\n",
       "      <td>Fred Bock Music Praise His Holy Names SATB Com...</td>\n",
       "      <td>4015&gt;2824&gt;2964&gt;1002&gt;200</td>\n",
       "    </tr>\n",
       "    <tr>\n",
       "      <th>21</th>\n",
       "      <td>STARTER MOTOR 06 07 08 09 HARLEY DAVIDSON DYNA...</td>\n",
       "      <td>2199&gt;4592&gt;12</td>\n",
       "    </tr>\n",
       "    <tr>\n",
       "      <th>22</th>\n",
       "      <td>Home Kitchen Cookware Plastic Round Shaped Lid...</td>\n",
       "      <td>4015&gt;3271&gt;714&gt;3572</td>\n",
       "    </tr>\n",
       "    <tr>\n",
       "      <th>23</th>\n",
       "      <td>ASUS M2400E 4400mAh 65Wh 8 Cell Li-ion 14.8V B...</td>\n",
       "      <td>3292&gt;1370&gt;4767&gt;3975&gt;1420</td>\n",
       "    </tr>\n",
       "    <tr>\n",
       "      <th>24</th>\n",
       "      <td>2.29\" Miniature Distribution Block, 600VAC, Sq...</td>\n",
       "      <td>4015&gt;3754&gt;1170&gt;1200&gt;1672</td>\n",
       "    </tr>\n",
       "    <tr>\n",
       "      <th>25</th>\n",
       "      <td>Shock Absorber-Gas-a-just Rear KYB KG6797 A he...</td>\n",
       "      <td>2199&gt;4592&gt;12</td>\n",
       "    </tr>\n",
       "    <tr>\n",
       "      <th>26</th>\n",
       "      <td>2x Pack - Motorola XiRP8200 Battery &amp; Earpiece...</td>\n",
       "      <td>3292&gt;3581&gt;2544&gt;4749</td>\n",
       "    </tr>\n",
       "    <tr>\n",
       "      <th>27</th>\n",
       "      <td>Alfred 00-Bd00997C S Red The White &amp; The Blues...</td>\n",
       "      <td>2296&gt;2435&gt;4774</td>\n",
       "    </tr>\n",
       "    <tr>\n",
       "      <th>28</th>\n",
       "      <td>Shurhold Snap Stick Snap and Zipper Lubricant</td>\n",
       "      <td>3292&gt;4837&gt;3753</td>\n",
       "    </tr>\n",
       "    <tr>\n",
       "      <th>29</th>\n",
       "      <td>Ford Performance Parts M-20201-F Strut Tower B...</td>\n",
       "      <td>2199&gt;4592&gt;12</td>\n",
       "    </tr>\n",
       "    <tr>\n",
       "      <th>...</th>\n",
       "      <td>...</td>\n",
       "      <td>...</td>\n",
       "    </tr>\n",
       "    <tr>\n",
       "      <th>199970</th>\n",
       "      <td>RayNet to RayNet Cable 10M</td>\n",
       "      <td>3292&gt;4837&gt;2112</td>\n",
       "    </tr>\n",
       "    <tr>\n",
       "      <th>199971</th>\n",
       "      <td>4-Pack Replacement Electrolux E24RD75HPS1 Refr...</td>\n",
       "      <td>4015&gt;2337&gt;2943&gt;2570&gt;3135</td>\n",
       "    </tr>\n",
       "    <tr>\n",
       "      <th>199972</th>\n",
       "      <td>Paul Mitchell Spray Wax  7.5 Oz</td>\n",
       "      <td>3625&gt;3641&gt;3045&gt;1524</td>\n",
       "    </tr>\n",
       "    <tr>\n",
       "      <th>199973</th>\n",
       "      <td>Ruby 8903 Plum Fleur-De-Lis Aubusson 2'3\" x 7'...</td>\n",
       "      <td>4015&gt;3636&gt;526&gt;3639</td>\n",
       "    </tr>\n",
       "    <tr>\n",
       "      <th>199974</th>\n",
       "      <td>Sixity 2014 Polaris 800 Ranger 6X6 Front Left ...</td>\n",
       "      <td>2199&gt;4592&gt;12</td>\n",
       "    </tr>\n",
       "    <tr>\n",
       "      <th>199975</th>\n",
       "      <td>Syba SY-ACC65057 Sy-acc65057 Twr Blk Metal Bod...</td>\n",
       "      <td>3292&gt;1370&gt;3690&gt;1735&gt;4907</td>\n",
       "    </tr>\n",
       "    <tr>\n",
       "      <th>199976</th>\n",
       "      <td>Superb Choice? Remanufactured Toner Cartridge ...</td>\n",
       "      <td>4238&gt;4960&gt;3633</td>\n",
       "    </tr>\n",
       "    <tr>\n",
       "      <th>199977</th>\n",
       "      <td>TIRE PRESSURE MONITOR FITS 2006-2010 LAMBORGHI...</td>\n",
       "      <td>2199&gt;4592&gt;12</td>\n",
       "    </tr>\n",
       "    <tr>\n",
       "      <th>199978</th>\n",
       "      <td>Allstar Performance All55160 Torsion Bar Bushing</td>\n",
       "      <td>2199&gt;4592&gt;12</td>\n",
       "    </tr>\n",
       "    <tr>\n",
       "      <th>199979</th>\n",
       "      <td>EAGO TB359 Dual Flush One Piece Eco-Friendly C...</td>\n",
       "      <td>4015&gt;3754&gt;3580&gt;1415&gt;4225</td>\n",
       "    </tr>\n",
       "    <tr>\n",
       "      <th>199980</th>\n",
       "      <td>EKA G3 Pivoting Blade Hunting Knife Black EKA-...</td>\n",
       "      <td>2075&gt;1724&gt;353&gt;4888&gt;4822</td>\n",
       "    </tr>\n",
       "    <tr>\n",
       "      <th>199981</th>\n",
       "      <td>Houghton Mifflin Harcourt SV-9780547893365 Six...</td>\n",
       "      <td>1395&gt;2736&gt;2160&gt;2621</td>\n",
       "    </tr>\n",
       "    <tr>\n",
       "      <th>199982</th>\n",
       "      <td>TMP CANON IMAGECLASS MF4570DN TONER CARTRIDGE ...</td>\n",
       "      <td>3292&gt;1370&gt;289&gt;4073</td>\n",
       "    </tr>\n",
       "    <tr>\n",
       "      <th>199983</th>\n",
       "      <td>1m Sfp Plus Copper Cable</td>\n",
       "      <td>3292&gt;1370&gt;3828&gt;1710</td>\n",
       "    </tr>\n",
       "    <tr>\n",
       "      <th>199984</th>\n",
       "      <td>Black Mesh 10x20 Heavy Duty UV Screen Shade Ca...</td>\n",
       "      <td>4015&gt;4733&gt;1488&gt;478</td>\n",
       "    </tr>\n",
       "    <tr>\n",
       "      <th>199985</th>\n",
       "      <td>On The Mark Press OTM14118 Skinny Bones Lit Li...</td>\n",
       "      <td>1395&gt;2736&gt;2160&gt;2621</td>\n",
       "    </tr>\n",
       "    <tr>\n",
       "      <th>199986</th>\n",
       "      <td>Thomas &amp; Betts Square Box Cover</td>\n",
       "      <td>2296&gt;3597&gt;689</td>\n",
       "    </tr>\n",
       "    <tr>\n",
       "      <th>199987</th>\n",
       "      <td>Warn 22680 Quick Connect Plugs</td>\n",
       "      <td>2199&gt;4592&gt;12</td>\n",
       "    </tr>\n",
       "    <tr>\n",
       "      <th>199988</th>\n",
       "      <td>Warehouse Sheds Gates Door Stainless Steel Pad...</td>\n",
       "      <td>2199&gt;1952&gt;2354&gt;2352</td>\n",
       "    </tr>\n",
       "    <tr>\n",
       "      <th>199989</th>\n",
       "      <td>Dell PowerEdge T710 LFF 2x X5650 Six Core 2.66...</td>\n",
       "      <td>3292&gt;1370&gt;3314&gt;549</td>\n",
       "    </tr>\n",
       "    <tr>\n",
       "      <th>199990</th>\n",
       "      <td>Manual Projection Screen, Quartet, 670S</td>\n",
       "      <td>2296&gt;3597&gt;419</td>\n",
       "    </tr>\n",
       "    <tr>\n",
       "      <th>199991</th>\n",
       "      <td>CUSTOM White OtterBox Commuter Series Case (77...</td>\n",
       "      <td>3292&gt;3581&gt;3145&gt;3191</td>\n",
       "    </tr>\n",
       "    <tr>\n",
       "      <th>199992</th>\n",
       "      <td>Eap350 Business-class Gigabit Wired 29db</td>\n",
       "      <td>3292&gt;1370&gt;3828&gt;1710</td>\n",
       "    </tr>\n",
       "    <tr>\n",
       "      <th>199993</th>\n",
       "      <td>Ana Silver Co Natural Ethiopian Opal 925 Sterl...</td>\n",
       "      <td>1608&gt;2320&gt;498&gt;1546</td>\n",
       "    </tr>\n",
       "    <tr>\n",
       "      <th>199994</th>\n",
       "      <td>MightySkins Protective Vinyl Skin Decal for IB...</td>\n",
       "      <td>3292&gt;3581&gt;3145&gt;2201</td>\n",
       "    </tr>\n",
       "    <tr>\n",
       "      <th>199995</th>\n",
       "      <td>14K White Gold Synthetic Ruby Ring Sz 10</td>\n",
       "      <td>1608&gt;2320&gt;3648</td>\n",
       "    </tr>\n",
       "    <tr>\n",
       "      <th>199996</th>\n",
       "      <td>Blue Stone Box Large</td>\n",
       "      <td>2296&gt;3597&gt;689</td>\n",
       "    </tr>\n",
       "    <tr>\n",
       "      <th>199997</th>\n",
       "      <td>8-Pack Replacement Engine Air Filter for 2003 ...</td>\n",
       "      <td>4015&gt;2337&gt;1458&gt;40</td>\n",
       "    </tr>\n",
       "    <tr>\n",
       "      <th>199998</th>\n",
       "      <td>WALTER F4253.B32.100.Z05.12 Indexable Mill Cut...</td>\n",
       "      <td>4015&gt;3754&gt;3663&gt;512&gt;634</td>\n",
       "    </tr>\n",
       "    <tr>\n",
       "      <th>199999</th>\n",
       "      <td>Skin for Microsoft Surface Pro (2017) 12.3\" - ...</td>\n",
       "      <td>3292&gt;49&gt;2166</td>\n",
       "    </tr>\n",
       "  </tbody>\n",
       "</table>\n",
       "<p>200000 rows × 2 columns</p>\n",
       "</div>"
      ],
      "text/plain": [
       "                                                        0  \\\n",
       "0       Sterling Silver Dangle Ball Earrings w/ Brilli...   \n",
       "1       ALTERNATOR FREIGHTLINER FL FLC 112 120 FLD 112...   \n",
       "2       Disc Brake Rotor-Advanced Technology Rear Rayb...   \n",
       "3       Coquette Neon Pink Ruffle Babydoll 7035 Neon P...   \n",
       "4       12V 7Ah (SPS Brand) APC NS3000RMT3U Replacemen...   \n",
       "5       Honda Ridgeline 2006-08 Black Radio AM FM 6 Di...   \n",
       "6             Morris Costumes SS88229 Rat Pumpkin Push In   \n",
       "7       Benzara Alphabet Sculpture ''and '' Sign Polis...   \n",
       "8       Ana Silver Co Rainbow Moonstone Earrings 2 1/4...   \n",
       "9       Kiehl's Creme de Corps Whipped Body Butter - S...   \n",
       "10      Ernie Ball Music Man StingRay Trem Maple Finge...   \n",
       "11               Mobius Compression Knee Sleeves Black XL   \n",
       "12      TK Classics Venice 10-Piece Outdoor Wicker Sec...   \n",
       "13      New CDI Module for 1988-97 Honda VLX600 Transa...   \n",
       "14      Skilcraft Composition Board Clipboard - 9 X 12...   \n",
       "15      Frankford Arsenal Platinum Series Case Prep Es...   \n",
       "16      Southern Prelude and Minuet (Trombone, Bariton...   \n",
       "17      Pc Wholesale Exclusive Hp Sourcing 300gb-10krp...   \n",
       "18      Deflecta-Shield Aluminum 9100T Aluminum Cross ...   \n",
       "19      Zodaca Crystal Mens Wedding Party Gift Cufflin...   \n",
       "20      Fred Bock Music Praise His Holy Names SATB Com...   \n",
       "21      STARTER MOTOR 06 07 08 09 HARLEY DAVIDSON DYNA...   \n",
       "22      Home Kitchen Cookware Plastic Round Shaped Lid...   \n",
       "23      ASUS M2400E 4400mAh 65Wh 8 Cell Li-ion 14.8V B...   \n",
       "24      2.29\" Miniature Distribution Block, 600VAC, Sq...   \n",
       "25      Shock Absorber-Gas-a-just Rear KYB KG6797 A he...   \n",
       "26      2x Pack - Motorola XiRP8200 Battery & Earpiece...   \n",
       "27      Alfred 00-Bd00997C S Red The White & The Blues...   \n",
       "28          Shurhold Snap Stick Snap and Zipper Lubricant   \n",
       "29      Ford Performance Parts M-20201-F Strut Tower B...   \n",
       "...                                                   ...   \n",
       "199970                         RayNet to RayNet Cable 10M   \n",
       "199971  4-Pack Replacement Electrolux E24RD75HPS1 Refr...   \n",
       "199972                    Paul Mitchell Spray Wax  7.5 Oz   \n",
       "199973  Ruby 8903 Plum Fleur-De-Lis Aubusson 2'3\" x 7'...   \n",
       "199974  Sixity 2014 Polaris 800 Ranger 6X6 Front Left ...   \n",
       "199975  Syba SY-ACC65057 Sy-acc65057 Twr Blk Metal Bod...   \n",
       "199976  Superb Choice? Remanufactured Toner Cartridge ...   \n",
       "199977  TIRE PRESSURE MONITOR FITS 2006-2010 LAMBORGHI...   \n",
       "199978   Allstar Performance All55160 Torsion Bar Bushing   \n",
       "199979  EAGO TB359 Dual Flush One Piece Eco-Friendly C...   \n",
       "199980  EKA G3 Pivoting Blade Hunting Knife Black EKA-...   \n",
       "199981  Houghton Mifflin Harcourt SV-9780547893365 Six...   \n",
       "199982  TMP CANON IMAGECLASS MF4570DN TONER CARTRIDGE ...   \n",
       "199983                           1m Sfp Plus Copper Cable   \n",
       "199984  Black Mesh 10x20 Heavy Duty UV Screen Shade Ca...   \n",
       "199985  On The Mark Press OTM14118 Skinny Bones Lit Li...   \n",
       "199986                    Thomas & Betts Square Box Cover   \n",
       "199987                     Warn 22680 Quick Connect Plugs   \n",
       "199988  Warehouse Sheds Gates Door Stainless Steel Pad...   \n",
       "199989  Dell PowerEdge T710 LFF 2x X5650 Six Core 2.66...   \n",
       "199990            Manual Projection Screen, Quartet, 670S   \n",
       "199991  CUSTOM White OtterBox Commuter Series Case (77...   \n",
       "199992           Eap350 Business-class Gigabit Wired 29db   \n",
       "199993  Ana Silver Co Natural Ethiopian Opal 925 Sterl...   \n",
       "199994  MightySkins Protective Vinyl Skin Decal for IB...   \n",
       "199995           14K White Gold Synthetic Ruby Ring Sz 10   \n",
       "199996                               Blue Stone Box Large   \n",
       "199997  8-Pack Replacement Engine Air Filter for 2003 ...   \n",
       "199998  WALTER F4253.B32.100.Z05.12 Indexable Mill Cut...   \n",
       "199999  Skin for Microsoft Surface Pro (2017) 12.3\" - ...   \n",
       "\n",
       "                                       1  \n",
       "0                     1608>2320>498>1546  \n",
       "1                           2199>4592>12  \n",
       "2                           2199>4592>12  \n",
       "3                    1608>1206>1632>4604  \n",
       "4                          3292>114>1231  \n",
       "5                          3292>2790>350  \n",
       "6                         2296>3706>1586  \n",
       "7                 4015>3636>526>2454>882  \n",
       "8                    1608>2320>2495>4952  \n",
       "9                          3625>594>3088  \n",
       "10      4015>2824>2964>32>4423>4355>1729  \n",
       "11                         2199>4592>193  \n",
       "12                   4015>3636>1319>3100  \n",
       "13                          2199>4592>12  \n",
       "14                     4238>321>753>1113  \n",
       "15                   2075>1724>1168>2889  \n",
       "16               4015>2824>2964>1002>200  \n",
       "17               3292>1370>760>3677>3449  \n",
       "18                          2199>4592>12  \n",
       "19                   1608>2320>2495>2615  \n",
       "20               4015>2824>2964>1002>200  \n",
       "21                          2199>4592>12  \n",
       "22                    4015>3271>714>3572  \n",
       "23              3292>1370>4767>3975>1420  \n",
       "24              4015>3754>1170>1200>1672  \n",
       "25                          2199>4592>12  \n",
       "26                   3292>3581>2544>4749  \n",
       "27                        2296>2435>4774  \n",
       "28                        3292>4837>3753  \n",
       "29                          2199>4592>12  \n",
       "...                                  ...  \n",
       "199970                    3292>4837>2112  \n",
       "199971          4015>2337>2943>2570>3135  \n",
       "199972               3625>3641>3045>1524  \n",
       "199973                4015>3636>526>3639  \n",
       "199974                      2199>4592>12  \n",
       "199975          3292>1370>3690>1735>4907  \n",
       "199976                    4238>4960>3633  \n",
       "199977                      2199>4592>12  \n",
       "199978                      2199>4592>12  \n",
       "199979          4015>3754>3580>1415>4225  \n",
       "199980           2075>1724>353>4888>4822  \n",
       "199981               1395>2736>2160>2621  \n",
       "199982                3292>1370>289>4073  \n",
       "199983               3292>1370>3828>1710  \n",
       "199984                4015>4733>1488>478  \n",
       "199985               1395>2736>2160>2621  \n",
       "199986                     2296>3597>689  \n",
       "199987                      2199>4592>12  \n",
       "199988               2199>1952>2354>2352  \n",
       "199989                3292>1370>3314>549  \n",
       "199990                     2296>3597>419  \n",
       "199991               3292>3581>3145>3191  \n",
       "199992               3292>1370>3828>1710  \n",
       "199993                1608>2320>498>1546  \n",
       "199994               3292>3581>3145>2201  \n",
       "199995                    1608>2320>3648  \n",
       "199996                     2296>3597>689  \n",
       "199997                 4015>2337>1458>40  \n",
       "199998            4015>3754>3663>512>634  \n",
       "199999                      3292>49>2166  \n",
       "\n",
       "[200000 rows x 2 columns]"
      ]
     },
     "execution_count": 110,
     "metadata": {},
     "output_type": "execute_result"
    }
   ],
   "source": [
    "sub_df"
   ]
  },
  {
   "cell_type": "code",
   "execution_count": null,
   "metadata": {
    "collapsed": true
   },
   "outputs": [],
   "source": []
  }
 ],
 "metadata": {
  "kernelspec": {
   "display_name": "Python [default]",
   "language": "python",
   "name": "python2"
  },
  "language_info": {
   "codemirror_mode": {
    "name": "ipython",
    "version": 2
   },
   "file_extension": ".py",
   "mimetype": "text/x-python",
   "name": "python",
   "nbconvert_exporter": "python",
   "pygments_lexer": "ipython2",
   "version": "2.7.14"
  }
 },
 "nbformat": 4,
 "nbformat_minor": 2
}
