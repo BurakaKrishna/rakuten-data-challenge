{
 "cells": [
  {
   "cell_type": "code",
   "execution_count": 1,
   "metadata": {
    "ExecuteTime": {
     "end_time": "2018-06-19T12:10:39.394583Z",
     "start_time": "2018-06-19T12:10:38.661377Z"
    }
   },
   "outputs": [
    {
     "name": "stderr",
     "output_type": "stream",
     "text": [
      "/usr/local/lib/python3.6/dist-packages/sklearn/cross_validation.py:41: DeprecationWarning: This module was deprecated in version 0.18 in favor of the model_selection module into which all the refactored classes and functions are moved. Also note that the interface of the new CV iterators are different from that of this module. This module will be removed in 0.20.\n",
      "  \"This module will be removed in 0.20.\", DeprecationWarning)\n"
     ]
    },
    {
     "name": "stdout",
     "output_type": "stream",
     "text": [
      "[nltk_data] Downloading package wordnet to /root/nltk_data...\n",
      "[nltk_data]   Package wordnet is already up-to-date!\n",
      "[nltk_data] Downloading package punkt to /root/nltk_data...\n",
      "[nltk_data]   Package punkt is already up-to-date!\n",
      "[nltk_data] Downloading package stopwords to /root/nltk_data...\n",
      "[nltk_data]   Package stopwords is already up-to-date!\n"
     ]
    },
    {
     "data": {
      "text/plain": [
       "True"
      ]
     },
     "execution_count": 1,
     "metadata": {},
     "output_type": "execute_result"
    }
   ],
   "source": [
    "from __future__ import division\n",
    "import pandas as pd \n",
    "import numpy as np\n",
    "import scipy\n",
    "from scipy.sparse import hstack\n",
    "import gensim\n",
    "import boto3\n",
    "import re\n",
    "import json\n",
    "import os\n",
    "import numpy as np\n",
    "from sklearn.cross_validation import train_test_split\n",
    "from sklearn.metrics import confusion_matrix\n",
    "from sklearn.metrics import classification_report\n",
    "from sklearn.metrics import accuracy_score\n",
    "from sklearn.naive_bayes import MultinomialNB,BernoulliNB\n",
    "from sklearn.pipeline import Pipeline, FeatureUnion\n",
    "from sklearn.base import BaseEstimator, TransformerMixin\n",
    "from sklearn import metrics\n",
    "from sklearn.feature_extraction.text import TfidfVectorizer\n",
    "from sklearn.svm import LinearSVC\n",
    "from sklearn.linear_model import LogisticRegression\n",
    "from sklearn.linear_model import SGDClassifier\n",
    "from nltk.corpus import stopwords\n",
    "import string\n",
    "from sklearn import linear_model, datasets\n",
    "from sklearn.externals import joblib\n",
    "from nltk.stem import PorterStemmer\n",
    "from nltk import word_tokenize\n",
    "from nltk.stem import WordNetLemmatizer \n",
    "from sklearn.metrics import precision_recall_fscore_support\n",
    "from sklearn.decomposition import TruncatedSVD\n",
    "import nltk\n",
    "nltk.download('wordnet')\n",
    "nltk.download('punkt')\n",
    "nltk.download('stopwords')"
   ]
  },
  {
   "cell_type": "code",
   "execution_count": 2,
   "metadata": {
    "ExecuteTime": {
     "end_time": "2018-06-19T12:10:44.405971Z",
     "start_time": "2018-06-19T12:10:39.396245Z"
    }
   },
   "outputs": [],
   "source": [
    "df=pd.read_csv('rdc-catalog-train.tsv',delimiter='\\t',encoding='utf-8',header=None)\n",
    "df.columns = ['text', 'label']\n",
    "\n",
    "#Isolate target data\n",
    "X = df[\"text\"].values\n",
    "X = np.hstack(X)\n",
    "y = df[\"label\"].values\n",
    "y = np.hstack(y)"
   ]
  },
  {
   "cell_type": "code",
   "execution_count": 3,
   "metadata": {
    "ExecuteTime": {
     "end_time": "2018-06-19T12:10:44.413740Z",
     "start_time": "2018-06-19T12:10:44.409911Z"
    }
   },
   "outputs": [],
   "source": [
    "def train_full(classifier, X, y):\n",
    "    print(\"X:\")\n",
    "    print(len(X))\n",
    "    print(\"y:\")\n",
    "    print(len(y))\n",
    "    classifier.fit(X, y)\n",
    "    return classifier\n",
    "\n",
    "\n",
    "def train_test(classifier, X, y):\n",
    "    X_train, X_test, y_train, y_test = train_test_split(X, y, test_size=0.25, random_state=33)\n",
    "    print(\"X_train:\")\n",
    "    print(len(X_train))\n",
    "    print(\"X_test:\")\n",
    "    print(len(X_test))\n",
    "    print(\"y_train:\")\n",
    "    print(len(y_train))\n",
    "    print(\"y_test:\")\n",
    "    print(len(y_test))\n",
    "    \n",
    "    classifier.fit(X_train, y_train)\n",
    "    y_pred = classifier.predict(X_test)\n",
    "    weighted_p, weighted_r, weighted_f1, _ = precision_recall_fscore_support(y_test,y_pred, pos_label=None, average='weighted')\n",
    "    print(\"Accuracy: \", classifier.score(X_test, y_test))\n",
    "    print(\"Precision: \", weighted_p)\n",
    "    print(\"Recall: \", weighted_r)\n",
    "    print(\"F1-Score: \", weighted_f1)\n",
    "    return classifier"
   ]
  },
  {
   "cell_type": "code",
   "execution_count": 4,
   "metadata": {
    "ExecuteTime": {
     "end_time": "2018-06-19T12:10:44.513645Z",
     "start_time": "2018-06-19T12:10:44.415194Z"
    }
   },
   "outputs": [],
   "source": [
    "def stemming_tokenizer(text):\n",
    "    stemmer = PorterStemmer()\n",
    "    return [stemmer.stem(w) for w in word_tokenize(text)]\n",
    "\n",
    "def lemmatization_tokenizer(text):\n",
    "    wnl = WordNetLemmatizer()\n",
    "    return [wnl.lemmatize(w) for w in word_tokenize(text)]"
   ]
  },
  {
   "cell_type": "code",
   "execution_count": 5,
   "metadata": {
    "ExecuteTime": {
     "end_time": "2018-06-19T12:10:44.569596Z",
     "start_time": "2018-06-19T12:10:44.515118Z"
    }
   },
   "outputs": [],
   "source": [
    "def standardize_metrics(text):\n",
    "    text = re.sub(r'\\b[\\d\\.\\/]+\\s?(v|volt)\\b', 'metricV', text)\n",
    "    text = re.sub(r'\\b[\\d\\.\\/]+\\s?(amp|amps|ampere|amperes)\\b', 'metricA', text)\n",
    "    text = re.sub(r'\\b[\\d\\.\\/]+\\s?(mah|ah|ampere-hour)\\b', 'metricAh', text)\n",
    "    text = re.sub(r'\\b[\\d\\.\\/]+\\s?(in|inch|inches)\\b', 'metricIn', text)\n",
    "    text = re.sub(r'\\b[\\d\\.\\/]+\\s?\\\"', 'metricIn', text)\n",
    "    text = re.sub(r'\\b[\\d\\.\\/]+\\s?(gb|gig|go|giga|gigabit|gigabyte)\\b', 'metricGb', text)\n",
    "    text = re.sub(r'\\b[\\d\\.\\/]+\\s?(oz|ounce)\\b', 'metricOz', text)\n",
    "    text = re.sub(r'\\b[\\d\\.\\/]+\\s?(fl\\.? oz\\.?|fluids? ounces?)\\b', 'metricFlOz', text)\n",
    "    text = re.sub(r'\\b[\\d\\.\\/]+\\s?(cwt|quintal)\\b', 'metricCwt', text)\n",
    "    text = re.sub(r'\\b[\\d\\.\\/]+\\s?(mhz|hz|khz|ghz|gigahertz|megahertz|kilohertz|hertz)\\b', 'metricHz', text)\n",
    "    text = re.sub(r'\\b[\\d\\.\\/]+\\s?(wh|kwh|watt-hour|kilowatt-hour)\\b', 'metricWh', text)\n",
    "    text = re.sub(r'\\b[\\d\\.\\/]+\\s?(w|kw|watt|kilowatt)\\b', 'metricW', text)\n",
    "    text = re.sub(r'\\b[\\d\\.\\/]+\\s?(mf|mfd|mmf|mmfd|microfarad)\\b', 'metricMfd', text)\n",
    "    text = re.sub(r'\\b[\\d\\.\\/]+\\s?(ft|feet|foot)\\b', 'metricFt', text)\n",
    "    text = re.sub(r'\\b[\\d\\.\\/]+\\s?(cm|centimeter)\\b', 'metricCm', text)\n",
    "    text = re.sub(r'\\b[\\d\\.\\/]+\\s?(mm|millimeter)\\b', 'metricMm', text)\n",
    "    text = re.sub(r'\\b[\\d\\.\\/]+\\s?(km|kilometer)\\b', 'metricKm', text)\n",
    "    text = re.sub(r'\\b[\\d\\.\\/]+\\s?(m|meter)\\b', 'metricM', text)\n",
    "    text = re.sub(r'\\b[\\d\\.\\/]+\\s?(cell|cells)\\b', 'metricCell', text)\n",
    "    text = re.sub(r'\\b[\\d\\.\\/]+\\s?(lb|lbs|pound)\\b', 'metricLb', text)\n",
    "    text = re.sub(r'\\b[\\d\\.\\/]+\\s?(yds|yd|yard|yards)\\b', 'metricYd', text)\n",
    "    text = re.sub(r'\\b[\\d\\.\\/]+\\s?(pc|pcs|pieces|piece)\\b', 'metricPc', text)\n",
    "    text = re.sub(r'\\b[\\d\\.\\/]+\\s?(gal|gals|gallon|gallons)\\b', 'metricGal', text)\n",
    "    text = re.sub(r'\\b[\\d\\.\\/]+\\s?(yd|yds|yard|yards)\\b', 'metricYd', text)\n",
    "    text = re.sub(r'\\b[\\d\\.\\/]+\\s?(deg|degs|degree|degrees)\\b', 'metricDeg', text)\n",
    "    text = re.sub(r'\\b[\\d\\.\\/]+\\s?\\°', 'metricDeg', text)\n",
    "    text = re.sub(r'\\b[\\d\\.\\/]+\\s?(l|liter|liters)\\b', 'metricL', text)\n",
    "    text = re.sub(r'\\b[\\d\\.\\/]+\\s?(ml|mls|milliliter|milliliters)\\b', 'metricMl', text)\n",
    "    text = re.sub(r'\\b[\\d\\.\\/]+\\s?(kg|kilograms|kilogram)\\b', 'metricKg', text)\n",
    "    text = re.sub(r'\\b[\\d\\.\\/]+\\s?(g|grams|gram)\\b', 'metricG', text)\n",
    "    text = re.sub(r'\\b[\\d\\.\\/]+\\s?(mg|mgs|milligrams|milligram)\\b', 'metricMg', text)\n",
    "    text = re.sub(r'\\b[\\d\\.\\/]+\\s?(sq|sqs|square|squares)\\b', 'metricSq', text)\n",
    "    text = re.sub(r'\\b[\\d\\.\\/]+\\s?(pt|pts|pint|pints)\\b', 'metricPt', text)\n",
    "    text = re.sub(r'\\b[\\d\\.\\/]+\\s?(ohm)\\b', 'metricOhm', text)\n",
    "    text = re.sub(r'\\b[\\d\\.\\/]+\\s?(fz)\\b', 'metricFz', text)\n",
    "    text = re.sub(r'\\b[\\d\\.\\/]+\\s?(ct|cts|carat|carats)\\b', 'metricCt', text)\n",
    "    text = re.sub(r'\\b[\\d]+p\\b', 'metricRes', text)\n",
    "    text = re.sub(r'\\b[\\d]+x[\\d]+\\b', 'metricRes', text)\n",
    "    text = re.sub(r'\\b[\\d]+x\\b', 'metricX', text)\n",
    "    return text\n",
    "\n",
    "def clean_text_standard_metrics_v0plus(text):\n",
    "    text = text.lower()\n",
    "    text = standardize_metrics(text)\n",
    "    text = re.sub(r'\\b\\d*\\.\\d+\\b', 'nbDec', text)\n",
    "    text = re.sub(r'\\b\\d+\\/\\d+\\b', 'nbFra', text)\n",
    "    text = re.sub(r'\\b\\d+\\b', 'nbNat', text)\n",
    "    text = re.sub('\\d+', '0', text) \n",
    "    text = re.sub('\\W', ' ', text)\n",
    "    text = re.sub('\\s+', ' ', text)\n",
    "    text = text.strip(' ')\n",
    "    return text\n",
    "\n",
    "def standardize_char(text):\n",
    "    text = text.lower()\n",
    "    text = re.sub(r'\\b(\\d+\\s?x\\s?)?\\d+(\\s|-|\\/|\\s?per\\s?|\\s?pc\\s?s\\/\\s?|)pa?cks?\\b', 'pck', text)\n",
    "    text = re.sub(r'\\bpa?cks?(\\s|-|\\sof\\s|)\\d+\\b', 'pck', text)\n",
    "    text = re.sub(r'\\b(\\d+\\s?x\\s?)?\\d+(\\s|-|\\/|\\s?per\\s?|\\s?pc\\s?s\\/\\s?|)sets?\\b', 'set', text)\n",
    "    text = re.sub(r'\\bsets?(\\s|-|\\sof\\s|)\\d+\\b', 'set', text)\n",
    "    text = re.sub(r'\\b[\\d\\.\\/]+\\s?(v|volt)\\b', 'v', text)\n",
    "    text = re.sub(r'\\b[\\d\\.\\/]+\\s?(amp|amps|ampere|amperes)\\b', 'a', text)\n",
    "    text = re.sub(r'\\b[\\d\\.\\/]+\\s?(mah|ah|ampere-hour)\\b', 'ah', text)\n",
    "    text = re.sub(r'\\b[\\d\\.\\/]+\\s?(in|inch|inches)\\b', 'in', text)\n",
    "    text = re.sub(r'\\b[\\d\\.\\/]+\\s?\\\"', 'in', text)\n",
    "    text = re.sub(r'\\b[\\d\\.\\/]+\\s?(gb|gig|go|giga|gigabit|gigabyte)\\b', 'gb', text)\n",
    "    text = re.sub(r'\\b[\\d\\.\\/]+\\s?(oz|ounce)\\b', 'oz', text)\n",
    "    text = re.sub(r'\\b[\\d\\.\\/]+\\s?(fl\\.? oz\\.?|fluids? ounces?)\\b', 'floz', text)\n",
    "    text = re.sub(r'\\b[\\d\\.\\/]+\\s?(cwt|quintal)\\b', 'cwt', text)\n",
    "    text = re.sub(r'\\b[\\d\\.\\/]+\\s?(mhz|hz|khz|ghz|gigahertz|megahertz|kilohertz|hertz)\\b', 'hz', text)\n",
    "    text = re.sub(r'\\b[\\d\\.\\/]+\\s?(wh|kwh|watt-hour|kilowatt-hour)\\b', 'wh', text)\n",
    "    text = re.sub(r'\\b[\\d\\.\\/]+\\s?(w|kw|watt|kilowatt)\\b', 'w', text)\n",
    "    text = re.sub(r'\\b[\\d\\.\\/]+\\s?(mf|mfd|mmf|mmfd|microfarad)\\b', 'mfd', text)\n",
    "    text = re.sub(r'\\b[\\d\\.\\/]+\\s?(ft|feet|foot)\\b', 'ft', text)\n",
    "    text = re.sub(r'\\b[\\d\\.\\/]+\\s?(cm|centimeter)\\b', 'cm', text)\n",
    "    text = re.sub(r'\\b[\\d\\.\\/]+\\s?(mm|millimeter)\\b', 'mm', text)\n",
    "    text = re.sub(r'\\b[\\d\\.\\/]+\\s?(km|kilometer)\\b', 'km', text)\n",
    "    text = re.sub(r'\\b[\\d\\.\\/]+\\s?(m|meter)\\b', 'm', text)\n",
    "    text = re.sub(r'\\b[\\d\\.\\/]+\\s?(cell|cells)\\b', 'cell', text)\n",
    "    text = re.sub(r'\\b[\\d\\.\\/]+\\s?(lb|lbs|pound)\\b', 'lb', text)\n",
    "    text = re.sub(r'\\b[\\d\\.\\/]+\\s?(yds|yd|yard|yards)\\b', 'yd', text)\n",
    "    text = re.sub(r'\\b[\\d\\.\\/]+\\s?(pc|pcs|pieces|piece)\\b', 'pcs', text)\n",
    "    text = re.sub(r'\\b[\\d\\.\\/]+\\s?(gal|gals|gallon|gallons)\\b', 'gal', text)\n",
    "    text = re.sub(r'\\b[\\d\\.\\/]+\\s?(yd|yds|yard|yards)\\b', 'yd', text)\n",
    "    text = re.sub(r'\\b[\\d\\.\\/]+\\s?(deg|degs|degree|degrees)\\b', 'deg', text)\n",
    "    text = re.sub(r'\\b[\\d\\.\\/]+\\s?\\°', 'deg', text)\n",
    "    text = re.sub(r'\\b[\\d\\.\\/]+\\s?(l|liter|liters)\\b', 'l', text)\n",
    "    text = re.sub(r'\\b[\\d\\.\\/]+\\s?(ml|mls|milliliter|milliliters)\\b', 'ml', text)\n",
    "    text = re.sub(r'\\b[\\d\\.\\/]+\\s?(kg|kilograms|kilogram)\\b', 'kg', text)\n",
    "    text = re.sub(r'\\b[\\d\\.\\/]+\\s?(g|grams|gram)\\b', 'g', text)\n",
    "    text = re.sub(r'\\b[\\d\\.\\/]+\\s?(mg|mgs|milligrams|milligram)\\b', 'mg', text)\n",
    "    text = re.sub(r'\\b[\\d\\.\\/]+\\s?(sq|sqs|square|squares)\\b', 'sg', text)\n",
    "    text = re.sub(r'\\b[\\d\\.\\/]+\\s?(pt|pts|pint|pints)\\b', 'pt', text)\n",
    "    text = re.sub(r'\\b[\\d\\.\\/]+\\s?(ohm)\\b', 'ohm', text)\n",
    "    text = re.sub(r'\\b[\\d\\.\\/]+\\s?(fz)\\b', 'fz', text)\n",
    "    text = re.sub(r'\\b[\\d\\.\\/]+\\s?(ct|cts|carat|carats)\\b', 'ct', text)\n",
    "    text = re.sub(r'\\b[\\d]+p\\b', 'res', text)\n",
    "    text = re.sub(r'\\b[\\d]+x[\\d]+\\b', 'res', text)\n",
    "    text = re.sub(r'\\b[\\d]+x\\b', 'x', text)\n",
    "    text = re.sub(r'\\b\\d*\\.\\d+\\b', 'deci', text)\n",
    "    text = re.sub(r'\\b\\d+\\/\\d+\\b', 'frac', text)\n",
    "    text = re.sub(r'\\b\\d+\\b', 'nat', text)\n",
    "    text = re.sub(r'\\b(\\w*\\d\\w*[a-z]+\\w*|\\w*[a-z]+\\w*\\d\\w*)\\b', 'sku', text)\n",
    "    text = re.sub('\\d+', '0', text) \n",
    "    text = re.sub('\\W', ' ', text)\n",
    "    text = re.sub('\\s+', ' ', text)\n",
    "    text = text.strip(' ')\n",
    "    return text\n",
    "\n",
    "def xtrem_clean_char(text):\n",
    "    text = text.lower()\n",
    "    text = re.sub(r'\\b(\\d+\\s?x\\s?)?\\d+(\\s|-|\\/|\\s?per\\s?|\\s?pc\\s?s\\/\\s?|)pa?cks?\\b', '', text)\n",
    "    text = re.sub(r'\\bpa?cks?(\\s|-|\\sof\\s|)\\d+\\b', '', text)\n",
    "    text = re.sub(r'\\b(\\d+\\s?x\\s?)?\\d+(\\s|-|\\/|\\s?per\\s?|\\s?pc\\s?s\\/\\s?|)sets?\\b', '', text)\n",
    "    text = re.sub(r'\\bsets?(\\s|-|\\sof\\s|)\\d+\\b', '', text)\n",
    "    text = re.sub(r'\\b[\\d\\.\\/]+\\s?(v|volt)\\b', '', text)\n",
    "    text = re.sub(r'\\b[\\d\\.\\/]+\\s?(amp|amps|ampere|amperes)\\b', '', text)\n",
    "    text = re.sub(r'\\b[\\d\\.\\/]+\\s?(mah|ah|ampere-hour)\\b', '', text)\n",
    "    text = re.sub(r'\\b[\\d\\.\\/]+\\s?(in|inch|inches)\\b', '', text)\n",
    "    text = re.sub(r'\\b[\\d\\.\\/]+\\s?\\\"', '', text)\n",
    "    text = re.sub(r'\\b[\\d\\.\\/]+\\s?(gb|gig|go|giga|gigabit|gigabyte)\\b', '', text)\n",
    "    text = re.sub(r'\\b[\\d\\.\\/]+\\s?(oz|ounce)\\b', '', text)\n",
    "    text = re.sub(r'\\b[\\d\\.\\/]+\\s?(fl\\.? oz\\.?|fluids? ounces?)\\b', '', text)\n",
    "    text = re.sub(r'\\b[\\d\\.\\/]+\\s?(cwt|quintal)\\b', '', text)\n",
    "    text = re.sub(r'\\b[\\d\\.\\/]+\\s?(mhz|hz|khz|ghz|gigahertz|megahertz|kilohertz|hertz)\\b', '', text)\n",
    "    text = re.sub(r'\\b[\\d\\.\\/]+\\s?(wh|kwh|watt-hour|kilowatt-hour)\\b', '', text)\n",
    "    text = re.sub(r'\\b[\\d\\.\\/]+\\s?(w|kw|watt|kilowatt)\\b', '', text)\n",
    "    text = re.sub(r'\\b[\\d\\.\\/]+\\s?(mf|mfd|mmf|mmfd|microfarad)\\b', '', text)\n",
    "    text = re.sub(r'\\b[\\d\\.\\/]+\\s?(ft|feet|foot)\\b', '', text)\n",
    "    text = re.sub(r'\\b[\\d\\.\\/]+\\s?(cm|centimeter)\\b', '', text)\n",
    "    text = re.sub(r'\\b[\\d\\.\\/]+\\s?(mm|millimeter)\\b', '', text)\n",
    "    text = re.sub(r'\\b[\\d\\.\\/]+\\s?(km|kilometer)\\b', '', text)\n",
    "    text = re.sub(r'\\b[\\d\\.\\/]+\\s?(m|meter)\\b', '', text)\n",
    "    text = re.sub(r'\\b[\\d\\.\\/]+\\s?(cell|cells)\\b', '', text)\n",
    "    text = re.sub(r'\\b[\\d\\.\\/]+\\s?(lb|lbs|pound)\\b', '', text)\n",
    "    text = re.sub(r'\\b[\\d\\.\\/]+\\s?(yds|yd|yard|yards)\\b', '', text)\n",
    "    text = re.sub(r'\\b[\\d\\.\\/]+\\s?(pc|pcs|pieces|piece)\\b', '', text)\n",
    "    text = re.sub(r'\\b[\\d\\.\\/]+\\s?(gal|gals|gallon|gallons)\\b', '', text)\n",
    "    text = re.sub(r'\\b[\\d\\.\\/]+\\s?(yd|yds|yard|yards)\\b', '', text)\n",
    "    text = re.sub(r'\\b[\\d\\.\\/]+\\s?(deg|degs|degree|degrees)\\b', '', text)\n",
    "    text = re.sub(r'\\b[\\d\\.\\/]+\\s?\\°', '', text)\n",
    "    text = re.sub(r'\\b[\\d\\.\\/]+\\s?(l|liter|liters)\\b', '', text)\n",
    "    text = re.sub(r'\\b[\\d\\.\\/]+\\s?(ml|mls|milliliter|milliliters)\\b', '', text)\n",
    "    text = re.sub(r'\\b[\\d\\.\\/]+\\s?(kg|kilograms|kilogram)\\b', '', text)\n",
    "    text = re.sub(r'\\b[\\d\\.\\/]+\\s?(g|grams|gram)\\b', '', text)\n",
    "    text = re.sub(r'\\b[\\d\\.\\/]+\\s?(mg|mgs|milligrams|milligram)\\b', '', text)\n",
    "    text = re.sub(r'\\b[\\d\\.\\/]+\\s?(sq|sqs|square|squares)\\b', '', text)\n",
    "    text = re.sub(r'\\b[\\d\\.\\/]+\\s?(pt|pts|pint|pints)\\b', '', text)\n",
    "    text = re.sub(r'\\b[\\d\\.\\/]+\\s?(ohm)\\b', '', text)\n",
    "    text = re.sub(r'\\b[\\d\\.\\/]+\\s?(fz)\\b', '', text)\n",
    "    text = re.sub(r'\\b[\\d\\.\\/]+\\s?(ct|cts|carat|carats)\\b', '', text)\n",
    "    text = re.sub(r'\\b[\\d]+p\\b', '', text)\n",
    "    text = re.sub(r'\\b[\\d]+x[\\d]+\\b', '', text)\n",
    "    text = re.sub(r'\\b[\\d]+x\\b', '', text)\n",
    "    text = re.sub(r'\\b\\d*\\.\\d+\\b', '', text)\n",
    "    text = re.sub(r'\\b\\d+\\/\\d+\\b', '', text)\n",
    "    text = re.sub(r'\\b\\d+\\b', '', text)\n",
    "    text = re.sub(r'\\b(\\w*\\d\\w*[a-z]+\\w*|\\w*[a-z]+\\w*\\d\\w*)\\b', '', text)\n",
    "    text = re.sub('\\d+', '', text) \n",
    "    text = re.sub('\\W', ' ', text)\n",
    "    text = re.sub('\\s+', ' ', text)\n",
    "    text = text.strip(' ')\n",
    "    return text\n",
    "\n"
   ]
  },
  {
   "cell_type": "code",
   "execution_count": 6,
   "metadata": {},
   "outputs": [
    {
     "name": "stdout",
     "output_type": "stream",
     "text": [
      "start train...\n",
      "X_train:\n",
      "600000\n",
      "X_test:\n",
      "200000\n",
      "y_train:\n",
      "600000\n",
      "y_test:\n",
      "200000\n",
      "[LibLinear]"
     ]
    },
    {
     "name": "stderr",
     "output_type": "stream",
     "text": [
      "/root/anaconda2/lib/python2.7/site-packages/sklearn/metrics/classification.py:1135: UndefinedMetricWarning: Precision and F-score are ill-defined and being set to 0.0 in labels with no predicted samples.\n",
      "  'precision', 'predicted', average, warn_for)\n",
      "/root/anaconda2/lib/python2.7/site-packages/sklearn/metrics/classification.py:1137: UndefinedMetricWarning: Recall and F-score are ill-defined and being set to 0.0 in labels with no true samples.\n",
      "  'recall', 'true', average, warn_for)\n"
     ]
    },
    {
     "name": "stdout",
     "output_type": "stream",
     "text": [
      "Accuracy: 0.817935\n",
      "Precision: 0.8095020763184998\n",
      "Recall: 0.817935\n",
      "F1-Score: 0.8100457644640601\n",
      "finished train\n"
     ]
    }
   ],
   "source": [
    "#TEST 26: lemmatization + clean_text_standard_metrics_v0plus preprocessor + sublinear + single letter + min_df 2\n",
    "single_letter = ['a','b','c','d','e','f','g','h','i','j','k','l','m','n','o','p','q','r','s','t','u','v','w','x','y']\n",
    "clf = Pipeline([\n",
    "    ('vectorizer', TfidfVectorizer(sublinear_tf=True, min_df=2,max_df=0.9, norm='l2', ngram_range=(1, 2), preprocessor=clean_text_standard_metrics_v0plus,strip_accents='unicode',tokenizer=lemmatization_tokenizer,\n",
    "                                stop_words=single_letter+list(string.punctuation))),\n",
    "    ('classifier', LinearSVC(verbose=1))\n",
    "])\n",
    "\n",
    "print(\"start train...\")\n",
    "clf=train_test(clf, X, y)\n",
    "print(\"finished train\")"
   ]
  },
  {
   "cell_type": "code",
   "execution_count": null,
   "metadata": {},
   "outputs": [
    {
     "name": "stdout",
     "output_type": "stream",
     "text": [
      "start train...\n",
      "X_train:\n",
      "600000\n",
      "X_test:\n",
      "200000\n",
      "y_train:\n",
      "600000\n",
      "y_test:\n",
      "200000\n",
      "[LibLinear]Accuracy: 0.820155\n",
      "Precision: 0.8108338638615838\n",
      "Recall: 0.820155\n",
      "F1-Score: 0.8108139486508633\n",
      "finished train\n"
     ]
    }
   ],
   "source": [
    "#TEST 28b: char n gram\n",
    "clf = Pipeline([\n",
    "    ('vectorizer', TfidfVectorizer(sublinear_tf=True, min_df=2,norm='l2', ngram_range=(1,4),lowercase=True, analyzer='char',strip_accents='unicode')),\n",
    "    ('classifier', LinearSVC(verbose=1))\n",
    "])\n",
    "\n",
    "print(\"start train...\")\n",
    "clf=train_test(clf, X, y)\n",
    "print(\"finished train\")"
   ]
  },
  {
   "cell_type": "code",
   "execution_count": null,
   "metadata": {},
   "outputs": [],
   "source": []
  },
  {
   "cell_type": "code",
   "execution_count": null,
   "metadata": {},
   "outputs": [],
   "source": []
  },
  {
   "cell_type": "code",
   "execution_count": 6,
   "metadata": {
    "ExecuteTime": {
     "end_time": "2018-06-19T12:10:45.929559Z",
     "start_time": "2018-06-19T12:10:45.544838Z"
    }
   },
   "outputs": [],
   "source": [
    "X_train, X_test, y_train, y_test = train_test_split(X, y, test_size=0.25, random_state=33)"
   ]
  },
  {
   "cell_type": "code",
   "execution_count": 7,
   "metadata": {
    "ExecuteTime": {
     "end_time": "2018-06-19T12:11:59.989603Z",
     "start_time": "2018-06-19T12:10:46.031312Z"
    }
   },
   "outputs": [
    {
     "data": {
      "text/plain": [
       "449377"
      ]
     },
     "execution_count": 7,
     "metadata": {},
     "output_type": "execute_result"
    }
   ],
   "source": [
    "char_tfidf = TfidfVectorizer(sublinear_tf=True, min_df=2,norm='l2', ngram_range=(1,4),lowercase=True, analyzer='char',strip_accents='unicode')\n",
    "char_tfidf.fit(X_train)\n",
    "len(char_tfidf.get_feature_names())"
   ]
  },
  {
   "cell_type": "code",
   "execution_count": null,
   "metadata": {
    "ExecuteTime": {
     "start_time": "2018-06-19T12:14:09.206Z"
    }
   },
   "outputs": [
    {
     "name": "stdout",
     "output_type": "stream",
     "text": [
      "start train...\n",
      "X_train:\n",
      "600000\n",
      "X_test:\n",
      "200000\n",
      "y_train:\n",
      "600000\n",
      "y_test:\n",
      "200000\n",
      "[LibLinear]"
     ]
    }
   ],
   "source": [
    "char_lsa = Pipeline([\n",
    "    ('vectorizer', char_tfidf),\n",
    "    ('reducer', TruncatedSVD(n_components=1000)),\n",
    "    ('classifier', LinearSVC(verbose=1))\n",
    "])\n",
    "\n",
    "print(\"start train...\")\n",
    "char_lsa=train_test(char_lsa, X, y)\n",
    "print(\"finished train\")"
   ]
  },
  {
   "cell_type": "code",
   "execution_count": null,
   "metadata": {},
   "outputs": [],
   "source": []
  },
  {
   "cell_type": "code",
   "execution_count": null,
   "metadata": {},
   "outputs": [],
   "source": []
  },
  {
   "cell_type": "code",
   "execution_count": null,
   "metadata": {},
   "outputs": [],
   "source": []
  },
  {
   "cell_type": "code",
   "execution_count": 7,
   "metadata": {
    "ExecuteTime": {
     "end_time": "2018-06-16T18:24:53.988849Z",
     "start_time": "2018-06-16T18:24:53.615814Z"
    }
   },
   "outputs": [],
   "source": [
    "X_train, X_test, y_train, y_test = train_test_split(X, y, test_size=0.25, random_state=33)"
   ]
  },
  {
   "cell_type": "code",
   "execution_count": 7,
   "metadata": {
    "ExecuteTime": {
     "end_time": "2018-06-13T14:01:23.475806Z",
     "start_time": "2018-06-13T14:00:19.312119Z"
    }
   },
   "outputs": [
    {
     "data": {
      "text/plain": [
       "449377"
      ]
     },
     "execution_count": 7,
     "metadata": {},
     "output_type": "execute_result"
    }
   ],
   "source": [
    "char_tfidf = TfidfVectorizer(sublinear_tf=True, min_df=2,norm='l2', ngram_range=(1,4),lowercase=True, analyzer='char',strip_accents='unicode')\n",
    "char_tfidf.fit(X_train)\n",
    "len(char_tfidf.get_feature_names())"
   ]
  },
  {
   "cell_type": "code",
   "execution_count": 8,
   "metadata": {
    "ExecuteTime": {
     "end_time": "2018-06-14T08:08:43.898680Z",
     "start_time": "2018-06-14T08:06:13.409862Z"
    }
   },
   "outputs": [
    {
     "data": {
      "text/plain": [
       "441010"
      ]
     },
     "execution_count": 8,
     "metadata": {},
     "output_type": "execute_result"
    }
   ],
   "source": [
    "single_letter = ['a','b','c','d','e','f','g','h','i','j','k','l','m','n','o','p','q','r','s','t','u','v','w','x','y']\n",
    "word_tfidf = TfidfVectorizer(sublinear_tf=True, min_df=2,max_df=0.9, norm='l2', ngram_range=(1, 2), preprocessor=clean_text_standard_metrics_v0plus,strip_accents='unicode',tokenizer=lemmatization_tokenizer,stop_words=single_letter+list(string.punctuation))\n",
    "word_tfidf.fit(X_train)\n",
    "len(word_tfidf.get_feature_names())"
   ]
  },
  {
   "cell_type": "code",
   "execution_count": 7,
   "metadata": {
    "ExecuteTime": {
     "end_time": "2018-06-14T16:55:07.840412Z",
     "start_time": "2018-06-14T16:52:38.411186Z"
    }
   },
   "outputs": [
    {
     "data": {
      "text/plain": [
       "111697"
      ]
     },
     "execution_count": 7,
     "metadata": {},
     "output_type": "execute_result"
    }
   ],
   "source": [
    "single_letter = ['a','b','c','d','e','f','g','h','i','j','k','l','m','n','o','p','q','r','s','t','u','v','w','x','y']\n",
    "word_tfidf = TfidfVectorizer(sublinear_tf=True, min_df=5,max_df=0.9, norm='l2', ngram_range=(3,3), preprocessor=clean_text_standard_metrics_v0plus,strip_accents='unicode',tokenizer=lemmatization_tokenizer,stop_words=single_letter+list(string.punctuation))\n",
    "word_tfidf.fit(X_train)\n",
    "len(word_tfidf.get_feature_names())"
   ]
  },
  {
   "cell_type": "code",
   "execution_count": 19,
   "metadata": {
    "ExecuteTime": {
     "end_time": "2018-06-14T19:16:27.275223Z",
     "start_time": "2018-06-14T19:14:17.158218Z"
    }
   },
   "outputs": [
    {
     "data": {
      "text/plain": [
       "449377"
      ]
     },
     "execution_count": 19,
     "metadata": {},
     "output_type": "execute_result"
    }
   ],
   "source": [
    "char_tfidf = TfidfVectorizer(sublinear_tf=True, min_df=2,norm='l2', ngram_range=(1,4),lowercase=True, analyzer='char',strip_accents='unicode')\n",
    "char_tfidf.fit(X_train)\n",
    "len(char_tfidf.get_feature_names())"
   ]
  },
  {
   "cell_type": "code",
   "execution_count": 13,
   "metadata": {
    "ExecuteTime": {
     "end_time": "2018-06-14T19:21:06.171083Z",
     "start_time": "2018-06-14T19:16:27.277465Z"
    }
   },
   "outputs": [],
   "source": [
    "X_train_tfidf_char = char_tfidf.transform(X_train)\n",
    "X_train_tfidf_word = word_tfidf.transform(X_train)\n",
    "\n",
    "X_test_tfidf_char = char_tfidf.transform(X_test)\n",
    "X_test_tfidf_word = word_tfidf.transform(X_test)"
   ]
  },
  {
   "cell_type": "code",
   "execution_count": 14,
   "metadata": {
    "ExecuteTime": {
     "end_time": "2018-06-14T19:21:09.318256Z",
     "start_time": "2018-06-14T19:21:06.174283Z"
    }
   },
   "outputs": [],
   "source": [
    "X_train_tfidf_combined = hstack((X_train_tfidf_char, X_train_tfidf_word))\n",
    "X_test_tfidf_combined = hstack((X_test_tfidf_char, X_test_tfidf_word))"
   ]
  },
  {
   "cell_type": "code",
   "execution_count": 15,
   "metadata": {
    "ExecuteTime": {
     "end_time": "2018-06-14T21:53:29.189838Z",
     "start_time": "2018-06-14T19:21:09.321623Z"
    }
   },
   "outputs": [
    {
     "name": "stdout",
     "output_type": "stream",
     "text": [
      "[LibLinear]Accuracy: 0.81949\n",
      "Precision: 0.8112334240723831\n",
      "Recall: 0.81949\n",
      "F1-Score: 0.8114651490843027\n"
     ]
    }
   ],
   "source": [
    "clf = LinearSVC(verbose=1)\n",
    "clf.fit(X_train_tfidf_combined, y_train)\n",
    "\n",
    "y_pred = clf.predict(X_test_tfidf_combined)\n",
    "weighted_p, weighted_r, weighted_f1, _ = precision_recall_fscore_support(y_test,y_pred, pos_label=None, average='weighted')\n",
    "print \"Accuracy: %s\" % clf.score(X_test_tfidf_combined, y_test)\n",
    "print \"Precision: %s\" % weighted_p\n",
    "print \"Recall: %s\" % weighted_r\n",
    "print \"F1-Score: %s\" % weighted_f1"
   ]
  },
  {
   "cell_type": "code",
   "execution_count": 16,
   "metadata": {
    "ExecuteTime": {
     "end_time": "2018-06-14T21:55:56.009370Z",
     "start_time": "2018-06-14T21:53:29.193214Z"
    }
   },
   "outputs": [
    {
     "data": {
      "text/plain": [
       "150982"
      ]
     },
     "execution_count": 16,
     "metadata": {},
     "output_type": "execute_result"
    }
   ],
   "source": [
    "single_letter = ['a','b','c','d','e','f','g','h','i','j','k','l','m','n','o','p','q','r','s','t','u','v','w','x','y']\n",
    "word_tfidf = TfidfVectorizer(sublinear_tf=True, min_df=4,max_df=0.9, norm='l2', ngram_range=(3,3), preprocessor=clean_text_standard_metrics_v0plus,strip_accents='unicode',tokenizer=lemmatization_tokenizer,stop_words=single_letter+list(string.punctuation))\n",
    "word_tfidf.fit(X_train)\n",
    "len(word_tfidf.get_feature_names())"
   ]
  },
  {
   "cell_type": "code",
   "execution_count": 17,
   "metadata": {
    "ExecuteTime": {
     "end_time": "2018-06-14T22:00:35.857701Z",
     "start_time": "2018-06-14T21:55:56.012753Z"
    }
   },
   "outputs": [],
   "source": [
    "X_train_tfidf_char = char_tfidf.transform(X_train)\n",
    "X_train_tfidf_word = word_tfidf.transform(X_train)\n",
    "X_test_tfidf_char = char_tfidf.transform(X_test)\n",
    "X_test_tfidf_word = word_tfidf.transform(X_test)\n",
    "X_train_tfidf_combined = hstack((X_train_tfidf_char, X_train_tfidf_word))\n",
    "X_test_tfidf_combined = hstack((X_test_tfidf_char, X_test_tfidf_word))"
   ]
  },
  {
   "cell_type": "code",
   "execution_count": 18,
   "metadata": {
    "ExecuteTime": {
     "end_time": "2018-06-15T00:34:39.150957Z",
     "start_time": "2018-06-14T22:00:35.861099Z"
    }
   },
   "outputs": [
    {
     "name": "stdout",
     "output_type": "stream",
     "text": [
      "[LibLinear]Accuracy: 0.819045\n",
      "Precision: 0.8111303551430668\n",
      "Recall: 0.819045\n",
      "F1-Score: 0.81123674139736\n"
     ]
    }
   ],
   "source": [
    "clf = LinearSVC(verbose=1)\n",
    "clf.fit(X_train_tfidf_combined, y_train)\n",
    "\n",
    "y_pred = clf.predict(X_test_tfidf_combined)\n",
    "weighted_p, weighted_r, weighted_f1, _ = precision_recall_fscore_support(y_test,y_pred, pos_label=None, average='weighted')\n",
    "print \"Accuracy: %s\" % clf.score(X_test_tfidf_combined, y_test)\n",
    "print \"Precision: %s\" % weighted_p\n",
    "print \"Recall: %s\" % weighted_r\n",
    "print \"F1-Score: %s\" % weighted_f1"
   ]
  },
  {
   "cell_type": "code",
   "execution_count": null,
   "metadata": {},
   "outputs": [],
   "source": []
  },
  {
   "cell_type": "code",
   "execution_count": 22,
   "metadata": {
    "ExecuteTime": {
     "end_time": "2018-06-15T03:18:45.865697Z",
     "start_time": "2018-06-15T03:16:17.419336Z"
    }
   },
   "outputs": [
    {
     "data": {
      "text/plain": [
       "228091"
      ]
     },
     "execution_count": 22,
     "metadata": {},
     "output_type": "execute_result"
    }
   ],
   "source": [
    "single_letter = ['a','b','c','d','e','f','g','h','i','j','k','l','m','n','o','p','q','r','s','t','u','v','w','x','y']\n",
    "word_tfidf = TfidfVectorizer(sublinear_tf=True, min_df=3,max_df=0.9, norm='l2', ngram_range=(3,3), preprocessor=clean_text_standard_metrics_v0plus,strip_accents='unicode',tokenizer=lemmatization_tokenizer,stop_words=single_letter+list(string.punctuation))\n",
    "word_tfidf.fit(X_train)\n",
    "len(word_tfidf.get_feature_names())"
   ]
  },
  {
   "cell_type": "code",
   "execution_count": 23,
   "metadata": {
    "ExecuteTime": {
     "end_time": "2018-06-15T03:23:26.007180Z",
     "start_time": "2018-06-15T03:18:45.867900Z"
    }
   },
   "outputs": [],
   "source": [
    "X_train_tfidf_char = char_tfidf.transform(X_train)\n",
    "X_train_tfidf_word = word_tfidf.transform(X_train)\n",
    "X_test_tfidf_char = char_tfidf.transform(X_test)\n",
    "X_test_tfidf_word = word_tfidf.transform(X_test)\n",
    "X_train_tfidf_combined = hstack((X_train_tfidf_char, X_train_tfidf_word))\n",
    "X_test_tfidf_combined = hstack((X_test_tfidf_char, X_test_tfidf_word))"
   ]
  },
  {
   "cell_type": "code",
   "execution_count": 24,
   "metadata": {
    "ExecuteTime": {
     "end_time": "2018-06-15T06:01:27.378700Z",
     "start_time": "2018-06-15T03:23:26.010673Z"
    }
   },
   "outputs": [
    {
     "name": "stdout",
     "output_type": "stream",
     "text": [
      "[LibLinear]Accuracy: 0.81891\n",
      "Precision: 0.8112140665712793\n",
      "Recall: 0.81891\n",
      "F1-Score: 0.8113070724856329\n"
     ]
    }
   ],
   "source": [
    "clf = LinearSVC(verbose=1)\n",
    "clf.fit(X_train_tfidf_combined, y_train)\n",
    "\n",
    "y_pred = clf.predict(X_test_tfidf_combined)\n",
    "weighted_p, weighted_r, weighted_f1, _ = precision_recall_fscore_support(y_test,y_pred, pos_label=None, average='weighted')\n",
    "print \"Accuracy: %s\" % clf.score(X_test_tfidf_combined, y_test)\n",
    "print \"Precision: %s\" % weighted_p\n",
    "print \"Recall: %s\" % weighted_r\n",
    "print \"F1-Score: %s\" % weighted_f1"
   ]
  },
  {
   "cell_type": "code",
   "execution_count": null,
   "metadata": {},
   "outputs": [],
   "source": []
  },
  {
   "cell_type": "code",
   "execution_count": 29,
   "metadata": {
    "ExecuteTime": {
     "end_time": "2018-06-15T06:03:59.676519Z",
     "start_time": "2018-06-15T06:01:27.381809Z"
    }
   },
   "outputs": [
    {
     "data": {
      "text/plain": [
       "161834"
      ]
     },
     "execution_count": 29,
     "metadata": {},
     "output_type": "execute_result"
    }
   ],
   "source": [
    "single_letter = ['a','b','c','d','e','f','g','h','i','j','k','l','m','n','o','p','q','r','s','t','u','v','w','x','y']\n",
    "word_tfidf = TfidfVectorizer(sublinear_tf=True, min_df=3,max_df=0.9, norm='l2', ngram_range=(3,3), preprocessor=xtrem_clean_char,strip_accents='unicode',tokenizer=lemmatization_tokenizer,stop_words=single_letter+list(string.punctuation))\n",
    "word_tfidf.fit(X_train)\n",
    "len(word_tfidf.get_feature_names())"
   ]
  },
  {
   "cell_type": "code",
   "execution_count": 30,
   "metadata": {
    "ExecuteTime": {
     "end_time": "2018-06-15T06:08:55.126946Z",
     "start_time": "2018-06-15T06:03:59.679727Z"
    }
   },
   "outputs": [],
   "source": [
    "X_train_tfidf_char = char_tfidf.transform(X_train)\n",
    "X_train_tfidf_word = word_tfidf.transform(X_train)\n",
    "X_test_tfidf_char = char_tfidf.transform(X_test)\n",
    "X_test_tfidf_word = word_tfidf.transform(X_test)\n",
    "X_train_tfidf_combined = hstack((X_train_tfidf_char, X_train_tfidf_word))\n",
    "X_test_tfidf_combined = hstack((X_test_tfidf_char, X_test_tfidf_word))"
   ]
  },
  {
   "cell_type": "code",
   "execution_count": 33,
   "metadata": {
    "ExecuteTime": {
     "end_time": "2018-06-15T08:43:31.343954Z",
     "start_time": "2018-06-15T06:08:55.130281Z"
    }
   },
   "outputs": [
    {
     "name": "stdout",
     "output_type": "stream",
     "text": [
      "[LibLinear]Accuracy: 0.818535\n",
      "Precision: 0.8102391684889123\n",
      "Recall: 0.818535\n",
      "F1-Score: 0.8104876369118739\n"
     ]
    },
    {
     "name": "stderr",
     "output_type": "stream",
     "text": [
      "/usr/local/lib/python3.6/dist-packages/sklearn/metrics/classification.py:1135: UndefinedMetricWarning: Precision and F-score are ill-defined and being set to 0.0 in labels with no predicted samples.\n",
      "  'precision', 'predicted', average, warn_for)\n",
      "/usr/local/lib/python3.6/dist-packages/sklearn/metrics/classification.py:1137: UndefinedMetricWarning: Recall and F-score are ill-defined and being set to 0.0 in labels with no true samples.\n",
      "  'recall', 'true', average, warn_for)\n"
     ]
    }
   ],
   "source": [
    "clf = LinearSVC(verbose=1)\n",
    "clf.fit(X_train_tfidf_combined, y_train)\n",
    "\n",
    "y_pred = clf.predict(X_test_tfidf_combined)\n",
    "weighted_p, weighted_r, weighted_f1, _ = precision_recall_fscore_support(y_test,y_pred, pos_label=None, average='weighted')\n",
    "print(\"Accuracy:\",accuracy_score(y_pred, y_test))\n",
    "print(\"Precision:\", weighted_p)\n",
    "print(\"Recall:\", weighted_r)\n",
    "print(\"F1-Score:\", weighted_f1)"
   ]
  },
  {
   "cell_type": "code",
   "execution_count": null,
   "metadata": {},
   "outputs": [],
   "source": []
  },
  {
   "cell_type": "code",
   "execution_count": null,
   "metadata": {},
   "outputs": [],
   "source": []
  },
  {
   "cell_type": "code",
   "execution_count": null,
   "metadata": {},
   "outputs": [],
   "source": []
  },
  {
   "cell_type": "code",
   "execution_count": null,
   "metadata": {},
   "outputs": [],
   "source": []
  },
  {
   "cell_type": "code",
   "execution_count": null,
   "metadata": {},
   "outputs": [],
   "source": []
  },
  {
   "cell_type": "code",
   "execution_count": 28,
   "metadata": {
    "ExecuteTime": {
     "end_time": "2018-06-15T09:44:41.200148Z",
     "start_time": "2018-06-15T09:40:44.770466Z"
    }
   },
   "outputs": [
    {
     "data": {
      "text/plain": [
       "102097"
      ]
     },
     "execution_count": 28,
     "metadata": {},
     "output_type": "execute_result"
    }
   ],
   "source": [
    "single_letter = ['a','b','c','d','e','f','g','h','i','j','k','l','m','n','o','p','q','r','s','t','u','v','w','x','y']\n",
    "word_tfidf = TfidfVectorizer(sublinear_tf=True, min_df=5,max_df=0.9, norm='l2', ngram_range=(2,2), preprocessor=xtrem_clean_char,strip_accents='unicode',tokenizer=lemmatization_tokenizer,stop_words=single_letter+list(string.punctuation))\n",
    "word_tfidf.fit(X_train)\n",
    "len(word_tfidf.get_feature_names())"
   ]
  },
  {
   "cell_type": "code",
   "execution_count": 29,
   "metadata": {
    "ExecuteTime": {
     "end_time": "2018-06-15T09:48:37.809364Z",
     "start_time": "2018-06-15T09:44:41.205554Z"
    }
   },
   "outputs": [
    {
     "data": {
      "text/plain": [
       "132037"
      ]
     },
     "execution_count": 29,
     "metadata": {},
     "output_type": "execute_result"
    }
   ],
   "source": [
    "single_letter = ['a','b','c','d','e','f','g','h','i','j','k','l','m','n','o','p','q','r','s','t','u','v','w','x','y']\n",
    "word_tfidf = TfidfVectorizer(sublinear_tf=True, min_df=4,max_df=0.9, norm='l2', ngram_range=(2,2), preprocessor=xtrem_clean_char,strip_accents='unicode',tokenizer=lemmatization_tokenizer,stop_words=single_letter+list(string.punctuation))\n",
    "word_tfidf.fit(X_train)\n",
    "len(word_tfidf.get_feature_names())"
   ]
  },
  {
   "cell_type": "code",
   "execution_count": 30,
   "metadata": {
    "ExecuteTime": {
     "end_time": "2018-06-15T09:52:35.307303Z",
     "start_time": "2018-06-15T09:48:37.811347Z"
    }
   },
   "outputs": [
    {
     "data": {
      "text/plain": [
       "185880"
      ]
     },
     "execution_count": 30,
     "metadata": {},
     "output_type": "execute_result"
    }
   ],
   "source": [
    "single_letter = ['a','b','c','d','e','f','g','h','i','j','k','l','m','n','o','p','q','r','s','t','u','v','w','x','y']\n",
    "word_tfidf = TfidfVectorizer(sublinear_tf=True, min_df=3,max_df=0.9, norm='l2', ngram_range=(2,2), preprocessor=xtrem_clean_char,strip_accents='unicode',tokenizer=lemmatization_tokenizer,stop_words=single_letter+list(string.punctuation))\n",
    "word_tfidf.fit(X_train)\n",
    "len(word_tfidf.get_feature_names())"
   ]
  },
  {
   "cell_type": "code",
   "execution_count": 31,
   "metadata": {
    "ExecuteTime": {
     "end_time": "2018-06-15T09:56:33.773129Z",
     "start_time": "2018-06-15T09:52:35.309490Z"
    }
   },
   "outputs": [
    {
     "data": {
      "text/plain": [
       "315651"
      ]
     },
     "execution_count": 31,
     "metadata": {},
     "output_type": "execute_result"
    }
   ],
   "source": [
    "single_letter = ['a','b','c','d','e','f','g','h','i','j','k','l','m','n','o','p','q','r','s','t','u','v','w','x','y']\n",
    "word_tfidf = TfidfVectorizer(sublinear_tf=True, min_df=2,max_df=0.9, norm='l2', ngram_range=(2,2), preprocessor=xtrem_clean_char,strip_accents='unicode',tokenizer=lemmatization_tokenizer,stop_words=single_letter+list(string.punctuation))\n",
    "word_tfidf.fit(X_train)\n",
    "len(word_tfidf.get_feature_names())"
   ]
  },
  {
   "cell_type": "code",
   "execution_count": null,
   "metadata": {},
   "outputs": [],
   "source": []
  },
  {
   "cell_type": "code",
   "execution_count": 32,
   "metadata": {
    "ExecuteTime": {
     "end_time": "2018-06-15T10:00:22.712973Z",
     "start_time": "2018-06-15T09:56:33.779732Z"
    }
   },
   "outputs": [
    {
     "data": {
      "text/plain": [
       "123370"
      ]
     },
     "execution_count": 32,
     "metadata": {},
     "output_type": "execute_result"
    }
   ],
   "source": [
    "single_letter = ['a','b','c','d','e','f','g','h','i','j','k','l','m','n','o','p','q','r','s','t','u','v','w','x','y']\n",
    "word_tfidf = TfidfVectorizer(sublinear_tf=True, min_df=5,max_df=0.9, norm='l2', ngram_range=(2,2), preprocessor=clean_text_standard_metrics_v0plus,strip_accents='unicode',tokenizer=lemmatization_tokenizer,stop_words=single_letter+list(string.punctuation))\n",
    "word_tfidf.fit(X_train)\n",
    "len(word_tfidf.get_feature_names())"
   ]
  },
  {
   "cell_type": "code",
   "execution_count": 33,
   "metadata": {
    "ExecuteTime": {
     "end_time": "2018-06-15T10:04:12.346177Z",
     "start_time": "2018-06-15T10:00:22.715188Z"
    }
   },
   "outputs": [
    {
     "data": {
      "text/plain": [
       "158373"
      ]
     },
     "execution_count": 33,
     "metadata": {},
     "output_type": "execute_result"
    }
   ],
   "source": [
    "single_letter = ['a','b','c','d','e','f','g','h','i','j','k','l','m','n','o','p','q','r','s','t','u','v','w','x','y']\n",
    "word_tfidf = TfidfVectorizer(sublinear_tf=True, min_df=4,max_df=0.9, norm='l2', ngram_range=(2,2), preprocessor=clean_text_standard_metrics_v0plus,strip_accents='unicode',tokenizer=lemmatization_tokenizer,stop_words=single_letter+list(string.punctuation))\n",
    "word_tfidf.fit(X_train)\n",
    "len(word_tfidf.get_feature_names())"
   ]
  },
  {
   "cell_type": "code",
   "execution_count": 34,
   "metadata": {
    "ExecuteTime": {
     "end_time": "2018-06-15T10:29:14.174909Z",
     "start_time": "2018-06-15T10:25:23.967312Z"
    }
   },
   "outputs": [
    {
     "data": {
      "text/plain": [
       "221679"
      ]
     },
     "execution_count": 34,
     "metadata": {},
     "output_type": "execute_result"
    }
   ],
   "source": [
    "single_letter = ['a','b','c','d','e','f','g','h','i','j','k','l','m','n','o','p','q','r','s','t','u','v','w','x','y']\n",
    "word_tfidf = TfidfVectorizer(sublinear_tf=True, min_df=3,max_df=0.9, norm='l2', ngram_range=(2,2), preprocessor=clean_text_standard_metrics_v0plus,strip_accents='unicode',tokenizer=lemmatization_tokenizer,stop_words=single_letter+list(string.punctuation))\n",
    "word_tfidf.fit(X_train)\n",
    "len(word_tfidf.get_feature_names())"
   ]
  },
  {
   "cell_type": "code",
   "execution_count": 35,
   "metadata": {
    "ExecuteTime": {
     "end_time": "2018-06-15T10:11:52.988000Z",
     "start_time": "2018-06-15T10:08:02.216362Z"
    }
   },
   "outputs": [
    {
     "data": {
      "text/plain": [
       "373272"
      ]
     },
     "execution_count": 35,
     "metadata": {},
     "output_type": "execute_result"
    }
   ],
   "source": [
    "single_letter = ['a','b','c','d','e','f','g','h','i','j','k','l','m','n','o','p','q','r','s','t','u','v','w','x','y']\n",
    "word_tfidf = TfidfVectorizer(sublinear_tf=True, min_df=2,max_df=0.9, norm='l2', ngram_range=(2,2), preprocessor=clean_text_standard_metrics_v0plus,strip_accents='unicode',tokenizer=lemmatization_tokenizer,stop_words=single_letter+list(string.punctuation))\n",
    "word_tfidf.fit(X_train)\n",
    "len(word_tfidf.get_feature_names())"
   ]
  },
  {
   "cell_type": "code",
   "execution_count": null,
   "metadata": {},
   "outputs": [],
   "source": [
    "#word_tfidf = TfidfVectorizer(sublinear_tf=True, min_df=3,max_df=0.9, norm='l2', ngram_range=(2,2), preprocessor=clean_text_standard_metrics_v0plus,strip_accents='unicode',tokenizer=lemmatization_tokenizer,stop_words=single_letter+list(string.punctuation))"
   ]
  },
  {
   "cell_type": "code",
   "execution_count": 35,
   "metadata": {
    "ExecuteTime": {
     "start_time": "2018-06-15T10:28:39.806Z"
    }
   },
   "outputs": [],
   "source": [
    "X_train_tfidf_char = char_tfidf.transform(X_train)\n",
    "X_train_tfidf_word = word_tfidf.transform(X_train)\n",
    "X_test_tfidf_char = char_tfidf.transform(X_test)\n",
    "X_test_tfidf_word = word_tfidf.transform(X_test)\n",
    "X_train_tfidf_combined = hstack((X_train_tfidf_char, X_train_tfidf_word))\n",
    "X_test_tfidf_combined = hstack((X_test_tfidf_char, X_test_tfidf_word))"
   ]
  },
  {
   "cell_type": "code",
   "execution_count": 36,
   "metadata": {
    "ExecuteTime": {
     "start_time": "2018-06-15T10:28:40.412Z"
    }
   },
   "outputs": [
    {
     "name": "stdout",
     "output_type": "stream",
     "text": [
      "[LibLinear]Accuracy: 0.822455\n",
      "Precision: 0.8157397291306441\n",
      "Recall: 0.822455\n",
      "F1-Score: 0.8159350481617358\n"
     ]
    },
    {
     "name": "stderr",
     "output_type": "stream",
     "text": [
      "/usr/local/lib/python3.6/dist-packages/sklearn/metrics/classification.py:1135: UndefinedMetricWarning: Precision and F-score are ill-defined and being set to 0.0 in labels with no predicted samples.\n",
      "  'precision', 'predicted', average, warn_for)\n",
      "/usr/local/lib/python3.6/dist-packages/sklearn/metrics/classification.py:1137: UndefinedMetricWarning: Recall and F-score are ill-defined and being set to 0.0 in labels with no true samples.\n",
      "  'recall', 'true', average, warn_for)\n"
     ]
    }
   ],
   "source": [
    "clf = LinearSVC(verbose=1)\n",
    "clf.fit(X_train_tfidf_combined, y_train)\n",
    "\n",
    "y_pred = clf.predict(X_test_tfidf_combined)\n",
    "weighted_p, weighted_r, weighted_f1, _ = precision_recall_fscore_support(y_test,y_pred, pos_label=None, average='weighted')\n",
    "print(\"Accuracy:\", accuracy_score(y_pred, y_test))\n",
    "print(\"Precision:\", weighted_p)\n",
    "print(\"Recall:\", weighted_r)\n",
    "print(\"F1-Score:\", weighted_f1)"
   ]
  },
  {
   "cell_type": "code",
   "execution_count": null,
   "metadata": {},
   "outputs": [],
   "source": []
  },
  {
   "cell_type": "code",
   "execution_count": 8,
   "metadata": {},
   "outputs": [
    {
     "data": {
      "text/plain": [
       "373330"
      ]
     },
     "execution_count": 8,
     "metadata": {},
     "output_type": "execute_result"
    }
   ],
   "source": [
    "single_letter = ['a','b','c','d','e','f','g','h','i','j','k','l','m','n','o','p','q','r','s','t','u','v','w','x','y']\n",
    "word_tfidf = TfidfVectorizer(sublinear_tf=True, min_df=2,max_df=0.9, norm='l2', ngram_range=(2,2), preprocessor=clean_text_standard_metrics_v0plus,strip_accents='unicode',tokenizer=lemmatization_tokenizer,stop_words=single_letter+list(string.punctuation))\n",
    "word_tfidf.fit(X_train)\n",
    "len(word_tfidf.get_feature_names())"
   ]
  },
  {
   "cell_type": "code",
   "execution_count": 9,
   "metadata": {},
   "outputs": [],
   "source": [
    "X_train_tfidf_char = char_tfidf.transform(X_train)\n",
    "X_train_tfidf_word = word_tfidf.transform(X_train)\n",
    "X_test_tfidf_char = char_tfidf.transform(X_test)\n",
    "X_test_tfidf_word = word_tfidf.transform(X_test)\n",
    "X_train_tfidf_combined = hstack((X_train_tfidf_char, X_train_tfidf_word))\n",
    "X_test_tfidf_combined = hstack((X_test_tfidf_char, X_test_tfidf_word))"
   ]
  },
  {
   "cell_type": "code",
   "execution_count": null,
   "metadata": {},
   "outputs": [
    {
     "name": "stdout",
     "output_type": "stream",
     "text": [
      "[LibLinear]"
     ]
    }
   ],
   "source": [
    "clf = LinearSVC(verbose=1)\n",
    "clf.fit(X_train_tfidf_combined, y_train)\n",
    "\n",
    "y_pred = clf.predict(X_test_tfidf_combined)\n",
    "weighted_p, weighted_r, weighted_f1, _ = precision_recall_fscore_support(y_test,y_pred, pos_label=None, average='weighted')\n",
    "print(\"Accuracy:\", accuracy_score(y_pred, y_test))\n",
    "print(\"Precision:\", weighted_p)\n",
    "print(\"Recall:\", weighted_r)\n",
    "print(\"F1-Score:\", weighted_f1)"
   ]
  },
  {
   "cell_type": "code",
   "execution_count": null,
   "metadata": {},
   "outputs": [],
   "source": []
  },
  {
   "cell_type": "code",
   "execution_count": 8,
   "metadata": {},
   "outputs": [
    {
     "data": {
      "text/plain": [
       "269971"
      ]
     },
     "execution_count": 8,
     "metadata": {},
     "output_type": "execute_result"
    }
   ],
   "source": [
    "single_letter = ['a','b','c','d','e','f','g','h','i','j','k','l','m','n','o','p','q','r','s','t','u','v','w','x','y']\n",
    "word_tfidf = TfidfVectorizer(sublinear_tf=True, min_df=3,max_df=0.9, norm='l2', ngram_range=(1,2), preprocessor=clean_text_standard_metrics_v0plus,strip_accents='unicode',tokenizer=lemmatization_tokenizer,stop_words=single_letter+list(string.punctuation))\n",
    "word_tfidf.fit(X_train)\n",
    "len(word_tfidf.get_feature_names())"
   ]
  },
  {
   "cell_type": "code",
   "execution_count": 9,
   "metadata": {},
   "outputs": [],
   "source": [
    "X_train_tfidf_char = char_tfidf.transform(X_train)\n",
    "X_train_tfidf_word = word_tfidf.transform(X_train)\n",
    "X_test_tfidf_char = char_tfidf.transform(X_test)\n",
    "X_test_tfidf_word = word_tfidf.transform(X_test)\n",
    "X_train_tfidf_combined = hstack((X_train_tfidf_char, X_train_tfidf_word))\n",
    "X_test_tfidf_combined = hstack((X_test_tfidf_char, X_test_tfidf_word))"
   ]
  },
  {
   "cell_type": "code",
   "execution_count": null,
   "metadata": {},
   "outputs": [
    {
     "name": "stdout",
     "output_type": "stream",
     "text": [
      "[LibLinear]"
     ]
    }
   ],
   "source": [
    "clf = LinearSVC(verbose=1)\n",
    "clf.fit(X_train_tfidf_combined, y_train)\n",
    "\n",
    "y_pred = clf.predict(X_test_tfidf_combined)\n",
    "weighted_p, weighted_r, weighted_f1, _ = precision_recall_fscore_support(y_test,y_pred, pos_label=None, average='weighted')\n",
    "print(\"Accuracy:\", accuracy_score(y_pred, y_test))\n",
    "print(\"Precision:\", weighted_p)\n",
    "print(\"Recall:\", weighted_r)\n",
    "print(\"F1-Score:\", weighted_f1)"
   ]
  },
  {
   "cell_type": "code",
   "execution_count": null,
   "metadata": {},
   "outputs": [],
   "source": []
  },
  {
   "cell_type": "code",
   "execution_count": 15,
   "metadata": {},
   "outputs": [
    {
     "data": {
      "text/plain": [
       "262116"
      ]
     },
     "execution_count": 15,
     "metadata": {},
     "output_type": "execute_result"
    }
   ],
   "source": [
    "single_letter = ['a','b','c','d','e','f','g','h','i','j','k','l','m','n','o','p','q','r','s','t','u','v','w','x','y']\n",
    "word_tfidf = TfidfVectorizer(sublinear_tf=True, min_df=3,max_df=0.9, norm='l2', ngram_range=(1,2), preprocessor=clean_text_standard_metrics_v0plus,strip_accents='unicode',tokenizer=lemmatization_tokenizer,stop_words=stopwords.words('english')+single_letter+list(string.punctuation))\n",
    "word_tfidf.fit(X_train)\n",
    "len(word_tfidf.get_feature_names())"
   ]
  },
  {
   "cell_type": "code",
   "execution_count": 16,
   "metadata": {},
   "outputs": [
    {
     "data": {
      "text/plain": [
       "269971"
      ]
     },
     "execution_count": 16,
     "metadata": {},
     "output_type": "execute_result"
    }
   ],
   "source": [
    "single_letter = ['a','b','c','d','e','f','g','h','i','j','k','l','m','n','o','p','q','r','s','t','u','v','w','x','y']\n",
    "word_tfidf = TfidfVectorizer(sublinear_tf=True, min_df=3,max_df=0.9, norm='l2', ngram_range=(1,2), preprocessor=clean_text_standard_metrics_v0plus,strip_accents='unicode',tokenizer=lemmatization_tokenizer,stop_words=single_letter+list(string.punctuation))\n",
    "word_tfidf.fit(X_train)\n",
    "len(word_tfidf.get_feature_names())"
   ]
  },
  {
   "cell_type": "code",
   "execution_count": null,
   "metadata": {},
   "outputs": [],
   "source": []
  },
  {
   "cell_type": "code",
   "execution_count": null,
   "metadata": {},
   "outputs": [],
   "source": []
  },
  {
   "cell_type": "code",
   "execution_count": null,
   "metadata": {},
   "outputs": [],
   "source": []
  },
  {
   "cell_type": "code",
   "execution_count": 20,
   "metadata": {},
   "outputs": [
    {
     "data": {
      "text/plain": [
       "67796"
      ]
     },
     "execution_count": 20,
     "metadata": {},
     "output_type": "execute_result"
    }
   ],
   "source": [
    "single_letter = ['a','b','c','d','e','f','g','h','i','j','k','l','m','n','o','p','q','r','s','t','u','v','w','x','y']\n",
    "word_tfidf = TfidfVectorizer(sublinear_tf=True, min_df=2,max_df=0.9, norm='l2', ngram_range=(1,1), preprocessor=clean_text_standard_metrics_v0plus,strip_accents='unicode',tokenizer=lemmatization_tokenizer,stop_words=single_letter+list(string.punctuation))\n",
    "word_tfidf.fit(X_train)\n",
    "len(word_tfidf.get_feature_names())"
   ]
  },
  {
   "cell_type": "code",
   "execution_count": 21,
   "metadata": {},
   "outputs": [],
   "source": [
    "X_train_tfidf_char = char_tfidf.transform(X_train)\n",
    "X_train_tfidf_word = word_tfidf.transform(X_train)\n",
    "X_test_tfidf_char = char_tfidf.transform(X_test)\n",
    "X_test_tfidf_word = word_tfidf.transform(X_test)\n",
    "X_train_tfidf_combined = hstack((X_train_tfidf_char, X_train_tfidf_word))\n",
    "X_test_tfidf_combined = hstack((X_test_tfidf_char, X_test_tfidf_word))"
   ]
  },
  {
   "cell_type": "code",
   "execution_count": 22,
   "metadata": {},
   "outputs": [
    {
     "name": "stdout",
     "output_type": "stream",
     "text": [
      "[LibLinear]Accuracy: 0.822295\n",
      "Precision: 0.8148492737747316\n",
      "Recall: 0.822295\n",
      "F1-Score: 0.815275452910897\n"
     ]
    },
    {
     "name": "stderr",
     "output_type": "stream",
     "text": [
      "/usr/local/lib/python3.6/dist-packages/sklearn/metrics/classification.py:1135: UndefinedMetricWarning: Precision and F-score are ill-defined and being set to 0.0 in labels with no predicted samples.\n",
      "  'precision', 'predicted', average, warn_for)\n",
      "/usr/local/lib/python3.6/dist-packages/sklearn/metrics/classification.py:1137: UndefinedMetricWarning: Recall and F-score are ill-defined and being set to 0.0 in labels with no true samples.\n",
      "  'recall', 'true', average, warn_for)\n"
     ]
    }
   ],
   "source": [
    "clf = LinearSVC(verbose=1)\n",
    "clf.fit(X_train_tfidf_combined, y_train)\n",
    "\n",
    "y_pred = clf.predict(X_test_tfidf_combined)\n",
    "weighted_p, weighted_r, weighted_f1, _ = precision_recall_fscore_support(y_test,y_pred, pos_label=None, average='weighted')\n",
    "print(\"Accuracy:\", accuracy_score(y_pred, y_test))\n",
    "print(\"Precision:\", weighted_p)\n",
    "print(\"Recall:\", weighted_r)\n",
    "print(\"F1-Score:\", weighted_f1)"
   ]
  },
  {
   "cell_type": "code",
   "execution_count": null,
   "metadata": {},
   "outputs": [],
   "source": []
  },
  {
   "cell_type": "code",
   "execution_count": 23,
   "metadata": {},
   "outputs": [
    {
     "data": {
      "text/plain": [
       "262116"
      ]
     },
     "execution_count": 23,
     "metadata": {},
     "output_type": "execute_result"
    }
   ],
   "source": [
    "single_letter = ['a','b','c','d','e','f','g','h','i','j','k','l','m','n','o','p','q','r','s','t','u','v','w','x','y']\n",
    "word_tfidf = TfidfVectorizer(sublinear_tf=True, min_df=3,max_df=0.9, norm='l2', ngram_range=(1,2), preprocessor=clean_text_standard_metrics_v0plus,strip_accents='unicode',tokenizer=lemmatization_tokenizer,stop_words=stopwords.words('english')+single_letter+list(string.punctuation))\n",
    "word_tfidf.fit(X_train)\n",
    "len(word_tfidf.get_feature_names())"
   ]
  },
  {
   "cell_type": "code",
   "execution_count": 24,
   "metadata": {},
   "outputs": [],
   "source": [
    "X_train_tfidf_char = char_tfidf.transform(X_train)\n",
    "X_train_tfidf_word = word_tfidf.transform(X_train)\n",
    "X_test_tfidf_char = char_tfidf.transform(X_test)\n",
    "X_test_tfidf_word = word_tfidf.transform(X_test)\n",
    "X_train_tfidf_combined = hstack((X_train_tfidf_char, X_train_tfidf_word))\n",
    "X_test_tfidf_combined = hstack((X_test_tfidf_char, X_test_tfidf_word))"
   ]
  },
  {
   "cell_type": "code",
   "execution_count": 25,
   "metadata": {},
   "outputs": [
    {
     "name": "stdout",
     "output_type": "stream",
     "text": [
      "[LibLinear]Accuracy: 0.82849\n",
      "Precision: 0.8217932982054609\n",
      "Recall: 0.82849\n",
      "F1-Score: 0.8220414566191109\n"
     ]
    },
    {
     "name": "stderr",
     "output_type": "stream",
     "text": [
      "/usr/local/lib/python3.6/dist-packages/sklearn/metrics/classification.py:1135: UndefinedMetricWarning: Precision and F-score are ill-defined and being set to 0.0 in labels with no predicted samples.\n",
      "  'precision', 'predicted', average, warn_for)\n",
      "/usr/local/lib/python3.6/dist-packages/sklearn/metrics/classification.py:1137: UndefinedMetricWarning: Recall and F-score are ill-defined and being set to 0.0 in labels with no true samples.\n",
      "  'recall', 'true', average, warn_for)\n"
     ]
    }
   ],
   "source": [
    "clf = LinearSVC(verbose=1)\n",
    "clf.fit(X_train_tfidf_combined, y_train)\n",
    "\n",
    "y_pred = clf.predict(X_test_tfidf_combined)\n",
    "weighted_p, weighted_r, weighted_f1, _ = precision_recall_fscore_support(y_test,y_pred, pos_label=None, average='weighted')\n",
    "print(\"Accuracy:\", accuracy_score(y_pred, y_test))\n",
    "print(\"Precision:\", weighted_p)\n",
    "print(\"Recall:\", weighted_r)\n",
    "print(\"F1-Score:\", weighted_f1)"
   ]
  },
  {
   "cell_type": "code",
   "execution_count": null,
   "metadata": {},
   "outputs": [],
   "source": []
  },
  {
   "cell_type": "code",
   "execution_count": null,
   "metadata": {},
   "outputs": [],
   "source": []
  },
  {
   "cell_type": "code",
   "execution_count": null,
   "metadata": {},
   "outputs": [],
   "source": []
  },
  {
   "cell_type": "code",
   "execution_count": 26,
   "metadata": {},
   "outputs": [
    {
     "data": {
      "text/plain": [
       "95626"
      ]
     },
     "execution_count": 26,
     "metadata": {},
     "output_type": "execute_result"
    }
   ],
   "source": [
    "char_tfidf = TfidfVectorizer(sublinear_tf=True, min_df=2,norm='l2', ngram_range=(1,4),lowercase=True, analyzer='char',preprocessor=xtrem_clean_char,strip_accents='unicode')\n",
    "char_tfidf.fit(X_train)\n",
    "len(char_tfidf.get_feature_names())"
   ]
  },
  {
   "cell_type": "code",
   "execution_count": 27,
   "metadata": {},
   "outputs": [
    {
     "data": {
      "text/plain": [
       "269971"
      ]
     },
     "execution_count": 27,
     "metadata": {},
     "output_type": "execute_result"
    }
   ],
   "source": [
    "single_letter = ['a','b','c','d','e','f','g','h','i','j','k','l','m','n','o','p','q','r','s','t','u','v','w','x','y']\n",
    "word_tfidf = TfidfVectorizer(sublinear_tf=True, min_df=3,max_df=0.9, norm='l2', ngram_range=(1,2), preprocessor=clean_text_standard_metrics_v0plus,strip_accents='unicode',tokenizer=lemmatization_tokenizer,stop_words=single_letter+list(string.punctuation))\n",
    "word_tfidf.fit(X_train)\n",
    "len(word_tfidf.get_feature_names())"
   ]
  },
  {
   "cell_type": "code",
   "execution_count": 28,
   "metadata": {},
   "outputs": [],
   "source": [
    "X_train_tfidf_char = char_tfidf.transform(X_train)\n",
    "X_train_tfidf_word = word_tfidf.transform(X_train)\n",
    "X_test_tfidf_char = char_tfidf.transform(X_test)\n",
    "X_test_tfidf_word = word_tfidf.transform(X_test)\n",
    "X_train_tfidf_combined = hstack((X_train_tfidf_char, X_train_tfidf_word))\n",
    "X_test_tfidf_combined = hstack((X_test_tfidf_char, X_test_tfidf_word))"
   ]
  },
  {
   "cell_type": "code",
   "execution_count": 29,
   "metadata": {},
   "outputs": [
    {
     "name": "stdout",
     "output_type": "stream",
     "text": [
      "[LibLinear]Accuracy: 0.82056\n",
      "Precision: 0.813555189615295\n",
      "Recall: 0.82056\n",
      "F1-Score: 0.8139858836602456\n"
     ]
    },
    {
     "name": "stderr",
     "output_type": "stream",
     "text": [
      "/usr/local/lib/python3.6/dist-packages/sklearn/metrics/classification.py:1135: UndefinedMetricWarning: Precision and F-score are ill-defined and being set to 0.0 in labels with no predicted samples.\n",
      "  'precision', 'predicted', average, warn_for)\n",
      "/usr/local/lib/python3.6/dist-packages/sklearn/metrics/classification.py:1137: UndefinedMetricWarning: Recall and F-score are ill-defined and being set to 0.0 in labels with no true samples.\n",
      "  'recall', 'true', average, warn_for)\n"
     ]
    }
   ],
   "source": [
    "clf = LinearSVC(verbose=1)\n",
    "clf.fit(X_train_tfidf_combined, y_train)\n",
    "\n",
    "y_pred = clf.predict(X_test_tfidf_combined)\n",
    "weighted_p, weighted_r, weighted_f1, _ = precision_recall_fscore_support(y_test,y_pred, pos_label=None, average='weighted')\n",
    "print(\"Accuracy:\", accuracy_score(y_pred, y_test))\n",
    "print(\"Precision:\", weighted_p)\n",
    "print(\"Recall:\", weighted_r)\n",
    "print(\"F1-Score:\", weighted_f1)"
   ]
  },
  {
   "cell_type": "code",
   "execution_count": null,
   "metadata": {},
   "outputs": [],
   "source": []
  },
  {
   "cell_type": "code",
   "execution_count": 30,
   "metadata": {},
   "outputs": [
    {
     "data": {
      "text/plain": [
       "441126"
      ]
     },
     "execution_count": 30,
     "metadata": {},
     "output_type": "execute_result"
    }
   ],
   "source": [
    "single_letter = ['a','b','c','d','e','f','g','h','i','j','k','l','m','n','o','p','q','r','s','t','u','v','w','x','y']\n",
    "word_tfidf = TfidfVectorizer(sublinear_tf=True, min_df=2,max_df=0.9, norm='l2', ngram_range=(1,2), preprocessor=clean_text_standard_metrics_v0plus,strip_accents='unicode',tokenizer=lemmatization_tokenizer,stop_words=single_letter+list(string.punctuation))\n",
    "word_tfidf.fit(X_train)\n",
    "len(word_tfidf.get_feature_names())"
   ]
  },
  {
   "cell_type": "code",
   "execution_count": 31,
   "metadata": {},
   "outputs": [],
   "source": [
    "X_train_tfidf_char = char_tfidf.transform(X_train)\n",
    "X_train_tfidf_word = word_tfidf.transform(X_train)\n",
    "X_test_tfidf_char = char_tfidf.transform(X_test)\n",
    "X_test_tfidf_word = word_tfidf.transform(X_test)\n",
    "X_train_tfidf_combined = hstack((X_train_tfidf_char, X_train_tfidf_word))\n",
    "X_test_tfidf_combined = hstack((X_test_tfidf_char, X_test_tfidf_word))"
   ]
  },
  {
   "cell_type": "code",
   "execution_count": 32,
   "metadata": {},
   "outputs": [
    {
     "name": "stdout",
     "output_type": "stream",
     "text": [
      "[LibLinear]Accuracy: 0.82174\n",
      "Precision: 0.8147924757938853\n",
      "Recall: 0.82174\n",
      "F1-Score: 0.8151024930353313\n"
     ]
    },
    {
     "name": "stderr",
     "output_type": "stream",
     "text": [
      "/usr/local/lib/python3.6/dist-packages/sklearn/metrics/classification.py:1135: UndefinedMetricWarning: Precision and F-score are ill-defined and being set to 0.0 in labels with no predicted samples.\n",
      "  'precision', 'predicted', average, warn_for)\n",
      "/usr/local/lib/python3.6/dist-packages/sklearn/metrics/classification.py:1137: UndefinedMetricWarning: Recall and F-score are ill-defined and being set to 0.0 in labels with no true samples.\n",
      "  'recall', 'true', average, warn_for)\n"
     ]
    }
   ],
   "source": [
    "clf = LinearSVC(verbose=1)\n",
    "clf.fit(X_train_tfidf_combined, y_train)\n",
    "\n",
    "y_pred = clf.predict(X_test_tfidf_combined)\n",
    "weighted_p, weighted_r, weighted_f1, _ = precision_recall_fscore_support(y_test,y_pred, pos_label=None, average='weighted')\n",
    "print(\"Accuracy:\", accuracy_score(y_pred, y_test))\n",
    "print(\"Precision:\", weighted_p)\n",
    "print(\"Recall:\", weighted_r)\n",
    "print(\"F1-Score:\", weighted_f1)"
   ]
  },
  {
   "cell_type": "code",
   "execution_count": null,
   "metadata": {},
   "outputs": [],
   "source": []
  },
  {
   "cell_type": "code",
   "execution_count": null,
   "metadata": {},
   "outputs": [],
   "source": []
  },
  {
   "cell_type": "code",
   "execution_count": 10,
   "metadata": {
    "ExecuteTime": {
     "end_time": "2018-06-16T18:39:02.815809Z",
     "start_time": "2018-06-16T18:37:07.151128Z"
    }
   },
   "outputs": [
    {
     "data": {
      "text/plain": [
       "84226"
      ]
     },
     "execution_count": 10,
     "metadata": {},
     "output_type": "execute_result"
    }
   ],
   "source": [
    "char_tfidf = TfidfVectorizer(sublinear_tf=True, min_df=3,norm='l2', ngram_range=(1,4),lowercase=True, analyzer='char',preprocessor=xtrem_clean_char,strip_accents='unicode')\n",
    "char_tfidf.fit(X_train)\n",
    "len(char_tfidf.get_feature_names())"
   ]
  },
  {
   "cell_type": "code",
   "execution_count": 11,
   "metadata": {
    "ExecuteTime": {
     "end_time": "2018-06-16T18:41:26.863339Z",
     "start_time": "2018-06-16T18:39:02.817070Z"
    }
   },
   "outputs": [
    {
     "data": {
      "text/plain": [
       "441126"
      ]
     },
     "execution_count": 11,
     "metadata": {},
     "output_type": "execute_result"
    }
   ],
   "source": [
    "single_letter = ['a','b','c','d','e','f','g','h','i','j','k','l','m','n','o','p','q','r','s','t','u','v','w','x','y']\n",
    "word_tfidf = TfidfVectorizer(sublinear_tf=True, min_df=2,max_df=0.9, norm='l2', ngram_range=(1,2), preprocessor=clean_text_standard_metrics_v0plus,strip_accents='unicode',tokenizer=lemmatization_tokenizer,stop_words=single_letter+list(string.punctuation))\n",
    "word_tfidf.fit(X_train)\n",
    "len(word_tfidf.get_feature_names())"
   ]
  },
  {
   "cell_type": "code",
   "execution_count": 12,
   "metadata": {
    "ExecuteTime": {
     "end_time": "2018-06-16T18:47:19.640866Z",
     "start_time": "2018-06-16T18:41:26.864503Z"
    }
   },
   "outputs": [],
   "source": [
    "X_train_tfidf_char = char_tfidf.transform(X_train)\n",
    "X_train_tfidf_word = word_tfidf.transform(X_train)\n",
    "X_test_tfidf_char = char_tfidf.transform(X_test)\n",
    "X_test_tfidf_word = word_tfidf.transform(X_test)\n",
    "X_train_tfidf_combined = hstack((X_train_tfidf_char, X_train_tfidf_word))\n",
    "X_test_tfidf_combined = hstack((X_test_tfidf_char, X_test_tfidf_word))"
   ]
  },
  {
   "cell_type": "code",
   "execution_count": 13,
   "metadata": {
    "ExecuteTime": {
     "end_time": "2018-06-16T20:52:07.343488Z",
     "start_time": "2018-06-16T18:47:19.642034Z"
    }
   },
   "outputs": [
    {
     "name": "stdout",
     "output_type": "stream",
     "text": [
      "[LibLinear]Accuracy: 0.821735\n",
      "Precision: 0.8148258025181456\n",
      "Recall: 0.821735\n",
      "F1-Score: 0.8151270989332956\n"
     ]
    },
    {
     "name": "stderr",
     "output_type": "stream",
     "text": [
      "/usr/local/lib/python3.6/dist-packages/sklearn/metrics/classification.py:1135: UndefinedMetricWarning: Precision and F-score are ill-defined and being set to 0.0 in labels with no predicted samples.\n",
      "  'precision', 'predicted', average, warn_for)\n",
      "/usr/local/lib/python3.6/dist-packages/sklearn/metrics/classification.py:1137: UndefinedMetricWarning: Recall and F-score are ill-defined and being set to 0.0 in labels with no true samples.\n",
      "  'recall', 'true', average, warn_for)\n"
     ]
    }
   ],
   "source": [
    "clf = LinearSVC(verbose=1)\n",
    "clf.fit(X_train_tfidf_combined, y_train)\n",
    "\n",
    "y_pred = clf.predict(X_test_tfidf_combined)\n",
    "weighted_p, weighted_r, weighted_f1, _ = precision_recall_fscore_support(y_test,y_pred, pos_label=None, average='weighted')\n",
    "print(\"Accuracy:\", accuracy_score(y_pred, y_test))\n",
    "print(\"Precision:\", weighted_p)\n",
    "print(\"Recall:\", weighted_r)\n",
    "print(\"F1-Score:\", weighted_f1)"
   ]
  },
  {
   "cell_type": "code",
   "execution_count": null,
   "metadata": {},
   "outputs": [],
   "source": []
  },
  {
   "cell_type": "code",
   "execution_count": null,
   "metadata": {},
   "outputs": [],
   "source": []
  },
  {
   "cell_type": "code",
   "execution_count": null,
   "metadata": {},
   "outputs": [],
   "source": []
  },
  {
   "cell_type": "code",
   "execution_count": null,
   "metadata": {},
   "outputs": [],
   "source": []
  },
  {
   "cell_type": "code",
   "execution_count": null,
   "metadata": {},
   "outputs": [],
   "source": []
  },
  {
   "cell_type": "code",
   "execution_count": 6,
   "metadata": {
    "ExecuteTime": {
     "end_time": "2018-06-16T21:08:50.144968Z",
     "start_time": "2018-06-16T21:07:22.543554Z"
    }
   },
   "outputs": [
    {
     "data": {
      "text/plain": [
       "503518"
      ]
     },
     "execution_count": 6,
     "metadata": {},
     "output_type": "execute_result"
    }
   ],
   "source": [
    "char_tfidf = TfidfVectorizer(sublinear_tf=True, min_df=2,norm='l2', ngram_range=(1,4),lowercase=True, analyzer='char',strip_accents='unicode')\n",
    "char_tfidf.fit(X)\n",
    "len(char_tfidf.get_feature_names())"
   ]
  },
  {
   "cell_type": "code",
   "execution_count": 7,
   "metadata": {
    "ExecuteTime": {
     "end_time": "2018-06-16T21:12:10.050163Z",
     "start_time": "2018-06-16T21:08:50.146257Z"
    }
   },
   "outputs": [
    {
     "data": {
      "text/plain": [
       "330972"
      ]
     },
     "execution_count": 7,
     "metadata": {},
     "output_type": "execute_result"
    }
   ],
   "source": [
    "single_letter = ['a','b','c','d','e','f','g','h','i','j','k','l','m','n','o','p','q','r','s','t','u','v','w','x','y']\n",
    "word_tfidf = TfidfVectorizer(sublinear_tf=True, min_df=3,max_df=0.9, norm='l2', ngram_range=(1,2), preprocessor=clean_text_standard_metrics_v0plus,strip_accents='unicode',tokenizer=lemmatization_tokenizer,stop_words=stopwords.words('english')+single_letter+list(string.punctuation))\n",
    "word_tfidf.fit(X)\n",
    "len(word_tfidf.get_feature_names())"
   ]
  },
  {
   "cell_type": "code",
   "execution_count": 8,
   "metadata": {
    "ExecuteTime": {
     "end_time": "2018-06-16T21:17:10.661273Z",
     "start_time": "2018-06-16T21:12:10.052447Z"
    }
   },
   "outputs": [],
   "source": [
    "X_tfidf_char = char_tfidf.transform(X)\n",
    "X_tfidf_word = word_tfidf.transform(X)\n",
    "X_tfidf_combined = hstack((X_tfidf_char, X_tfidf_word))"
   ]
  },
  {
   "cell_type": "code",
   "execution_count": 9,
   "metadata": {
    "ExecuteTime": {
     "end_time": "2018-06-16T21:17:21.694847Z",
     "start_time": "2018-06-16T21:17:10.663486Z"
    }
   },
   "outputs": [
    {
     "data": {
      "text/plain": [
       "['word_tfidf.pkl']"
      ]
     },
     "execution_count": 9,
     "metadata": {},
     "output_type": "execute_result"
    }
   ],
   "source": [
    "joblib.dump(word_tfidf, 'word_tfidf.pkl')"
   ]
  },
  {
   "cell_type": "code",
   "execution_count": 10,
   "metadata": {
    "ExecuteTime": {
     "end_time": "2018-06-16T21:17:33.414211Z",
     "start_time": "2018-06-16T21:17:21.696042Z"
    }
   },
   "outputs": [
    {
     "data": {
      "text/plain": [
       "['char_tfidf.pkl']"
      ]
     },
     "execution_count": 10,
     "metadata": {},
     "output_type": "execute_result"
    }
   ],
   "source": [
    "joblib.dump(char_tfidf, 'char_tfidf.pkl')"
   ]
  },
  {
   "cell_type": "code",
   "execution_count": null,
   "metadata": {
    "ExecuteTime": {
     "start_time": "2018-06-16T21:22:53.733Z"
    }
   },
   "outputs": [
    {
     "name": "stdout",
     "output_type": "stream",
     "text": [
      "[LibLinear]"
     ]
    }
   ],
   "source": []
  },
  {
   "cell_type": "code",
   "execution_count": 14,
   "metadata": {
    "ExecuteTime": {
     "end_time": "2018-06-17T06:35:21.080988Z",
     "start_time": "2018-06-17T06:35:16.332033Z"
    }
   },
   "outputs": [],
   "source": [
    "char_tfidf = joblib.load('char_tfidf.pkl') "
   ]
  },
  {
   "cell_type": "code",
   "execution_count": 15,
   "metadata": {
    "ExecuteTime": {
     "end_time": "2018-06-17T06:35:26.416769Z",
     "start_time": "2018-06-17T06:35:21.082312Z"
    }
   },
   "outputs": [],
   "source": [
    "word_tfidf = joblib.load('word_tfidf.pkl') "
   ]
  },
  {
   "cell_type": "code",
   "execution_count": 16,
   "metadata": {
    "ExecuteTime": {
     "end_time": "2018-06-17T06:40:14.873066Z",
     "start_time": "2018-06-17T06:35:26.417945Z"
    }
   },
   "outputs": [],
   "source": [
    "X_tfidf_char = char_tfidf.transform(X)\n",
    "X_tfidf_word = word_tfidf.transform(X)"
   ]
  },
  {
   "cell_type": "code",
   "execution_count": 17,
   "metadata": {
    "ExecuteTime": {
     "end_time": "2018-06-17T06:40:14.876730Z",
     "start_time": "2018-06-17T06:40:14.874314Z"
    }
   },
   "outputs": [
    {
     "data": {
      "text/plain": [
       "<800000x503518 sparse matrix of type '<class 'numpy.float64'>'\n",
       "\twith 162424877 stored elements in Compressed Sparse Row format>"
      ]
     },
     "execution_count": 17,
     "metadata": {},
     "output_type": "execute_result"
    }
   ],
   "source": [
    "X_tfidf_char"
   ]
  },
  {
   "cell_type": "code",
   "execution_count": 19,
   "metadata": {
    "ExecuteTime": {
     "end_time": "2018-06-17T06:43:26.129875Z",
     "start_time": "2018-06-17T06:43:26.116301Z"
    }
   },
   "outputs": [
    {
     "ename": "MemoryError",
     "evalue": "",
     "output_type": "error",
     "traceback": [
      "\u001b[0;31m---------------------------------------------------------------------------\u001b[0m",
      "\u001b[0;31mMemoryError\u001b[0m                               Traceback (most recent call last)",
      "\u001b[0;32m<ipython-input-19-fa99e464af62>\u001b[0m in \u001b[0;36m<module>\u001b[0;34m()\u001b[0m\n\u001b[0;32m----> 1\u001b[0;31m \u001b[0mX_tfidf_char\u001b[0m\u001b[0;34m.\u001b[0m\u001b[0mtoarray\u001b[0m\u001b[0;34m(\u001b[0m\u001b[0;34m)\u001b[0m\u001b[0;34m\u001b[0m\u001b[0m\n\u001b[0m",
      "\u001b[0;32m/usr/local/lib/python3.6/dist-packages/scipy/sparse/compressed.py\u001b[0m in \u001b[0;36mtoarray\u001b[0;34m(self, order, out)\u001b[0m\n\u001b[1;32m    945\u001b[0m         \u001b[0;32mif\u001b[0m \u001b[0mout\u001b[0m \u001b[0;32mis\u001b[0m \u001b[0;32mNone\u001b[0m \u001b[0;32mand\u001b[0m \u001b[0morder\u001b[0m \u001b[0;32mis\u001b[0m \u001b[0;32mNone\u001b[0m\u001b[0;34m:\u001b[0m\u001b[0;34m\u001b[0m\u001b[0m\n\u001b[1;32m    946\u001b[0m             \u001b[0morder\u001b[0m \u001b[0;34m=\u001b[0m \u001b[0mself\u001b[0m\u001b[0;34m.\u001b[0m\u001b[0m_swap\u001b[0m\u001b[0;34m(\u001b[0m\u001b[0;34m'cf'\u001b[0m\u001b[0;34m)\u001b[0m\u001b[0;34m[\u001b[0m\u001b[0;36m0\u001b[0m\u001b[0;34m]\u001b[0m\u001b[0;34m\u001b[0m\u001b[0m\n\u001b[0;32m--> 947\u001b[0;31m         \u001b[0mout\u001b[0m \u001b[0;34m=\u001b[0m \u001b[0mself\u001b[0m\u001b[0;34m.\u001b[0m\u001b[0m_process_toarray_args\u001b[0m\u001b[0;34m(\u001b[0m\u001b[0morder\u001b[0m\u001b[0;34m,\u001b[0m \u001b[0mout\u001b[0m\u001b[0;34m)\u001b[0m\u001b[0;34m\u001b[0m\u001b[0m\n\u001b[0m\u001b[1;32m    948\u001b[0m         \u001b[0;32mif\u001b[0m \u001b[0;32mnot\u001b[0m \u001b[0;34m(\u001b[0m\u001b[0mout\u001b[0m\u001b[0;34m.\u001b[0m\u001b[0mflags\u001b[0m\u001b[0;34m.\u001b[0m\u001b[0mc_contiguous\u001b[0m \u001b[0;32mor\u001b[0m \u001b[0mout\u001b[0m\u001b[0;34m.\u001b[0m\u001b[0mflags\u001b[0m\u001b[0;34m.\u001b[0m\u001b[0mf_contiguous\u001b[0m\u001b[0;34m)\u001b[0m\u001b[0;34m:\u001b[0m\u001b[0;34m\u001b[0m\u001b[0m\n\u001b[1;32m    949\u001b[0m             \u001b[0;32mraise\u001b[0m \u001b[0mValueError\u001b[0m\u001b[0;34m(\u001b[0m\u001b[0;34m'Output array must be C or F contiguous'\u001b[0m\u001b[0;34m)\u001b[0m\u001b[0;34m\u001b[0m\u001b[0m\n",
      "\u001b[0;32m/usr/local/lib/python3.6/dist-packages/scipy/sparse/base.py\u001b[0m in \u001b[0;36m_process_toarray_args\u001b[0;34m(self, order, out)\u001b[0m\n\u001b[1;32m   1182\u001b[0m             \u001b[0;32mreturn\u001b[0m \u001b[0mout\u001b[0m\u001b[0;34m\u001b[0m\u001b[0m\n\u001b[1;32m   1183\u001b[0m         \u001b[0;32melse\u001b[0m\u001b[0;34m:\u001b[0m\u001b[0;34m\u001b[0m\u001b[0m\n\u001b[0;32m-> 1184\u001b[0;31m             \u001b[0;32mreturn\u001b[0m \u001b[0mnp\u001b[0m\u001b[0;34m.\u001b[0m\u001b[0mzeros\u001b[0m\u001b[0;34m(\u001b[0m\u001b[0mself\u001b[0m\u001b[0;34m.\u001b[0m\u001b[0mshape\u001b[0m\u001b[0;34m,\u001b[0m \u001b[0mdtype\u001b[0m\u001b[0;34m=\u001b[0m\u001b[0mself\u001b[0m\u001b[0;34m.\u001b[0m\u001b[0mdtype\u001b[0m\u001b[0;34m,\u001b[0m \u001b[0morder\u001b[0m\u001b[0;34m=\u001b[0m\u001b[0morder\u001b[0m\u001b[0;34m)\u001b[0m\u001b[0;34m\u001b[0m\u001b[0m\n\u001b[0m\u001b[1;32m   1185\u001b[0m \u001b[0;34m\u001b[0m\u001b[0m\n\u001b[1;32m   1186\u001b[0m \u001b[0;34m\u001b[0m\u001b[0m\n",
      "\u001b[0;31mMemoryError\u001b[0m: "
     ]
    }
   ],
   "source": [
    "X_tfidf_char.toarray()"
   ]
  },
  {
   "cell_type": "code",
   "execution_count": null,
   "metadata": {},
   "outputs": [],
   "source": []
  },
  {
   "cell_type": "code",
   "execution_count": 21,
   "metadata": {
    "ExecuteTime": {
     "end_time": "2018-06-16T21:58:51.244720Z",
     "start_time": "2018-06-16T21:58:41.965985Z"
    }
   },
   "outputs": [],
   "source": [
    "X_tfidf_combined = hstack((X_tfidf_char, X_tfidf_word))"
   ]
  },
  {
   "cell_type": "code",
   "execution_count": 22,
   "metadata": {
    "ExecuteTime": {
     "end_time": "2018-06-16T21:58:51.248172Z",
     "start_time": "2018-06-16T21:58:51.245963Z"
    }
   },
   "outputs": [
    {
     "data": {
      "text/plain": [
       "<800000x834490 sparse matrix of type '<class 'numpy.float64'>'\n",
       "\twith 175872548 stored elements in Compressed Sparse Row format>"
      ]
     },
     "execution_count": 22,
     "metadata": {},
     "output_type": "execute_result"
    }
   ],
   "source": [
    "X_tfidf_combined"
   ]
  },
  {
   "cell_type": "code",
   "execution_count": 26,
   "metadata": {
    "ExecuteTime": {
     "end_time": "2018-06-16T22:10:56.769018Z",
     "start_time": "2018-06-16T22:10:56.581086Z"
    }
   },
   "outputs": [],
   "source": [
    "X_tfidf_combined.check_format()"
   ]
  },
  {
   "cell_type": "code",
   "execution_count": null,
   "metadata": {
    "ExecuteTime": {
     "start_time": "2018-06-17T06:29:09.424Z"
    }
   },
   "outputs": [],
   "source": [
    "scipy.version.full_version"
   ]
  },
  {
   "cell_type": "code",
   "execution_count": null,
   "metadata": {
    "ExecuteTime": {
     "start_time": "2018-06-16T21:44:57.560Z"
    }
   },
   "outputs": [
    {
     "name": "stdout",
     "output_type": "stream",
     "text": [
      "[LibLinear]"
     ]
    }
   ],
   "source": [
    "clf = LinearSVC(verbose=1)\n",
    "clf.fit(X_tfidf_combined, y)"
   ]
  },
  {
   "cell_type": "code",
   "execution_count": null,
   "metadata": {},
   "outputs": [],
   "source": []
  },
  {
   "cell_type": "code",
   "execution_count": null,
   "metadata": {
    "ExecuteTime": {
     "start_time": "2018-06-16T18:40:31.444Z"
    }
   },
   "outputs": [],
   "source": [
    "joblib.dump(clf, 'rakutenModel.pkl')"
   ]
  },
  {
   "cell_type": "code",
   "execution_count": null,
   "metadata": {
    "ExecuteTime": {
     "start_time": "2018-06-16T18:40:31.872Z"
    }
   },
   "outputs": [],
   "source": [
    "clf = joblib.load('rakutenModel.pkl') "
   ]
  },
  {
   "cell_type": "code",
   "execution_count": null,
   "metadata": {
    "ExecuteTime": {
     "start_time": "2018-06-16T18:42:38.126Z"
    }
   },
   "outputs": [],
   "source": [
    "df=pd.read_csv('./rdc-catalog-test.tsv',delimiter='\\t',encoding='utf-8')\n",
    "df.head()\n",
    "df.values.shape"
   ]
  },
  {
   "cell_type": "code",
   "execution_count": null,
   "metadata": {
    "ExecuteTime": {
     "start_time": "2018-06-16T18:42:38.546Z"
    }
   },
   "outputs": [],
   "source": [
    "values=np.hstack(df.values)\n",
    "predictions=clf.predict(values)"
   ]
  },
  {
   "cell_type": "code",
   "execution_count": null,
   "metadata": {
    "ExecuteTime": {
     "start_time": "2018-06-16T18:42:39.010Z"
    }
   },
   "outputs": [],
   "source": [
    "df.insert(1,'CategoryIdPath',[pred for pred in predictions])\n",
    "df.head()"
   ]
  },
  {
   "cell_type": "code",
   "execution_count": null,
   "metadata": {
    "ExecuteTime": {
     "start_time": "2018-06-16T18:42:39.429Z"
    }
   },
   "outputs": [],
   "source": [
    "df.to_csv(\"submission_test_stdz.tsv\", sep='\\t', encoding='utf-8',index=False,header=False)\n",
    "sub_df=pd.read_csv(\"submission_test_stdz.tsv\",delimiter='\\t',encoding='utf-8',header=None)\n",
    "sub_df.head()"
   ]
  },
  {
   "cell_type": "code",
   "execution_count": null,
   "metadata": {},
   "outputs": [],
   "source": []
  },
  {
   "cell_type": "code",
   "execution_count": null,
   "metadata": {},
   "outputs": [],
   "source": []
  },
  {
   "cell_type": "code",
   "execution_count": null,
   "metadata": {},
   "outputs": [],
   "source": []
  },
  {
   "cell_type": "code",
   "execution_count": null,
   "metadata": {},
   "outputs": [],
   "source": []
  },
  {
   "cell_type": "code",
   "execution_count": null,
   "metadata": {},
   "outputs": [],
   "source": []
  },
  {
   "cell_type": "code",
   "execution_count": null,
   "metadata": {
    "ExecuteTime": {
     "start_time": "2018-06-16T18:40:32.678Z"
    }
   },
   "outputs": [],
   "source": [
    "from sklearn.metrics import classification_report\n",
    "X_train, X_test, y_train, y_test = train_test_split(X, y, test_size=0.25, random_state=33)\n",
    "y_pred = clf.predict(X_test)\n",
    "print(classification_report(y_test, y_pred))"
   ]
  },
  {
   "cell_type": "code",
   "execution_count": null,
   "metadata": {},
   "outputs": [],
   "source": [
    "allStats = precision_recall_fscore_support(y_test, y_pred, average=None)"
   ]
  },
  {
   "cell_type": "code",
   "execution_count": 11,
   "metadata": {},
   "outputs": [],
   "source": [
    "import collections"
   ]
  },
  {
   "cell_type": "code",
   "execution_count": 14,
   "metadata": {},
   "outputs": [],
   "source": [
    "c = collections.Counter(df['label'])"
   ]
  },
  {
   "cell_type": "code",
   "execution_count": 15,
   "metadata": {},
   "outputs": [
    {
     "data": {
      "text/plain": [
       "Counter({u'4238>321>2813>3373': 58,\n",
       "         u'4015>282>2484': 2231,\n",
       "         u'2075>854>3035': 22,\n",
       "         u'4015>3754>3663>1500>4072': 1656,\n",
       "         u'4238>4048>422>182': 72,\n",
       "         u'3292>1370>3828>2388>1561': 7,\n",
       "         u'4238>4048>2857>607': 6,\n",
       "         u'2296>2435>2801': 154,\n",
       "         u'4015>3636>1319>1928>3213': 122,\n",
       "         u'4015>3285>1443>2410': 7,\n",
       "         u'3625>702>3234>3612': 26,\n",
       "         u'4015>2824>2964>2100>3338>392': 6,\n",
       "         u'4015>3636>1319>152>2475>2811': 298,\n",
       "         u'1608>2320>498>2543': 128,\n",
       "         u'3292>2375>446>2580': 10,\n",
       "         u'4015>3285>345>1237>3665': 25,\n",
       "         u'2075>1724>3017>4474': 348,\n",
       "         u'1208>310>397>1845>3800': 15,\n",
       "         u'4238>1104>4623': 8,\n",
       "         u'2199>661>646>3788': 18,\n",
       "         u'2075>1724>1552>4412>2916': 24,\n",
       "         u'4015>4733>1818': 5,\n",
       "         u'4238>1625>4647>4158>3854': 6,\n",
       "         u'3292>1370>3828>2388>4293': 449,\n",
       "         u'1608>4269>3031>3791': 555,\n",
       "         u'3292>1370>3828>2388>1691': 69,\n",
       "         u'2075>2267>4859>576': 4,\n",
       "         u'4015>3285>3920': 60,\n",
       "         u'4238>4048>422>616': 7,\n",
       "         u'1395>2736>4446>1799>3206': 191,\n",
       "         u'2199>3802>4556>3644': 51,\n",
       "         u'3625>2221>3193>219': 12,\n",
       "         u'3292>2790>1053>2868': 38,\n",
       "         u'4564>1204>3269': 5,\n",
       "         u'3730>1439>4972': 4,\n",
       "         u'3292>290>580>2873': 4,\n",
       "         u'4015>3636>526>90>3923': 31,\n",
       "         u'4015>3636>1319>1928>1970': 117,\n",
       "         u'4238>4048>3363>2279': 562,\n",
       "         u'2075>3671>956>2047>557': 9,\n",
       "         u'2199>1974>2019': 549,\n",
       "         u'3625>594>1084': 26,\n",
       "         u'4238>4048>422>1176': 32,\n",
       "         u'3625>2644>2805>3870>2293': 3,\n",
       "         u'3292>1370>4767>1720>2317': 346,\n",
       "         u'1395>2736>3899>3790>2753': 14,\n",
       "         u'3625>3608>1610': 92,\n",
       "         u'3292>2790>1053>1520': 28,\n",
       "         u'1395>2736>135>4873>3076': 513,\n",
       "         u'2296>2435>436': 40,\n",
       "         u'4015>2824>2964>1002>1157>2915': 67,\n",
       "         u'4015>3285>345>1585>314': 45,\n",
       "         u'4015>3271>714>454': 38,\n",
       "         u'3292>1370>289>4073': 8395,\n",
       "         u'2199>661>4451>452': 254,\n",
       "         u'2075>1724>3892>2405': 12,\n",
       "         u'3730>1887>3044>2907': 3,\n",
       "         u'3292>1370>4767>2678>3247': 382,\n",
       "         u'3625>3608>245': 151,\n",
       "         u'4015>3271>714>3952': 9,\n",
       "         u'3292>114>2641>3360': 5030,\n",
       "         u'2075>1724>1552>1283>3276': 39,\n",
       "         u'1395>410>479>2518>803': 400,\n",
       "         u'4015>3285>4600>4745': 109,\n",
       "         u'2075>2297>2835': 5,\n",
       "         u'2075>1724>2951>1347>344': 17,\n",
       "         u'4015>2824>2964>2025>2583>2416>3843': 18,\n",
       "         u'4015>3754>3663>1500>713': 17,\n",
       "         u'4015>3754>3663>512>2406>827>3946': 8,\n",
       "         u'3625>3641>3045>3075': 123,\n",
       "         u'1395>2736>2119>518': 2,\n",
       "         u'4015>3754>3580>3656': 52,\n",
       "         u'4015>2337>2943>2570>3052': 207,\n",
       "         u'4015>3754>3663>512>2406>2254': 64,\n",
       "         u'3292>1370>760>202': 143,\n",
       "         u'4015>2824>2964>32>2341>3967': 60,\n",
       "         u'2296>3597>3060': 17,\n",
       "         u'2296>3597>3064': 199,\n",
       "         u'4238>4048>3363>3489': 9,\n",
       "         u'3292>1041>4380>4953': 158,\n",
       "         u'2296>3597>3068': 79,\n",
       "         u'3093>4222>3034': 310,\n",
       "         u'4238>1104>4156': 8,\n",
       "         u'4015>3271>3823>4257>558>3131': 40,\n",
       "         u'2075>4107>1932>2974': 4,\n",
       "         u'4238>2149>488': 456,\n",
       "         u'2075>3671>956>4638': 33,\n",
       "         u'2075>3671>956>2507>4938': 5,\n",
       "         u'2075>3671>396>3294': 4,\n",
       "         u'2075>2267>4643': 92,\n",
       "         u'4015>1757>4441': 82,\n",
       "         u'2075>1724>3258>1372>3689': 1,\n",
       "         u'4238>321>753>4635': 14,\n",
       "         u'2199>3802>1449>2590': 4,\n",
       "         u'1395>2736>4446>4316>4789': 2,\n",
       "         u'1608>4269>3031>1221': 750,\n",
       "         u'4015>2824>3210>4123': 303,\n",
       "         u'4015>3754>3663>512>101>2802': 67,\n",
       "         u'3625>1238>2306>4335': 7,\n",
       "         u'4015>3754>3663>512>3642>2653': 167,\n",
       "         u'4015>2824>2964>2886>4183>1530>1904': 2,\n",
       "         u'4238>1625>3555>2234': 7,\n",
       "         u'2199>3802>4524>3933': 22,\n",
       "         u'3730>1439>1199>2781': 8,\n",
       "         u'2075>3407>2214>2828': 1,\n",
       "         u'4015>3754>3663>512>101>4171': 369,\n",
       "         u'1608>2320>2495>4281>795': 118,\n",
       "         u'4238>321>789>2639': 15,\n",
       "         u'2075>3407>365>4083': 2,\n",
       "         u'3292>2790>1053>3140': 90,\n",
       "         u'4015>2824>2964>1002>2264>2324': 2,\n",
       "         u'4015>3271>2768>1918': 7,\n",
       "         u'2075>1724>3258>2597': 859,\n",
       "         u'2075>2267>1328>783>390': 131,\n",
       "         u'3292>1041>4380>4374': 217,\n",
       "         u'2199>915>3404>3368': 1239,\n",
       "         u'3292>2790>999': 42,\n",
       "         u'4015>3754>3663>512>72': 1825,\n",
       "         u'4015>3754>3663>1500>2182': 256,\n",
       "         u'1608>2320>3156>2931': 219,\n",
       "         u'2075>945>4934': 47,\n",
       "         u'1395>410>2503>3020>1369': 10,\n",
       "         u'4015>3754>3580>841>28': 336,\n",
       "         u'4238>4048>3363>3842': 206,\n",
       "         u'4564>1265>26>954': 271,\n",
       "         u'4238>1625>4647>4707>4893': 36,\n",
       "         u'3625>2644>921>629': 9,\n",
       "         u'3730>2720>4003>204': 5,\n",
       "         u'2199>1974>1017>2448': 18,\n",
       "         u'3292>3581>2544>3814': 76,\n",
       "         u'3625>2644>921>4683': 54,\n",
       "         u'1395>410>2503>3020>1003>3003': 18,\n",
       "         u'4015>3754>3663>512>101>3446': 378,\n",
       "         u'4015>3636>442>2265>1533': 119,\n",
       "         u'1395>2736>4350>3758': 32,\n",
       "         u'4015>3754>3580>1415>1996': 2098,\n",
       "         u'2075>1724>3017>1958>2737': 354,\n",
       "         u'2075>3671>4896>322': 4,\n",
       "         u'3625>2644>2805>3870>3436': 4,\n",
       "         u'4015>2824>2964>32>2341>1830': 48,\n",
       "         u'4238>321>789>2981': 8,\n",
       "         u'2199>661>4451>1773': 11,\n",
       "         u'4015>3271>714>1781': 398,\n",
       "         u'4015>3754>3663>512>4566': 276,\n",
       "         u'3292>4837>2815': 28,\n",
       "         u'4015>3636>1319>152>2015': 882,\n",
       "         u'4015>3636>526>3357': 431,\n",
       "         u'2296>2435>1642': 64,\n",
       "         u'4015>3271>3823>4714': 17,\n",
       "         u'2075>2267>3330>1350': 21,\n",
       "         u'3292>1370>2576>938>2545': 8,\n",
       "         u'3292>2790>1053>2582': 891,\n",
       "         u'2075>1724>1552>4736>3774': 28,\n",
       "         u'2075>3407>2214>4254': 3,\n",
       "         u'3625>702>3767>4800': 27,\n",
       "         u'4015>3754>3663>512>303': 39,\n",
       "         u'2199>661>1469>1299': 191,\n",
       "         u'2075>2297>771': 25,\n",
       "         u'1395>410>1234>3595': 15,\n",
       "         u'4564>1265>1796': 10,\n",
       "         u'3292>1370>3314>1246': 4028,\n",
       "         u'4015>3636>1319>2891': 1760,\n",
       "         u'1608>2320>4300>3301': 3016,\n",
       "         u'3625>2221>2634>3367': 131,\n",
       "         u'1608>2320>3156>773': 5,\n",
       "         u'4015>2824>2964>2886>4632>3037>2853': 56,\n",
       "         u'1208>546>1255': 2,\n",
       "         u'2296>3706>413': 768,\n",
       "         u'4015>3285>4600>4488': 470,\n",
       "         u'1208>310>1688>3422>1075': 24,\n",
       "         u'3625>1238>4228': 173,\n",
       "         u'2075>3671>1219>1751': 5,\n",
       "         u'3292>1370>3828>1710': 995,\n",
       "         u'3625>2644>921>476>994': 16,\n",
       "         u'1208>310>397>1444': 29,\n",
       "         u'4015>2028>4444': 622,\n",
       "         u'1395>2736>135>66': 77,\n",
       "         u'4015>3754>3580>4753>2080': 699,\n",
       "         u'1208>546>4716>4213>4809': 17,\n",
       "         u'3292>1041>4175>1077>25': 277,\n",
       "         u'3625>3641>3549>3397': 3,\n",
       "         u'2199>915>697>2945': 63,\n",
       "         u'1208>310>2483>2360>4569': 13,\n",
       "         u'2075>2297>1403': 3,\n",
       "         u'1395>2736>3899>3943': 16,\n",
       "         u'3292>1041>3198>2343': 227,\n",
       "         u'4015>3754>3663>512>634': 117,\n",
       "         u'4015>2824>2205>1772': 910,\n",
       "         u'2199>3802>4556>3183': 419,\n",
       "         u'2075>1724>1552>3727>3406': 176,\n",
       "         u'2296>3597>823': 261,\n",
       "         u'1395>2736>135>843': 110,\n",
       "         u'1395>410>2503>3020>4279': 11,\n",
       "         u'4015>3636>2858>4034': 387,\n",
       "         u'3292>2790>350': 313,\n",
       "         u'4015>2824>2964>1002>2842': 97,\n",
       "         u'1395>410>292>329>36': 15,\n",
       "         u'4015>2824>2964>2025>1398>2550': 85,\n",
       "         u'4015>3271>3823>2409': 25,\n",
       "         u'2075>2267>1381>2138': 21,\n",
       "         u'4015>3271>4923>1746': 50,\n",
       "         u'3730>1439>805>2285': 9,\n",
       "         u'1395>2736>2119>1115': 33,\n",
       "         u'2199>3802>696>4659': 6,\n",
       "         u'4015>2824>2964>2100>649>1015': 9,\n",
       "         u'3730>1887>3044>509': 183,\n",
       "         u'3625>4931>233>4853': 3,\n",
       "         u'3292>49>4393>2632': 19,\n",
       "         u'2075>1724>2951>781': 112,\n",
       "         u'2296>3597>2093': 1345,\n",
       "         u'2296>3597>3094': 119,\n",
       "         u'4238>4048>1581>807': 10,\n",
       "         u'2075>1724>1552>4736>2089': 9,\n",
       "         u'4015>2824>2964>2473>4559>4340>3931': 30,\n",
       "         u'2075>3671>956>907>811': 5,\n",
       "         u'2075>2743>2947': 3,\n",
       "         u'4238>321>753>1682': 25,\n",
       "         u'1395>410>2503>3020>1003>2665': 5,\n",
       "         u'2199>4592>193': 7346,\n",
       "         u'4238>321>753>1197': 116,\n",
       "         u'4564>802>3059>2754': 1,\n",
       "         u'1395>2736>1026>1991': 16,\n",
       "         u'3625>2644>80>3108': 247,\n",
       "         u'4015>1433': 64,\n",
       "         u'4015>282>2369': 82,\n",
       "         u'4015>3271>4724>451': 85,\n",
       "         u'3292>290>580>2908': 3,\n",
       "         u'3093>850>726': 84,\n",
       "         u'3292>1370>3690>2270': 505,\n",
       "         u'4015>2337>2943>2570>144': 432,\n",
       "         u'2075>1724>2951>1239': 53,\n",
       "         u'4015>2824>2205>4946>1228': 370,\n",
       "         u'2075>854>3316': 7,\n",
       "         u'3292>49>58>109': 37,\n",
       "         u'1395>410>292>402>2272>2673': 101,\n",
       "         u'4015>3754>1170>1200>3197': 595,\n",
       "         u'1208>310>2483>2922>4913': 16,\n",
       "         u'4015>2337>1701>198': 17,\n",
       "         u'1608>2320>3156>1344': 198,\n",
       "         u'4015>2824>2964>32>4423>4355>1729': 261,\n",
       "         u'3292>290>4280': 77,\n",
       "         u'1608>4269>4411>4288': 60,\n",
       "         u'1208>310>2027>4168>1557>74': 10,\n",
       "         u'3292>1370>760>3677>3449': 199,\n",
       "         u'1608>1206>4367>4053': 1272,\n",
       "         u'4238>321>2813>3743': 8,\n",
       "         u'3292>1370>3690>1735>1402': 76,\n",
       "         u'4015>3754>3663>1500>470': 35,\n",
       "         u'4015>2824>2205>4946>4830': 19,\n",
       "         u'1395>410>292>2104': 266,\n",
       "         u'4015>3285>4289>1862': 11,\n",
       "         u'3292>2790>1617': 64,\n",
       "         u'4564>1265>26>4465>3623': 51,\n",
       "         u'4015>3636>1319>1928>2953>4825': 232,\n",
       "         u'2075>2297>2286': 10,\n",
       "         u'4015>2824>2205>4946>778>1353': 60,\n",
       "         u'4238>321>2813>4007': 33,\n",
       "         u'4015>4868>1554': 34,\n",
       "         u'4015>3636>1319>1928>326': 105,\n",
       "         u'4015>3285>345>1542>2864': 364,\n",
       "         u'3292>1370>3828>1103>925': 4,\n",
       "         u'4015>3754>3580>4753>3650>1391': 40,\n",
       "         u'3292>49>1501>3080': 43,\n",
       "         u'3625>865>1646': 7,\n",
       "         u'3292>1370>4767>3975>2786': 694,\n",
       "         u'4015>2824>2964>2025>466>3023': 11,\n",
       "         u'4015>2824>2964>1002>200': 7121,\n",
       "         u'1208>546>1037>695': 9,\n",
       "         u'2075>1724>3017>1958>645': 9,\n",
       "         u'1608>4269>3031>3099': 153,\n",
       "         u'2075>1724>3017>1958>642': 28,\n",
       "         u'3625>594>3839': 29,\n",
       "         u'4015>3636>442>964>4036': 182,\n",
       "         u'4015>3636>526>2454>3876': 2097,\n",
       "         u'4015>3754>3663>1500>421>2612': 121,\n",
       "         u'4015>2028>935>3179': 35,\n",
       "         u'1395>2736>135>4873>4497': 15,\n",
       "         u'2075>1724>1168>1804>860': 2,\n",
       "         u'3292>2375>4400>2599': 13,\n",
       "         u'1608>2320>3156>3726': 548,\n",
       "         u'3730>1887>3044>1223': 3,\n",
       "         u'1608>4269>4411>959': 12,\n",
       "         u'1208>310>397>618': 10,\n",
       "         u'4015>2824>2964>2886>4183>1530>3187': 9,\n",
       "         u'1395>2736>3899>2131>407': 73,\n",
       "         u'4015>3271>4923>3524>2381': 242,\n",
       "         u'4015>3636>1319>1928>3776': 156,\n",
       "         u'3730>1887>3044>3352>1519': 83,\n",
       "         u'2199>3802>4556>4234': 61,\n",
       "         u'2296>2435>4359': 24,\n",
       "         u'1395>2736>1061>1187>4565': 10,\n",
       "         u'4238>1625>3571>2424': 8,\n",
       "         u'3292>2375>1384>3288': 13,\n",
       "         u'4015>4245>2607': 52,\n",
       "         u'3730>1439>4712>3507': 1,\n",
       "         u'4015>2824>2964>2473>839>4226>2366': 10,\n",
       "         u'4015>3754>3663>1500>1182>1332': 56,\n",
       "         u'4015>2824>2964>2128>1083>2809': 3,\n",
       "         u'4015>3285>345>1585>22': 6,\n",
       "         u'4238>321>753>1858': 12,\n",
       "         u'2075>945>3686>196': 32,\n",
       "         u'4564>4914>4655': 339,\n",
       "         u'4015>3285>345>1542>2584': 27,\n",
       "         u'3292>1370>4767>2678>444': 9119,\n",
       "         u'4015>3754>3663>512>2137>782': 195,\n",
       "         u'4015>3754>3580>841>1828': 50,\n",
       "         u'4015>3636>526>1984': 50,\n",
       "         u'2296>3706>1505': 175,\n",
       "         u'4015>2824>2964>2473>839>2966>3394': 3,\n",
       "         u'2075>1724>2357>4895>2143': 7,\n",
       "         u'2075>1600>320>331': 74,\n",
       "         u'1395>410>292>2421>360>571': 5,\n",
       "         u'2199>3802>1449>3919': 9,\n",
       "         u'3292>4589': 72,\n",
       "         u'3625>2644>80>1868': 65,\n",
       "         u'3292>2790>1053>3175': 391,\n",
       "         u'3730>2720>146>772': 10,\n",
       "         u'2296>2435>4774': 992,\n",
       "         u'3292>1370>2576>4901': 210,\n",
       "         u'4015>3271>3823>4257>3311': 51,\n",
       "         u'4015>3754>3663>1500>1182>741': 315,\n",
       "         u'1608>4269>1667>4715': 493,\n",
       "         u'1208>546>4262>3042': 3,\n",
       "         u'4564>802>3059>3830': 6,\n",
       "         u'4015>3754>3663>512>4461>1740': 41,\n",
       "         u'1395>2736>2160>3345>1650': 3,\n",
       "         u'4015>2824>2205>2731': 359,\n",
       "         u'3292>1370>4767>2678>4196': 565,\n",
       "         u'1395>410>292>2421>360>2477': 20,\n",
       "         u'4238>2240>2659': 198,\n",
       "         u'1395>2736>3899>2657>3543': 67,\n",
       "         u'4015>3271>2768>1678': 356,\n",
       "         u'2075>1724>1168>2889': 1013,\n",
       "         u'4015>2824>2964>32>4423>4982>1787': 13,\n",
       "         u'3292>290>580>3882': 214,\n",
       "         u'2075>1724>1552>1283>617': 15,\n",
       "         u'1395>2736>3899>3110>372': 10,\n",
       "         u'3093>4222>1886': 16,\n",
       "         u'4015>2824>2964>2473>839>2966>1869': 5,\n",
       "         u'4015>3285>4289>1276': 18,\n",
       "         u'1608>4269>4411>1683': 10,\n",
       "         u'1395>2736>1026>922': 107,\n",
       "         u'4015>3754>3663>512>101>4097': 7,\n",
       "         u'3292>1370>3690>2020>2554': 5,\n",
       "         u'2296>3597>3655': 43,\n",
       "         u'3730>1385>4470>4110': 4,\n",
       "         u'4015>3271>3823>4257>558>4479': 34,\n",
       "         u'4015>3754>3663>3590': 388,\n",
       "         u'2296>3706>3231': 20,\n",
       "         u'2199>661>4433>3932': 3,\n",
       "         u'2075>3671>956>1382>3070': 50,\n",
       "         u'1208>546>2367': 6,\n",
       "         u'4015>3636>2858>735': 72,\n",
       "         u'2199>661>333>27': 3,\n",
       "         u'2075>4107>3850>2068': 13,\n",
       "         u'3093>4104>1528': 162,\n",
       "         u'2075>1600>4235': 27,\n",
       "         u'4015>3636>1319>1928>1993': 106,\n",
       "         u'4015>3636>526>90>464': 69,\n",
       "         u'4015>3285>1443>2487>4203': 20,\n",
       "         u'3625>594>853': 8,\n",
       "         u'4015>3636>526>3053>993': 34,\n",
       "         u'2075>3407>365>3027': 53,\n",
       "         u'4015>3754>3580>1876': 57,\n",
       "         u'2075>854>3953': 4,\n",
       "         u'1608>2227>3874>2295': 273,\n",
       "         u'4015>3754>3663>512>319': 632,\n",
       "         u'4015>2824>2964>2128>4875>2439': 3,\n",
       "         u'3625>702>3767>4819': 10,\n",
       "         u'1395>410>474>105>4334': 11,\n",
       "         u'2075>3407>2214>4644>2215': 5,\n",
       "         u'4015>3285>345>1237>592>4899': 105,\n",
       "         u'2075>3407>2214>3691': 18,\n",
       "         u'2075>945>4963>3366': 13,\n",
       "         u'4015>2824>2964>2128>4875>197': 11,\n",
       "         u'2199>3802>4556>1510': 11,\n",
       "         u'3625>381>960': 12,\n",
       "         u'3292>49>4814>4835': 27,\n",
       "         u'4015>3271>3823>1298': 269,\n",
       "         u'2075>3671>4829>3326': 19,\n",
       "         u'4564>802>3059>2987': 114,\n",
       "         u'1608>2320>2495>4952': 84,\n",
       "         u'4015>2824>2964>32>2341>989': 56,\n",
       "         u'3292>49>2706>2622': 25,\n",
       "         u'3292>1041>4380>1809': 50,\n",
       "         u'1395>2736>3899>911': 10,\n",
       "         u'3292>1370>3828>969>4328': 4,\n",
       "         u'2075>3671>583>4483>2831': 6,\n",
       "         u'1395>410>479>2518>241': 3,\n",
       "         u'1395>410>474>105>4205': 3,\n",
       "         u'3292>3581>1878>3761': 422,\n",
       "         u'4015>2824>2964>32>4423>4982>3320': 149,\n",
       "         u'3292>1005>4713': 169,\n",
       "         u'3730>2720>4734': 6,\n",
       "         u'1208>310>1688>3422>521': 8,\n",
       "         u'1208>310>397>4508': 15,\n",
       "         u'4015>4245>3086': 7,\n",
       "         u'4015>3285>345>1237>3637': 37,\n",
       "         u'3292>290>580>1734': 7,\n",
       "         u'3625>2644>3375>2664': 86,\n",
       "         u'4015>2824>2964>2128>2990>4780': 23,\n",
       "         u'4015>2824>2964>2100>3338>2407>4357': 13,\n",
       "         u'4015>2824>2964>2886>4632>2245>3669': 61,\n",
       "         u'4238>4048>3653>4615': 38,\n",
       "         u'3292>49>2210>3917': 18,\n",
       "         u'3292>49>189>3598': 10,\n",
       "         u'1608>2227>2561>4469': 375,\n",
       "         u'4015>2824>2964>2763>682>2103>4358': 45,\n",
       "         u'4015>2824>2205>4946>1325': 190,\n",
       "         u'1395>410>2503>528>487': 11,\n",
       "         u'3730>2720>1311>2310': 15,\n",
       "         u'2199>661>4451>1964': 4,\n",
       "         u'3292>49>1755>1264': 11,\n",
       "         u'3292>1370>4767>1720>4491': 286,\n",
       "         u'1608>1206>1632>4604': 1366,\n",
       "         u'2075>1600>4017': 94,\n",
       "         u'3625>3641>2650': 227,\n",
       "         u'3625>594>2616': 331,\n",
       "         u'2199>1974>2691': 10,\n",
       "         u'4015>2824>2964>2473>839>2732>4854': 40,\n",
       "         u'1608>1150>2900': 87,\n",
       "         u'3292>1041>4380>4549': 9,\n",
       "         u'3292>49>2706>1047': 26,\n",
       "         u'4015>2832>3224': 27,\n",
       "         u'2075>854>4686': 6,\n",
       "         u'3093>850>4667': 7,\n",
       "         u'3625>3641>2412>2882': 3,\n",
       "         u'3730>1887>3044>3352>4804': 87,\n",
       "         u'2075>1724>579>2385>4133': 8,\n",
       "         u'3625>3641>2998>2294': 3,\n",
       "         u'1608>1206>1632>4468': 754,\n",
       "         u'2075>2267>3330>884': 194,\n",
       "         u'2075>1600>1507>4611': 14,\n",
       "         u'4015>2337>2943>2570>4462': 19,\n",
       "         u'4015>3754>3580>975>1224': 42,\n",
       "         u'4238>321>2813>515': 327,\n",
       "         u'4015>2337>2943>2570>779': 18,\n",
       "         u'4015>2824>2964>2128>2990>997': 10,\n",
       "         u'4015>3285>1443>2436': 340,\n",
       "         u'4015>3271>714>3057': 28,\n",
       "         u'4564>1204>3704': 209,\n",
       "         u'92': 8172,\n",
       "         u'2199>661>4818>212': 6,\n",
       "         u'2075>2267>1328>3430>2096': 112,\n",
       "         u'2075>1600>4476>4563': 79,\n",
       "         u'3292>1370>3828>1297>379': 8,\n",
       "         u'4015>2824>2964>2886>4632>2779>2524': 9,\n",
       "         u'3292>1370>2505>2574>3253': 2,\n",
       "         u'4015>2824>2205>4946>4989>2679': 13,\n",
       "         u'4015>2824>2964>2128>4875>4999': 63,\n",
       "         u'2199>661>1469>2711': 90,\n",
       "         u'1395>2736>4447>2048>1882': 31,\n",
       "         u'4015>3271>3823>4257>558>4918': 8,\n",
       "         u'4015>2337>1458>2163': 79,\n",
       "         u'4015>2824>2964>2763>437>698': 30,\n",
       "         u'2075>1724>353>4888>1723': 16,\n",
       "         u'1395>2736>1061>2948': 39,\n",
       "         u'4015>2824>2964>2025>466>2840': 23,\n",
       "         u'2075>1600>320>851': 10,\n",
       "         u'2075>3671>956>2012': 24,\n",
       "         u'3730>1439>1199>3678': 3,\n",
       "         u'1208>310>1629>388': 15,\n",
       "         u'3292>1370>4767>2678>2846': 103,\n",
       "         u'4015>3636>502>191': 2111,\n",
       "         u'1395>2736>2160>980': 52,\n",
       "         u'1395>2736>4446>1165>754': 10,\n",
       "         u'4015>2824>2964>2473>839>2966>4511': 2,\n",
       "         u'2199>4592>708': 65,\n",
       "         u'1395>410>292>402>2272>79': 9,\n",
       "         u'4015>3636>2858>3067': 99,\n",
       "         u'2075>945>4963>529': 8,\n",
       "         u'2075>4764>3036': 104,\n",
       "         u'1395>2736>4446>4316>2413>3359': 143,\n",
       "         u'4015>2824>2964>1002>1157>2849>918': 5,\n",
       "         u'4564>1147>52>2083': 3,\n",
       "         u'4564>802>692>511': 31,\n",
       "         u'1608>2227>574>2226': 1302,\n",
       "         u'4015>2824>2964>2886>4183>1530>3453': 4,\n",
       "         u'2075>1724>2951>1347>1693': 54,\n",
       "         u'2296>2435>3089': 54,\n",
       "         u'4238>1625>3555>1201': 70,\n",
       "         u'4015>2337>2943>2570>3968': 41,\n",
       "         u'1395>2736>2119>3673': 11,\n",
       "         u'3730>2720>2459': 7,\n",
       "         u'2075>2267>1381>581': 4,\n",
       "         u'2075>1724>2951>5': 277,\n",
       "         u'4015>3636>1319>1362': 386,\n",
       "         u'2075>1724>1168>1804>819': 7,\n",
       "         u'4015>3271>2768>4244': 300,\n",
       "         u'4015>3754>3580>636>3458': 13,\n",
       "         u'3292>290>580>2675': 37,\n",
       "         u'4015>3271>2768>3626': 173,\n",
       "         u'4015>3271>4923>3524>2152': 18,\n",
       "         u'2075>3407>365>4460': 152,\n",
       "         u'2075>3407>365>1800': 8,\n",
       "         u'4015>3271>505>2822': 2,\n",
       "         u'4015>2824>2964>2025>2583>2416>3862': 18,\n",
       "         u'3292>2790>3497': 94,\n",
       "         u'3292>2044>4456>2073': 10,\n",
       "         u'3292>290>497': 5468,\n",
       "         u'3292>1370>289>955': 210,\n",
       "         u'3730>2720>1836>4499': 6,\n",
       "         u'3730>1439>172': 8,\n",
       "         u'2199>661>933>4284': 3,\n",
       "         u'3730>1887>3044>3352>1346': 901,\n",
       "         u'2075>945>4006>3962>715': 23,\n",
       "         u'3730>1439>158': 5,\n",
       "         u'4015>3754>3663>512>2137>4199': 623,\n",
       "         u'1395>2736>1702>2762': 296,\n",
       "         u'1608>2320>498>4651': 12,\n",
       "         u'4238>4048>3363>2329': 7,\n",
       "         u'4015>4733>660': 18,\n",
       "         u'3730>2720>1377': 3,\n",
       "         u'4015>3285>345>1726>560': 112,\n",
       "         u'4015>4733>1488>2175': 29,\n",
       "         u'2296>2435>3865': 5,\n",
       "         u'1608>2320>2173>3240': 9,\n",
       "         u'4238>4048>1581>1401': 15,\n",
       "         u'3292>2375>1365>2949': 26,\n",
       "         u'1608>2320>2495>2256': 72,\n",
       "         u'3292>1370>4767>2678>2331': 87,\n",
       "         u'4015>2028>935>3431': 93,\n",
       "         u'3625>2644>921>2766': 8,\n",
       "         u'4238>321>2813>2962': 401,\n",
       "         u'4015>2824>2964>2128>4875>4769': 20,\n",
       "         u'4015>3271>3823>3358': 11,\n",
       "         u'3292>1370>3828>3519': 41,\n",
       "         u'3292>1370>1078>4542': 37,\n",
       "         u'1395>2736>4446>1521>2603': 23,\n",
       "         u'2199>915>862>1333': 3,\n",
       "         u'3625>594>3934': 25,\n",
       "         u'4015>3754>3663>1500>2605': 931,\n",
       "         u'2075>3671>956>907>1662': 2,\n",
       "         u'4238>321>753>3207': 20,\n",
       "         u'3625>381>3503': 3,\n",
       "         u'3292>1041>4175>30>972': 11,\n",
       "         u'1208>310>1190>4776': 24,\n",
       "         u'4015>3271>3823>4645': 60,\n",
       "         u'4015>2824>2964>2886>4632>2779>1835': 71,\n",
       "         u'3292>1370>3690>1091': 229,\n",
       "         u'4015>3271>3823>4257>3541': 3,\n",
       "         u'1608>4269>3031>4548': 691,\n",
       "         u'4564>1265>3940>640': 48,\n",
       "         u'3625>594>4458': 52,\n",
       "         u'1608>4269>3031>4546': 1020,\n",
       "         u'4015>2824>2964>2886>4183>1857>1191': 4,\n",
       "         u'4015>2824>2964>2128>224>253': 5,\n",
       "         u'4015>2028>935>4887': 94,\n",
       "         u'4015>2824>2964>2886>4183>1530>4799': 6,\n",
       "         u'4015>4245>178': 3,\n",
       "         u'3292>1370>1078>2236': 74,\n",
       "         u'3625>2644>80>10': 133,\n",
       "         u'1395>2736>3899>3110>1999': 9,\n",
       "         u'4015>2824>2964>2100>3338>2407>4905': 12,\n",
       "         u'4564>1265>1706>4754': 10,\n",
       "         u'4015>3636>1319>4552': 10,\n",
       "         u'3625>3641>1599>4711': 353,\n",
       "         u'4015>3636>526>3331': 96,\n",
       "         u'1208>768': 28,\n",
       "         u'3625>594>825': 255,\n",
       "         u'4015>3271>2768>1281': 269,\n",
       "         u'4015>282>3469>900': 93,\n",
       "         u'4015>3636>1319>1928>2239': 230,\n",
       "         u'4015>2337>1458>38': 2129,\n",
       "         u'4564>4914>3939': 3,\n",
       "         u'4238>2240>73>2572': 69,\n",
       "         u'3292>1370>3828>4933': 249,\n",
       "         u'4015>2824>2964>2100>3338>4071': 3,\n",
       "         u'2199>661>646>1009': 5,\n",
       "         u'3292>49>721>3040': 54,\n",
       "         u'4015>2824>2205>4946>2423': 39,\n",
       "         u'2199>3802>4556>1527': 22,\n",
       "         u'2075>2267>1381>1573>1951': 30,\n",
       "         u'2075>1724>3892>4000': 302,\n",
       "         u'4564>1265>1706>1158>173': 4,\n",
       "         u'1208>310>2014>323>4530': 32,\n",
       "         u'4015>3754>3580>4753>3645': 342,\n",
       "         u'4015>2824>2964>2763>682>2103>705': 14,\n",
       "         u'1395>2736>904>2970': 80,\n",
       "         u'3625>3641>2998>3262': 36,\n",
       "         u'1395>410>479>2518>722': 22,\n",
       "         u'4238>2240>73>1294>1430': 3,\n",
       "         u'3730>1874>499>2867': 14,\n",
       "         u'3625>2644>921>476>846': 11,\n",
       "         u'2075>3671>4416>1478>3827': 5,\n",
       "         u'2075>1724>2357>4895>2975': 6,\n",
       "         u'4015>3285>345>483>2923': 3,\n",
       "         u'4015>3754>3663>512>101>4421': 300,\n",
       "         u'4015>3754>3663>1500>421>1038': 14,\n",
       "         u'4015>2824>2964>2128>4875>3864>3138': 4,\n",
       "         u'2075>3671>956>2507>1639': 12,\n",
       "         u'4015>2824>2964>2473>4559>1399>1883': 583,\n",
       "         u'1395>2736>4447>1477': 3776,\n",
       "         u'4015>3285>345>483>387': 78,\n",
       "         u'1395>2736>1702>4677': 100,\n",
       "         u'2296>3597>371': 36,\n",
       "         u'2199>915>3404>668': 13,\n",
       "         u'4015>3754>3663>512>2406>533': 3,\n",
       "         u'3625>381>1867': 6,\n",
       "         u'4015>3754>3580>4753>2604': 138,\n",
       "         u'4015>282>3498': 116,\n",
       "         u'3730>1439>805>3783': 41,\n",
       "         u'3730>2720>4891>2067': 12,\n",
       "         u'3730>2720>4891>2066': 18,\n",
       "         u'3292>2790>1636': 37,\n",
       "         u'2296>3597>689': 3942,\n",
       "         u'3730>1439>805>4386': 14,\n",
       "         u'1395>2736>3340>1966': 13,\n",
       "         u'4015>3754>3663>1892>3583': 221,\n",
       "         u'4015>3636>442>964>2302': 7,\n",
       "         u'4015>3754>3663>512>2406>827>3560': 7,\n",
       "         u'1208>310>4898>3550': 20,\n",
       "         u'4564>1147>1631>934': 13,\n",
       "         u'4015>3636>442>964>4443>3858': 256,\n",
       "         u'2296>3597>208': 477,\n",
       "         u'4015>2824>2964>2886>4183>1857>1374': 6,\n",
       "         u'3730>2903>4848': 15,\n",
       "         u'4015>3754>3580>636>3329': 129,\n",
       "         u'2075>1600>4826': 77,\n",
       "         u'1395>410>2503>3759>1766': 4,\n",
       "         u'3292>1370>2576>4486': 9,\n",
       "         u'4564>1265>3940>1274': 12,\n",
       "         u'2075>854>792': 7,\n",
       "         u'4015>4733>613': 98,\n",
       "         u'2296>3597>4846': 65,\n",
       "         u'4015>3636>526>1406': 69,\n",
       "         u'3730>2720>4891>438': 3,\n",
       "         u'2075>1724>1552>2116': 52,\n",
       "         u'1395>410>479>2518>3249': 10,\n",
       "         u'2199>661>4818>3426': 24,\n",
       "         u'4015>3754>3580>4753>4146': 4941,\n",
       "         u'4015>3271>714>3578': 56,\n",
       "         u'4015>2028>2349>3717': 65,\n",
       "         u'1395>2736>3899>3104': 17,\n",
       "         u'1395>410>2503>3020>1003>1192': 19,\n",
       "         u'1608>4269>3031>11': 226,\n",
       "         u'2075>1600>320>604': 32,\n",
       "         u'2075>2297>2549>3649': 5,\n",
       "         u'4015>2337>2943>2570>1139': 157,\n",
       "         u'4015>2337>2943>4735>3582>229': 96,\n",
       "         u'1395>2736>135>4873>2649': 65,\n",
       "         u'4015>3636>1319>1186>3296': 116,\n",
       "         u'4015>3271>3823>4257>1976': 4,\n",
       "         u'4564>1265>1706>3987>1653': 4,\n",
       "         u'4015>3636>442>4077>307': 29,\n",
       "         u'1395>410>2503>3020>3180': 8,\n",
       "         u'3730>2720>2911': 5,\n",
       "         u'3292>1370>2505>2574>2398': 19,\n",
       "         u'4015>2824>2964>2128>224>3785': 18,\n",
       "         u'2296>2435>296': 23,\n",
       "         u'2199>915>4085>3205': 2016,\n",
       "         u'1608>2227>574>3901': 52,\n",
       "         u'3730>1439>805>3942': 13,\n",
       "         u'4015>2824>2964>2100>649>899': 10,\n",
       "         u'3292>1370>1149>42': 73,\n",
       "         u'4564>1147>1631>1812>4177': 17,\n",
       "         u'4564>4914>4813': 5,\n",
       "         u'3730>1887>3044>4882': 3183,\n",
       "         u'4564>802>1784>2188': 7,\n",
       "         u'4015>3636>2858>1284': 1182,\n",
       "         u'3625>3641>2412>363': 2,\n",
       "         u'3625>3641>3549>13': 103,\n",
       "         u'1395>2736>2065>2476': 305,\n",
       "         u'2199>3802>2345': 14,\n",
       "         u'3292>49>189>398': 18,\n",
       "         u'1395>2736>4446>4316>3837': 3,\n",
       "         u'3292>3581>1878>341': 3,\n",
       "         u'4015>282>3469>3916': 43,\n",
       "         u'4015>4454>1785': 772,\n",
       "         u'1395>2736>1702>3173': 114,\n",
       "         u'4015>3636>1319>152>2475>2517': 178,\n",
       "         u'4015>2824>2964>2473>4559>2078>3716': 17,\n",
       "         u'3730>1874>2140': 71,\n",
       "         u'2199>661>933>2560': 245,\n",
       "         u'4015>2824>2964>2886>4183>1965>3387': 4,\n",
       "         u'3292>1005>4858': 260,\n",
       "         u'1395>2736>3886>2996': 70,\n",
       "         u'4015>2337>1458>3171': 93,\n",
       "         u'4015>3271>4923>3524>3948': 72,\n",
       "         u'4015>2824>2964>2128>2127>4656': 8,\n",
       "         u'2075>1724>2951>2700': 62,\n",
       "         u'4015>2337>2943>4735>3582>2197': 20,\n",
       "         u'4015>3754>3663>1500>745': 247,\n",
       "         u'2296>3597>3010': 137,\n",
       "         u'4015>3636>442>2265>1850': 28,\n",
       "         u'1608>2320>2173>3813': 3241,\n",
       "         u'4015>3285>4289>4778': 55,\n",
       "         u'4238>2240>73>1294>1863': 12,\n",
       "         u'2199>915>2893>2829': 17,\n",
       "         u'4015>2824>2964>2886>4183>1530>2315': 4,\n",
       "         u'2296>2435>3898': 40,\n",
       "         u'2075>1724>1168>2531>3293': 23,\n",
       "         u'4015>3285>1443>4194': 133,\n",
       "         u'1395>410>474>1769': 13,\n",
       "         u'4015>2824>2205>3548': 18,\n",
       "         u'4015>3754>3663>1877>3307': 229,\n",
       "         u'4238>321>789>2516': 3,\n",
       "         u'4015>2337>2943>4735>2263': 327,\n",
       "         u'4015>3754>3663>1877>1944': 503,\n",
       "         u'4238>4048>2857>4239': 4,\n",
       "         u'3730>2720>76>1131': 57,\n",
       "         u'2296>2435>3879': 60,\n",
       "         u'3292>1370>3828>2024>4352': 80,\n",
       "         u'1395>2736>135>1356': 52,\n",
       "         u'2296>2435>3873': 5,\n",
       "         u'4015>2028>2247': 28,\n",
       "         u'1395>2736>3886>153': 70,\n",
       "         u'4015>3636>442>964>1536': 945,\n",
       "         u'1208>310>4070>1749>2395': 2,\n",
       "         u'3292>1370>4767>4361>4824': 189,\n",
       "         u'4015>3285>1443>1589': 162,\n",
       "         u'3625>4399>1068': 34,\n",
       "         u'2075>3671>396>4471': 3,\n",
       "         u'4238>321>2813>2979': 7,\n",
       "         u'4015>3285>495': 115,\n",
       "         u'4015>3636>1319>1928>670': 8,\n",
       "         u'1208>310>397>1635>587': 28,\n",
       "         u'3292>1370>2576>3252': 7,\n",
       "         u'3730>2720>4891>3922': 38,\n",
       "         u'1208>310>397>1845>4076': 32,\n",
       "         u'2296>3706>2509': 523,\n",
       "         u'4015>2028>2884': 27,\n",
       "         u'4015>3271>2768>3551>699': 14,\n",
       "         u'4238>321>789>776': 6,\n",
       "         u'4015>2824>2964>2128>4496>977': 70,\n",
       "         u'1608>2320>2495>4501>1791': 4,\n",
       "         u'4015>2824>2964>2473>839>2966>963': 4,\n",
       "         u'4015>3636>442>964>4443>3372': 5,\n",
       "         u'4238>1625>4647>3266': 28,\n",
       "         u'4015>3285>345>1726>2018': 15,\n",
       "         u'2199>661>3518>2211': 31,\n",
       "         u'4564>1147>52>577': 8,\n",
       "         u'3730>2720>139>37': 12,\n",
       "         u'2075>3407>365>3134': 39,\n",
       "         u'2075>2267>103>4013': 43,\n",
       "         u'2075>1724>1552>4412>2319': 8,\n",
       "         u'4015>3285>1443>2487>2347': 47,\n",
       "         u'4015>3271>3823>3969': 188,\n",
       "         u'1395>2736>4446>1521>4855': 218,\n",
       "         u'4015>3271>4923>3524>127': 13,\n",
       "         u'4015>3754>3663>1500>3022': 558,\n",
       "         u'1395>410>479>1715': 9,\n",
       "         u'1395>2736>135>4873>112': 303,\n",
       "         u'1395>2736>2160>3318': 12,\n",
       "         u'4238>4048>3653>1464': 20,\n",
       "         u'4015>3636>526>3639': 8207,\n",
       "         u'2199>1952>4195>4418': 6,\n",
       "         u'3292>1370>3828>1297>4881': 33,\n",
       "         u'3625>2644>921>4223': 11,\n",
       "         u'4015>2824>2964>2128>4875>3864>2896': 11,\n",
       "         u'1208>310>949>932>2526': 7,\n",
       "         u'1395>410>474>2785': 35,\n",
       "         u'3292>3581>3145>1489': 143,\n",
       "         u'3292>1370>3828>4883': 199,\n",
       "         u'2199>915>3895>1915': 12,\n",
       "         u'3292>1370>3690>2020>749': 278,\n",
       "         u'4015>3636>2858>3278': 73,\n",
       "         u'4015>2824>2964>2473>839>2966>1930': 3,\n",
       "         u'4015>3271>3823>4915': 83,\n",
       "         u'4238>321>753>2209': 11,\n",
       "         u'4015>3636>526>3927': 632,\n",
       "         u'4564>1147>3364>1742': 8,\n",
       "         u'1395>2736>2119>2593': 5,\n",
       "         u'4015>2337>1458>833': 51,\n",
       "         u'4564>1265>4725>3817': 10,\n",
       "         u'3292>1041>4175>1077>1230': 3,\n",
       "         u'3730>1874>499>2938': 4,\n",
       "         u'4015>3754>3580>4753>2070': 1668,\n",
       "         u'3292>49>1755>2174': 13,\n",
       "         u'4015>3754>3580>4753>3650>2755': 6,\n",
       "         u'3625>2644>3375>4554': 22,\n",
       "         u'3625>3608>4312': 134,\n",
       "         u'3625>2644>1699': 18,\n",
       "         u'3292>1370>3828>2082': 103,\n",
       "         u'3625>3641>3549>4710': 303,\n",
       "         u'4238>2371>1833>4472': 66,\n",
       "         u'1395>2736>1702>4761': 138,\n",
       "         u'2199>661>646>1100': 386,\n",
       "         u'4015>3636>1319>1928>4766': 6,\n",
       "         u'4238>321>753>4151': 7,\n",
       "         u'4015>2824>2964>2763>682>3126>3380': 13,\n",
       "         u'4015>3754>3580>4193': 19,\n",
       "         u'4015>3636>1319>152>2475>4218': 6,\n",
       "         u'2296>3597>4363': 427,\n",
       "         u'3292>1005>1012': 87,\n",
       "         u'3292>1370>3314>232>4051>1605': 258,\n",
       "         u'3730>2720>4005>4587': 211,\n",
       "         u'4564>1265>4725>2708': 7,\n",
       "         u'1208>546>965>2120': 24,\n",
       "         u'4564>1265>26>4465>523': 7,\n",
       "         u'1395>410>2503>3759>4130': 3,\n",
       "         u'4564>1265>1706>159>4426>2059': 6,\n",
       "         u'2075>3514>1232>1259': 12,\n",
       "         u'4015>2028>3840': 6035,\n",
       "         u'3625>381>2558': 6,\n",
       "         u'1395>2736>1061>2392': 8,\n",
       "         u'3292>1370>3828>1450>4820': 31,\n",
       "         u'4015>2824>2964>2025>2583>4793>3981': 13,\n",
       "         u'4015>3754>3580>4753>3650>267': 11,\n",
       "         u'4015>3285>3063': 3,\n",
       "         u'4015>3754>3663>1877>1300': 431,\n",
       "         u'4015>3636>442>964>4443>4666': 737,\n",
       "         u'4238>4048>2857>554': 22,\n",
       "         u'3292>1370>3828>748': 42,\n",
       "         u'1608>2320>3156>4272': 80,\n",
       "         u'4015>3271>714>2535': 11,\n",
       "         u'1395>410>848>2383>384': 49,\n",
       "         u'2296>3597>419': 3147,\n",
       "         u'3730>1887>3044>1060': 10,\n",
       "         u'2075>4764>2121': 556,\n",
       "         u'3292>1005>1655': 929,\n",
       "         u'2296>3706>496': 74,\n",
       "         u'4015>282>1854>2655': 17,\n",
       "         u'4015>3636>1319>2055': 4969,\n",
       "         u'2075>4107>3850>731': 3,\n",
       "         u'4564>1265>26>1132': 6,\n",
       "         u'4015>3271>505>4671': 4,\n",
       "         u'4015>3271>3823>3833': 43,\n",
       "         u'2075>3514>4134>1320': 5,\n",
       "         u'4015>3285>345>1542>3079': 79,\n",
       "         u'4015>3636>442>964>1027': 96,\n",
       "         u'4238>2371>1833>4055': 239,\n",
       "         u'2075>1724>1168>1765': 410,\n",
       "         u'1395>2736>4446>1165>2633': 5,\n",
       "         u'4015>1355>4484': 339,\n",
       "         u'3292>114>2641>1565': 13,\n",
       "         u'4015>2824>2964>2025>2583>2416>720': 139,\n",
       "         u'4238>4048>422>1860': 27,\n",
       "         u'1608>2320>498>3986': 88,\n",
       "         u'4015>2824>2964>2473>4559>1399>1188': 2,\n",
       "         u'2075>854>2497': 22,\n",
       "         u'2075>4107>1932>1282': 11,\n",
       "         u'4238>2371>1680>3723': 61,\n",
       "         u'3292>1370>3828>1103>138': 17,\n",
       "         u'4015>3754>3580>1035': 226,\n",
       "         u'4015>2824>2205>4946>4989>2537': 81,\n",
       "         u'2075>4764>538': 31,\n",
       "         u'4015>3636>442>964>4314': 12,\n",
       "         u'4564>1147>97': 3,\n",
       "         u'3292>4837>226': 14,\n",
       "         u'4015>3636>526>2454>2224': 95,\n",
       "         u'4015>3754>3663>512>4157>2564': 1718,\n",
       "         u'3625>4399>1598>3903': 17120,\n",
       "         u'1395>2736>3899>3004': 28,\n",
       "         u'3625>3641>2342': 426,\n",
       "         u'3625>1238>2306>1962': 7,\n",
       "         u'2296>3597>1997': 370,\n",
       "         u'3093>850>4990': 4,\n",
       "         u'2075>2267>1381>1573>1210': 3,\n",
       "         u'4238>1625>3571>428': 129,\n",
       "         u'3730>1887>3044>3352>4043': 3,\n",
       "         u'2075>1724>3258>2281>165': 7,\n",
       "         u'3625>2221>457': 77,\n",
       "         u'2075>3671>2703>3383': 14,\n",
       "         u'4015>2824>2964>32>4423>4355>2220': 17,\n",
       "         u'4015>3285>345>1237>849': 128,\n",
       "         u'4015>3636>526>4579': 14,\n",
       "         u'4015>3271>3823>536': 30,\n",
       "         u'4015>2337>2943>2570>3509': 31,\n",
       "         u'3292>114>2370': 65,\n",
       "         u'3730>2720>2011': 60,\n",
       "         u'4015>2824>2964>1002>1157>2849>931': 10,\n",
       "         u'2199>3802>1449>19': 32,\n",
       "         u'2075>2267>2716>1044': 4,\n",
       "         u'2075>3407>2214>1491': 4,\n",
       "         u'4015>2337>2943>2570>228': 51,\n",
       "         u'1608>1206>2631>4169': 31,\n",
       "         u'1395>2736>4447>2048>2461': 7,\n",
       "         u'3292>3581>1878>1747': 6,\n",
       "         u'3625>381>2010': 11,\n",
       "         u'2199>1974>3462': 35,\n",
       "         u'4015>3271>2768>3427>48': 459,\n",
       "         u'4238>1625>4647>4707>3950': 110,\n",
       "         u'3625>3641>3549>4760': 3,\n",
       "         u'3730>1874>2009>4987': 3,\n",
       "         u'2075>1724>3258>2281>4562': 7,\n",
       "         u'4015>4733>1488>3999': 4,\n",
       "         u'2075>2743>4320>895': 4,\n",
       "         u'3292>1370>4767>4361>1081': 102,\n",
       "         u'3625>3608>3290': 41,\n",
       "         u'3292>1370>289>2169': 897,\n",
       "         u'4564>4914>133': 76,\n",
       "         u'3625>594>2071>4198': 7,\n",
       "         u'3292>4837>4103': 229,\n",
       "         u'2199>661>909>1069': 1,\n",
       "         u'1395>2736>2119>4844': 23,\n",
       "         u'4238>4960>4362': 34,\n",
       "         u'3625>3608>3983': 25,\n",
       "         u'2075>4764>3744': 12,\n",
       "         u'2199>661>933>3889': 5,\n",
       "         u'1208>310>1190>1568>4976>1645': 24,\n",
       "         u'3292>3581>4928': 584,\n",
       "         u'4015>3271>3823>312': 18,\n",
       "         u'4015>4733>1488>1911': 146,\n",
       "         u'2199>661>646>2588': 27,\n",
       "         u'2296>2435>4492': 7,\n",
       "         u'1608>2227>574>522': 306,\n",
       "         u'4015>3754>3663>1500>1664': 1091,\n",
       "         u'4015>3271>2768>3551>4434': 25,\n",
       "         u'1395>410>292>402>2272>1953': 43,\n",
       "         u'3292>3581>3145>2201': 30146,\n",
       "         u'4015>4733>2432': 373,\n",
       "         u'1608>1150>4810>4672': 114,\n",
       "         u'4015>3271>3823>3016': 167,\n",
       "         u'4015>4454>473': 113,\n",
       "         u'3292>3581>1559': 27,\n",
       "         u'2296>3706>1556': 345,\n",
       "         u'1608>2320>2495>2328': 5,\n",
       "         u'3292>2790>1053>2721': 1,\n",
       "         u'4015>2824>2964>2473>839>4226>3069': 82,\n",
       "         u'1608>4269>4411>1160': 62,\n",
       "         u'4015>3271>1422': 14,\n",
       "         u'4564>802>692>2277': 37,\n",
       "         u'4015>2824>2964>2886>4183>3002>1049': 6,\n",
       "         u'4015>3754>3663>512>2406>3760': 15,\n",
       "         u'4015>3754>3580>975>4438': 3,\n",
       "         u'3730>2720>1311>273': 43,\n",
       "         u'4015>2824>2964>2473>4559>1399>2723': 3,\n",
       "         u'3292>1041>3198>2718': 93,\n",
       "         u'1395>2736>135>1839': 3,\n",
       "         u'2199>661>3518>1436': 641,\n",
       "         u'2199>661>3518>4681': 24,\n",
       "         u'3292>4837>4584': 19,\n",
       "         u'4238>1625>4647>4158>1827': 9,\n",
       "         u'1208>546>1037>3306': 24,\n",
       "         u'4015>3754>3580>3184': 946,\n",
       "         u'4238>4048>1581>2084': 3,\n",
       "         u'4015>2337>2943>2570>3135': 13606,\n",
       "         u'4015>3636>526>2021': 38,\n",
       "         u'4015>3636>1319>1928>2521': 110,\n",
       "         u'4015>3754>3663>512>3161': 92,\n",
       "         u'4015>3285>1443>265': 8,\n",
       "         u'1208>310>2027>4168>1570': 22,\n",
       "         u'4015>3754>3580>429': 68,\n",
       "         u'4015>3754>1170>1200>1672': 3652,\n",
       "         u'4015>2028>3803>1457': 2,\n",
       "         u'3292>1370>3828>2388>3835': 4,\n",
       "         u'4015>3754>3663>1500>1182>4532': 76,\n",
       "         u'3730>1874>499>1261': 11,\n",
       "         u'3292>1370>4767>4361>2346': 241,\n",
       "         u'3730>1887>3044>3352>667': 55,\n",
       "         u'4564>1265>1706>1158>2361': 39,\n",
       "         u'3625>594>2071>3322': 19,\n",
       "         u'4015>282>3469>3176': 663,\n",
       "         u'3730>1439>391': 5,\n",
       "         u'4015>3636>1319>693': 382,\n",
       "         u'2075>3671>956>393': 105,\n",
       "         u'4015>3754>3663>512>2406>4954': 25,\n",
       "         u'3292>3581>3145>840': 534,\n",
       "         u'2199>1952>2350>2447': 53,\n",
       "         u'4015>2824>2964>2473>839>2966>1832': 27,\n",
       "         u'1395>2736>1061>3871': 172,\n",
       "         u'4564>1265>1706>159>2789': 13,\n",
       "         u'4015>4733>1847': 7,\n",
       "         u'1395>2736>3899>4743': 24,\n",
       "         u'4015>3636>1319>152>3784': 3,\n",
       "         u'4015>3271>3823>4257>3214': 51,\n",
       "         u'2199>1952>4195>4790': 5,\n",
       "         u'4015>870>4606>254': 2,\n",
       "         u'4015>3271>2768>3551>2110': 7,\n",
       "         u'2075>2267>2180>508': 3,\n",
       "         u'3292>1370>760>739': 8,\n",
       "         u'1608>2320>498>513': 15,\n",
       "         u'4015>2824>2205>1315': 1586,\n",
       "         u'4238>2371>2941>2747': 10,\n",
       "         u'1208>310>2483>4702': 13,\n",
       "         u'4238>1756>830': 5,\n",
       "         u'4015>4868>1753': 12,\n",
       "         u'4015>3285>345>1585>3448': 5,\n",
       "         u'2296>3706>3488': 54,\n",
       "         u'2075>2743>832>1697': 16,\n",
       "         u'4564>248>1034>194': 10,\n",
       "         u'4015>3285>1443>4750': 167,\n",
       "         u'1395>2736>2160>3345>1097': 2,\n",
       "         u'1608>1206>1632>4680': 2309,\n",
       "         u'1395>2736>1026>3918': 11,\n",
       "         u'2075>2297>1474': 6,\n",
       "         u'3625>594>2705': 53,\n",
       "         u'4015>2824>2964>2128>4875>3864>987': 16,\n",
       "         u'3625>2644>921>1615': 255,\n",
       "         u'3730>2720>4005>2321': 1,\n",
       "         u'4238>4048>422>1651': 15,\n",
       "         u'2296>3706>2115': 171,\n",
       "         u'4015>3271>3823>4376': 62,\n",
       "         u'4015>2337>2943>2570>2875': 5,\n",
       "         u'4015>2824>2964>2886>4632>3037>4105': 4,\n",
       "         u'3730>1439>805>4129': 4,\n",
       "         u'4015>3754>3580>4753>3650>3798': 449,\n",
       "         u'3625>3608>4892': 10,\n",
       "         u'3625>3641>3549>3028': 3,\n",
       "         u'2075>1724>3258>1372>1895': 7,\n",
       "         u'2075>3407>1128>1432': 2,\n",
       "         u'4015>2824>2964>2473>4559>1399>1975': 2,\n",
       "         u'3625>594>2071>2694': 34,\n",
       "         u'2199>661>712>610': 2,\n",
       "         u'2296>2435>2397': 83,\n",
       "         u'4564>4914>1214': 9,\n",
       "         u'3625>2221>3193>3856': 3,\n",
       "         u'2199>3802>696>1322': 42,\n",
       "         u'4015>2824>2964>2128>4875>2379': 8,\n",
       "         ...})"
      ]
     },
     "execution_count": 15,
     "metadata": {},
     "output_type": "execute_result"
    }
   ],
   "source": [
    "c"
   ]
  },
  {
   "cell_type": "code",
   "execution_count": 35,
   "metadata": {},
   "outputs": [
    {
     "data": {
      "text/plain": [
       "(40, 2)"
      ]
     },
     "execution_count": 35,
     "metadata": {},
     "output_type": "execute_result"
    }
   ],
   "source": [
    "df[df['label'] == '4015>3754>3663>512>3569'].shape"
   ]
  },
  {
   "cell_type": "code",
   "execution_count": null,
   "metadata": {},
   "outputs": [],
   "source": [
    "df[df['label'] == '4015>3754>3663>1500>2605']"
   ]
  },
  {
   "cell_type": "code",
   "execution_count": null,
   "metadata": {},
   "outputs": [],
   "source": []
  }
 ],
 "metadata": {
  "kernelspec": {
   "display_name": "Python 3",
   "language": "python",
   "name": "python3"
  },
  "language_info": {
   "codemirror_mode": {
    "name": "ipython",
    "version": 3
   },
   "file_extension": ".py",
   "mimetype": "text/x-python",
   "name": "python",
   "nbconvert_exporter": "python",
   "pygments_lexer": "ipython3",
   "version": "3.6.5"
  }
 },
 "nbformat": 4,
 "nbformat_minor": 2
}
